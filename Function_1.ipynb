{
 "cells": [
  {
   "cell_type": "code",
   "execution_count": 1,
   "id": "3d59ea30",
   "metadata": {},
   "outputs": [
    {
     "data": {
      "text/plain": [
       "2"
      ]
     },
     "execution_count": 1,
     "metadata": {},
     "output_type": "execute_result"
    }
   ],
   "source": [
    "max(1,2)"
   ]
  },
  {
   "cell_type": "code",
   "execution_count": 2,
   "id": "546a38e7",
   "metadata": {},
   "outputs": [
    {
     "ename": "TypeError",
     "evalue": "list.append() takes exactly one argument (2 given)",
     "output_type": "error",
     "traceback": [
      "\u001b[1;31m---------------------------------------------------------------------------\u001b[0m",
      "\u001b[1;31mTypeError\u001b[0m                                 Traceback (most recent call last)",
      "Cell \u001b[1;32mIn[2], line 2\u001b[0m\n\u001b[0;32m      1\u001b[0m l\u001b[38;5;241m=\u001b[39m[\u001b[38;5;241m1\u001b[39m,\u001b[38;5;241m2\u001b[39m,\u001b[38;5;241m3\u001b[39m]\n\u001b[1;32m----> 2\u001b[0m l\u001b[38;5;241m.\u001b[39mappend(\u001b[38;5;241m1\u001b[39m,\u001b[38;5;241m2\u001b[39m)\n",
      "\u001b[1;31mTypeError\u001b[0m: list.append() takes exactly one argument (2 given)"
     ]
    }
   ],
   "source": [
    "l=[1,2,3]\n",
    "l.append(1,2)"
   ]
  },
  {
   "cell_type": "code",
   "execution_count": 7,
   "id": "aa7286e0",
   "metadata": {},
   "outputs": [],
   "source": [
    "'''\n",
    "def function_name(parameters):\n",
    "    function code\n",
    "    function code\n",
    "    return value\n",
    "'''\n",
    "\n",
    "def hello():\n",
    "    print('Hello Everyone')\n",
    "    return 'Bye'"
   ]
  },
  {
   "cell_type": "code",
   "execution_count": 8,
   "id": "12dc0cfb",
   "metadata": {},
   "outputs": [
    {
     "name": "stdout",
     "output_type": "stream",
     "text": [
      "Hello Everyone\n",
      "Bye\n"
     ]
    }
   ],
   "source": [
    "print(hello())"
   ]
  },
  {
   "cell_type": "code",
   "execution_count": 14,
   "id": "d85a6fbe",
   "metadata": {
    "scrolled": true
   },
   "outputs": [
    {
     "data": {
      "text/plain": [
       "8"
      ]
     },
     "execution_count": 14,
     "metadata": {},
     "output_type": "execute_result"
    }
   ],
   "source": [
    "def add(a,b):\n",
    "    c=a+b\n",
    "    return c\n",
    "add(5,3)"
   ]
  },
  {
   "cell_type": "code",
   "execution_count": 15,
   "id": "a3aac612",
   "metadata": {},
   "outputs": [
    {
     "name": "stdout",
     "output_type": "stream",
     "text": [
      "hi\n",
      "bye\n",
      "11\n",
      "goodbye\n"
     ]
    }
   ],
   "source": [
    "print('hi')\n",
    "print('bye')\n",
    "a=add(5,6)\n",
    "print(a)\n",
    "print('goodbye')\n"
   ]
  },
  {
   "cell_type": "code",
   "execution_count": 16,
   "id": "e1d4075b",
   "metadata": {},
   "outputs": [],
   "source": [
    "#type 1 with arguments and return type\n",
    "\n",
    "def add1(a,b):\n",
    "    return a+b\n",
    "\n",
    "#type 2 with arguments and without return type\n",
    "\n",
    "def add2(a,b):\n",
    "    print(a+b)\n",
    "\n",
    "#type 3 without arguments and with return type\n",
    "\n",
    "def add3():\n",
    "    a=int(input('Enter a number'))\n",
    "    b=int(input('Enter a number'))\n",
    "    return a+b\n",
    "\n",
    "#type 3 without arguments and without return type\n",
    "\n",
    "def add4():\n",
    "    a=int(input('Enter a number'))\n",
    "    b=int(input('Enter a number'))\n",
    "    print(a+b)\n",
    "    \n",
    "    \n"
   ]
  },
  {
   "cell_type": "code",
   "execution_count": 19,
   "id": "e42c0c97",
   "metadata": {},
   "outputs": [
    {
     "name": "stdout",
     "output_type": "stream",
     "text": [
      "Enter number7\n",
      "Enter number8\n"
     ]
    },
    {
     "data": {
      "text/plain": [
       "15"
      ]
     },
     "execution_count": 19,
     "metadata": {},
     "output_type": "execute_result"
    }
   ],
   "source": [
    "add1(int(input('Enter number')),int(input('Enter number')) )"
   ]
  },
  {
   "cell_type": "code",
   "execution_count": 20,
   "id": "a3038aee",
   "metadata": {},
   "outputs": [
    {
     "name": "stdout",
     "output_type": "stream",
     "text": [
      "11\n",
      "11\n",
      "None\n",
      "Enter a number2\n",
      "Enter a number33\n",
      "35\n",
      "Enter a number5\n",
      "Enter a number6\n",
      "11\n",
      "None\n"
     ]
    }
   ],
   "source": [
    "print(add1(5,6))\n",
    "print(add2(5,6))\n",
    "print(add3())\n",
    "print(add4())\n"
   ]
  },
  {
   "cell_type": "code",
   "execution_count": 21,
   "id": "e265000f",
   "metadata": {},
   "outputs": [
    {
     "name": "stdout",
     "output_type": "stream",
     "text": [
      "None\n"
     ]
    }
   ],
   "source": [
    "def alpha():\n",
    "    return None\n",
    "print(alpha())"
   ]
  },
  {
   "cell_type": "code",
   "execution_count": 23,
   "id": "eb5945df",
   "metadata": {},
   "outputs": [
    {
     "name": "stdout",
     "output_type": "stream",
     "text": [
      "Enter a string\n",
      "madam\n"
     ]
    },
    {
     "data": {
      "text/plain": [
       "'Palindrome'"
      ]
     },
     "execution_count": 23,
     "metadata": {},
     "output_type": "execute_result"
    }
   ],
   "source": [
    "# palindrome \n",
    "\n",
    "def palindrome(n):\n",
    "    if n==n[::-1]:\n",
    "        return 'Palindrome'\n",
    "    else:\n",
    "        return 'Not Palindrome'\n",
    "palindrome(input('Enter a string\\n'))"
   ]
  },
  {
   "cell_type": "code",
   "execution_count": 28,
   "id": "85a091c8",
   "metadata": {},
   "outputs": [],
   "source": [
    "# fabonicci series Generator\n",
    "def fabonicci(n):\n",
    "    j=1\n",
    "    k=1\n",
    "    for i in range(0,n):\n",
    "        if i<2:\n",
    "            print(i,end=',')\n",
    "        else:\n",
    "            print(j,end=',')\n",
    "            j,k=j+k,j\n",
    "            "
   ]
  },
  {
   "cell_type": "code",
   "execution_count": 29,
   "id": "b85e6dff",
   "metadata": {},
   "outputs": [
    {
     "name": "stdout",
     "output_type": "stream",
     "text": [
      "0,1,1,2,3,5,8,13,21,34,55,89,144,233,377,610,987,1597,2584,4181,"
     ]
    }
   ],
   "source": [
    "fabonicci(20)"
   ]
  },
  {
   "cell_type": "code",
   "execution_count": 31,
   "id": "e057685c",
   "metadata": {},
   "outputs": [],
   "source": [
    "import string\n",
    "lower=list(string.ascii_lowercase)\n",
    "upper=list(string.ascii_uppercase)\n",
    "digit=list(string.digits)\n",
    "symbols=list(string.punctuation)\n"
   ]
  },
  {
   "cell_type": "code",
   "execution_count": 32,
   "id": "e423e77e",
   "metadata": {},
   "outputs": [],
   "source": [
    "import numpy as np"
   ]
  },
  {
   "cell_type": "code",
   "execution_count": 59,
   "id": "8e061b88",
   "metadata": {},
   "outputs": [
    {
     "name": "stdout",
     "output_type": "stream",
     "text": [
      "?^(|7SYh^?n^\n"
     ]
    }
   ],
   "source": [
    "final=[]\n",
    "final.extend(np.random.choice(lower,np.random.randint(1,12)))\n",
    "final.extend(np.random.choice(upper,np.random.randint(1,12)))\n",
    "final.extend(np.random.choice(digit,np.random.randint(1,12)))\n",
    "final.extend(np.random.choice(symbols,np.random.randint(1,12)))\n",
    "a=list(np.random.choice(final,12))\n",
    "np.random.shuffle(a)\n",
    "password=''.join(a)\n",
    "print(password)"
   ]
  },
  {
   "cell_type": "code",
   "execution_count": 60,
   "id": "1a9fb438",
   "metadata": {},
   "outputs": [
    {
     "name": "stdout",
     "output_type": "stream",
     "text": [
      "QF8b|,]7aN4i\n"
     ]
    }
   ],
   "source": [
    "final=[]\n",
    "final.extend(np.random.choice(lower,3))\n",
    "final.extend(np.random.choice(upper,3))\n",
    "final.extend(np.random.choice(digit,3))\n",
    "final.extend(np.random.choice(symbols,3))\n",
    "np.random.shuffle(final)\n",
    "password=''.join(final)\n",
    "print(password)"
   ]
  },
  {
   "cell_type": "code",
   "execution_count": 50,
   "id": "63f797d7",
   "metadata": {},
   "outputs": [],
   "source": []
  },
  {
   "cell_type": "code",
   "execution_count": 52,
   "id": "29aa37e8",
   "metadata": {},
   "outputs": [],
   "source": []
  },
  {
   "cell_type": "code",
   "execution_count": 53,
   "id": "78e7d487",
   "metadata": {},
   "outputs": [
    {
     "data": {
      "text/plain": [
       "'ml:[WRLRnFn['"
      ]
     },
     "execution_count": 53,
     "metadata": {},
     "output_type": "execute_result"
    }
   ],
   "source": [
    "password"
   ]
  },
  {
   "cell_type": "code",
   "execution_count": null,
   "id": "cc919908",
   "metadata": {},
   "outputs": [],
   "source": []
  },
  {
   "cell_type": "code",
   "execution_count": 2,
   "id": "9489dc28",
   "metadata": {},
   "outputs": [
    {
     "name": "stdout",
     "output_type": "stream",
     "text": [
      "Please enter a value for n (must be greater than or equal to 8): 7\n",
      "Error: The value must be greater than or equal to 8. Please try again.\n",
      "Please enter a value for n (must be greater than or equal to 8): A\n",
      "Error: Invalid input. Please enter an integer.\n",
      "Please enter a value for n (must be greater than or equal to 8): S\n",
      "Error: Invalid input. Please enter an integer.\n",
      "Please enter a value for n (must be greater than or equal to 8): 10\n",
      "Generated password: 4,S7!va^X{\n"
     ]
    }
   ],
   "source": [
    "import numpy as np\n",
    "import string\n",
    " \n",
    "def pass_gen():\n",
    "    while True:\n",
    "        r = []  # Reset the list of errors for each attempt\n",
    "        lower = string.ascii_lowercase\n",
    "        upper = string.ascii_uppercase\n",
    "        digit = string.digits\n",
    "        symbol = string.punctuation\n",
    " \n",
    "        n = input(\"Please enter a value for n (must be greater than or equal to 8): \")\n",
    "        if n.isdigit():\n",
    "            n = int(n)\n",
    "            if n >= 8:\n",
    "                while True:  # Loop to ensure a valid password is generated\n",
    "                    final = []\n",
    "                    final.extend(np.random.choice(list(lower), np.random.randint(1, n)))\n",
    "                    final.extend(np.random.choice(list(upper), np.random.randint(1, n)))\n",
    "                    final.extend(np.random.choice(list(digit), np.random.randint(1, n)))\n",
    "                    final.extend(np.random.choice(list(symbol), np.random.randint(1, n)))\n",
    " \n",
    "                    if len(final) < n:\n",
    "                        final.extend(np.random.choice(final, n - len(final)))\n",
    " \n",
    "                    np.random.shuffle(final)\n",
    "                    password = ''.join(final[:n])\n",
    " \n",
    "                    if len(password) < 8:\n",
    "                        r.append(\"8 character error\")\n",
    "                    if not any(ch.isupper() for ch in password):\n",
    "                        r.append(\"no uppercase character error\")\n",
    "                    if not any(ch.islower() for ch in password):\n",
    "                        r.append(\"no lowercase character error\")\n",
    "                    if not any(ch.isdigit() for ch in password):\n",
    "                        r.append(\"no digit error\")\n",
    "                    if not any(ch in string.punctuation for ch in password):\n",
    "                        r.append(\"no sp character error\")\n",
    " \n",
    "                    if not r:\n",
    "                        print(f\"Generated password: {password}\")\n",
    "                        return  # Exit the function once a valid password is generated\n",
    "                    else:\n",
    "                        r = []  # Reset the list of errors and try generating the password again\n",
    "            else:\n",
    "                print(\"Error: The value must be greater than or equal to 8. Please try again.\")\n",
    "        else:\n",
    "            print(\"Error: Invalid input. Please enter an integer.\")\n",
    " \n",
    "pass_gen()"
   ]
  },
  {
   "cell_type": "code",
   "execution_count": 12,
   "id": "ff104c96",
   "metadata": {},
   "outputs": [
    {
     "name": "stdout",
     "output_type": "stream",
     "text": [
      "Enter Number-10\n"
     ]
    },
    {
     "data": {
      "text/plain": [
       "'Not Prime'"
      ]
     },
     "execution_count": 12,
     "metadata": {},
     "output_type": "execute_result"
    }
   ],
   "source": [
    "def prime(n):\n",
    "    n=abs(n)\n",
    "    if n<=1:\n",
    "        return 'Not Prime'\n",
    "    else:\n",
    "        for i in range(2,n):\n",
    "            if n%i==0:\n",
    "                return 'Not Prime'\n",
    "        else:\n",
    "            return 'Prime'\n",
    "prime(int(input('Enter Number')))"
   ]
  },
  {
   "cell_type": "code",
   "execution_count": 15,
   "id": "babbea24",
   "metadata": {},
   "outputs": [
    {
     "name": "stdout",
     "output_type": "stream",
     "text": [
      "a-- 8\n",
      "b-- 5\n"
     ]
    },
    {
     "data": {
      "text/plain": [
       "13"
      ]
     },
     "execution_count": 15,
     "metadata": {},
     "output_type": "execute_result"
    }
   ],
   "source": [
    "def add(a,b):\n",
    "    print('a--',a)\n",
    "    print('b--',b)\n",
    "    return a+b\n",
    "add(b=5,a=8)"
   ]
  },
  {
   "cell_type": "code",
   "execution_count": 18,
   "id": "6a53a86f",
   "metadata": {},
   "outputs": [
    {
     "data": {
      "text/plain": [
       "3"
      ]
     },
     "execution_count": 18,
     "metadata": {},
     "output_type": "execute_result"
    }
   ],
   "source": [
    "def add(a=0,b=0):\n",
    "    return a+b\n",
    "add(1,2)"
   ]
  },
  {
   "cell_type": "code",
   "execution_count": 23,
   "id": "d6d11573",
   "metadata": {},
   "outputs": [
    {
     "data": {
      "text/plain": [
       "[7, 4, 3, 2, 1, 0]"
      ]
     },
     "execution_count": 23,
     "metadata": {},
     "output_type": "execute_result"
    }
   ],
   "source": [
    "def sort_alpha(a,reverse=False):\n",
    "    if reverse==False:\n",
    "        for i in range(0,len(a)):\n",
    "            for j in range(i,len(a)):\n",
    "                if a[i]>a[j]:\n",
    "                    a[i],a[j]=a[j],a[i]\n",
    "    elif reverse==True:\n",
    "        for i in range(0,len(a)):\n",
    "            for j in range(i,len(a)):\n",
    "                if a[i]<a[j]:\n",
    "                    a[i],a[j]=a[j],a[i]\n",
    "    return a\n",
    "    \n",
    "sort_alpha([1,2,0,4,3,7],reverse=True)"
   ]
  },
  {
   "cell_type": "code",
   "execution_count": 30,
   "id": "489b0204",
   "metadata": {},
   "outputs": [
    {
     "data": {
      "text/plain": [
       "'Sum : 4477'"
      ]
     },
     "execution_count": 30,
     "metadata": {},
     "output_type": "execute_result"
    }
   ],
   "source": [
    "def sum_alpha(*a):\n",
    "    sum_i=0\n",
    "    for i in a:\n",
    "        sum_i+=i\n",
    "    return f'Sum : {sum_i}'\n",
    "sum_alpha(1,2,3,4466,5)"
   ]
  },
  {
   "cell_type": "code",
   "execution_count": 39,
   "id": "7df9f214",
   "metadata": {},
   "outputs": [
    {
     "name": "stdout",
     "output_type": "stream",
     "text": [
      "<class 'dict'>\n",
      "a:10\n",
      "b:20\n",
      "c:30\n",
      "d:100\n"
     ]
    }
   ],
   "source": [
    "def print_alpha(**a):\n",
    "    print(type(a))\n",
    "    for i,j in a.items():\n",
    "        print(f'{i}:{j}')\n",
    "    \n",
    "print_alpha(a=10,b=20,c=30,d=100)"
   ]
  },
  {
   "cell_type": "code",
   "execution_count": 47,
   "id": "01fbde51",
   "metadata": {},
   "outputs": [
    {
     "name": "stdout",
     "output_type": "stream",
     "text": [
      "1\n",
      "2\n",
      "32\n",
      "3\n",
      "35\n",
      "5465\n",
      "[5465, 35, 32, 3, 2, 1]\n",
      "india 80\n",
      "pakisthan 100\n"
     ]
    }
   ],
   "source": [
    "def print_alpha(*a,**b):\n",
    "    for i in a:\n",
    "        print(i)\n",
    "    print(sort_alpha(list(a),reverse=True))\n",
    "    for i,j in b.items():\n",
    "        print(i,j)\n",
    "print_alpha(1,2,32,3,35,5465,india=80,pakisthan=100)\n",
    "    "
   ]
  },
  {
   "cell_type": "code",
   "execution_count": null,
   "id": "3114298f",
   "metadata": {},
   "outputs": [],
   "source": []
  },
  {
   "cell_type": "code",
   "execution_count": 49,
   "id": "5ed259cb",
   "metadata": {},
   "outputs": [],
   "source": [
    "i,j,k=(1,2,3)"
   ]
  },
  {
   "cell_type": "code",
   "execution_count": null,
   "id": "301a2e75",
   "metadata": {},
   "outputs": [],
   "source": []
  },
  {
   "cell_type": "code",
   "execution_count": null,
   "id": "35f4710d",
   "metadata": {},
   "outputs": [],
   "source": []
  }
 ],
 "metadata": {
  "kernelspec": {
   "display_name": "Python 3 (ipykernel)",
   "language": "python",
   "name": "python3"
  },
  "language_info": {
   "codemirror_mode": {
    "name": "ipython",
    "version": 3
   },
   "file_extension": ".py",
   "mimetype": "text/x-python",
   "name": "python",
   "nbconvert_exporter": "python",
   "pygments_lexer": "ipython3",
   "version": "3.11.5"
  }
 },
 "nbformat": 4,
 "nbformat_minor": 5
}
