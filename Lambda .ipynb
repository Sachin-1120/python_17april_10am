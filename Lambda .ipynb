{
 "cells": [
  {
   "cell_type": "code",
   "execution_count": 1,
   "id": "7702bf5c",
   "metadata": {},
   "outputs": [
    {
     "name": "stdout",
     "output_type": "stream",
     "text": [
      "max : 45\n",
      "sum : 72\n",
      "min : 1\n"
     ]
    }
   ],
   "source": [
    "def func1(*a,**b):\n",
    "    for i in b.keys():\n",
    "        if i.lower()=='min':\n",
    "            print(f'{i} : {min(a)}')\n",
    "        elif i.lower()=='max':\n",
    "            print(f'{i} : {max(a)}')\n",
    "        elif i.lower()=='sum':\n",
    "            print(f'{i} : {sum(a)}')\n",
    "        return None \n",
    "func1(1,2,3,45,6,7,8,max=0,sum=0,min=10)"
   ]
  },
  {
   "cell_type": "code",
   "execution_count": 4,
   "id": "103998ce",
   "metadata": {},
   "outputs": [],
   "source": [
    "# a= lambda parameters : working\n"
   ]
  },
  {
   "cell_type": "code",
   "execution_count": 5,
   "id": "00115bc2",
   "metadata": {},
   "outputs": [],
   "source": [
    "a=lambda i,j,k:i+j+k\n"
   ]
  },
  {
   "cell_type": "code",
   "execution_count": 6,
   "id": "2792ad5f",
   "metadata": {},
   "outputs": [
    {
     "data": {
      "text/plain": [
       "18"
      ]
     },
     "execution_count": 6,
     "metadata": {},
     "output_type": "execute_result"
    }
   ],
   "source": [
    "a(5,6,7)"
   ]
  },
  {
   "cell_type": "code",
   "execution_count": 8,
   "id": "afbb0bf5",
   "metadata": {},
   "outputs": [
    {
     "name": "stdout",
     "output_type": "stream",
     "text": [
      "Enter number12\n"
     ]
    },
    {
     "data": {
      "text/plain": [
       "'Even'"
      ]
     },
     "execution_count": 8,
     "metadata": {},
     "output_type": "execute_result"
    }
   ],
   "source": [
    "# Wap To check a no is Even or odd using Lambda\n",
    "\n",
    "a=lambda i:'Even' if i%2==0 else 'Odd'\n",
    "a(int(input('Enter number')))"
   ]
  },
  {
   "cell_type": "code",
   "execution_count": 12,
   "id": "542e9542",
   "metadata": {},
   "outputs": [
    {
     "name": "stdout",
     "output_type": "stream",
     "text": [
      "Enter Percentage56\n"
     ]
    },
    {
     "data": {
      "text/plain": [
       "'Fail'"
      ]
     },
     "execution_count": 12,
     "metadata": {},
     "output_type": "execute_result"
    }
   ],
   "source": [
    "a=lambda per:'A' if per>=90 else 'B' if per>=80 else 'C' if per >=70 else 'Fail'\n",
    "a(int(input('Enter Percentage')))"
   ]
  },
  {
   "cell_type": "code",
   "execution_count": null,
   "id": "16d13c4b",
   "metadata": {},
   "outputs": [],
   "source": [
    "def func1(n):\n",
    "    if n>=90:\n",
    "        print('A')\n",
    "    else:\n",
    "        if n>=80:\n",
    "            print('B')\n",
    "        else:\n",
    "            if n>=70:\n",
    "                print('C')\n",
    "            else:\n",
    "                print('Fail')"
   ]
  },
  {
   "cell_type": "code",
   "execution_count": null,
   "id": "e8b1932e",
   "metadata": {},
   "outputs": [],
   "source": [
    "a()--0\n",
    "a(5)--5\n",
    "a(7,8)--15\n"
   ]
  },
  {
   "cell_type": "code",
   "execution_count": 17,
   "id": "9f1985f3",
   "metadata": {},
   "outputs": [
    {
     "data": {
      "text/plain": [
       "6"
      ]
     },
     "execution_count": 17,
     "metadata": {},
     "output_type": "execute_result"
    }
   ],
   "source": [
    "a=lambda i=0,j=0,k=0 : i+j+k\n",
    "a(1,2,3)"
   ]
  },
  {
   "cell_type": "code",
   "execution_count": 33,
   "id": "e0b5462f",
   "metadata": {},
   "outputs": [],
   "source": [
    "def sort_alpha(a,reverse='False'):\n",
    "    if reverse.title()=='False':\n",
    "        for i in range(0,len(a)):\n",
    "            for j in range(i,len(a)):\n",
    "                if a[i]>a[j]:\n",
    "                    a[i],a[j]=a[j],a[i]\n",
    "    elif reverse.title()=='True':\n",
    "        for i in range(0,len(a)):\n",
    "            for j in range(i,len(a)):\n",
    "                if a[i]<a[j]:\n",
    "                    a[i],a[j]=a[j],a[i]\n",
    "    return a\n",
    "b=lambda *i:sort_alpha(list(i),reverse=input('Enter True Or False for reverse'))"
   ]
  },
  {
   "cell_type": "code",
   "execution_count": 34,
   "id": "79f9f037",
   "metadata": {},
   "outputs": [
    {
     "name": "stdout",
     "output_type": "stream",
     "text": [
      "Enter True Or False for reverseFalse\n"
     ]
    },
    {
     "data": {
      "text/plain": [
       "[1, 2, 3, 4, 4, 5, 6, 7, 23]"
      ]
     },
     "execution_count": 34,
     "metadata": {},
     "output_type": "execute_result"
    }
   ],
   "source": [
    "b(1,2,23,3,4,4,5,6,7)"
   ]
  },
  {
   "cell_type": "code",
   "execution_count": 37,
   "id": "5ce98ab3",
   "metadata": {},
   "outputs": [],
   "source": [
    "def print_alpha(*a):\n",
    "    for i in a:\n",
    "        print(i)\n",
    "    print(sort_alpha(list(a)))"
   ]
  },
  {
   "cell_type": "code",
   "execution_count": 38,
   "id": "c2368ef7",
   "metadata": {},
   "outputs": [
    {
     "name": "stdout",
     "output_type": "stream",
     "text": [
      "1\n",
      "224\n",
      "3\n",
      "546\n",
      "4\n",
      "8\n",
      "[1, 3, 4, 8, 224, 546]\n"
     ]
    }
   ],
   "source": [
    "print_alpha(1,224,3,546,4,8)"
   ]
  },
  {
   "cell_type": "code",
   "execution_count": 41,
   "id": "223834fe",
   "metadata": {},
   "outputs": [
    {
     "name": "stdout",
     "output_type": "stream",
     "text": [
      "enter false  or true for reversefALSE\n"
     ]
    },
    {
     "data": {
      "text/plain": [
       "[1, 2, 5, 6, 23, 24]"
      ]
     },
     "execution_count": 41,
     "metadata": {},
     "output_type": "execute_result"
    }
   ],
   "source": [
    "def sort_alpha(a,reverse='False'):\n",
    "    if reverse.title()=='False':\n",
    "        for i in range(0,len(a)):\n",
    "            for j in range(i,len(a)):\n",
    "                if a[i]>a[j]:\n",
    "                    a[i],a[j]=a[j],a[i]\n",
    "    elif reverse.title()=='True':\n",
    "        for i in range(0,len(a)):\n",
    "            for j in range(i,len(a)):\n",
    "                if a[i]<a[j]:\n",
    "                    a[i],a[j]=a[j],a[i]\n",
    "    return a\n",
    "b=lambda *i:sort_alpha(list(i),reverse=input('enter false  or true for reverse'))\n",
    "b(1,2,23,24,6,5)"
   ]
  },
  {
   "cell_type": "code",
   "execution_count": 46,
   "id": "fb124c88",
   "metadata": {},
   "outputs": [],
   "source": [
    "import string\n",
    "def check_password_strength(password):\n",
    "    r = []\n",
    "    if len(password) < 8:\n",
    "        r.append(\"Password should be a minimum of 8 characters.\")\n",
    "    if not any(ch.isupper() for ch in password):\n",
    "        r.append(\"Password must have at least one uppercase character.\")\n",
    "    if not any(ch.islower() for ch in password):\n",
    "        r.append(\"Password must have at least one lowercase character.\")\n",
    "    if not any(ch.isdigit() for ch in password):\n",
    "        r.append(\"Password must contain at least one digit.\")\n",
    "    if not any(ch in string.punctuation for ch in password):\n",
    "        r.append(\"Password must have at least one special character.\")\n",
    "    else:\n",
    "        r.append(\"strong\")\n",
    "    return r\n",
    "dd= lambda password : check_password_strength(password)"
   ]
  },
  {
   "cell_type": "code",
   "execution_count": 48,
   "id": "5917b12b",
   "metadata": {},
   "outputs": [
    {
     "data": {
      "text/plain": [
       "['Password should be a minimum of 8 characters.',\n",
       " 'Password must have at least one uppercase character.',\n",
       " 'Password must contain at least one digit.',\n",
       " 'Password must have at least one special character.']"
      ]
     },
     "execution_count": 48,
     "metadata": {},
     "output_type": "execute_result"
    }
   ],
   "source": [
    "dd(\"sachin\")"
   ]
  },
  {
   "cell_type": "code",
   "execution_count": 50,
   "id": "2b9e0299",
   "metadata": {},
   "outputs": [
    {
     "name": "stdout",
     "output_type": "stream",
     "text": [
      "Enter String123\n"
     ]
    },
    {
     "data": {
      "text/plain": [
       "'Not Palindrome'"
      ]
     },
     "execution_count": 50,
     "metadata": {},
     "output_type": "execute_result"
    }
   ],
   "source": [
    "a=lambda i: 'Palindrome' if i.lower()==i.lower()[::-1] else 'Not Palindrome'\n",
    "a(input('Enter String'))"
   ]
  },
  {
   "cell_type": "code",
   "execution_count": 52,
   "id": "2bf51778",
   "metadata": {},
   "outputs": [
    {
     "data": {
      "text/plain": [
       "'Not Palindrome'"
      ]
     },
     "execution_count": 52,
     "metadata": {},
     "output_type": "execute_result"
    }
   ],
   "source": [
    "a('sachin')"
   ]
  },
  {
   "cell_type": "code",
   "execution_count": null,
   "id": "87f1abf4",
   "metadata": {},
   "outputs": [],
   "source": []
  }
 ],
 "metadata": {
  "kernelspec": {
   "display_name": "Python 3 (ipykernel)",
   "language": "python",
   "name": "python3"
  },
  "language_info": {
   "codemirror_mode": {
    "name": "ipython",
    "version": 3
   },
   "file_extension": ".py",
   "mimetype": "text/x-python",
   "name": "python",
   "nbconvert_exporter": "python",
   "pygments_lexer": "ipython3",
   "version": "3.11.5"
  }
 },
 "nbformat": 4,
 "nbformat_minor": 5
}
