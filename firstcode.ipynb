{
 "cells": [
  {
   "cell_type": "code",
   "execution_count": null,
   "id": "f537a6e8",
   "metadata": {},
   "outputs": [],
   "source": []
  },
  {
   "cell_type": "markdown",
   "id": "282c43a8",
   "metadata": {},
   "source": [
    "hello"
   ]
  },
  {
   "cell_type": "markdown",
   "id": "8f9250e9",
   "metadata": {},
   "source": [
    "# my first code"
   ]
  },
  {
   "cell_type": "markdown",
   "id": "51a2289d",
   "metadata": {},
   "source": [
    "### python Print Statement"
   ]
  },
  {
   "cell_type": "code",
   "execution_count": 4,
   "id": "6e028799",
   "metadata": {},
   "outputs": [
    {
     "name": "stdout",
     "output_type": "stream",
     "text": [
      "Sachin Sharma\n"
     ]
    }
   ],
   "source": [
    "print('Sachin Sharma')"
   ]
  },
  {
   "cell_type": "code",
   "execution_count": 6,
   "id": "6ed49b14",
   "metadata": {},
   "outputs": [
    {
     "name": "stdout",
     "output_type": "stream",
     "text": [
      "Sachin Sharma\n",
      "7878012779\n"
     ]
    }
   ],
   "source": [
    "print(\"Sachin Sharma\")\n",
    "print(7878012779)"
   ]
  },
  {
   "cell_type": "code",
   "execution_count": 10,
   "id": "d993d599",
   "metadata": {},
   "outputs": [
    {
     "name": "stdout",
     "output_type": "stream",
     "text": [
      "Sachin Sharma@7878012779@Grras Solution\n"
     ]
    }
   ],
   "source": [
    "print('Sachin Sharma',7878012779,'Grras Solution',sep='@')"
   ]
  },
  {
   "cell_type": "code",
   "execution_count": 16,
   "id": "36352ace",
   "metadata": {},
   "outputs": [
    {
     "name": "stdout",
     "output_type": "stream",
     "text": [
      "Sachin Sharma 25 7878012779\n"
     ]
    }
   ],
   "source": [
    "print(\"Sachin Sharma 25\",end=' ')\n",
    "print(7878012779)"
   ]
  },
  {
   "cell_type": "code",
   "execution_count": 17,
   "id": "979ecf61",
   "metadata": {},
   "outputs": [
    {
     "name": "stdout",
     "output_type": "stream",
     "text": [
      "Help on built-in function print in module builtins:\n",
      "\n",
      "print(*args, sep=' ', end='\\n', file=None, flush=False)\n",
      "    Prints the values to a stream, or to sys.stdout by default.\n",
      "    \n",
      "    sep\n",
      "      string inserted between values, default a space.\n",
      "    end\n",
      "      string appended after the last value, default a newline.\n",
      "    file\n",
      "      a file-like object (stream); defaults to the current sys.stdout.\n",
      "    flush\n",
      "      whether to forcibly flush the stream.\n",
      "\n"
     ]
    }
   ],
   "source": [
    "help(print)"
   ]
  },
  {
   "cell_type": "code",
   "execution_count": 19,
   "id": "245e1ae6",
   "metadata": {},
   "outputs": [
    {
     "name": "stdout",
     "output_type": "stream",
     "text": [
      "Prints the values to a stream, or to sys.stdout by default.\n",
      "\n",
      "  sep\n",
      "    string inserted between values, default a space.\n",
      "  end\n",
      "    string appended after the last value, default a newline.\n",
      "  file\n",
      "    a file-like object (stream); defaults to the current sys.stdout.\n",
      "  flush\n",
      "    whether to forcibly flush the stream.\n"
     ]
    }
   ],
   "source": [
    "print(print.__doc__)"
   ]
  },
  {
   "cell_type": "code",
   "execution_count": 20,
   "id": "dd0d3fb2",
   "metadata": {},
   "outputs": [
    {
     "name": "stdout",
     "output_type": "stream",
     "text": [
      "Help on method raw_input in module ipykernel.kernelbase:\n",
      "\n",
      "raw_input(prompt='') method of ipykernel.ipkernel.IPythonKernel instance\n",
      "    Forward raw_input to frontends\n",
      "    \n",
      "    Raises\n",
      "    ------\n",
      "    StdinNotImplementedError if active frontend doesn't support stdin.\n",
      "\n"
     ]
    }
   ],
   "source": [
    "help(input)"
   ]
  },
  {
   "cell_type": "code",
   "execution_count": 21,
   "id": "393d1834",
   "metadata": {},
   "outputs": [
    {
     "name": "stdout",
     "output_type": "stream",
     "text": [
      "Help on built-in function max in module builtins:\n",
      "\n",
      "max(...)\n",
      "    max(iterable, *[, default=obj, key=func]) -> value\n",
      "    max(arg1, arg2, *args, *[, key=func]) -> value\n",
      "    \n",
      "    With a single iterable argument, return its biggest item. The\n",
      "    default keyword-only argument specifies an object to return if\n",
      "    the provided iterable is empty.\n",
      "    With two or more arguments, return the largest argument.\n",
      "\n"
     ]
    }
   ],
   "source": [
    "help(max)"
   ]
  },
  {
   "cell_type": "code",
   "execution_count": 23,
   "id": "94e2aa55",
   "metadata": {},
   "outputs": [],
   "source": [
    "name='Sachin'"
   ]
  },
  {
   "cell_type": "code",
   "execution_count": 27,
   "id": "0493bccc",
   "metadata": {
    "scrolled": false
   },
   "outputs": [
    {
     "data": {
      "text/plain": [
       "'Sachin'"
      ]
     },
     "execution_count": 27,
     "metadata": {},
     "output_type": "execute_result"
    }
   ],
   "source": [
    "name"
   ]
  },
  {
   "cell_type": "code",
   "execution_count": 25,
   "id": "c16a08ba",
   "metadata": {},
   "outputs": [
    {
     "data": {
      "text/plain": [
       "'Sachin'"
      ]
     },
     "execution_count": 25,
     "metadata": {},
     "output_type": "execute_result"
    }
   ],
   "source": [
    "name"
   ]
  },
  {
   "cell_type": "code",
   "execution_count": null,
   "id": "aa572d60",
   "metadata": {},
   "outputs": [],
   "source": []
  },
  {
   "cell_type": "code",
   "execution_count": 28,
   "id": "aa2e4810",
   "metadata": {},
   "outputs": [],
   "source": [
    "q_q='Da'"
   ]
  },
  {
   "cell_type": "code",
   "execution_count": 30,
   "id": "6309a7c5",
   "metadata": {},
   "outputs": [
    {
     "ename": "SyntaxError",
     "evalue": "invalid decimal literal (2310545091.py, line 1)",
     "output_type": "error",
     "traceback": [
      "\u001b[1;36m  Cell \u001b[1;32mIn[30], line 1\u001b[1;36m\u001b[0m\n\u001b[1;33m    12__=5\u001b[0m\n\u001b[1;37m      ^\u001b[0m\n\u001b[1;31mSyntaxError\u001b[0m\u001b[1;31m:\u001b[0m invalid decimal literal\n"
     ]
    }
   ],
   "source": [
    "12__=5"
   ]
  },
  {
   "cell_type": "code",
   "execution_count": 31,
   "id": "6464299f",
   "metadata": {},
   "outputs": [],
   "source": [
    "__=5"
   ]
  },
  {
   "cell_type": "code",
   "execution_count": 32,
   "id": "01d2b138",
   "metadata": {},
   "outputs": [
    {
     "data": {
      "text/plain": [
       "5"
      ]
     },
     "execution_count": 32,
     "metadata": {},
     "output_type": "execute_result"
    }
   ],
   "source": [
    "__"
   ]
  },
  {
   "cell_type": "code",
   "execution_count": 33,
   "id": "96f37a10",
   "metadata": {},
   "outputs": [
    {
     "ename": "SyntaxError",
     "evalue": "cannot assign to expression here. Maybe you meant '==' instead of '='? (1529987956.py, line 1)",
     "output_type": "error",
     "traceback": [
      "\u001b[1;36m  Cell \u001b[1;32mIn[33], line 1\u001b[1;36m\u001b[0m\n\u001b[1;33m    -_=10\u001b[0m\n\u001b[1;37m    ^\u001b[0m\n\u001b[1;31mSyntaxError\u001b[0m\u001b[1;31m:\u001b[0m cannot assign to expression here. Maybe you meant '==' instead of '='?\n"
     ]
    }
   ],
   "source": [
    "-_=10"
   ]
  },
  {
   "cell_type": "code",
   "execution_count": 34,
   "id": "daf8c23f",
   "metadata": {},
   "outputs": [
    {
     "name": "stdout",
     "output_type": "stream",
     "text": [
      "Enter Your NameSachin Sharma\n"
     ]
    },
    {
     "data": {
      "text/plain": [
       "'Sachin Sharma'"
      ]
     },
     "execution_count": 34,
     "metadata": {},
     "output_type": "execute_result"
    }
   ],
   "source": [
    "input('Enter Your Name')"
   ]
  },
  {
   "cell_type": "code",
   "execution_count": 35,
   "id": "f67f3fc8",
   "metadata": {},
   "outputs": [
    {
     "name": "stdout",
     "output_type": "stream",
     "text": [
      "Enter Your phoneno7878012779\n"
     ]
    }
   ],
   "source": [
    "phoneno=input('Enter Your phoneno')"
   ]
  },
  {
   "cell_type": "code",
   "execution_count": 36,
   "id": "37554a69",
   "metadata": {},
   "outputs": [
    {
     "data": {
      "text/plain": [
       "'7878012779'"
      ]
     },
     "execution_count": 36,
     "metadata": {},
     "output_type": "execute_result"
    }
   ],
   "source": [
    "phoneno"
   ]
  },
  {
   "cell_type": "markdown",
   "id": "8c1ec20b",
   "metadata": {},
   "source": [
    "name , phoneno address \n",
    "\n",
    "print"
   ]
  },
  {
   "cell_type": "code",
   "execution_count": 37,
   "id": "8a3cbe6b",
   "metadata": {},
   "outputs": [
    {
     "name": "stdout",
     "output_type": "stream",
     "text": [
      "Enter your name Sachin\n",
      "enter your number7878012779\n",
      "Enter your addressJaipur\n",
      "name--> Sachin\n",
      "address--> Jaipur\n",
      "Contact--> 7878012779\n"
     ]
    }
   ],
   "source": [
    "name =input('Enter your name ')\n",
    "no=input('enter your number')\n",
    "address=input('Enter your address')\n",
    "print('name-->',name)\n",
    "print('address-->',address)\n",
    "print('Contact-->',no)\n"
   ]
  },
  {
   "cell_type": "code",
   "execution_count": 38,
   "id": "eec11e8a",
   "metadata": {},
   "outputs": [],
   "source": [
    "a=7878012779"
   ]
  },
  {
   "cell_type": "code",
   "execution_count": 39,
   "id": "2c78b599",
   "metadata": {},
   "outputs": [
    {
     "data": {
      "text/plain": [
       "int"
      ]
     },
     "execution_count": 39,
     "metadata": {},
     "output_type": "execute_result"
    }
   ],
   "source": [
    "type(a)"
   ]
  },
  {
   "cell_type": "code",
   "execution_count": 49,
   "id": "bba08e10",
   "metadata": {},
   "outputs": [
    {
     "name": "stdout",
     "output_type": "stream",
     "text": [
      "Enter Your phoneno454\n"
     ]
    }
   ],
   "source": [
    "phoneno=int(input('Enter Your phoneno'))"
   ]
  },
  {
   "cell_type": "code",
   "execution_count": 50,
   "id": "3b1475c7",
   "metadata": {},
   "outputs": [
    {
     "data": {
      "text/plain": [
       "454"
      ]
     },
     "execution_count": 50,
     "metadata": {},
     "output_type": "execute_result"
    }
   ],
   "source": [
    "phoneno"
   ]
  },
  {
   "cell_type": "code",
   "execution_count": 47,
   "id": "7d7ba26e",
   "metadata": {},
   "outputs": [
    {
     "data": {
      "text/plain": [
       "78787012779"
      ]
     },
     "execution_count": 47,
     "metadata": {},
     "output_type": "execute_result"
    }
   ],
   "source": [
    "a"
   ]
  },
  {
   "cell_type": "code",
   "execution_count": null,
   "id": "f862e771",
   "metadata": {},
   "outputs": [],
   "source": []
  },
  {
   "cell_type": "code",
   "execution_count": 51,
   "id": "8a6646c8",
   "metadata": {},
   "outputs": [
    {
     "name": "stdout",
     "output_type": "stream",
     "text": [
      "Enter your Name:sac\n",
      "Enter your NUmber:784\n",
      "Enter your Address:sa\n",
      "NAME :\n",
      "sac\n",
      "NUMBER:\n",
      "784\n",
      "ADDRESS:\n",
      "sa\n"
     ]
    }
   ],
   "source": [
    "name= input(\"Enter your Name:\")\n",
    "num= int(input(\"Enter your NUmber:\"))\n",
    "add= input(\"Enter your Address:\")\n",
    "print( \"NAME :\" ,name , \"NUMBER:\", num , \"ADDRESS:\", add , sep='\\n' )"
   ]
  },
  {
   "cell_type": "code",
   "execution_count": 1,
   "id": "f5399f43",
   "metadata": {},
   "outputs": [
    {
     "name": "stdout",
     "output_type": "stream",
     "text": [
      "['__abs__', '__add__', '__and__', '__bool__', '__ceil__', '__class__', '__delattr__', '__dir__', '__divmod__', '__doc__', '__eq__', '__float__', '__floor__', '__floordiv__', '__format__', '__ge__', '__getattribute__', '__getnewargs__', '__getstate__', '__gt__', '__hash__', '__index__', '__init__', '__init_subclass__', '__int__', '__invert__', '__le__', '__lshift__', '__lt__', '__mod__', '__mul__', '__ne__', '__neg__', '__new__', '__or__', '__pos__', '__pow__', '__radd__', '__rand__', '__rdivmod__', '__reduce__', '__reduce_ex__', '__repr__', '__rfloordiv__', '__rlshift__', '__rmod__', '__rmul__', '__ror__', '__round__', '__rpow__', '__rrshift__', '__rshift__', '__rsub__', '__rtruediv__', '__rxor__', '__setattr__', '__sizeof__', '__str__', '__sub__', '__subclasshook__', '__truediv__', '__trunc__', '__xor__', 'as_integer_ratio', 'bit_count', 'bit_length', 'conjugate', 'denominator', 'from_bytes', 'imag', 'numerator', 'real', 'to_bytes']\n"
     ]
    }
   ],
   "source": [
    "print(dir(int))"
   ]
  },
  {
   "cell_type": "code",
   "execution_count": 2,
   "id": "dd015670",
   "metadata": {},
   "outputs": [
    {
     "data": {
      "text/plain": [
       "11"
      ]
     },
     "execution_count": 2,
     "metadata": {},
     "output_type": "execute_result"
    }
   ],
   "source": [
    "5+6"
   ]
  },
  {
   "cell_type": "code",
   "execution_count": 3,
   "id": "8d3194c6",
   "metadata": {},
   "outputs": [
    {
     "data": {
      "text/plain": [
       "11"
      ]
     },
     "execution_count": 3,
     "metadata": {},
     "output_type": "execute_result"
    }
   ],
   "source": [
    "a=5\n",
    "a.__add__(6)"
   ]
  },
  {
   "cell_type": "code",
   "execution_count": 4,
   "id": "b9029b65",
   "metadata": {},
   "outputs": [
    {
     "data": {
      "text/plain": [
       "-1"
      ]
     },
     "execution_count": 4,
     "metadata": {},
     "output_type": "execute_result"
    }
   ],
   "source": [
    "a.__sub__(6)"
   ]
  },
  {
   "cell_type": "code",
   "execution_count": 5,
   "id": "35b5f095",
   "metadata": {},
   "outputs": [
    {
     "data": {
      "text/plain": [
       "25"
      ]
     },
     "execution_count": 5,
     "metadata": {},
     "output_type": "execute_result"
    }
   ],
   "source": [
    "a.__mul__(5)"
   ]
  },
  {
   "cell_type": "code",
   "execution_count": 7,
   "id": "a42fec5a",
   "metadata": {},
   "outputs": [
    {
     "data": {
      "text/plain": [
       "(5, 0)"
      ]
     },
     "execution_count": 7,
     "metadata": {},
     "output_type": "execute_result"
    }
   ],
   "source": [
    "a=10\n",
    "a.__divmod__(2)"
   ]
  },
  {
   "cell_type": "code",
   "execution_count": 8,
   "id": "e0215587",
   "metadata": {},
   "outputs": [],
   "source": [
    "a=5"
   ]
  },
  {
   "cell_type": "code",
   "execution_count": 9,
   "id": "6c92ded9",
   "metadata": {},
   "outputs": [
    {
     "data": {
      "text/plain": [
       "2"
      ]
     },
     "execution_count": 9,
     "metadata": {},
     "output_type": "execute_result"
    }
   ],
   "source": [
    "a.bit_count()"
   ]
  },
  {
   "cell_type": "code",
   "execution_count": 10,
   "id": "273a4ac3",
   "metadata": {},
   "outputs": [
    {
     "data": {
      "text/plain": [
       "3"
      ]
     },
     "execution_count": 10,
     "metadata": {},
     "output_type": "execute_result"
    }
   ],
   "source": [
    "a.bit_length()"
   ]
  },
  {
   "cell_type": "code",
   "execution_count": 12,
   "id": "1ca97f82",
   "metadata": {},
   "outputs": [
    {
     "data": {
      "text/plain": [
       "4"
      ]
     },
     "execution_count": 12,
     "metadata": {},
     "output_type": "execute_result"
    }
   ],
   "source": [
    "a=15\n",
    "a.bit_length()"
   ]
  },
  {
   "cell_type": "code",
   "execution_count": 13,
   "id": "1b378ef3",
   "metadata": {
    "scrolled": true
   },
   "outputs": [
    {
     "data": {
      "text/plain": [
       "'0b101'"
      ]
     },
     "execution_count": 13,
     "metadata": {},
     "output_type": "execute_result"
    }
   ],
   "source": [
    "bin(5)"
   ]
  },
  {
   "cell_type": "code",
   "execution_count": 14,
   "id": "72be3416",
   "metadata": {},
   "outputs": [
    {
     "data": {
      "text/plain": [
       "'-0b101'"
      ]
     },
     "execution_count": 14,
     "metadata": {},
     "output_type": "execute_result"
    }
   ],
   "source": [
    "bin(-5)"
   ]
  },
  {
   "cell_type": "code",
   "execution_count": 18,
   "id": "95d39afa",
   "metadata": {},
   "outputs": [
    {
     "data": {
      "text/plain": [
       "5"
      ]
     },
     "execution_count": 18,
     "metadata": {},
     "output_type": "execute_result"
    }
   ],
   "source": [
    "a=5\n",
    "a.real"
   ]
  },
  {
   "cell_type": "code",
   "execution_count": 19,
   "id": "a1a6c3d4",
   "metadata": {},
   "outputs": [
    {
     "data": {
      "text/plain": [
       "0"
      ]
     },
     "execution_count": 19,
     "metadata": {},
     "output_type": "execute_result"
    }
   ],
   "source": [
    "a.imag"
   ]
  },
  {
   "cell_type": "code",
   "execution_count": 20,
   "id": "efbe1848",
   "metadata": {},
   "outputs": [
    {
     "data": {
      "text/plain": [
       "10"
      ]
     },
     "execution_count": 20,
     "metadata": {},
     "output_type": "execute_result"
    }
   ],
   "source": [
    "abs(-10)"
   ]
  },
  {
   "cell_type": "code",
   "execution_count": 21,
   "id": "32eabd90",
   "metadata": {},
   "outputs": [
    {
     "data": {
      "text/plain": [
       "10"
      ]
     },
     "execution_count": 21,
     "metadata": {},
     "output_type": "execute_result"
    }
   ],
   "source": [
    "abs(10)"
   ]
  },
  {
   "cell_type": "code",
   "execution_count": 22,
   "id": "c812ec94",
   "metadata": {},
   "outputs": [
    {
     "data": {
      "text/plain": [
       "10.0"
      ]
     },
     "execution_count": 22,
     "metadata": {},
     "output_type": "execute_result"
    }
   ],
   "source": [
    "float(10)"
   ]
  },
  {
   "cell_type": "code",
   "execution_count": 26,
   "id": "1ab20955",
   "metadata": {},
   "outputs": [
    {
     "name": "stdout",
     "output_type": "stream",
     "text": [
      "enter any number20.5\n"
     ]
    }
   ],
   "source": [
    "a=float(input('enter any number'))"
   ]
  },
  {
   "cell_type": "code",
   "execution_count": null,
   "id": "705c9b2f",
   "metadata": {},
   "outputs": [],
   "source": []
  },
  {
   "cell_type": "code",
   "execution_count": 24,
   "id": "086c0bda",
   "metadata": {},
   "outputs": [
    {
     "data": {
      "text/plain": [
       "20.5"
      ]
     },
     "execution_count": 24,
     "metadata": {},
     "output_type": "execute_result"
    }
   ],
   "source": [
    "a"
   ]
  },
  {
   "cell_type": "code",
   "execution_count": 29,
   "id": "c9a3b544",
   "metadata": {},
   "outputs": [
    {
     "data": {
      "text/plain": [
       "20"
      ]
     },
     "execution_count": 29,
     "metadata": {},
     "output_type": "execute_result"
    }
   ],
   "source": [
    "a=20.5\n",
    "int(a)"
   ]
  },
  {
   "cell_type": "code",
   "execution_count": 35,
   "id": "94ccb67e",
   "metadata": {},
   "outputs": [
    {
     "ename": "ValueError",
     "evalue": "invalid literal for int() with base 10: '20.3'",
     "output_type": "error",
     "traceback": [
      "\u001b[1;31m---------------------------------------------------------------------------\u001b[0m",
      "\u001b[1;31mValueError\u001b[0m                                Traceback (most recent call last)",
      "Cell \u001b[1;32mIn[35], line 2\u001b[0m\n\u001b[0;32m      1\u001b[0m a\u001b[38;5;241m=\u001b[39m\u001b[38;5;124m'\u001b[39m\u001b[38;5;124m20.3\u001b[39m\u001b[38;5;124m'\u001b[39m\n\u001b[1;32m----> 2\u001b[0m \u001b[38;5;28mint\u001b[39m(a)\n",
      "\u001b[1;31mValueError\u001b[0m: invalid literal for int() with base 10: '20.3'"
     ]
    }
   ],
   "source": [
    "a='20.3'\n",
    "int(a)"
   ]
  },
  {
   "cell_type": "code",
   "execution_count": 36,
   "id": "d1534db7",
   "metadata": {},
   "outputs": [
    {
     "name": "stdout",
     "output_type": "stream",
     "text": [
      "['__abs__', '__add__', '__bool__', '__ceil__', '__class__', '__delattr__', '__dir__', '__divmod__', '__doc__', '__eq__', '__float__', '__floor__', '__floordiv__', '__format__', '__ge__', '__getattribute__', '__getformat__', '__getnewargs__', '__getstate__', '__gt__', '__hash__', '__init__', '__init_subclass__', '__int__', '__le__', '__lt__', '__mod__', '__mul__', '__ne__', '__neg__', '__new__', '__pos__', '__pow__', '__radd__', '__rdivmod__', '__reduce__', '__reduce_ex__', '__repr__', '__rfloordiv__', '__rmod__', '__rmul__', '__round__', '__rpow__', '__rsub__', '__rtruediv__', '__setattr__', '__sizeof__', '__str__', '__sub__', '__subclasshook__', '__truediv__', '__trunc__', 'as_integer_ratio', 'conjugate', 'fromhex', 'hex', 'imag', 'is_integer', 'real']\n"
     ]
    }
   ],
   "source": [
    "print(dir(float))"
   ]
  },
  {
   "cell_type": "code",
   "execution_count": 38,
   "id": "5d7ca8b0",
   "metadata": {},
   "outputs": [
    {
     "data": {
      "text/plain": [
       "True"
      ]
     },
     "execution_count": 38,
     "metadata": {},
     "output_type": "execute_result"
    }
   ],
   "source": [
    "a=20.0\n",
    "a.is_integer()"
   ]
  },
  {
   "cell_type": "code",
   "execution_count": null,
   "id": "9556ac61",
   "metadata": {},
   "outputs": [],
   "source": [
    "'',\"\", ''' ''' ,\"\"\" \"\"\""
   ]
  },
  {
   "cell_type": "code",
   "execution_count": 41,
   "id": "841560df",
   "metadata": {},
   "outputs": [],
   "source": [
    "a='Hello bye'"
   ]
  },
  {
   "cell_type": "code",
   "execution_count": 43,
   "id": "fe305ced",
   "metadata": {},
   "outputs": [],
   "source": [
    "a=\"hello bye\""
   ]
  },
  {
   "cell_type": "code",
   "execution_count": 49,
   "id": "4e55e648",
   "metadata": {},
   "outputs": [],
   "source": [
    "a='''\n",
    "hello Everyone \n",
    "Welcome to \\t Grras Solution\n",
    "we are studying python\n",
    "\n",
    "\n",
    "'''"
   ]
  },
  {
   "cell_type": "code",
   "execution_count": 50,
   "id": "149cba58",
   "metadata": {},
   "outputs": [
    {
     "name": "stdout",
     "output_type": "stream",
     "text": [
      "\n",
      "hello Everyone \n",
      "Welcome to \t Grras Solution\n",
      "we are studying python\n",
      "\n",
      "\n",
      "\n"
     ]
    }
   ],
   "source": [
    "print(a)"
   ]
  },
  {
   "cell_type": "code",
   "execution_count": 51,
   "id": "0891fd44",
   "metadata": {},
   "outputs": [
    {
     "data": {
      "text/plain": [
       "'\\nhello Everyone \\nWelcome to \\t Grras Solution\\nwe are studying python\\n\\n\\n'"
      ]
     },
     "execution_count": 51,
     "metadata": {},
     "output_type": "execute_result"
    }
   ],
   "source": [
    "a"
   ]
  },
  {
   "cell_type": "code",
   "execution_count": 52,
   "id": "3148c299",
   "metadata": {},
   "outputs": [
    {
     "name": "stdout",
     "output_type": "stream",
     "text": [
      "hello\n"
     ]
    }
   ],
   "source": [
    "#my print statement\n",
    "print('hello')"
   ]
  },
  {
   "cell_type": "code",
   "execution_count": 53,
   "id": "664c493b",
   "metadata": {},
   "outputs": [
    {
     "name": "stdout",
     "output_type": "stream",
     "text": [
      "bye\n"
     ]
    }
   ],
   "source": [
    "'''\n",
    "line q adiofk\n",
    "nbfjsxnl,\n",
    "fnksxml'\n",
    "'''\n",
    "print('bye')"
   ]
  },
  {
   "cell_type": "code",
   "execution_count": 54,
   "id": "ea10d476",
   "metadata": {},
   "outputs": [
    {
     "data": {
      "text/plain": [
       "'5'"
      ]
     },
     "execution_count": 54,
     "metadata": {},
     "output_type": "execute_result"
    }
   ],
   "source": [
    "str(5)"
   ]
  },
  {
   "cell_type": "code",
   "execution_count": 55,
   "id": "d4f318eb",
   "metadata": {},
   "outputs": [
    {
     "name": "stdout",
     "output_type": "stream",
     "text": [
      "['__add__', '__class__', '__contains__', '__delattr__', '__dir__', '__doc__', '__eq__', '__format__', '__ge__', '__getattribute__', '__getitem__', '__getnewargs__', '__getstate__', '__gt__', '__hash__', '__init__', '__init_subclass__', '__iter__', '__le__', '__len__', '__lt__', '__mod__', '__mul__', '__ne__', '__new__', '__reduce__', '__reduce_ex__', '__repr__', '__rmod__', '__rmul__', '__setattr__', '__sizeof__', '__str__', '__subclasshook__', 'capitalize', 'casefold', 'center', 'count', 'encode', 'endswith', 'expandtabs', 'find', 'format', 'format_map', 'index', 'isalnum', 'isalpha', 'isascii', 'isdecimal', 'isdigit', 'isidentifier', 'islower', 'isnumeric', 'isprintable', 'isspace', 'istitle', 'isupper', 'join', 'ljust', 'lower', 'lstrip', 'maketrans', 'partition', 'removeprefix', 'removesuffix', 'replace', 'rfind', 'rindex', 'rjust', 'rpartition', 'rsplit', 'rstrip', 'split', 'splitlines', 'startswith', 'strip', 'swapcase', 'title', 'translate', 'upper', 'zfill']\n"
     ]
    }
   ],
   "source": [
    "print(dir(str))"
   ]
  },
  {
   "cell_type": "code",
   "execution_count": 56,
   "id": "38ebf5e9",
   "metadata": {},
   "outputs": [
    {
     "data": {
      "text/plain": [
       "2"
      ]
     },
     "execution_count": 56,
     "metadata": {},
     "output_type": "execute_result"
    }
   ],
   "source": [
    "a=2\n",
    "a.bit_length()"
   ]
  },
  {
   "cell_type": "code",
   "execution_count": 57,
   "id": "f85ad308",
   "metadata": {},
   "outputs": [
    {
     "data": {
      "text/plain": [
       "1"
      ]
     },
     "execution_count": 57,
     "metadata": {},
     "output_type": "execute_result"
    }
   ],
   "source": [
    "a.bit_count()"
   ]
  },
  {
   "cell_type": "code",
   "execution_count": null,
   "id": "cca09dd2",
   "metadata": {},
   "outputs": [],
   "source": []
  }
 ],
 "metadata": {
  "kernelspec": {
   "display_name": "Python 3 (ipykernel)",
   "language": "python",
   "name": "python3"
  },
  "language_info": {
   "codemirror_mode": {
    "name": "ipython",
    "version": 3
   },
   "file_extension": ".py",
   "mimetype": "text/x-python",
   "name": "python",
   "nbconvert_exporter": "python",
   "pygments_lexer": "ipython3",
   "version": "3.11.5"
  }
 },
 "nbformat": 4,
 "nbformat_minor": 5
}
