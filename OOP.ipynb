{
 "cells": [
  {
   "cell_type": "raw",
   "id": "2037d543",
   "metadata": {},
   "source": [
    "class Class_Name:\n",
    "    pass\n"
   ]
  },
  {
   "cell_type": "code",
   "execution_count": 1,
   "id": "4176b330",
   "metadata": {},
   "outputs": [],
   "source": [
    "class A:\n",
    "    def print_alpha():\n",
    "        print('Hello')\n",
    "        "
   ]
  },
  {
   "cell_type": "code",
   "execution_count": 4,
   "id": "742da59e",
   "metadata": {},
   "outputs": [
    {
     "ename": "NameError",
     "evalue": "name 'print_alpha' is not defined",
     "output_type": "error",
     "traceback": [
      "\u001b[1;31m---------------------------------------------------------------------------\u001b[0m",
      "\u001b[1;31mNameError\u001b[0m                                 Traceback (most recent call last)",
      "Cell \u001b[1;32mIn[4], line 1\u001b[0m\n\u001b[1;32m----> 1\u001b[0m print_alpha()\n",
      "\u001b[1;31mNameError\u001b[0m: name 'print_alpha' is not defined"
     ]
    }
   ],
   "source": [
    "print_alpha()"
   ]
  },
  {
   "cell_type": "code",
   "execution_count": 7,
   "id": "8c0783cc",
   "metadata": {},
   "outputs": [
    {
     "name": "stdout",
     "output_type": "stream",
     "text": [
      "['__abs__', '__add__', '__and__', '__bool__', '__ceil__', '__class__', '__delattr__', '__dir__', '__divmod__', '__doc__', '__eq__', '__float__', '__floor__', '__floordiv__', '__format__', '__ge__', '__getattribute__', '__getnewargs__', '__getstate__', '__gt__', '__hash__', '__index__', '__init__', '__init_subclass__', '__int__', '__invert__', '__le__', '__lshift__', '__lt__', '__mod__', '__mul__', '__ne__', '__neg__', '__new__', '__or__', '__pos__', '__pow__', '__radd__', '__rand__', '__rdivmod__', '__reduce__', '__reduce_ex__', '__repr__', '__rfloordiv__', '__rlshift__', '__rmod__', '__rmul__', '__ror__', '__round__', '__rpow__', '__rrshift__', '__rshift__', '__rsub__', '__rtruediv__', '__rxor__', '__setattr__', '__sizeof__', '__str__', '__sub__', '__subclasshook__', '__truediv__', '__trunc__', '__xor__', 'as_integer_ratio', 'bit_count', 'bit_length', 'conjugate', 'denominator', 'from_bytes', 'imag', 'numerator', 'real', 'to_bytes']\n"
     ]
    }
   ],
   "source": [
    "print(dir(int))"
   ]
  },
  {
   "cell_type": "code",
   "execution_count": 11,
   "id": "48a23f4f",
   "metadata": {},
   "outputs": [
    {
     "data": {
      "text/plain": [
       "1"
      ]
     },
     "execution_count": 11,
     "metadata": {},
     "output_type": "execute_result"
    }
   ],
   "source": [
    "int.bit_count(2)"
   ]
  },
  {
   "cell_type": "code",
   "execution_count": 12,
   "id": "b8ec4915",
   "metadata": {},
   "outputs": [
    {
     "name": "stdout",
     "output_type": "stream",
     "text": [
      "['__class__', '__delattr__', '__dict__', '__dir__', '__doc__', '__eq__', '__format__', '__ge__', '__getattribute__', '__getstate__', '__gt__', '__hash__', '__init__', '__init_subclass__', '__le__', '__lt__', '__module__', '__ne__', '__new__', '__reduce__', '__reduce_ex__', '__repr__', '__setattr__', '__sizeof__', '__str__', '__subclasshook__', '__weakref__', 'print_alpha']\n"
     ]
    }
   ],
   "source": [
    "print(dir(A))"
   ]
  },
  {
   "cell_type": "code",
   "execution_count": 15,
   "id": "fa4c83f4",
   "metadata": {},
   "outputs": [
    {
     "name": "stdout",
     "output_type": "stream",
     "text": [
      "Hello\n"
     ]
    }
   ],
   "source": [
    "A.print_alpha()"
   ]
  },
  {
   "cell_type": "code",
   "execution_count": 21,
   "id": "448d7135",
   "metadata": {
    "scrolled": true
   },
   "outputs": [],
   "source": [
    "class C:\n",
    "    pass"
   ]
  },
  {
   "cell_type": "code",
   "execution_count": 22,
   "id": "f6ecf384",
   "metadata": {},
   "outputs": [
    {
     "name": "stdout",
     "output_type": "stream",
     "text": [
      "['__class__', '__delattr__', '__dict__', '__dir__', '__doc__', '__eq__', '__format__', '__ge__', '__getattribute__', '__getstate__', '__gt__', '__hash__', '__init__', '__init_subclass__', '__le__', '__lt__', '__module__', '__ne__', '__new__', '__reduce__', '__reduce_ex__', '__repr__', '__setattr__', '__sizeof__', '__str__', '__subclasshook__', '__weakref__']\n"
     ]
    }
   ],
   "source": [
    "print(dir(C))"
   ]
  },
  {
   "cell_type": "code",
   "execution_count": 33,
   "id": "48b85522",
   "metadata": {},
   "outputs": [
    {
     "name": "stdout",
     "output_type": "stream",
     "text": [
      "Hello Sachin \n",
      "your age is 20\n"
     ]
    }
   ],
   "source": [
    "class A:\n",
    "    '''\n",
    "    this class print detail about a student\n",
    "    '''\n",
    "    name='Sachin '\n",
    "    age='20'\n",
    "    def print_info():\n",
    "        '''\n",
    "        this method print\n",
    "        '''\n",
    "        print('Hello',A.name)\n",
    "        print('your age is',A.age)\n",
    "A.print_info()"
   ]
  },
  {
   "cell_type": "code",
   "execution_count": 30,
   "id": "5b808fa2",
   "metadata": {},
   "outputs": [
    {
     "data": {
      "text/plain": [
       "'\\n        this method print\\n        '"
      ]
     },
     "execution_count": 30,
     "metadata": {},
     "output_type": "execute_result"
    }
   ],
   "source": [
    "A.print_info.__doc__"
   ]
  },
  {
   "cell_type": "code",
   "execution_count": null,
   "id": "b3331280",
   "metadata": {},
   "outputs": [],
   "source": []
  },
  {
   "cell_type": "code",
   "execution_count": 9,
   "id": "c4763597",
   "metadata": {},
   "outputs": [
    {
     "name": "stdout",
     "output_type": "stream",
     "text": [
      "name: sachin\n",
      "marks : 50\n"
     ]
    }
   ],
   "source": [
    "import numpy as np\n",
    "class ABC:\n",
    "    name='sachin'\n",
    "    def random_text():\n",
    "        n=np.random.randint(0,100)\n",
    "        print('name:',ABC.name)\n",
    "        print('marks :',n)\n",
    "ABC.random_text()"
   ]
  },
  {
   "cell_type": "code",
   "execution_count": 25,
   "id": "606581c5",
   "metadata": {},
   "outputs": [],
   "source": [
    "import numpy as np\n",
    "class ABC:\n",
    "    name='sachin'\n",
    "    def print_alpha(self):\n",
    "        print(self)\n",
    "        print('hello')\n",
    "    def random_text(self):\n",
    "        n=np.random.randint(0,100)\n",
    "        print('name:',self.name)\n",
    "        print('marks :',n)\n",
    "        print(self)\n",
    "        self.print_alpha()\n",
    "o1=ABC()"
   ]
  },
  {
   "cell_type": "code",
   "execution_count": 26,
   "id": "1b805ec1",
   "metadata": {},
   "outputs": [
    {
     "data": {
      "text/plain": [
       "'sachin'"
      ]
     },
     "execution_count": 26,
     "metadata": {},
     "output_type": "execute_result"
    }
   ],
   "source": [
    "o1.name"
   ]
  },
  {
   "cell_type": "code",
   "execution_count": 27,
   "id": "cbf5d6f4",
   "metadata": {},
   "outputs": [
    {
     "name": "stdout",
     "output_type": "stream",
     "text": [
      "name: sachin\n",
      "marks : 23\n",
      "<__main__.ABC object at 0x0000018C945BB050>\n",
      "<__main__.ABC object at 0x0000018C945BB050>\n",
      "hello\n"
     ]
    }
   ],
   "source": [
    "o1.random_text()"
   ]
  },
  {
   "cell_type": "code",
   "execution_count": null,
   "id": "06e487a2",
   "metadata": {},
   "outputs": [],
   "source": [
    "# object create ---> \n",
    "\n",
    "#function call with object   ---> object refernce is passed\n",
    "\n"
   ]
  },
  {
   "cell_type": "code",
   "execution_count": 38,
   "id": "f8a2aae7",
   "metadata": {},
   "outputs": [
    {
     "name": "stdout",
     "output_type": "stream",
     "text": [
      "Name Sachin\n",
      "Percentage: 50.0\n",
      "Name Gaurav\n",
      "Percentage: 60.0\n"
     ]
    }
   ],
   "source": [
    "class School:\n",
    "    def calculate_percantage(self,name,marks):\n",
    "        self.name=name\n",
    "        self.percentage=sum(marks)/len(marks)\n",
    "    def print_result(self):\n",
    "        print('Name',self.name)\n",
    "        print('Percentage:',self.percentage)\n",
    "o1=School()\n",
    "o2=School()\n",
    "o2.calculate_percantage('Gaurav',[50,60,70])\n",
    "o1.calculate_percantage('Sachin',[20,30,50,70,80])\n",
    "o1.print_result()\n",
    "o2.print_result()"
   ]
  },
  {
   "cell_type": "code",
   "execution_count": 39,
   "id": "ca840046",
   "metadata": {},
   "outputs": [
    {
     "data": {
      "text/plain": [
       "mappingproxy({'__module__': '__main__',\n",
       "              'calculate_percantage': <function __main__.School.calculate_percantage(self, name, marks)>,\n",
       "              'print_result': <function __main__.School.print_result(self)>,\n",
       "              '__dict__': <attribute '__dict__' of 'School' objects>,\n",
       "              '__weakref__': <attribute '__weakref__' of 'School' objects>,\n",
       "              '__doc__': None})"
      ]
     },
     "execution_count": 39,
     "metadata": {},
     "output_type": "execute_result"
    }
   ],
   "source": [
    "School.__dict__"
   ]
  },
  {
   "cell_type": "code",
   "execution_count": 40,
   "id": "ed48c34a",
   "metadata": {},
   "outputs": [
    {
     "data": {
      "text/plain": [
       "{'name': 'Sachin', 'percentage': 50.0}"
      ]
     },
     "execution_count": 40,
     "metadata": {},
     "output_type": "execute_result"
    }
   ],
   "source": [
    "o1.__dict__"
   ]
  },
  {
   "cell_type": "code",
   "execution_count": 41,
   "id": "7e4f34f7",
   "metadata": {},
   "outputs": [
    {
     "data": {
      "text/plain": [
       "{'name': 'Gaurav', 'percentage': 60.0}"
      ]
     },
     "execution_count": 41,
     "metadata": {},
     "output_type": "execute_result"
    }
   ],
   "source": [
    "o2.__dict__"
   ]
  },
  {
   "cell_type": "code",
   "execution_count": 42,
   "id": "a41663c4",
   "metadata": {},
   "outputs": [],
   "source": [
    "o1.sport='Cricket'"
   ]
  },
  {
   "cell_type": "code",
   "execution_count": 43,
   "id": "6cc3efd8",
   "metadata": {},
   "outputs": [
    {
     "data": {
      "text/plain": [
       "{'name': 'Sachin', 'percentage': 50.0, 'sport': 'Cricket'}"
      ]
     },
     "execution_count": 43,
     "metadata": {},
     "output_type": "execute_result"
    }
   ],
   "source": [
    "o1.__dict__"
   ]
  },
  {
   "cell_type": "code",
   "execution_count": 44,
   "id": "b45ddb22",
   "metadata": {},
   "outputs": [
    {
     "data": {
      "text/plain": [
       "{'name': 'Gaurav', 'percentage': 60.0}"
      ]
     },
     "execution_count": 44,
     "metadata": {},
     "output_type": "execute_result"
    }
   ],
   "source": [
    "o2.__dict__"
   ]
  },
  {
   "cell_type": "code",
   "execution_count": 46,
   "id": "022b4296",
   "metadata": {},
   "outputs": [
    {
     "name": "stdout",
     "output_type": "stream",
     "text": [
      "<class 'int'>\n",
      "<class 'str'>\n"
     ]
    }
   ],
   "source": [
    "a=int(5)\n",
    "b='Sachin'\n",
    "print(type(a))\n",
    "print(type(b))\n"
   ]
  },
  {
   "cell_type": "code",
   "execution_count": 47,
   "id": "20050eb2",
   "metadata": {},
   "outputs": [],
   "source": [
    "setattr(o1,'percentage',89)"
   ]
  },
  {
   "cell_type": "code",
   "execution_count": 48,
   "id": "f2410b63",
   "metadata": {},
   "outputs": [
    {
     "data": {
      "text/plain": [
       "89"
      ]
     },
     "execution_count": 48,
     "metadata": {},
     "output_type": "execute_result"
    }
   ],
   "source": [
    "o1.percentage"
   ]
  },
  {
   "cell_type": "code",
   "execution_count": 49,
   "id": "1e7be154",
   "metadata": {},
   "outputs": [
    {
     "name": "stdout",
     "output_type": "stream",
     "text": [
      "Name Sachin\n",
      "Percentage: 89\n"
     ]
    }
   ],
   "source": [
    "o1.print_result()"
   ]
  },
  {
   "cell_type": "code",
   "execution_count": 50,
   "id": "ebbab6ab",
   "metadata": {},
   "outputs": [
    {
     "data": {
      "text/plain": [
       "'Sachin'"
      ]
     },
     "execution_count": 50,
     "metadata": {},
     "output_type": "execute_result"
    }
   ],
   "source": [
    "getattr(o1,'name')"
   ]
  },
  {
   "cell_type": "code",
   "execution_count": 51,
   "id": "85a2e8b7",
   "metadata": {},
   "outputs": [
    {
     "data": {
      "text/plain": [
       "'Gaurav'"
      ]
     },
     "execution_count": 51,
     "metadata": {},
     "output_type": "execute_result"
    }
   ],
   "source": [
    "getattr(o2,'name')"
   ]
  },
  {
   "cell_type": "code",
   "execution_count": 54,
   "id": "ff07153e",
   "metadata": {},
   "outputs": [
    {
     "name": "stdout",
     "output_type": "stream",
     "text": [
      "['__class__', '__delattr__', '__dict__', '__dir__', '__doc__', '__eq__', '__format__', '__ge__', '__getattribute__', '__getstate__', '__gt__', '__hash__', '__init__', '__init_subclass__', '__le__', '__lt__', '__module__', '__ne__', '__new__', '__reduce__', '__reduce_ex__', '__repr__', '__setattr__', '__sizeof__', '__str__', '__subclasshook__', '__weakref__']\n"
     ]
    }
   ],
   "source": [
    "class A(object):\n",
    "    pass\n",
    "print(dir(A))"
   ]
  },
  {
   "cell_type": "code",
   "execution_count": 56,
   "id": "08a7144f",
   "metadata": {},
   "outputs": [
    {
     "name": "stdout",
     "output_type": "stream",
     "text": [
      "I am constructor\n",
      "I call myself when a object is declared \n",
      "I am constructor\n",
      "I call myself when a object is declared \n"
     ]
    }
   ],
   "source": [
    "class A:\n",
    "    def __init__(self):\n",
    "        print('I am constructor')\n",
    "        print('I call myself when a object is declared ')\n",
    "o1=A()\n",
    "o2=A()"
   ]
  },
  {
   "cell_type": "code",
   "execution_count": 64,
   "id": "deda302a",
   "metadata": {},
   "outputs": [
    {
     "name": "stdout",
     "output_type": "stream",
     "text": [
      "I am constructor\n",
      "I call myself when a object is declared \n",
      "Name Sachin\n",
      "phone 7878012779\n"
     ]
    }
   ],
   "source": [
    "class A:\n",
    "    def __init__(self,name,phone):\n",
    "        self.name=name\n",
    "        self.phone=phone\n",
    "        print('I am constructor')\n",
    "        print('I call myself when a object is declared ')\n",
    "        self.print_alpha()\n",
    "    def print_alpha(self):\n",
    "        print('Name', self.name)\n",
    "        print('phone', self.phone)\n",
    "        \n",
    "o1=A('Sachin',7878012779)"
   ]
  },
  {
   "cell_type": "code",
   "execution_count": 59,
   "id": "259b2aab",
   "metadata": {},
   "outputs": [
    {
     "name": "stdout",
     "output_type": "stream",
     "text": [
      "Name Sachin\n",
      "phone 7878012770\n"
     ]
    }
   ],
   "source": [
    "o1.print_alpha()"
   ]
  },
  {
   "cell_type": "code",
   "execution_count": null,
   "id": "f3bfd7eb",
   "metadata": {},
   "outputs": [],
   "source": []
  }
 ],
 "metadata": {
  "kernelspec": {
   "display_name": "Python 3 (ipykernel)",
   "language": "python",
   "name": "python3"
  },
  "language_info": {
   "codemirror_mode": {
    "name": "ipython",
    "version": 3
   },
   "file_extension": ".py",
   "mimetype": "text/x-python",
   "name": "python",
   "nbconvert_exporter": "python",
   "pygments_lexer": "ipython3",
   "version": "3.11.5"
  }
 },
 "nbformat": 4,
 "nbformat_minor": 5
}
