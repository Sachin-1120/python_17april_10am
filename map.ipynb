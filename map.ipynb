{
 "cells": [
  {
   "cell_type": "code",
   "execution_count": null,
   "id": "6538cf30",
   "metadata": {},
   "outputs": [],
   "source": [
    "def fabonicci():\n",
    "    pass\n"
   ]
  },
  {
   "cell_type": "code",
   "execution_count": 1,
   "id": "39ff16db",
   "metadata": {},
   "outputs": [
    {
     "name": "stdout",
     "output_type": "stream",
     "text": [
      "Enter total no of terms5\n",
      "0\n",
      "1\n",
      "1\n",
      "2\n",
      "3\n"
     ]
    }
   ],
   "source": [
    "n=int(input('Enter total no of terms'))\n",
    "x,y=1,1\n",
    "for i in range(0,n):\n",
    "    if i<=1:\n",
    "        print(i)\n",
    "    else:\n",
    "        print(y)\n",
    "        x,y=y,x+y"
   ]
  },
  {
   "cell_type": "code",
   "execution_count": null,
   "id": "a2ad40a9",
   "metadata": {},
   "outputs": [],
   "source": []
  },
  {
   "cell_type": "markdown",
   "id": "7c657584",
   "metadata": {},
   "source": [
    "# map"
   ]
  },
  {
   "cell_type": "code",
   "execution_count": 2,
   "id": "1ef85a35",
   "metadata": {},
   "outputs": [
    {
     "name": "stdout",
     "output_type": "stream",
     "text": [
      "[1, 4, 4, 9, 16, 25, 36, 49]\n"
     ]
    }
   ],
   "source": [
    "l=[1,2,2,3,4,5,6,7]\n",
    "a=[]\n",
    "for i in l:\n",
    "    a.append(i**2)\n",
    "print(a)"
   ]
  },
  {
   "cell_type": "code",
   "execution_count": 6,
   "id": "8514bb05",
   "metadata": {},
   "outputs": [
    {
     "data": {
      "text/plain": [
       "[11, 12, 12, 13, 14, 15, 16, 17]"
      ]
     },
     "execution_count": 6,
     "metadata": {},
     "output_type": "execute_result"
    }
   ],
   "source": [
    "list(map(lambda i:i+10,l))"
   ]
  },
  {
   "cell_type": "code",
   "execution_count": null,
   "id": "c62c306f",
   "metadata": {},
   "outputs": [],
   "source": [
    "Wap to check which number is even or odd\n",
    "[1,2,3,4,5,6]\n",
    "[odd,even,]"
   ]
  },
  {
   "cell_type": "code",
   "execution_count": 7,
   "id": "2f9bf34d",
   "metadata": {},
   "outputs": [
    {
     "data": {
      "text/plain": [
       "['Odd', 'Even', 'Odd', 'Even', 'Odd', 'Even']"
      ]
     },
     "execution_count": 7,
     "metadata": {},
     "output_type": "execute_result"
    }
   ],
   "source": [
    "def func(i):\n",
    "    if i%2==0:\n",
    "        return 'Even'\n",
    "    else:\n",
    "        return 'Odd'\n",
    "l=[1,2,3,4,5,6]\n",
    "list(map(func,l))"
   ]
  },
  {
   "cell_type": "code",
   "execution_count": 8,
   "id": "dc32f172",
   "metadata": {},
   "outputs": [
    {
     "data": {
      "text/plain": [
       "['Odd', 'Even', 'Odd', 'Even', 'Odd', 'Even']"
      ]
     },
     "execution_count": 8,
     "metadata": {},
     "output_type": "execute_result"
    }
   ],
   "source": [
    "list(map(lambda i:'Even' if i%2==0 else 'Odd',l))"
   ]
  },
  {
   "cell_type": "code",
   "execution_count": 17,
   "id": "5f78d785",
   "metadata": {},
   "outputs": [
    {
     "data": {
      "text/plain": [
       "[6, 7, 8]"
      ]
     },
     "execution_count": 17,
     "metadata": {},
     "output_type": "execute_result"
    }
   ],
   "source": [
    "a=lambda i:i>5\n",
    "l=[1,2,3,3,4,5,6,7,8]\n",
    "list(filter(a,l))"
   ]
  },
  {
   "cell_type": "code",
   "execution_count": 18,
   "id": "ed0adf08",
   "metadata": {},
   "outputs": [],
   "source": [
    "import numpy as np"
   ]
  },
  {
   "cell_type": "code",
   "execution_count": 22,
   "id": "8f4258a0",
   "metadata": {},
   "outputs": [
    {
     "name": "stdout",
     "output_type": "stream",
     "text": [
      "[1, 2, 3, 5, 7, 11, 13, 17, 19, 23, 29, 31, 37, 41, 43, 47, 53, 59, 61, 67, 71, 73, 79, 83, 89, 97]\n"
     ]
    }
   ],
   "source": [
    "def prime(n):\n",
    "    for i in range(2,n):\n",
    "        if n%i==0:\n",
    "            return False\n",
    "    else:\n",
    "        return True\n",
    "a=np.arange(1,100,1)\n",
    "print(list(filter(prime,a)))"
   ]
  },
  {
   "cell_type": "code",
   "execution_count": 28,
   "id": "9048520e",
   "metadata": {},
   "outputs": [
    {
     "data": {
      "text/plain": [
       "[2, 4, 6, 8, 10]"
      ]
     },
     "execution_count": 28,
     "metadata": {},
     "output_type": "execute_result"
    }
   ],
   "source": [
    "a=lambda i:True if i%2==0 else False\n",
    "list(filter(a,[1,2,3,4,5,6,7,8,9,10]))"
   ]
  },
  {
   "cell_type": "code",
   "execution_count": 24,
   "id": "424ad8d2",
   "metadata": {},
   "outputs": [
    {
     "data": {
      "text/plain": [
       "['Odd', 'Even', 'Odd', 'Even', 'Odd', 'Even', 'Odd', 'Even', 'Odd', 'Even']"
      ]
     },
     "execution_count": 24,
     "metadata": {},
     "output_type": "execute_result"
    }
   ],
   "source": [
    "list(map(a,[1,2,3,4,5,6,7,8,9,10]))"
   ]
  },
  {
   "cell_type": "code",
   "execution_count": 29,
   "id": "0c58fa06",
   "metadata": {},
   "outputs": [
    {
     "data": {
      "text/plain": [
       "[1,\n",
       " 2,\n",
       " 3,\n",
       " 4,\n",
       " 5,\n",
       " 6,\n",
       " 7,\n",
       " 8,\n",
       " 9,\n",
       " 10,\n",
       " 11,\n",
       " 12,\n",
       " 13,\n",
       " 14,\n",
       " 15,\n",
       " 16,\n",
       " 17,\n",
       " 18,\n",
       " 19,\n",
       " 20,\n",
       " 21,\n",
       " 22,\n",
       " 23,\n",
       " 24,\n",
       " 25,\n",
       " 26,\n",
       " 27,\n",
       " 28,\n",
       " 29,\n",
       " 30]"
      ]
     },
     "execution_count": 29,
     "metadata": {},
     "output_type": "execute_result"
    }
   ],
   "source": [
    "[i for i in range(1,31)]"
   ]
  },
  {
   "cell_type": "code",
   "execution_count": 32,
   "id": "67f9d4ca",
   "metadata": {},
   "outputs": [
    {
     "data": {
      "text/plain": [
       "[125, 343, 100, 196, 3375, 400, 9261, 15625, 784, 900]"
      ]
     },
     "execution_count": 32,
     "metadata": {},
     "output_type": "execute_result"
    }
   ],
   "source": [
    "l=[i for i in range(1,31)]\n",
    "a=lambda i:i**2 if i%2==0 else i**3\n",
    "l1=list(map(a,l))\n",
    "b=lambda i:True if i%5==0 or i%7==0 else False\n",
    "list(filter(b,l1))"
   ]
  },
  {
   "cell_type": "code",
   "execution_count": 33,
   "id": "6235c882",
   "metadata": {},
   "outputs": [
    {
     "data": {
      "text/plain": [
       "[125, 343, 100, 196, 3375, 400, 9261, 15625, 784, 900]"
      ]
     },
     "execution_count": 33,
     "metadata": {},
     "output_type": "execute_result"
    }
   ],
   "source": [
    "list(filter(lambda i:True if i%5==0 or i%7==0 else False,list(map(lambda i:i**2 if i%2==0 else i**3,[i for i in range(1,31)]))))"
   ]
  },
  {
   "cell_type": "code",
   "execution_count": 34,
   "id": "54e7d191",
   "metadata": {},
   "outputs": [],
   "source": [
    "from functools import reduce"
   ]
  },
  {
   "cell_type": "code",
   "execution_count": 39,
   "id": "c5e04b93",
   "metadata": {},
   "outputs": [
    {
     "data": {
      "text/plain": [
       "21"
      ]
     },
     "execution_count": 39,
     "metadata": {},
     "output_type": "execute_result"
    }
   ],
   "source": [
    "reduce(lambda i,j:i+j,[1,2,3,4,5,6])"
   ]
  },
  {
   "cell_type": "code",
   "execution_count": 41,
   "id": "dd46d4c6",
   "metadata": {},
   "outputs": [
    {
     "data": {
      "text/plain": [
       "1943272"
      ]
     },
     "execution_count": 41,
     "metadata": {},
     "output_type": "execute_result"
    }
   ],
   "source": [
    ";reduce(lambda i,j:i**2+j**2,[1,6,5,6])"
   ]
  },
  {
   "cell_type": "code",
   "execution_count": 1,
   "id": "6b426560",
   "metadata": {},
   "outputs": [
    {
     "data": {
      "text/plain": [
       "[11, 12, 12, 13, 14, 15, 16, 17]"
      ]
     },
     "execution_count": 1,
     "metadata": {},
     "output_type": "execute_result"
    }
   ],
   "source": [
    "l=[1,2,2,3,4,5,6,7]\n",
    "\n",
    "a=lambda i:i+10\n",
    "\n",
    "list(map(a,l))"
   ]
  },
  {
   "cell_type": "code",
   "execution_count": 9,
   "id": "1ccacab5",
   "metadata": {},
   "outputs": [
    {
     "name": "stdout",
     "output_type": "stream",
     "text": [
      "Enter customer idcust1\n",
      "Maxium order value product till now of Cust1 is 7000\n",
      "Total Amount 7500\n"
     ]
    }
   ],
   "source": [
    "d={\n",
    "    'Cust1':{'ord1':{'products':['Bag'],'price':[4000],'Quantity':[1]}\n",
    "             ,\n",
    "             'ord2':{'products':['Bag','tshirt'],'price':[4000,7000],'Quantity':[1,2]}\n",
    "             ,\n",
    "             'ord3':{'products':['Bag','Shirts'],'price':[4000,700],'Quantity':[1,5]}\n",
    "             \n",
    "            }\n",
    "    \n",
    "    ,\n",
    "    'Cust2':{'ord1':{'products':['shoe'],'price':[2000],'Quantity':[2]}\n",
    "                    }\n",
    "    \n",
    "    \n",
    "    \n",
    "}\n",
    "\n",
    "#customer_id \n",
    "'''\n",
    "1.maximum price of product bought till now \n",
    "2.last bill total amount \n",
    "3.total amount of product bought till now \n",
    "4.Avg order Value \n",
    "'''\n",
    "#map,filter,reduce \n",
    "\n",
    "cust_id=input('Enter customer id').title()\n",
    "l=d[cust_id].keys()\n",
    "max_value=[]\n",
    "for i in l:\n",
    "    max_value.append(max(d[cust_id][i]['price']))\n",
    "print(f'Maxium order value product till now of {cust_id} is {max(max_value)}')\n",
    "price=d[cust_id][list(d[cust_id].keys())[-1]]['price']\n",
    "quantity=d[cust_id][list(d[cust_id].keys())[-1]]['Quantity']\n",
    "total=0\n",
    "for i,j in zip(price,quantity):\n",
    "    total+=i*j\n",
    "print('Total Amount',total)"
   ]
  },
  {
   "cell_type": "code",
   "execution_count": 6,
   "id": "54d44fbc",
   "metadata": {},
   "outputs": [
    {
     "data": {
      "text/plain": [
       "'ord3'"
      ]
     },
     "execution_count": 6,
     "metadata": {},
     "output_type": "execute_result"
    }
   ],
   "source": [
    "list(d[cust_id].keys())[-1]"
   ]
  },
  {
   "cell_type": "code",
   "execution_count": 12,
   "id": "86b83f52",
   "metadata": {},
   "outputs": [
    {
     "name": "stdout",
     "output_type": "stream",
     "text": [
      "Name   Sachin\n",
      "detail Received\n",
      "None\n",
      "Hi\n"
     ]
    }
   ],
   "source": [
    "def get_alpha(name):\n",
    "    print('detail Received')\n",
    "def print_alpha(name):\n",
    "    print('Name  ',name)\n",
    "    print(get_alpha(name))\n",
    "    print('Hi')\n",
    "print_alpha('Sachin')\n",
    "    "
   ]
  },
  {
   "cell_type": "code",
   "execution_count": 22,
   "id": "4b1ed9df",
   "metadata": {},
   "outputs": [],
   "source": [
    "def print_alpha(n,i=1):\n",
    "    if i==10:\n",
    "        print(f'{n} * {i} = {n*i}')\n",
    "        return 'Task Completed'\n",
    "    else:\n",
    "        print(f'{n} * {i} = {n*i}')\n",
    "        return print_alpha(n,i+1)"
   ]
  },
  {
   "cell_type": "code",
   "execution_count": 23,
   "id": "7f0c0e44",
   "metadata": {},
   "outputs": [
    {
     "name": "stdout",
     "output_type": "stream",
     "text": [
      "5 * 1 = 5\n",
      "5 * 2 = 10\n",
      "5 * 3 = 15\n",
      "5 * 4 = 20\n",
      "5 * 5 = 25\n",
      "5 * 6 = 30\n",
      "5 * 7 = 35\n",
      "5 * 8 = 40\n",
      "5 * 9 = 45\n",
      "5 * 10 = 50\n"
     ]
    },
    {
     "data": {
      "text/plain": [
       "'Task Completed'"
      ]
     },
     "execution_count": 23,
     "metadata": {},
     "output_type": "execute_result"
    }
   ],
   "source": [
    "print_alpha(5)"
   ]
  },
  {
   "cell_type": "code",
   "execution_count": 24,
   "id": "58a1611c",
   "metadata": {},
   "outputs": [
    {
     "name": "stdout",
     "output_type": "stream",
     "text": [
      "Hello\n"
     ]
    },
    {
     "data": {
      "text/plain": [
       "10"
      ]
     },
     "execution_count": 24,
     "metadata": {},
     "output_type": "execute_result"
    }
   ],
   "source": [
    "def func1():\n",
    "    print('Hello')\n",
    "    return 10\n",
    "    print('hi')\n",
    "func1()"
   ]
  },
  {
   "cell_type": "code",
   "execution_count": 28,
   "id": "d9b1366d",
   "metadata": {},
   "outputs": [
    {
     "data": {
      "text/plain": [
       "False"
      ]
     },
     "execution_count": 28,
     "metadata": {},
     "output_type": "execute_result"
    }
   ],
   "source": [
    "# Any -->True/False\n",
    "#True --> any value/Element in a iterable True \n",
    "any([None ,0, False])"
   ]
  },
  {
   "cell_type": "code",
   "execution_count": 29,
   "id": "c3527673",
   "metadata": {},
   "outputs": [
    {
     "data": {
      "text/plain": [
       "False"
      ]
     },
     "execution_count": 29,
     "metadata": {},
     "output_type": "execute_result"
    }
   ],
   "source": [
    "# True --> In case all values are True \n",
    "# False --> atleast one value is False\n",
    "all([1,2,3,4,0])"
   ]
  },
  {
   "cell_type": "code",
   "execution_count": 30,
   "id": "0156bae3",
   "metadata": {},
   "outputs": [
    {
     "data": {
      "text/plain": [
       "True"
      ]
     },
     "execution_count": 30,
     "metadata": {},
     "output_type": "execute_result"
    }
   ],
   "source": [
    "all([1,2,3,4])"
   ]
  },
  {
   "cell_type": "code",
   "execution_count": 31,
   "id": "4d68cd88",
   "metadata": {},
   "outputs": [
    {
     "data": {
      "text/plain": [
       "True"
      ]
     },
     "execution_count": 31,
     "metadata": {},
     "output_type": "execute_result"
    }
   ],
   "source": [
    "all([])"
   ]
  },
  {
   "cell_type": "code",
   "execution_count": 32,
   "id": "2710e5bf",
   "metadata": {},
   "outputs": [
    {
     "data": {
      "text/plain": [
       "False"
      ]
     },
     "execution_count": 32,
     "metadata": {},
     "output_type": "execute_result"
    }
   ],
   "source": [
    "any([])"
   ]
  },
  {
   "cell_type": "code",
   "execution_count": 35,
   "id": "63d15e6e",
   "metadata": {},
   "outputs": [
    {
     "data": {
      "text/plain": [
       "[(10, 'A'), (11, 'B'), (12, 'C')]"
      ]
     },
     "execution_count": 35,
     "metadata": {},
     "output_type": "execute_result"
    }
   ],
   "source": [
    "list(enumerate(['A','B','C'],start=10))"
   ]
  },
  {
   "cell_type": "code",
   "execution_count": null,
   "id": "684a0d4c",
   "metadata": {},
   "outputs": [],
   "source": []
  }
 ],
 "metadata": {
  "kernelspec": {
   "display_name": "Python 3 (ipykernel)",
   "language": "python",
   "name": "python3"
  },
  "language_info": {
   "codemirror_mode": {
    "name": "ipython",
    "version": 3
   },
   "file_extension": ".py",
   "mimetype": "text/x-python",
   "name": "python",
   "nbconvert_exporter": "python",
   "pygments_lexer": "ipython3",
   "version": "3.11.5"
  }
 },
 "nbformat": 4,
 "nbformat_minor": 5
}
