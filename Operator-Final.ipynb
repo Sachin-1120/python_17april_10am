{
 "cells": [
  {
   "cell_type": "markdown",
   "id": "8f3d4b79",
   "metadata": {},
   "source": [
    "### Or"
   ]
  },
  {
   "cell_type": "code",
   "execution_count": null,
   "id": "1a608ec1",
   "metadata": {},
   "outputs": [],
   "source": [
    "cond1 or cond2 \n",
    "\n",
    "atleast one cond is true--> True\n",
    "otherwise  ---->False"
   ]
  },
  {
   "cell_type": "code",
   "execution_count": 3,
   "id": "ebc5c00e",
   "metadata": {},
   "outputs": [
    {
     "data": {
      "text/plain": [
       "True"
      ]
     },
     "execution_count": 3,
     "metadata": {},
     "output_type": "execute_result"
    }
   ],
   "source": [
    "5>6 or 10==10"
   ]
  },
  {
   "cell_type": "code",
   "execution_count": 4,
   "id": "cbebd988",
   "metadata": {},
   "outputs": [
    {
     "data": {
      "text/plain": [
       "5"
      ]
     },
     "execution_count": 4,
     "metadata": {},
     "output_type": "execute_result"
    }
   ],
   "source": [
    "5 or 3"
   ]
  },
  {
   "cell_type": "code",
   "execution_count": null,
   "id": "e48a2225",
   "metadata": {},
   "outputs": [],
   "source": [
    "if cond1==False        output ----> output of Cond2     -->False ouput of cond2\n",
    "                                                        -->True  output of cond2\n",
    "if cond1==True          output--->output of cond1       "
   ]
  },
  {
   "cell_type": "code",
   "execution_count": 5,
   "id": "a4a5b165",
   "metadata": {},
   "outputs": [
    {
     "data": {
      "text/plain": [
       "' '"
      ]
     },
     "execution_count": 5,
     "metadata": {},
     "output_type": "execute_result"
    }
   ],
   "source": [
    "' ' or []"
   ]
  },
  {
   "cell_type": "code",
   "execution_count": 6,
   "id": "8e186cec",
   "metadata": {},
   "outputs": [
    {
     "data": {
      "text/plain": [
       "[]"
      ]
     },
     "execution_count": 6,
     "metadata": {},
     "output_type": "execute_result"
    }
   ],
   "source": [
    "'' or []"
   ]
  },
  {
   "cell_type": "markdown",
   "id": "78ce55aa",
   "metadata": {},
   "source": [
    "### not"
   ]
  },
  {
   "cell_type": "code",
   "execution_count": null,
   "id": "73ead8c7",
   "metadata": {},
   "outputs": [],
   "source": [
    "true --->false\n",
    "false--->True\n"
   ]
  },
  {
   "cell_type": "code",
   "execution_count": 7,
   "id": "2cba3e48",
   "metadata": {},
   "outputs": [
    {
     "data": {
      "text/plain": [
       "True"
      ]
     },
     "execution_count": 7,
     "metadata": {},
     "output_type": "execute_result"
    }
   ],
   "source": [
    "not 5>6"
   ]
  },
  {
   "cell_type": "code",
   "execution_count": 8,
   "id": "6afd8468",
   "metadata": {},
   "outputs": [
    {
     "data": {
      "text/plain": [
       "False"
      ]
     },
     "execution_count": 8,
     "metadata": {},
     "output_type": "execute_result"
    }
   ],
   "source": [
    "not 10==10"
   ]
  },
  {
   "cell_type": "code",
   "execution_count": 9,
   "id": "a5799906",
   "metadata": {},
   "outputs": [
    {
     "data": {
      "text/plain": [
       "False"
      ]
     },
     "execution_count": 9,
     "metadata": {},
     "output_type": "execute_result"
    }
   ],
   "source": [
    "not 3"
   ]
  },
  {
   "cell_type": "code",
   "execution_count": 10,
   "id": "d4ed2a97",
   "metadata": {},
   "outputs": [
    {
     "data": {
      "text/plain": [
       "True"
      ]
     },
     "execution_count": 10,
     "metadata": {},
     "output_type": "execute_result"
    }
   ],
   "source": [
    "not ''"
   ]
  },
  {
   "cell_type": "code",
   "execution_count": null,
   "id": "70567e80",
   "metadata": {},
   "outputs": [],
   "source": [
    "5*3 and 7//10+5*3/2 "
   ]
  },
  {
   "cell_type": "code",
   "execution_count": 21,
   "id": "9ea3f968",
   "metadata": {},
   "outputs": [
    {
     "data": {
      "text/plain": [
       "'Sachin'"
      ]
     },
     "execution_count": 21,
     "metadata": {},
     "output_type": "execute_result"
    }
   ],
   "source": [
    "[None] and 'Sachin' or f'{[]}' or 0 and not f'{(\"sac\")}' "
   ]
  },
  {
   "cell_type": "code",
   "execution_count": 13,
   "id": "aaafaa8b",
   "metadata": {},
   "outputs": [
    {
     "data": {
      "text/plain": [
       "'Sachin'"
      ]
     },
     "execution_count": 13,
     "metadata": {},
     "output_type": "execute_result"
    }
   ],
   "source": [
    "[None] and 'Sachin'"
   ]
  },
  {
   "cell_type": "code",
   "execution_count": 20,
   "id": "a919f250",
   "metadata": {},
   "outputs": [
    {
     "data": {
      "text/plain": [
       "'sachin'"
      ]
     },
     "execution_count": 20,
     "metadata": {},
     "output_type": "execute_result"
    }
   ],
   "source": [
    "'Sachin' or  f'{[]}' or 0 and False\n",
    "'sachin ' or  f'{[]}' or 0\n",
    "'sachin' or f'{[]}'"
   ]
  },
  {
   "cell_type": "code",
   "execution_count": 19,
   "id": "eb3c3a6e",
   "metadata": {},
   "outputs": [
    {
     "data": {
      "text/plain": [
       "False"
      ]
     },
     "execution_count": 19,
     "metadata": {},
     "output_type": "execute_result"
    }
   ],
   "source": [
    "f'{[]}'"
   ]
  },
  {
   "cell_type": "markdown",
   "id": "aab7c880",
   "metadata": {},
   "source": [
    "# Bitwise Operator"
   ]
  },
  {
   "cell_type": "code",
   "execution_count": null,
   "id": "8dd0c411",
   "metadata": {},
   "outputs": [],
   "source": [
    "20\n",
    "25\n"
   ]
  },
  {
   "cell_type": "markdown",
   "id": "1607a4b3",
   "metadata": {},
   "source": [
    "**&,|,^,~,>>,<<**"
   ]
  },
  {
   "cell_type": "markdown",
   "id": "fe47dfcf",
   "metadata": {},
   "source": [
    "# & operator"
   ]
  },
  {
   "cell_type": "code",
   "execution_count": null,
   "id": "a52e4974",
   "metadata": {},
   "outputs": [],
   "source": [
    "#cond1  &   cond2\n",
    " 5     &   3\n",
    "#1 0 1  &  0 1 1\n",
    "    0 0 1-->         1\n",
    "    4 2 1\n",
    "\n",
    "True and False->False 0\n"
   ]
  },
  {
   "cell_type": "code",
   "execution_count": 22,
   "id": "8d742f7f",
   "metadata": {},
   "outputs": [
    {
     "data": {
      "text/plain": [
       "1"
      ]
     },
     "execution_count": 22,
     "metadata": {},
     "output_type": "execute_result"
    }
   ],
   "source": [
    "5 & 3\n"
   ]
  },
  {
   "cell_type": "code",
   "execution_count": null,
   "id": "77d0bcda",
   "metadata": {},
   "outputs": [],
   "source": [
    "10 & 7\n",
    "1010  & 0111\n",
    "    0010\n",
    "    8421\n",
    "    2\n",
    "    "
   ]
  },
  {
   "cell_type": "code",
   "execution_count": 23,
   "id": "ac2c58a2",
   "metadata": {},
   "outputs": [
    {
     "data": {
      "text/plain": [
       "2"
      ]
     },
     "execution_count": 23,
     "metadata": {},
     "output_type": "execute_result"
    }
   ],
   "source": [
    "10 & 7"
   ]
  },
  {
   "cell_type": "code",
   "execution_count": 1,
   "id": "5a75c321",
   "metadata": {},
   "outputs": [
    {
     "data": {
      "text/plain": [
       "27"
      ]
     },
     "execution_count": 1,
     "metadata": {},
     "output_type": "execute_result"
    }
   ],
   "source": [
    "27 & 31"
   ]
  },
  {
   "cell_type": "code",
   "execution_count": 2,
   "id": "65be08c4",
   "metadata": {},
   "outputs": [
    {
     "data": {
      "text/plain": [
       "31"
      ]
     },
     "execution_count": 2,
     "metadata": {},
     "output_type": "execute_result"
    }
   ],
   "source": [
    "27 | 31"
   ]
  },
  {
   "cell_type": "code",
   "execution_count": 1,
   "id": "1bf16519",
   "metadata": {},
   "outputs": [
    {
     "data": {
      "text/plain": [
       "65"
      ]
     },
     "execution_count": 1,
     "metadata": {},
     "output_type": "execute_result"
    }
   ],
   "source": [
    "ord('A')"
   ]
  },
  {
   "cell_type": "code",
   "execution_count": 2,
   "id": "32e39302",
   "metadata": {
    "scrolled": true
   },
   "outputs": [
    {
     "data": {
      "text/plain": [
       "97"
      ]
     },
     "execution_count": 2,
     "metadata": {},
     "output_type": "execute_result"
    }
   ],
   "source": [
    "ord('a')"
   ]
  },
  {
   "cell_type": "code",
   "execution_count": 3,
   "id": "145b2022",
   "metadata": {},
   "outputs": [
    {
     "data": {
      "text/plain": [
       "True"
      ]
     },
     "execution_count": 3,
     "metadata": {},
     "output_type": "execute_result"
    }
   ],
   "source": [
    "'a'>'A'"
   ]
  },
  {
   "cell_type": "code",
   "execution_count": 4,
   "id": "a25e444e",
   "metadata": {},
   "outputs": [],
   "source": [
    "a=40\n",
    "b=30\n",
    "x= True and 35\n"
   ]
  },
  {
   "cell_type": "code",
   "execution_count": 5,
   "id": "17aca47d",
   "metadata": {},
   "outputs": [
    {
     "data": {
      "text/plain": [
       "35"
      ]
     },
     "execution_count": 5,
     "metadata": {},
     "output_type": "execute_result"
    }
   ],
   "source": [
    "x"
   ]
  },
  {
   "cell_type": "code",
   "execution_count": null,
   "id": "17eb1b05",
   "metadata": {},
   "outputs": [],
   "source": [
    "y=False and 35\n"
   ]
  },
  {
   "cell_type": "code",
   "execution_count": 6,
   "id": "e2ebafcc",
   "metadata": {},
   "outputs": [
    {
     "data": {
      "text/plain": [
       "1"
      ]
     },
     "execution_count": 6,
     "metadata": {},
     "output_type": "execute_result"
    }
   ],
   "source": [
    "a=5\n",
    "a>>2"
   ]
  },
  {
   "cell_type": "code",
   "execution_count": 7,
   "id": "9e551e84",
   "metadata": {},
   "outputs": [
    {
     "data": {
      "text/plain": [
       "20"
      ]
     },
     "execution_count": 7,
     "metadata": {},
     "output_type": "execute_result"
    }
   ],
   "source": [
    "a<<2"
   ]
  },
  {
   "cell_type": "code",
   "execution_count": 8,
   "id": "8371c170",
   "metadata": {},
   "outputs": [
    {
     "data": {
      "text/plain": [
       "1"
      ]
     },
     "execution_count": 8,
     "metadata": {},
     "output_type": "execute_result"
    }
   ],
   "source": [
    "a=5\n",
    "a>>2"
   ]
  },
  {
   "cell_type": "code",
   "execution_count": 13,
   "id": "9bcd2306",
   "metadata": {},
   "outputs": [
    {
     "data": {
      "text/plain": [
       "231"
      ]
     },
     "execution_count": 13,
     "metadata": {},
     "output_type": "execute_result"
    }
   ],
   "source": [
    "a=28\n",
    "(a>>2)+(a<<3)"
   ]
  },
  {
   "cell_type": "code",
   "execution_count": 11,
   "id": "43e2b058",
   "metadata": {},
   "outputs": [
    {
     "data": {
      "text/plain": [
       "224"
      ]
     },
     "execution_count": 11,
     "metadata": {},
     "output_type": "execute_result"
    }
   ],
   "source": [
    "a<<3"
   ]
  },
  {
   "cell_type": "code",
   "execution_count": 12,
   "id": "3ece92ac",
   "metadata": {},
   "outputs": [
    {
     "data": {
      "text/plain": [
       "7"
      ]
     },
     "execution_count": 12,
     "metadata": {},
     "output_type": "execute_result"
    }
   ],
   "source": [
    "a>>2"
   ]
  },
  {
   "cell_type": "code",
   "execution_count": 15,
   "id": "69ad6c00",
   "metadata": {},
   "outputs": [
    {
     "data": {
      "text/plain": [
       "0"
      ]
     },
     "execution_count": 15,
     "metadata": {},
     "output_type": "execute_result"
    }
   ],
   "source": [
    "\n",
    "0<<3"
   ]
  },
  {
   "cell_type": "code",
   "execution_count": 14,
   "id": "1b266ff2",
   "metadata": {},
   "outputs": [
    {
     "data": {
      "text/plain": [
       "0"
      ]
     },
     "execution_count": 14,
     "metadata": {},
     "output_type": "execute_result"
    }
   ],
   "source": [
    "28>>30"
   ]
  },
  {
   "cell_type": "code",
   "execution_count": 16,
   "id": "2fc75648",
   "metadata": {},
   "outputs": [
    {
     "data": {
      "text/plain": [
       "-6"
      ]
     },
     "execution_count": 16,
     "metadata": {},
     "output_type": "execute_result"
    }
   ],
   "source": [
    "~5"
   ]
  },
  {
   "cell_type": "code",
   "execution_count": null,
   "id": "15fff012",
   "metadata": {},
   "outputs": [],
   "source": []
  }
 ],
 "metadata": {
  "kernelspec": {
   "display_name": "Python 3 (ipykernel)",
   "language": "python",
   "name": "python3"
  },
  "language_info": {
   "codemirror_mode": {
    "name": "ipython",
    "version": 3
   },
   "file_extension": ".py",
   "mimetype": "text/x-python",
   "name": "python",
   "nbconvert_exporter": "python",
   "pygments_lexer": "ipython3",
   "version": "3.11.5"
  }
 },
 "nbformat": 4,
 "nbformat_minor": 5
}
