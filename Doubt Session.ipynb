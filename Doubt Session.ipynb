{
 "cells": [
  {
   "cell_type": "code",
   "execution_count": 5,
   "id": "bc502a3b",
   "metadata": {},
   "outputs": [
    {
     "data": {
      "text/plain": [
       "'hello Sachin7878012779'"
      ]
     },
     "execution_count": 5,
     "metadata": {},
     "output_type": "execute_result"
    }
   ],
   "source": [
    "name='Sachin'\n",
    "'hello'+' '+name+ '7878012779'"
   ]
  },
  {
   "cell_type": "code",
   "execution_count": 10,
   "id": "45119bcb",
   "metadata": {},
   "outputs": [
    {
     "name": "stdout",
     "output_type": "stream",
     "text": [
      "\n",
      "Dear  sachin\n",
      "\n",
      "welcome to Grras Solution . you are Successfully Enrolled in Python web Development.\n",
      "\n",
      "Course Duration is 3 months\n",
      "\n",
      "With Regards\n",
      "Team Grras\n",
      "\n",
      "\n"
     ]
    }
   ],
   "source": [
    "name='sachin'\n",
    "course='Python web Development'\n",
    "Duration ='3 months'\n",
    "a=f'''\n",
    "Dear  {name}\n",
    "\n",
    "welcome to Grras Solution . you are Successfully Enrolled in {course}.\n",
    "\n",
    "Course Duration is {Duration}\n",
    "\n",
    "With Regards\n",
    "Team Grras\n",
    "\n",
    "'''\n",
    "print(a)"
   ]
  },
  {
   "cell_type": "code",
   "execution_count": 12,
   "id": "5184f6f8",
   "metadata": {},
   "outputs": [
    {
     "name": "stdout",
     "output_type": "stream",
     "text": [
      "\n",
      "Dear  sachin\n",
      "\n",
      "welcome to Grras Solution . you are Successfully Enrolled in Python web Development.\n",
      "\n",
      "Course Duration is 3 months\n",
      "\n",
      "With Regards\n",
      "Team Grras\n",
      "7878012779\n",
      "\n",
      "\n"
     ]
    }
   ],
   "source": [
    "name='sachin'\n",
    "course='Python web Development'\n",
    "Duration ='3 months'\n",
    "contact=7878012779\n",
    "a='''\n",
    "Dear  {}\n",
    "\n",
    "welcome to Grras Solution . you are Successfully Enrolled in {}.\n",
    "\n",
    "Course Duration is {}\n",
    "\n",
    "With Regards\n",
    "Team Grras\n",
    "{}\n",
    "\n",
    "'''.format(name,course,Duration,contact)\n",
    "print(a)"
   ]
  },
  {
   "cell_type": "code",
   "execution_count": 20,
   "id": "21495b28",
   "metadata": {},
   "outputs": [],
   "source": [
    "s='and'"
   ]
  },
  {
   "cell_type": "code",
   "execution_count": 21,
   "id": "85bf698d",
   "metadata": {},
   "outputs": [
    {
     "data": {
      "text/plain": [
       "'and'"
      ]
     },
     "execution_count": 21,
     "metadata": {},
     "output_type": "execute_result"
    }
   ],
   "source": [
    "s.replace(' and ','')"
   ]
  },
  {
   "cell_type": "code",
   "execution_count": 5,
   "id": "bc6136b8",
   "metadata": {},
   "outputs": [],
   "source": [
    "a=\"\"\"THE VICE PRESIDENT:  Madam Ambassador, thanks for putting together a crowd for us.  (Laughter.) \\nFolks, \n",
    "I’m delighted to be here and happy to be back with so many distinguished people.  And I mean that sincerely.  Many of you\n",
    "know as much or more about the subjects I’m going to speak to than I do, including -- is Elizabeth Blackburn here?  \n",
    "Elizabeth, a Nobel Laureate, who found the BRCA gene.  As that old saying goes, she’s forgotten more about this than I’m \n",
    "going to know.\\nBut, folks, I’m happy to be back here at the World Economic Forum at Davos to talk about the fight against\n",
    "cancer.  And I’m accompanied by Greg Simon, who is Executive Director of administration’s Cancer Moonshot and who will lead\n",
    "my Biden Cancer Initiative that I’ll launch after we leave office, which is in about 48 hours.  (Laughter.)  I hope I have\n",
    "a ride home.  (Laughter.)  I’ll talk about in a few moments.\\nBut, Greg, where are you?  Greg has had a great deal of \n",
    "experience in this area and he’s led the initiative the last year for the President and me. Last year, I arrived at the \n",
    "forum a few days after President Obama delivered his final State of the Union Address, where he announced, quite frankly to\n",
    "my surprise, that he was putting me in charge of a national Cancer Moonshot to double the rate of progress in preventing, \n",
    "diagnosing and treating cancer.\\nAnd I was not only genuinely surprised by the announcement, I was genuinely surprised by\n",
    "the response that I got both at home and abroad.  Here at Davos I was scheduled -- Klaus had asked me to deliver the \n",
    "keynote address on the promise and perils of the Fourth Industrial Revolution, and to participate in a few bilateral\n",
    "meetings over the remaining days.But given the overwhelming interest in the Cancer Moonshot, the forum asked  me if I \n",
    "could quickly convene a roundtable of cancer experts, among whom Elizabeth was one of them, to discuss where we are and\n",
    "where we need to go in the fight against cancer.\\n\\nAnd so I did on a few days notice we put together such a roundtable\n",
    "and it kicked off what for me was a year-long journey that’s taken me literally around the world meeting with the best\n",
    "cancer researchers, doctors, nurses, and patients, as well as philanthropists, heads of state -- they've all been part of\n",
    "it. \\n\\nBut I’m back here today to outline how far we’ve come and what -- at least from our perspective -- what path we \n",
    "should chart moving forward.\\n\\nAnd let me start with where we believe we are.  When we announced the Cancer Moonshot, \n",
    "I knew there would be a lot of skeptics out there who’d say, “well, here we go again. Haven’t we done this before?”  \n",
    "\\n\\nPresident Nixon, when he declared War on Cancer in 1971, he was earnest and sincere and very committed.  But what\n",
    "makes the difference between then and now is -- the single big difference is that he had no army.  He had no resources.\n",
    "He had no weapons.  He had no strategy to win.  \\n\\nBut after 45 years with many of you in this room doing incredible work,\n",
    "45 years of progress, after decades of funding research, training scientists and physicians, treating millions of patients,\n",
    "we now have an army.  We now have powerful new technologies and tools, like:  Immunotherapy that -- by the way, even six, \n",
    "eight, 10 years ago was viewed kind of as a voodoo science out there.  It wasn’t really an integral part of this fight -- \n",
    "that makes cancer cells visible to the immune system so our natural defenses can destroy the cancer. \\n\\nSurgeons are using\n",
    "cutting-edge robotics to allow for more precise imaging to find the cancer and more precisely surgically remove the cancer \n",
    "in hard-to-reach areas.\\n\\nLiquid biopsies that find early signs of cancer in the blood and tell you whether or not you \n",
    "have a particular cancer.    \\n\\nThese advances and many others provide hope that more precise medicines and diagnostics\n",
    "might greatly improve and detect and defeat cancer.  \\n\\nBut on so many levels, we’ve now reached an inflection point. \n",
    "When the system was set up before, we thought there was basically only one cancer in different parts of the body.  We’ve\n",
    "now learned there are over 200 specific kinds of cancers.\\n\\nAfter decades we thought we could tackle cancer one discipline\n",
    "at a time.  But thats not how cancer operates.  Cancer uses every tool at its disposal -- it hides from the immune system, \n",
    "it builds it own blood supply system, it uses viruses to spread, it engineers a friendlier environment, a cellular \n",
    "environment in which to survive.\\n\\nAnd it knows how to spread through the body using pathways and mutations we don’t \n",
    "understand fully yet.  And cancer never gives up, it never surrenders.  That's why we have to use every discipline cancer\n",
    "does, and that's what we’re starting to in a way that's only really begun in the last five or six, seven years.\\n\\nFive\n",
    "years ago as I said, oncologists weren’t routinely working closely with immunologists, virologists, geneticists, chemical\n",
    "and biological engineers.  And now they are. \\n\\nImmunotherapies are finding the keys to making cancer cells visible and \n",
    "targeting them.  Virologist are now working on vaccines to prevent and treat cancers. Geneticists are cataloging mutations\n",
    "that drive cancers.  And chemical and biological engineers are helping engineer environments hostile to cancer.  \n",
    "And they’re all working together.\\n\\nLike many of you, I decided to become acquainted with this after someone close to\n",
    "me in my family was diagnosed.  You tend to try to learn everything you possibly can once that occurs.  And I knew little \n",
    "about the discipline.  And like I said, what impressed me was that so much of this is really very brand new in terms of the\n",
    "collaboration.\"\"\""
   ]
  },
  {
   "cell_type": "code",
   "execution_count": 6,
   "id": "f69b0775",
   "metadata": {},
   "outputs": [],
   "source": [
    "l=[\"and\",\"a\",\"the\",\"in\",\"of\",\"is\",\"on\",\"did\",\"to\",\"at\",'\\n']\n",
    "a=a.replace(',','')\n",
    "a=a.replace('.','')\n",
    "a=a.split(' ')\n",
    "b=[]\n",
    "for i in a:\n",
    "    if i in l:\n",
    "        continue\n",
    "    b.append(i)\n",
    "\n",
    "b=' '.join(b)"
   ]
  },
  {
   "cell_type": "code",
   "execution_count": 7,
   "id": "77bb847a",
   "metadata": {},
   "outputs": [
    {
     "name": "stdout",
     "output_type": "stream",
     "text": [
      "THE VICE PRESIDENT:  Madam Ambassador thanks for putting together crowd for us  (Laughter) \n",
      "Folks \n",
      "I’m delighted be here happy be back with so many distinguished people  And I mean that sincerely  Many you\n",
      "know as much or more about subjects I’m going speak than I do including -- Elizabeth Blackburn here?  \n",
      "Elizabeth Nobel Laureate who found BRCA gene  As that old saying goes she’s forgotten more about this than I’m \n",
      "going know\n",
      "But folks I’m happy be back here World Economic Forum Davos talk about fight against\n",
      "cancer  And I’m accompanied by Greg Simon who Executive Director administration’s Cancer Moonshot who will lead\n",
      "my Biden Cancer Initiative that I’ll launch after we leave office which about 48 hours  (Laughter)  I hope I have\n",
      "a ride home  (Laughter)  I’ll talk about few moments\n",
      "But Greg where are you?  Greg has had great deal \n",
      "experience this area he’s led initiative last year for President me Last year I arrived \n",
      "forum few days after President Obama delivered his final State Union Address where he announced quite frankly to\n",
      "my surprise that he was putting me charge national Cancer Moonshot double rate progress preventing \n",
      "diagnosing treating cancer\n",
      "And I was not only genuinely surprised by announcement I was genuinely surprised by\n",
      "the response that I got both home abroad  Here Davos I was scheduled -- Klaus had asked me deliver \n",
      "keynote address promise perils Fourth Industrial Revolution participate few bilateral\n",
      "meetings over remaining daysBut given overwhelming interest Cancer Moonshot forum asked  me if I \n",
      "could quickly convene roundtable cancer experts among whom Elizabeth was one them discuss where we are and\n",
      "where we need go fight against cancer\n",
      "\n",
      "And so I few days notice we put together such roundtable\n",
      "and it kicked off what for me was year-long journey that’s taken me literally around world meeting with best\n",
      "cancer researchers doctors nurses patients as well as philanthropists heads state -- they've all been part of\n",
      "it \n",
      "\n",
      "But I’m back here today outline how far we’ve come what -- least from our perspective -- what path we \n",
      "should chart moving forward\n",
      "\n",
      "And let me start with where we believe we are  When we announced Cancer Moonshot \n",
      "I knew there would be lot skeptics out there who’d say “well here we go again Haven’t we done this before?”  \n",
      "\n",
      "\n",
      "President Nixon when he declared War Cancer 1971 he was earnest sincere very committed  But what\n",
      "makes difference between then now -- single big difference that he had no army  He had no resources\n",
      "He had no weapons  He had no strategy win  \n",
      "\n",
      "But after 45 years with many you this room doing incredible work\n",
      "45 years progress after decades funding research training scientists physicians treating millions patients\n",
      "we now have an army  We now have powerful new technologies tools like:  Immunotherapy that -- by way even six \n",
      "eight 10 years ago was viewed kind as voodoo science out there  It wasn’t really an integral part this fight -- \n",
      "that makes cancer cells visible immune system so our natural defenses can destroy cancer \n",
      "\n",
      "Surgeons are using\n",
      "cutting-edge robotics allow for more precise imaging find cancer more precisely surgically remove cancer \n",
      "in hard-to-reach areas\n",
      "\n",
      "Liquid biopsies that find early signs cancer blood tell you whether or not you \n",
      "have particular cancer    \n",
      "\n",
      "These advances many others provide hope that more precise medicines diagnostics\n",
      "might greatly improve detect defeat cancer  \n",
      "\n",
      "But so many levels we’ve now reached an inflection point \n",
      "When system was set up before we thought there was basically only one cancer different parts body  We’ve\n",
      "now learned there are over 200 specific kinds cancers\n",
      "\n",
      "After decades we thought we could tackle cancer one discipline\n",
      "at time  But thats not how cancer operates  Cancer uses every tool its disposal -- it hides from immune system \n",
      "it builds it own blood supply system it uses viruses spread it engineers friendlier environment cellular \n",
      "environment which survive\n",
      "\n",
      "And it knows how spread through body using pathways mutations we don’t \n",
      "understand fully yet  And cancer never gives up it never surrenders  That's why we have use every discipline cancer\n",
      "does that's what we’re starting way that's only really begun last five or six seven years\n",
      "\n",
      "Five\n",
      "years ago as I said oncologists weren’t routinely working closely with immunologists virologists geneticists chemical\n",
      "and biological engineers  And now they are \n",
      "\n",
      "Immunotherapies are finding keys making cancer cells visible \n",
      "targeting them  Virologist are now working vaccines prevent treat cancers Geneticists are cataloging mutations\n",
      "that drive cancers  And chemical biological engineers are helping engineer environments hostile cancer  \n",
      "And they’re all working together\n",
      "\n",
      "Like many you I decided become acquainted with this after someone close to\n",
      "me my family was diagnosed  You tend try learn everything you possibly can once that occurs  And I knew little \n",
      "about discipline  And like I said what impressed me was that so much this really very brand new terms the\n",
      "collaboration\n"
     ]
    }
   ],
   "source": [
    "print(b)"
   ]
  },
  {
   "cell_type": "code",
   "execution_count": 57,
   "id": "f45b6277",
   "metadata": {},
   "outputs": [
    {
     "name": "stdout",
     "output_type": "stream",
     "text": [
      "folks\n"
     ]
    }
   ],
   "source": [
    "s='folks,'\n",
    "if s.endswith(','):\n",
    "    print(s[:-1])\n"
   ]
  },
  {
   "cell_type": "code",
   "execution_count": 4,
   "id": "1735495e",
   "metadata": {},
   "outputs": [
    {
     "name": "stdout",
     "output_type": "stream",
     "text": [
      "Hello 0\n",
      "Hello 1\n",
      "Hello 2\n",
      "bye\n"
     ]
    }
   ],
   "source": [
    "i=0\n",
    "while i<5:\n",
    "    if i==3:\n",
    "        break\n",
    "    print('Hello',i)\n",
    "    i+=1    \n",
    "print('bye')\n"
   ]
  },
  {
   "cell_type": "code",
   "execution_count": 6,
   "id": "6f210c11",
   "metadata": {},
   "outputs": [],
   "source": [
    "if True :\n",
    "    pass"
   ]
  },
  {
   "cell_type": "code",
   "execution_count": 1,
   "id": "9476d415",
   "metadata": {},
   "outputs": [
    {
     "name": "stdout",
     "output_type": "stream",
     "text": [
      "Hello\n",
      "Bye\n"
     ]
    }
   ],
   "source": [
    "print('Hello')\n",
    "pass\n",
    "print('Bye')\n",
    "    "
   ]
  },
  {
   "cell_type": "code",
   "execution_count": 4,
   "id": "a06f848e",
   "metadata": {},
   "outputs": [],
   "source": [
    "for i in range(0,5):\n",
    "    pass"
   ]
  },
  {
   "cell_type": "code",
   "execution_count": 6,
   "id": "c1bafe2f",
   "metadata": {},
   "outputs": [
    {
     "name": "stdout",
     "output_type": "stream",
     "text": [
      "Bye 0\n",
      "Hello 0\n",
      "hi 0\n",
      "Bye 1\n",
      "Hello 1\n",
      "hi 1\n",
      "Bye 2\n",
      "Hello 2\n",
      "hi 2\n",
      "Bye 3\n",
      "Bye 4\n",
      "Hello 4\n",
      "hi 4\n",
      "Bye 5\n",
      "Hello 5\n",
      "hi 5\n",
      "Bye 6\n",
      "Hello 6\n",
      "hi 6\n",
      "Bye 7\n",
      "Hello 7\n",
      "hi 7\n",
      "Bye 8\n",
      "Hello 8\n",
      "hi 8\n",
      "Bye 9\n",
      "Hello 9\n",
      "hi 9\n"
     ]
    }
   ],
   "source": [
    "for i in range(0,10):\n",
    "    print('Bye',i)\n",
    "    if i==3:\n",
    "        continue\n",
    "    print('Hello',i)\n",
    "    print('hi',i)\n",
    "    "
   ]
  },
  {
   "cell_type": "code",
   "execution_count": 1,
   "id": "febe71d4",
   "metadata": {},
   "outputs": [
    {
     "name": "stdout",
     "output_type": "stream",
     "text": [
      "hello 0\n",
      "hello 1\n",
      "hello 2\n"
     ]
    },
    {
     "name": "stderr",
     "output_type": "stream",
     "text": [
      "\n",
      "KeyboardInterrupt\n",
      "\n"
     ]
    }
   ],
   "source": [
    "i=0\n",
    "while i<5:\n",
    "    if i==3:\n",
    "        continue\n",
    "    print('hello',i)\n",
    "    i+=1"
   ]
  },
  {
   "cell_type": "code",
   "execution_count": null,
   "id": "045e068f",
   "metadata": {},
   "outputs": [],
   "source": [
    "*\n",
    "* *\n",
    "* * *\n",
    "* * * *\n",
    "* * * * *"
   ]
  },
  {
   "cell_type": "code",
   "execution_count": 1,
   "id": "371914ab",
   "metadata": {},
   "outputs": [
    {
     "name": "stdout",
     "output_type": "stream",
     "text": [
      "*    \n",
      "**   \n",
      "***  \n",
      "**** \n",
      "*****\n"
     ]
    }
   ],
   "source": [
    "# for row\n",
    "for i in range(0,5):\n",
    "    # for column\n",
    "    for j in range(0,5):\n",
    "        if i>=j:\n",
    "            print('*',end='')\n",
    "        else:\n",
    "            print(' ',end='')\n",
    "    print('')\n"
   ]
  },
  {
   "cell_type": "code",
   "execution_count": null,
   "id": "c710bd1c",
   "metadata": {},
   "outputs": [],
   "source": []
  }
 ],
 "metadata": {
  "kernelspec": {
   "display_name": "Python 3 (ipykernel)",
   "language": "python",
   "name": "python3"
  },
  "language_info": {
   "codemirror_mode": {
    "name": "ipython",
    "version": 3
   },
   "file_extension": ".py",
   "mimetype": "text/x-python",
   "name": "python",
   "nbconvert_exporter": "python",
   "pygments_lexer": "ipython3",
   "version": "3.11.5"
  }
 },
 "nbformat": 4,
 "nbformat_minor": 5
}
