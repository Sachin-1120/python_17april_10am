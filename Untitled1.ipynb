{
 "cells": [
  {
   "cell_type": "code",
   "execution_count": 1,
   "id": "6a9b6e14",
   "metadata": {
    "scrolled": true
   },
   "outputs": [
    {
     "data": {
      "text/plain": [
       "[1, 4, 27, 125, 343, 16, 27]"
      ]
     },
     "execution_count": 1,
     "metadata": {},
     "output_type": "execute_result"
    }
   ],
   "source": [
    "def func1(*a):\n",
    "    b=[]\n",
    "    for i in a:\n",
    "        b.append(lam(i))\n",
    "    return b\n",
    "lam=lambda i:i**2 if i%2==0 else i**3\n",
    "func1(1,2,3,5,7,4,3)"
   ]
  },
  {
   "cell_type": "code",
   "execution_count": 15,
   "id": "314c42a8",
   "metadata": {},
   "outputs": [],
   "source": [
    "d={\n",
    "    'a':100,\n",
    "    'b':10,\n",
    "    'd':340,\n",
    "    'c':340    \n",
    "}"
   ]
  },
  {
   "cell_type": "code",
   "execution_count": 6,
   "id": "b52c9d3e",
   "metadata": {},
   "outputs": [
    {
     "data": {
      "text/plain": [
       "'d'"
      ]
     },
     "execution_count": 6,
     "metadata": {},
     "output_type": "execute_result"
    }
   ],
   "source": [
    "max(d,key=lambda i:d[i] )"
   ]
  },
  {
   "cell_type": "code",
   "execution_count": 7,
   "id": "37bb1ceb",
   "metadata": {},
   "outputs": [
    {
     "data": {
      "text/plain": [
       "'a'"
      ]
     },
     "execution_count": 7,
     "metadata": {},
     "output_type": "execute_result"
    }
   ],
   "source": [
    "min(d,key=lambda i:d[i] )"
   ]
  },
  {
   "cell_type": "code",
   "execution_count": 16,
   "id": "cfb1060f",
   "metadata": {},
   "outputs": [
    {
     "data": {
      "text/plain": [
       "['b', 'a', 'd', 'c']"
      ]
     },
     "execution_count": 16,
     "metadata": {},
     "output_type": "execute_result"
    }
   ],
   "source": [
    "sorted(d,key=lambda i:d[i])"
   ]
  },
  {
   "cell_type": "code",
   "execution_count": 9,
   "id": "23fa0a28",
   "metadata": {},
   "outputs": [
    {
     "name": "stdout",
     "output_type": "stream",
     "text": [
      "a\n",
      "b\n",
      "c\n",
      "d\n"
     ]
    }
   ],
   "source": [
    "for i in d:\n",
    "    print(i)"
   ]
  },
  {
   "cell_type": "code",
   "execution_count": null,
   "id": "ff51f842",
   "metadata": {},
   "outputs": [],
   "source": []
  }
 ],
 "metadata": {
  "kernelspec": {
   "display_name": "Python 3 (ipykernel)",
   "language": "python",
   "name": "python3"
  },
  "language_info": {
   "codemirror_mode": {
    "name": "ipython",
    "version": 3
   },
   "file_extension": ".py",
   "mimetype": "text/x-python",
   "name": "python",
   "nbconvert_exporter": "python",
   "pygments_lexer": "ipython3",
   "version": "3.11.5"
  }
 },
 "nbformat": 4,
 "nbformat_minor": 5
}
