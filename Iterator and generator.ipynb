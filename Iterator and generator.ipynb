{
 "cells": [
  {
   "cell_type": "code",
   "execution_count": 2,
   "id": "3708f8cd",
   "metadata": {},
   "outputs": [
    {
     "name": "stdout",
     "output_type": "stream",
     "text": [
      "1\n",
      "2\n",
      "3\n",
      "4\n",
      "5\n",
      "6\n"
     ]
    }
   ],
   "source": [
    "l=[1,2,3,4,5,6]\n",
    "for i in l:\n",
    "    print(i)"
   ]
  },
  {
   "cell_type": "code",
   "execution_count": 21,
   "id": "2c5acaa7",
   "metadata": {},
   "outputs": [],
   "source": [
    "# iter()\n",
    "l=iter([1,2,3,4,5])"
   ]
  },
  {
   "cell_type": "code",
   "execution_count": 10,
   "id": "cf854675",
   "metadata": {},
   "outputs": [
    {
     "data": {
      "text/plain": [
       "<list_iterator at 0x22ac73a25c0>"
      ]
     },
     "execution_count": 10,
     "metadata": {},
     "output_type": "execute_result"
    }
   ],
   "source": [
    "l"
   ]
  },
  {
   "cell_type": "code",
   "execution_count": 12,
   "id": "e3a250a2",
   "metadata": {},
   "outputs": [
    {
     "data": {
      "text/plain": [
       "1"
      ]
     },
     "execution_count": 12,
     "metadata": {},
     "output_type": "execute_result"
    }
   ],
   "source": [
    "l.__next__()"
   ]
  },
  {
   "cell_type": "code",
   "execution_count": 16,
   "id": "2c91671a",
   "metadata": {},
   "outputs": [
    {
     "data": {
      "text/plain": [
       "5"
      ]
     },
     "execution_count": 16,
     "metadata": {},
     "output_type": "execute_result"
    }
   ],
   "source": [
    "l.__next__()"
   ]
  },
  {
   "cell_type": "code",
   "execution_count": 20,
   "id": "1b346be2",
   "metadata": {},
   "outputs": [
    {
     "data": {
      "text/plain": [
       "3"
      ]
     },
     "execution_count": 20,
     "metadata": {},
     "output_type": "execute_result"
    }
   ],
   "source": [
    "next(l)"
   ]
  },
  {
   "cell_type": "code",
   "execution_count": 22,
   "id": "964bb5b9",
   "metadata": {},
   "outputs": [
    {
     "name": "stdout",
     "output_type": "stream",
     "text": [
      "1\n",
      "2\n",
      "3\n",
      "4\n",
      "5\n"
     ]
    }
   ],
   "source": [
    "for i in l:\n",
    "    print(i)"
   ]
  },
  {
   "cell_type": "code",
   "execution_count": 25,
   "id": "b71ca69c",
   "metadata": {},
   "outputs": [
    {
     "name": "stdout",
     "output_type": "stream",
     "text": [
      "1\n",
      "before loop\n",
      "2\n",
      "3\n",
      "4\n",
      "7\n",
      "5\n",
      "6\n"
     ]
    }
   ],
   "source": [
    "a=(1,2,3,4,7,5,6)\n",
    "a=iter(a)\n",
    "print(next(a))\n",
    "print('before loop')\n",
    "for i in a:\n",
    "    print(i)"
   ]
  },
  {
   "cell_type": "code",
   "execution_count": 27,
   "id": "5623f54e",
   "metadata": {},
   "outputs": [
    {
     "name": "stdout",
     "output_type": "stream",
     "text": [
      "1 2 3 4 7 5 6\n"
     ]
    }
   ],
   "source": [
    "a=(1,2,3,4,7,5,6)\n",
    "a=iter(a)\n",
    "print(*a)"
   ]
  },
  {
   "cell_type": "code",
   "execution_count": 29,
   "id": "a31942f4",
   "metadata": {},
   "outputs": [
    {
     "data": {
      "text/plain": [
       "'Sachin'"
      ]
     },
     "execution_count": 29,
     "metadata": {},
     "output_type": "execute_result"
    }
   ],
   "source": [
    "def print_alpha():\n",
    "    return 'Sachin'\n",
    "    print('hello')\n",
    "    return 'hi'\n",
    "print_alpha()"
   ]
  },
  {
   "cell_type": "code",
   "execution_count": 48,
   "id": "39066a77",
   "metadata": {},
   "outputs": [],
   "source": [
    "def palindrome(*a):\n",
    "    for i in a:\n",
    "        if i==i[::-1]:\n",
    "            yield f'{i} is  Palindrome'\n",
    "        else :\n",
    "            yield  f'{i} is  Not Palindrome'\n",
    "a=palindrome('sachin','ravi','simran','121','Madam')"
   ]
  },
  {
   "cell_type": "code",
   "execution_count": 49,
   "id": "89c7f4e4",
   "metadata": {},
   "outputs": [
    {
     "name": "stdout",
     "output_type": "stream",
     "text": [
      "sachin is  Not Palindrome\n",
      "ravi is  Not Palindrome\n",
      "simran is  Not Palindrome\n",
      "121 is  Palindrome\n",
      "Madam is  Not Palindrome\n"
     ]
    }
   ],
   "source": [
    "for i in a:\n",
    "    print(i)"
   ]
  },
  {
   "cell_type": "code",
   "execution_count": 42,
   "id": "b1949928",
   "metadata": {},
   "outputs": [
    {
     "ename": "SyntaxError",
     "evalue": "invalid syntax (1242815251.py, line 1)",
     "output_type": "error",
     "traceback": [
      "\u001b[1;36m  Cell \u001b[1;32mIn[42], line 1\u001b[1;36m\u001b[0m\n\u001b[1;33m    Palindrome Check for numbers\u001b[0m\n\u001b[1;37m               ^\u001b[0m\n\u001b[1;31mSyntaxError\u001b[0m\u001b[1;31m:\u001b[0m invalid syntax\n"
     ]
    }
   ],
   "source": [
    "Palindrome Check for numbers \n",
    "\n",
    "\n",
    "(1,2,,34,4354,6576,78,45,34)\n"
   ]
  },
  {
   "cell_type": "code",
   "execution_count": 43,
   "id": "d57315bc",
   "metadata": {},
   "outputs": [
    {
     "data": {
      "text/plain": [
       "3"
      ]
     },
     "execution_count": 43,
     "metadata": {},
     "output_type": "execute_result"
    }
   ],
   "source": [
    "123%10"
   ]
  },
  {
   "cell_type": "code",
   "execution_count": 44,
   "id": "5d3d54fb",
   "metadata": {},
   "outputs": [
    {
     "data": {
      "text/plain": [
       "32"
      ]
     },
     "execution_count": 44,
     "metadata": {},
     "output_type": "execute_result"
    }
   ],
   "source": [
    "123\n",
    "\n",
    "3*10+2"
   ]
  },
  {
   "cell_type": "code",
   "execution_count": 45,
   "id": "315a29e6",
   "metadata": {},
   "outputs": [
    {
     "data": {
      "text/plain": [
       "321"
      ]
     },
     "execution_count": 45,
     "metadata": {},
     "output_type": "execute_result"
    }
   ],
   "source": [
    "32*10+1"
   ]
  },
  {
   "cell_type": "code",
   "execution_count": 47,
   "id": "9a03f431",
   "metadata": {},
   "outputs": [
    {
     "name": "stdout",
     "output_type": "stream",
     "text": [
      "Not Palindrome\n",
      "palindrome\n",
      "palindrome\n",
      "palindrome\n",
      "Not Palindrome\n",
      "palindrome\n",
      "Not Palindrome\n"
     ]
    }
   ],
   "source": [
    "def palindrome(*a):\n",
    "    for i in a:\n",
    "        k=i\n",
    "        sum_i=0\n",
    "        while k!=0:\n",
    "            sum_i=sum_i*10+k%10\n",
    "            k=k//10\n",
    "        if sum_i==i:\n",
    "            yield 'palindrome'\n",
    "        else :\n",
    "            yield 'Not Palindrome'\n",
    "a=palindrome(12,3,22,121,43,454,67)\n",
    "for i in a:\n",
    "    print(i)"
   ]
  },
  {
   "cell_type": "code",
   "execution_count": 54,
   "id": "1bc2a9f6",
   "metadata": {},
   "outputs": [],
   "source": [
    "def updated_palindrome(func):\n",
    "    def inner(*a):\n",
    "        b=[]\n",
    "        for i in a:\n",
    "            b.append(i.lower())\n",
    "        return func(*b)\n",
    "    return inner\n",
    "@updated_palindrome\n",
    "def palindrome(*a):\n",
    "    for i in a:\n",
    "        if i==i[::-1]:\n",
    "            yield f'{i} is  Palindrome'\n",
    "        else :\n",
    "            yield  f'{i} is  Not Palindrome'\n",
    "a=palindrome('sachin','ravi','simran','121','Madam')"
   ]
  },
  {
   "cell_type": "code",
   "execution_count": 55,
   "id": "b9819ace",
   "metadata": {},
   "outputs": [
    {
     "name": "stdout",
     "output_type": "stream",
     "text": [
      "sachin is  Not Palindrome\n",
      "ravi is  Not Palindrome\n",
      "simran is  Not Palindrome\n",
      "121 is  Palindrome\n",
      "madam is  Palindrome\n"
     ]
    }
   ],
   "source": [
    "for i in a:\n",
    "    print(i)"
   ]
  },
  {
   "cell_type": "markdown",
   "id": "0cc4675c",
   "metadata": {},
   "source": [
    "## fromkeys"
   ]
  },
  {
   "cell_type": "code",
   "execution_count": 57,
   "id": "196604c4",
   "metadata": {},
   "outputs": [
    {
     "data": {
      "text/plain": [
       "{'s1': 100, 's2': 100, 's3': 100, 's4': 100}"
      ]
     },
     "execution_count": 57,
     "metadata": {},
     "output_type": "execute_result"
    }
   ],
   "source": [
    "l=['s1','s2','s3','s4']\n",
    "d={}\n",
    "d.fromkeys(l,100)"
   ]
  },
  {
   "cell_type": "code",
   "execution_count": 69,
   "id": "049f292c",
   "metadata": {},
   "outputs": [],
   "source": [
    "student={\n",
    "    's101':{'name':'sachin',\n",
    "            'contact':7878012779,\n",
    "            'Issued_book':{'name':'the Python','Book_id':'B101' \n",
    "                           ,'Date_of_issue':'2024-06-02'}\n",
    "           \n",
    "           },\n",
    "    's102':{'name':'ravi',\n",
    "            'contact':7878012779,\n",
    "            'Issued_book':{'name':'the Python','Book_id':'B101' \n",
    "                           ,'Date_of_issue':'2024-06-02'}\n",
    "           \n",
    "           }\n",
    "\n",
    "}\n"
   ]
  },
  {
   "cell_type": "code",
   "execution_count": 70,
   "id": "4bb16948",
   "metadata": {},
   "outputs": [],
   "source": [
    "l=['Fine','No_of_days']\n",
    "for i in student.keys():\n",
    "    student[i].update(dict.fromkeys(l,0))"
   ]
  },
  {
   "cell_type": "code",
   "execution_count": 71,
   "id": "c3d2981c",
   "metadata": {},
   "outputs": [
    {
     "data": {
      "text/plain": [
       "{'s101': {'name': 'sachin',\n",
       "  'contact': 7878012779,\n",
       "  'Issued_book': {'name': 'the Python',\n",
       "   'Book_id': 'B101',\n",
       "   'Date_of_issue': '2024-06-02'},\n",
       "  'Fine': 0,\n",
       "  'No_of_days': 0},\n",
       " 's102': {'name': 'ravi',\n",
       "  'contact': 7878012779,\n",
       "  'Issued_book': {'name': 'the Python',\n",
       "   'Book_id': 'B101',\n",
       "   'Date_of_issue': '2024-06-02'},\n",
       "  'Fine': 0,\n",
       "  'No_of_days': 0}}"
      ]
     },
     "execution_count": 71,
     "metadata": {},
     "output_type": "execute_result"
    }
   ],
   "source": [
    "student"
   ]
  },
  {
   "cell_type": "code",
   "execution_count": null,
   "id": "46fffd1f",
   "metadata": {},
   "outputs": [],
   "source": []
  }
 ],
 "metadata": {
  "kernelspec": {
   "display_name": "Python 3 (ipykernel)",
   "language": "python",
   "name": "python3"
  },
  "language_info": {
   "codemirror_mode": {
    "name": "ipython",
    "version": 3
   },
   "file_extension": ".py",
   "mimetype": "text/x-python",
   "name": "python",
   "nbconvert_exporter": "python",
   "pygments_lexer": "ipython3",
   "version": "3.11.5"
  }
 },
 "nbformat": 4,
 "nbformat_minor": 5
}
