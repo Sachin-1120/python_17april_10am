{
 "cells": [
  {
   "cell_type": "code",
   "execution_count": 9,
   "id": "489e6d26",
   "metadata": {},
   "outputs": [],
   "source": [
    "class  A:\n",
    "    def __init__(self,name):\n",
    "        self.name=name\n",
    "    #descructor in python\n",
    "    def __del__(self):\n",
    "        print('Deleting object of A')\n",
    "        del self\n",
    "ob=A('sachin')"
   ]
  },
  {
   "cell_type": "code",
   "execution_count": 10,
   "id": "6ee509d3",
   "metadata": {},
   "outputs": [
    {
     "data": {
      "text/plain": [
       "'sachin'"
      ]
     },
     "execution_count": 10,
     "metadata": {},
     "output_type": "execute_result"
    }
   ],
   "source": [
    "ob.name"
   ]
  },
  {
   "cell_type": "code",
   "execution_count": 6,
   "id": "7a7032d3",
   "metadata": {},
   "outputs": [
    {
     "name": "stdout",
     "output_type": "stream",
     "text": [
      "Deleting object of A\n"
     ]
    }
   ],
   "source": [
    "del ob"
   ]
  },
  {
   "cell_type": "code",
   "execution_count": 7,
   "id": "72c3c4c1",
   "metadata": {},
   "outputs": [
    {
     "ename": "NameError",
     "evalue": "name 'ob' is not defined",
     "output_type": "error",
     "traceback": [
      "\u001b[1;31m---------------------------------------------------------------------------\u001b[0m",
      "\u001b[1;31mNameError\u001b[0m                                 Traceback (most recent call last)",
      "Cell \u001b[1;32mIn[7], line 1\u001b[0m\n\u001b[1;32m----> 1\u001b[0m ob\n",
      "\u001b[1;31mNameError\u001b[0m: name 'ob' is not defined"
     ]
    }
   ],
   "source": [
    "ob"
   ]
  },
  {
   "cell_type": "code",
   "execution_count": null,
   "id": "93aa87e8",
   "metadata": {},
   "outputs": [],
   "source": []
  },
  {
   "cell_type": "code",
   "execution_count": 1,
   "id": "82d48ef8",
   "metadata": {},
   "outputs": [
    {
     "data": {
      "text/plain": [
       "5"
      ]
     },
     "execution_count": 1,
     "metadata": {},
     "output_type": "execute_result"
    }
   ],
   "source": [
    "a=5\n",
    "a"
   ]
  },
  {
   "cell_type": "code",
   "execution_count": 2,
   "id": "97e68a84",
   "metadata": {},
   "outputs": [],
   "source": [
    "del a"
   ]
  },
  {
   "cell_type": "code",
   "execution_count": 3,
   "id": "898c9f72",
   "metadata": {},
   "outputs": [
    {
     "ename": "NameError",
     "evalue": "name 'a' is not defined",
     "output_type": "error",
     "traceback": [
      "\u001b[1;31m---------------------------------------------------------------------------\u001b[0m",
      "\u001b[1;31mNameError\u001b[0m                                 Traceback (most recent call last)",
      "Cell \u001b[1;32mIn[3], line 1\u001b[0m\n\u001b[1;32m----> 1\u001b[0m a\n",
      "\u001b[1;31mNameError\u001b[0m: name 'a' is not defined"
     ]
    }
   ],
   "source": [
    "a"
   ]
  },
  {
   "cell_type": "code",
   "execution_count": 14,
   "id": "330e79c7",
   "metadata": {},
   "outputs": [],
   "source": [
    "# Inheriance\n",
    "'''\n",
    "    1.Single Level Inheritance\n",
    "    2.Multi level Inheritance \n",
    "    3.Multiple Inheritance\n",
    "    4.heirarichal Inheroitance\n",
    "    5.Hybrid Inheritance\n",
    "    \n",
    "    \n",
    "    '''\n",
    "class A:\n",
    "    def print_alpha(self):\n",
    "        print('In A Class')\n",
    "class B(A):\n",
    "    def print_beta(self):\n",
    "        print('In B Class')\n",
    "ob=B()\n",
    "# single level inheritance"
   ]
  },
  {
   "cell_type": "code",
   "execution_count": 15,
   "id": "a18636a0",
   "metadata": {},
   "outputs": [
    {
     "name": "stdout",
     "output_type": "stream",
     "text": [
      "In B Class\n"
     ]
    }
   ],
   "source": [
    "ob.print_beta()"
   ]
  },
  {
   "cell_type": "code",
   "execution_count": 16,
   "id": "aff0c7a4",
   "metadata": {},
   "outputs": [
    {
     "name": "stdout",
     "output_type": "stream",
     "text": [
      "In A Class\n"
     ]
    }
   ],
   "source": [
    "ob.print_alpha()"
   ]
  },
  {
   "cell_type": "code",
   "execution_count": 18,
   "id": "03ab1521",
   "metadata": {},
   "outputs": [
    {
     "name": "stdout",
     "output_type": "stream",
     "text": [
      "['__class__', '__delattr__', '__dict__', '__dir__', '__doc__', '__eq__', '__format__', '__ge__', '__getattribute__', '__getstate__', '__gt__', '__hash__', '__init__', '__init_subclass__', '__le__', '__lt__', '__module__', '__ne__', '__new__', '__reduce__', '__reduce_ex__', '__repr__', '__setattr__', '__sizeof__', '__str__', '__subclasshook__', '__weakref__']\n"
     ]
    }
   ],
   "source": [
    "class A(object):\n",
    "    pass\n",
    "print(dir(A))"
   ]
  },
  {
   "cell_type": "code",
   "execution_count": 20,
   "id": "bfcf0e07",
   "metadata": {},
   "outputs": [],
   "source": [
    "#mro --> method resolution order\n"
   ]
  },
  {
   "cell_type": "code",
   "execution_count": 22,
   "id": "a0de4502",
   "metadata": {},
   "outputs": [
    {
     "data": {
      "text/plain": [
       "(__main__.B, __main__.A, object)"
      ]
     },
     "execution_count": 22,
     "metadata": {},
     "output_type": "execute_result"
    }
   ],
   "source": [
    "class A:\n",
    "    def print_alpha(self):\n",
    "        print('In A Class')\n",
    "class B(A):\n",
    "    def print_beta(self):\n",
    "        print('In B Class')\n",
    "B.__mro__"
   ]
  },
  {
   "cell_type": "code",
   "execution_count": 23,
   "id": "728ba298",
   "metadata": {},
   "outputs": [],
   "source": [
    "# multi level Inheritance\n",
    "class A:\n",
    "    def print_alpha(self):\n",
    "        print('In A Class')\n",
    "class B(A):\n",
    "    def print_beta(self):\n",
    "        print('In B Class')\n",
    "class C(B):\n",
    "    def print_gamma(self):\n",
    "        print('In C Class')\n",
    "ob=C()"
   ]
  },
  {
   "cell_type": "code",
   "execution_count": 24,
   "id": "d4d58a82",
   "metadata": {},
   "outputs": [
    {
     "name": "stdout",
     "output_type": "stream",
     "text": [
      "['__class__', '__delattr__', '__dict__', '__dir__', '__doc__', '__eq__', '__format__', '__ge__', '__getattribute__', '__getstate__', '__gt__', '__hash__', '__init__', '__init_subclass__', '__le__', '__lt__', '__module__', '__ne__', '__new__', '__reduce__', '__reduce_ex__', '__repr__', '__setattr__', '__sizeof__', '__str__', '__subclasshook__', '__weakref__', 'print_alpha', 'print_beta', 'print_gamma']\n"
     ]
    }
   ],
   "source": [
    "print(dir(C))"
   ]
  },
  {
   "cell_type": "code",
   "execution_count": 25,
   "id": "9c90cec3",
   "metadata": {},
   "outputs": [
    {
     "name": "stdout",
     "output_type": "stream",
     "text": [
      "['__class__', '__delattr__', '__dict__', '__dir__', '__doc__', '__eq__', '__format__', '__ge__', '__getattribute__', '__getstate__', '__gt__', '__hash__', '__init__', '__init_subclass__', '__le__', '__lt__', '__module__', '__ne__', '__new__', '__reduce__', '__reduce_ex__', '__repr__', '__setattr__', '__sizeof__', '__str__', '__subclasshook__', '__weakref__', 'print_alpha', 'print_beta']\n"
     ]
    }
   ],
   "source": [
    "print(dir(B))"
   ]
  },
  {
   "cell_type": "code",
   "execution_count": 26,
   "id": "5b41579b",
   "metadata": {},
   "outputs": [
    {
     "name": "stdout",
     "output_type": "stream",
     "text": [
      "['__class__', '__delattr__', '__dict__', '__dir__', '__doc__', '__eq__', '__format__', '__ge__', '__getattribute__', '__getstate__', '__gt__', '__hash__', '__init__', '__init_subclass__', '__le__', '__lt__', '__module__', '__ne__', '__new__', '__reduce__', '__reduce_ex__', '__repr__', '__setattr__', '__sizeof__', '__str__', '__subclasshook__', '__weakref__', 'print_alpha']\n"
     ]
    }
   ],
   "source": [
    "print(dir(A))"
   ]
  },
  {
   "cell_type": "code",
   "execution_count": null,
   "id": "ef2c1e26",
   "metadata": {},
   "outputs": [],
   "source": []
  },
  {
   "cell_type": "code",
   "execution_count": 28,
   "id": "2f55097e",
   "metadata": {
    "scrolled": false
   },
   "outputs": [
    {
     "name": "stdout",
     "output_type": "stream",
     "text": [
      "In A Class\n",
      "In B Class\n",
      "In C Class\n"
     ]
    }
   ],
   "source": [
    "ob.print_alpha()\n",
    "ob.print_beta()\n",
    "ob.print_gamma()"
   ]
  },
  {
   "cell_type": "code",
   "execution_count": 48,
   "id": "4ef54129",
   "metadata": {},
   "outputs": [
    {
     "name": "stdout",
     "output_type": "stream",
     "text": [
      "In B Class\n",
      "In A Class\n"
     ]
    }
   ],
   "source": [
    "class A:\n",
    "    def print_alpha(self):\n",
    "        print('In A Class')\n",
    "class B(A):\n",
    "    def print_alpha(self):\n",
    "        print('In B Class')\n",
    "    def print_beta(self):\n",
    "        super().print_alpha()\n",
    "ob=B()\n",
    "ob.print_alpha()\n",
    "ob.print_beta()"
   ]
  },
  {
   "cell_type": "code",
   "execution_count": 31,
   "id": "e91e7a41",
   "metadata": {},
   "outputs": [
    {
     "name": "stdout",
     "output_type": "stream",
     "text": [
      "In B Class\n"
     ]
    }
   ],
   "source": [
    "#super --> parent class method call\n",
    "ob.print_alpha()"
   ]
  },
  {
   "cell_type": "code",
   "execution_count": 33,
   "id": "6e243c9f",
   "metadata": {},
   "outputs": [
    {
     "data": {
      "text/plain": [
       "(__main__.B, __main__.A, object)"
      ]
     },
     "execution_count": 33,
     "metadata": {},
     "output_type": "execute_result"
    }
   ],
   "source": [
    "B.__mro__"
   ]
  },
  {
   "cell_type": "code",
   "execution_count": 75,
   "id": "bde9321c",
   "metadata": {},
   "outputs": [
    {
     "name": "stdout",
     "output_type": "stream",
     "text": [
      "First name --> Rajendra\n",
      "Last name --> Sharma\n",
      "First name --> Sachin\n",
      "Last name --> Sharma\n"
     ]
    }
   ],
   "source": [
    "class Father:\n",
    "    def __init__(self ,fname,lname):\n",
    "        self.fname=fname\n",
    "        self.lname=lname\n",
    "        self.print_info()\n",
    "    def print_info(self):\n",
    "        print('First name -->',self.fname)\n",
    "        print('Last name -->',self.lname)\n",
    "class Child(Father):\n",
    "    def __init__(self,fname):\n",
    "        super().__init__('Rajendra','Sharma')\n",
    "        self.fname=fname\n",
    "        self.print_info()\n",
    "\n",
    "    def print_info(self):\n",
    "        print('First name -->',self.fname)\n",
    "        print('Last name -->',self.lname)\n",
    "ob=Child('Sachin')  "
   ]
  },
  {
   "cell_type": "code",
   "execution_count": null,
   "id": "f1bde353",
   "metadata": {},
   "outputs": [],
   "source": []
  }
 ],
 "metadata": {
  "kernelspec": {
   "display_name": "Python 3 (ipykernel)",
   "language": "python",
   "name": "python3"
  },
  "language_info": {
   "codemirror_mode": {
    "name": "ipython",
    "version": 3
   },
   "file_extension": ".py",
   "mimetype": "text/x-python",
   "name": "python",
   "nbconvert_exporter": "python",
   "pygments_lexer": "ipython3",
   "version": "3.11.5"
  }
 },
 "nbformat": 4,
 "nbformat_minor": 5
}
