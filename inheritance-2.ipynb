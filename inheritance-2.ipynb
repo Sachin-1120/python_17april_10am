{
 "cells": [
  {
   "cell_type": "code",
   "execution_count": 2,
   "id": "fe7f4d33",
   "metadata": {},
   "outputs": [
    {
     "name": "stdout",
     "output_type": "stream",
     "text": [
      "Hello\n",
      "Bye\n"
     ]
    }
   ],
   "source": [
    "def func():\n",
    "    print('Hello')\n",
    "    return 'Bye'\n",
    "print(func())"
   ]
  },
  {
   "cell_type": "code",
   "execution_count": 24,
   "id": "536ccdea",
   "metadata": {},
   "outputs": [
    {
     "name": "stdout",
     "output_type": "stream",
     "text": [
      "Varun\n",
      "B 20\n",
      "Sachin\n"
     ]
    }
   ],
   "source": [
    "name='Sachin'\n",
    "def func(): \n",
    "    name='Varun'\n",
    "    age=20\n",
    "    print(name)\n",
    "    def alpha():\n",
    "        nonlocal name,age\n",
    "        name='B'\n",
    "        print(name,age)\n",
    "    alpha()\n",
    "    \n",
    "func()\n",
    "print(name)\n"
   ]
  },
  {
   "cell_type": "code",
   "execution_count": 16,
   "id": "20b7557c",
   "metadata": {},
   "outputs": [
    {
     "name": "stdout",
     "output_type": "stream",
     "text": [
      "The \"nonlocal\" statement\n",
      "************************\n",
      "\n",
      "   nonlocal_stmt ::= \"nonlocal\" identifier (\",\" identifier)*\n",
      "\n",
      "The \"nonlocal\" statement causes the listed identifiers to refer to\n",
      "previously bound variables in the nearest enclosing scope excluding\n",
      "globals. This is important because the default behavior for binding is\n",
      "to search the local namespace first.  The statement allows\n",
      "encapsulated code to rebind variables outside of the local scope\n",
      "besides the global (module) scope.\n",
      "\n",
      "Names listed in a \"nonlocal\" statement, unlike those listed in a\n",
      "\"global\" statement, must refer to pre-existing bindings in an\n",
      "enclosing scope (the scope in which a new binding should be created\n",
      "cannot be determined unambiguously).\n",
      "\n",
      "Names listed in a \"nonlocal\" statement must not collide with pre-\n",
      "existing bindings in the local scope.\n",
      "\n",
      "See also:\n",
      "\n",
      "  **PEP 3104** - Access to Names in Outer Scopes\n",
      "     The specification for the \"nonlocal\" statement.\n",
      "\n",
      "Related help topics: global, NAMESPACES\n",
      "\n"
     ]
    }
   ],
   "source": [
    "help('nonlocal')"
   ]
  },
  {
   "cell_type": "code",
   "execution_count": 33,
   "id": "ef3063ef",
   "metadata": {},
   "outputs": [],
   "source": [
    "class A:\n",
    "    def print_alpha(self):\n",
    "        print(' In A Class')\n",
    "class B:\n",
    "    def print_alpha(self):\n",
    "        print('In B Class')\n",
    "class D:\n",
    "    def print_alpha(self):\n",
    "        print('In B Class')\n",
    "\n",
    "class C(A,B,D):\n",
    "    def print_gamma(self):\n",
    "        print('In C Class')\n",
    "ob=C()"
   ]
  },
  {
   "cell_type": "code",
   "execution_count": 32,
   "id": "c868c80e",
   "metadata": {},
   "outputs": [
    {
     "name": "stdout",
     "output_type": "stream",
     "text": [
      " In A Class\n"
     ]
    }
   ],
   "source": [
    "ob.print_alpha()"
   ]
  },
  {
   "cell_type": "code",
   "execution_count": 34,
   "id": "ad9d67ac",
   "metadata": {},
   "outputs": [
    {
     "data": {
      "text/plain": [
       "(__main__.C, __main__.A, __main__.B, __main__.D, object)"
      ]
     },
     "execution_count": 34,
     "metadata": {},
     "output_type": "execute_result"
    }
   ],
   "source": [
    "C.__mro__"
   ]
  },
  {
   "cell_type": "code",
   "execution_count": 1,
   "id": "e33bc0c6",
   "metadata": {},
   "outputs": [],
   "source": [
    "class A:\n",
    "    def print_alpha(self):\n",
    "        print('In A Class')\n",
    "class B(A):\n",
    "    def print_alpha(self):\n",
    "        print('In A Class')\n",
    "class C(A):\n",
    "    def print_alpha(self):\n",
    "        print('In A Class')\n"
   ]
  },
  {
   "cell_type": "code",
   "execution_count": 2,
   "id": "d3b014a2",
   "metadata": {},
   "outputs": [],
   "source": [
    "class A:\n",
    "    def print_alpha(self):\n",
    "        print('In A Class')\n",
    "    class B:\n",
    "        def print_beta(self):\n",
    "            print('In B Class')"
   ]
  },
  {
   "cell_type": "code",
   "execution_count": 3,
   "id": "6859263f",
   "metadata": {},
   "outputs": [],
   "source": [
    "ob=A()"
   ]
  },
  {
   "cell_type": "code",
   "execution_count": 7,
   "id": "ebaf94f4",
   "metadata": {},
   "outputs": [
    {
     "ename": "TypeError",
     "evalue": "A.B.print_beta() missing 1 required positional argument: 'self'",
     "output_type": "error",
     "traceback": [
      "\u001b[1;31m---------------------------------------------------------------------------\u001b[0m",
      "\u001b[1;31mTypeError\u001b[0m                                 Traceback (most recent call last)",
      "Cell \u001b[1;32mIn[7], line 1\u001b[0m\n\u001b[1;32m----> 1\u001b[0m ob\u001b[38;5;241m.\u001b[39mB\u001b[38;5;241m.\u001b[39mprint_beta()\n",
      "\u001b[1;31mTypeError\u001b[0m: A.B.print_beta() missing 1 required positional argument: 'self'"
     ]
    }
   ],
   "source": [
    "ob.B.print_beta()"
   ]
  },
  {
   "cell_type": "code",
   "execution_count": 11,
   "id": "c97dae62",
   "metadata": {},
   "outputs": [
    {
     "name": "stdout",
     "output_type": "stream",
     "text": [
      "In B Class\n"
     ]
    }
   ],
   "source": [
    "class A:\n",
    "    def print_alpha(self=None):\n",
    "        print('In A Class')\n",
    "    class B:\n",
    "        def print_beta(self=None):\n",
    "            print('In B Class')\n",
    "A.B.print_beta()\n"
   ]
  },
  {
   "cell_type": "code",
   "execution_count": 13,
   "id": "9bb1011d",
   "metadata": {},
   "outputs": [
    {
     "name": "stdout",
     "output_type": "stream",
     "text": [
      "In A Class\n"
     ]
    }
   ],
   "source": [
    "ob=A()\n",
    "ob.print_alpha()"
   ]
  },
  {
   "cell_type": "code",
   "execution_count": 15,
   "id": "8a4e14ef",
   "metadata": {},
   "outputs": [],
   "source": [
    "class A:\n",
    "    def print_alpha(self):\n",
    "        print('In A Class')\n",
    "class B(A):\n",
    "    def print_beta(self):\n",
    "        print('In B Class')\n",
    "class C(A):\n",
    "    def print_gamma(self):\n",
    "        print('In C Class')\n"
   ]
  },
  {
   "cell_type": "code",
   "execution_count": 16,
   "id": "79e51ddb",
   "metadata": {},
   "outputs": [],
   "source": [
    "ob=B()"
   ]
  },
  {
   "cell_type": "code",
   "execution_count": 17,
   "id": "d22e5c0b",
   "metadata": {},
   "outputs": [
    {
     "name": "stdout",
     "output_type": "stream",
     "text": [
      "In A Class\n"
     ]
    }
   ],
   "source": [
    "ob.print_alpha()"
   ]
  },
  {
   "cell_type": "code",
   "execution_count": 18,
   "id": "6de24b4a",
   "metadata": {},
   "outputs": [
    {
     "name": "stdout",
     "output_type": "stream",
     "text": [
      "In B Class\n"
     ]
    }
   ],
   "source": [
    "ob.print_beta()"
   ]
  },
  {
   "cell_type": "code",
   "execution_count": null,
   "id": "000a9f48",
   "metadata": {},
   "outputs": [],
   "source": []
  }
 ],
 "metadata": {
  "kernelspec": {
   "display_name": "Python 3 (ipykernel)",
   "language": "python",
   "name": "python3"
  },
  "language_info": {
   "codemirror_mode": {
    "name": "ipython",
    "version": 3
   },
   "file_extension": ".py",
   "mimetype": "text/x-python",
   "name": "python",
   "nbconvert_exporter": "python",
   "pygments_lexer": "ipython3",
   "version": "3.11.5"
  }
 },
 "nbformat": 4,
 "nbformat_minor": 5
}
