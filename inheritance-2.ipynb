{
 "cells": [
  {
   "cell_type": "code",
   "execution_count": 2,
   "id": "0b0e65cb",
   "metadata": {},
   "outputs": [
    {
     "name": "stdout",
     "output_type": "stream",
     "text": [
      "Hello\n",
      "Bye\n"
     ]
    }
   ],
   "source": [
    "def func():\n",
    "    print('Hello')\n",
    "    return 'Bye'\n",
    "print(func())"
   ]
  },
  {
   "cell_type": "code",
   "execution_count": 24,
   "id": "64e06fa6",
   "metadata": {},
   "outputs": [
    {
     "name": "stdout",
     "output_type": "stream",
     "text": [
      "Varun\n",
      "B 20\n",
      "Sachin\n"
     ]
    }
   ],
   "source": [
    "name='Sachin'\n",
    "def func(): \n",
    "    name='Varun'\n",
    "    age=20\n",
    "    print(name)\n",
    "    def alpha():\n",
    "        nonlocal name,age\n",
    "        name='B'\n",
    "        print(name,age)\n",
    "    alpha()\n",
    "    \n",
    "func()\n",
    "print(name)\n"
   ]
  },
  {
   "cell_type": "code",
   "execution_count": 16,
   "id": "b0f7efe7",
   "metadata": {},
   "outputs": [
    {
     "name": "stdout",
     "output_type": "stream",
     "text": [
      "The \"nonlocal\" statement\n",
      "************************\n",
      "\n",
      "   nonlocal_stmt ::= \"nonlocal\" identifier (\",\" identifier)*\n",
      "\n",
      "The \"nonlocal\" statement causes the listed identifiers to refer to\n",
      "previously bound variables in the nearest enclosing scope excluding\n",
      "globals. This is important because the default behavior for binding is\n",
      "to search the local namespace first.  The statement allows\n",
      "encapsulated code to rebind variables outside of the local scope\n",
      "besides the global (module) scope.\n",
      "\n",
      "Names listed in a \"nonlocal\" statement, unlike those listed in a\n",
      "\"global\" statement, must refer to pre-existing bindings in an\n",
      "enclosing scope (the scope in which a new binding should be created\n",
      "cannot be determined unambiguously).\n",
      "\n",
      "Names listed in a \"nonlocal\" statement must not collide with pre-\n",
      "existing bindings in the local scope.\n",
      "\n",
      "See also:\n",
      "\n",
      "  **PEP 3104** - Access to Names in Outer Scopes\n",
      "     The specification for the \"nonlocal\" statement.\n",
      "\n",
      "Related help topics: global, NAMESPACES\n",
      "\n"
     ]
    }
   ],
   "source": [
    "help('nonlocal')"
   ]
  },
  {
   "cell_type": "code",
   "execution_count": 30,
   "id": "bd0cf81a",
   "metadata": {},
   "outputs": [],
   "source": [
    "class A:\n",
    "    def print_alpha(self):\n",
    "        print(' In A Class')\n",
    "class B:\n",
    "    def print_alpha(self):\n",
    "        print('In B Class')\n",
    "class C(A,B):\n",
    "    def print_gamma(self):\n",
    "        print('In C Class')\n",
    "ob=C()"
   ]
  },
  {
   "cell_type": "code",
   "execution_count": 29,
   "id": "4d0f6a68",
   "metadata": {},
   "outputs": [
    {
     "name": "stdout",
     "output_type": "stream",
     "text": [
      " In A Class\n",
      "In B Class\n",
      "In C Class\n"
     ]
    }
   ],
   "source": [
    "ob.print_alpha()"
   ]
  },
  {
   "cell_type": "code",
   "execution_count": 31,
   "id": "a0c884ea",
   "metadata": {},
   "outputs": [
    {
     "data": {
      "text/plain": [
       "(__main__.C, __main__.A, __main__.B, object)"
      ]
     },
     "execution_count": 31,
     "metadata": {},
     "output_type": "execute_result"
    }
   ],
   "source": [
    "C.__mro__"
   ]
  },
  {
   "cell_type": "code",
   "execution_count": null,
   "id": "c8622997",
   "metadata": {},
   "outputs": [],
   "source": []
  }
 ],
 "metadata": {
  "kernelspec": {
   "display_name": "Python 3 (ipykernel)",
   "language": "python",
   "name": "python3"
  },
  "language_info": {
   "codemirror_mode": {
    "name": "ipython",
    "version": 3
   },
   "file_extension": ".py",
   "mimetype": "text/x-python",
   "name": "python",
   "nbconvert_exporter": "python",
   "pygments_lexer": "ipython3",
   "version": "3.11.5"
  }
 },
 "nbformat": 4,
 "nbformat_minor": 5
}
