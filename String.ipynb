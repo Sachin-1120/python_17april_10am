{
 "cells": [
  {
   "cell_type": "code",
   "execution_count": 2,
   "id": "626027ad",
   "metadata": {},
   "outputs": [
    {
     "data": {
      "text/plain": [
       "'a'"
      ]
     },
     "execution_count": 2,
     "metadata": {},
     "output_type": "execute_result"
    }
   ],
   "source": [
    "a='Grras'\n",
    "a[3]"
   ]
  },
  {
   "cell_type": "code",
   "execution_count": 3,
   "id": "dcc224e5",
   "metadata": {},
   "outputs": [
    {
     "data": {
      "text/plain": [
       "'a'"
      ]
     },
     "execution_count": 3,
     "metadata": {},
     "output_type": "execute_result"
    }
   ],
   "source": [
    "a[-2]"
   ]
  },
  {
   "cell_type": "code",
   "execution_count": 4,
   "id": "db4fb92e",
   "metadata": {},
   "outputs": [
    {
     "data": {
      "text/plain": [
       "5"
      ]
     },
     "execution_count": 4,
     "metadata": {},
     "output_type": "execute_result"
    }
   ],
   "source": [
    "3+2"
   ]
  },
  {
   "cell_type": "code",
   "execution_count": 5,
   "id": "c14c86fc",
   "metadata": {},
   "outputs": [
    {
     "data": {
      "text/plain": [
       "'SachinGrras'"
      ]
     },
     "execution_count": 5,
     "metadata": {},
     "output_type": "execute_result"
    }
   ],
   "source": [
    "'Sachin'+'Grras'"
   ]
  },
  {
   "cell_type": "markdown",
   "id": "2efb473a",
   "metadata": {},
   "source": [
    "'Hey i am learning python'\n",
    "\n",
    "output->'Hlp on'"
   ]
  },
  {
   "cell_type": "code",
   "execution_count": 6,
   "id": "f34e7f12",
   "metadata": {},
   "outputs": [],
   "source": [
    "a='Hey i am learning python'"
   ]
  },
  {
   "cell_type": "code",
   "execution_count": 9,
   "id": "f64ff5aa",
   "metadata": {},
   "outputs": [
    {
     "name": "stdout",
     "output_type": "stream",
     "text": [
      "Hlp on\n"
     ]
    }
   ],
   "source": [
    "print(a[0]+a[9]+a[18],a[-2]+a[-1])"
   ]
  },
  {
   "cell_type": "code",
   "execution_count": 13,
   "id": "0d511adf",
   "metadata": {},
   "outputs": [
    {
     "data": {
      "text/plain": [
       "'rras Sol'"
      ]
     },
     "execution_count": 13,
     "metadata": {},
     "output_type": "execute_result"
    }
   ],
   "source": [
    "a='Grras Solution'\n",
    "a[1:9:1]"
   ]
  },
  {
   "cell_type": "code",
   "execution_count": 14,
   "id": "3c638de3",
   "metadata": {},
   "outputs": [
    {
     "data": {
      "text/plain": [
       "''"
      ]
     },
     "execution_count": 14,
     "metadata": {},
     "output_type": "execute_result"
    }
   ],
   "source": [
    "a[9:1:1]"
   ]
  },
  {
   "cell_type": "code",
   "execution_count": 15,
   "id": "1e11b070",
   "metadata": {},
   "outputs": [
    {
     "data": {
      "text/plain": [
       "'Grras Solution'"
      ]
     },
     "execution_count": 15,
     "metadata": {},
     "output_type": "execute_result"
    }
   ],
   "source": [
    "a='Grras Solution'\n",
    "a[::]"
   ]
  },
  {
   "cell_type": "code",
   "execution_count": 16,
   "id": "890d993b",
   "metadata": {},
   "outputs": [
    {
     "data": {
      "text/plain": [
       "' Solution'"
      ]
     },
     "execution_count": 16,
     "metadata": {},
     "output_type": "execute_result"
    }
   ],
   "source": [
    "a[5::]"
   ]
  },
  {
   "cell_type": "code",
   "execution_count": 17,
   "id": "d4713e8e",
   "metadata": {},
   "outputs": [
    {
     "data": {
      "text/plain": [
       "'Grras Solu'"
      ]
     },
     "execution_count": 17,
     "metadata": {},
     "output_type": "execute_result"
    }
   ],
   "source": [
    "a[:10:]"
   ]
  },
  {
   "cell_type": "code",
   "execution_count": 18,
   "id": "0b1b5600",
   "metadata": {},
   "outputs": [
    {
     "data": {
      "text/plain": [
       "'GaSuo'"
      ]
     },
     "execution_count": 18,
     "metadata": {},
     "output_type": "execute_result"
    }
   ],
   "source": [
    "a[::3]"
   ]
  },
  {
   "cell_type": "code",
   "execution_count": 20,
   "id": "c1c77305",
   "metadata": {},
   "outputs": [
    {
     "data": {
      "text/plain": [
       "'rra'"
      ]
     },
     "execution_count": 20,
     "metadata": {},
     "output_type": "execute_result"
    }
   ],
   "source": [
    "a='Grras'\n",
    "a[-4:-1:1]"
   ]
  },
  {
   "cell_type": "code",
   "execution_count": 21,
   "id": "9c3a922d",
   "metadata": {},
   "outputs": [
    {
     "data": {
      "text/plain": [
       "'rra'"
      ]
     },
     "execution_count": 21,
     "metadata": {},
     "output_type": "execute_result"
    }
   ],
   "source": [
    "a[1:4]"
   ]
  },
  {
   "cell_type": "code",
   "execution_count": 22,
   "id": "16018fce",
   "metadata": {},
   "outputs": [
    {
     "data": {
      "text/plain": [
       "'sarr'"
      ]
     },
     "execution_count": 22,
     "metadata": {},
     "output_type": "execute_result"
    }
   ],
   "source": [
    "a[-1:0:-1]"
   ]
  },
  {
   "cell_type": "code",
   "execution_count": 23,
   "id": "4205aeb5",
   "metadata": {},
   "outputs": [
    {
     "data": {
      "text/plain": [
       "'Grras'"
      ]
     },
     "execution_count": 23,
     "metadata": {},
     "output_type": "execute_result"
    }
   ],
   "source": [
    "a[::1]"
   ]
  },
  {
   "cell_type": "code",
   "execution_count": 24,
   "id": "ff969a2e",
   "metadata": {},
   "outputs": [
    {
     "data": {
      "text/plain": [
       "'sarrG'"
      ]
     },
     "execution_count": 24,
     "metadata": {},
     "output_type": "execute_result"
    }
   ],
   "source": [
    "a[::-1]"
   ]
  },
  {
   "cell_type": "code",
   "execution_count": 29,
   "id": "12666c65",
   "metadata": {},
   "outputs": [
    {
     "data": {
      "text/plain": [
       "'rrG'"
      ]
     },
     "execution_count": 29,
     "metadata": {},
     "output_type": "execute_result"
    }
   ],
   "source": [
    "a='Grras'\n",
    "a[2::-1]"
   ]
  },
  {
   "cell_type": "code",
   "execution_count": 35,
   "id": "4ba9f5a0",
   "metadata": {},
   "outputs": [
    {
     "data": {
      "text/plain": [
       "'rras'"
      ]
     },
     "execution_count": 35,
     "metadata": {},
     "output_type": "execute_result"
    }
   ],
   "source": [
    "a='Grras'\n",
    "a[1::1]"
   ]
  },
  {
   "cell_type": "code",
   "execution_count": 36,
   "id": "1bdfb534",
   "metadata": {},
   "outputs": [],
   "source": [
    "a='Hello Everyone welcome to Python Programmig'\n",
    "\n",
    "#output-->'olleH one noh prog'"
   ]
  },
  {
   "cell_type": "code",
   "execution_count": 41,
   "id": "9e728c26",
   "metadata": {},
   "outputs": [
    {
     "data": {
      "text/plain": [
       "'olleH one noh Prog'"
      ]
     },
     "execution_count": 41,
     "metadata": {},
     "output_type": "execute_result"
    }
   ],
   "source": [
    "a[4::-1]+' '+a[11:14]+' '+a[31:28:-1]+' '+a[33:37:]"
   ]
  },
  {
   "cell_type": "code",
   "execution_count": 4,
   "id": "b4150a75",
   "metadata": {},
   "outputs": [
    {
     "data": {
      "text/plain": [
       "' thon Worlddye'"
      ]
     },
     "execution_count": 4,
     "metadata": {},
     "output_type": "execute_result"
    }
   ],
   "source": [
    "s='Welcome to the Python World'\n",
    "s[10:-15:2]+s[-10:30:1]+s[::-10]"
   ]
  },
  {
   "cell_type": "code",
   "execution_count": 1,
   "id": "ff323c2f",
   "metadata": {},
   "outputs": [
    {
     "data": {
      "text/plain": [
       "' '"
      ]
     },
     "execution_count": 1,
     "metadata": {},
     "output_type": "execute_result"
    }
   ],
   "source": [
    "s='Welcome to the Python World'\n",
    "s[10:-15:2]"
   ]
  },
  {
   "cell_type": "code",
   "execution_count": 2,
   "id": "0c501ddc",
   "metadata": {},
   "outputs": [
    {
     "data": {
      "text/plain": [
       "'thon World'"
      ]
     },
     "execution_count": 2,
     "metadata": {},
     "output_type": "execute_result"
    }
   ],
   "source": [
    "s[-10:30:1]"
   ]
  },
  {
   "cell_type": "code",
   "execution_count": 3,
   "id": "eaa36337",
   "metadata": {},
   "outputs": [
    {
     "data": {
      "text/plain": [
       "'dye'"
      ]
     },
     "execution_count": 3,
     "metadata": {},
     "output_type": "execute_result"
    }
   ],
   "source": [
    "s[::-10]"
   ]
  },
  {
   "cell_type": "code",
   "execution_count": 8,
   "id": "6d85efb6",
   "metadata": {},
   "outputs": [
    {
     "data": {
      "text/plain": [
       "'sarrG'"
      ]
     },
     "execution_count": 8,
     "metadata": {},
     "output_type": "execute_result"
    }
   ],
   "source": [
    "s='Grras'\n",
    "s[::-1]"
   ]
  },
  {
   "cell_type": "code",
   "execution_count": 9,
   "id": "c1be865d",
   "metadata": {},
   "outputs": [
    {
     "name": "stdout",
     "output_type": "stream",
     "text": [
      "['__add__', '__class__', '__contains__', '__delattr__', '__dir__', '__doc__', '__eq__', '__format__', '__ge__', '__getattribute__', '__getitem__', '__getnewargs__', '__getstate__', '__gt__', '__hash__', '__init__', '__init_subclass__', '__iter__', '__le__', '__len__', '__lt__', '__mod__', '__mul__', '__ne__', '__new__', '__reduce__', '__reduce_ex__', '__repr__', '__rmod__', '__rmul__', '__setattr__', '__sizeof__', '__str__', '__subclasshook__', 'capitalize', 'casefold', 'center', 'count', 'encode', 'endswith', 'expandtabs', 'find', 'format', 'format_map', 'index', 'isalnum', 'isalpha', 'isascii', 'isdecimal', 'isdigit', 'isidentifier', 'islower', 'isnumeric', 'isprintable', 'isspace', 'istitle', 'isupper', 'join', 'ljust', 'lower', 'lstrip', 'maketrans', 'partition', 'removeprefix', 'removesuffix', 'replace', 'rfind', 'rindex', 'rjust', 'rpartition', 'rsplit', 'rstrip', 'split', 'splitlines', 'startswith', 'strip', 'swapcase', 'title', 'translate', 'upper', 'zfill']\n"
     ]
    }
   ],
   "source": [
    "print(dir(str))"
   ]
  },
  {
   "cell_type": "code",
   "execution_count": 13,
   "id": "02ccc077",
   "metadata": {},
   "outputs": [
    {
     "data": {
      "text/plain": [
       "'Grras solution'"
      ]
     },
     "execution_count": 13,
     "metadata": {},
     "output_type": "execute_result"
    }
   ],
   "source": [
    "s='grras SolUtion'\n",
    "s.capitalize()"
   ]
  },
  {
   "cell_type": "code",
   "execution_count": 14,
   "id": "0a076fcd",
   "metadata": {},
   "outputs": [
    {
     "data": {
      "text/plain": [
       "'Grras Solution'"
      ]
     },
     "execution_count": 14,
     "metadata": {},
     "output_type": "execute_result"
    }
   ],
   "source": [
    "s='grRas solUTion'\n",
    "s.title()"
   ]
  },
  {
   "cell_type": "code",
   "execution_count": 16,
   "id": "2671476b",
   "metadata": {},
   "outputs": [
    {
     "data": {
      "text/plain": [
       "False"
      ]
     },
     "execution_count": 16,
     "metadata": {},
     "output_type": "execute_result"
    }
   ],
   "source": [
    "s='Grras Solution'\n",
    "s.startswith('gr')"
   ]
  },
  {
   "cell_type": "code",
   "execution_count": 20,
   "id": "60eed349",
   "metadata": {},
   "outputs": [
    {
     "data": {
      "text/plain": [
       "True"
      ]
     },
     "execution_count": 20,
     "metadata": {},
     "output_type": "execute_result"
    }
   ],
   "source": [
    "s.endswith('on')"
   ]
  },
  {
   "cell_type": "code",
   "execution_count": 21,
   "id": "819586a5",
   "metadata": {},
   "outputs": [
    {
     "data": {
      "text/plain": [
       "'GRRAS SOLUTION'"
      ]
     },
     "execution_count": 21,
     "metadata": {},
     "output_type": "execute_result"
    }
   ],
   "source": [
    "s='Grras Solution'\n",
    "s.upper()"
   ]
  },
  {
   "cell_type": "code",
   "execution_count": 22,
   "id": "5b1ed398",
   "metadata": {},
   "outputs": [
    {
     "data": {
      "text/plain": [
       "'grras solution'"
      ]
     },
     "execution_count": 22,
     "metadata": {},
     "output_type": "execute_result"
    }
   ],
   "source": [
    "s.lower()"
   ]
  },
  {
   "cell_type": "code",
   "execution_count": 23,
   "id": "5afa331e",
   "metadata": {},
   "outputs": [
    {
     "data": {
      "text/plain": [
       "'gRrAs sOlUtIoN'"
      ]
     },
     "execution_count": 23,
     "metadata": {},
     "output_type": "execute_result"
    }
   ],
   "source": [
    "s='GrRaS SoLuTiOn'\n",
    "s.swapcase()"
   ]
  },
  {
   "cell_type": "code",
   "execution_count": 24,
   "id": "6b8ecfe4",
   "metadata": {},
   "outputs": [
    {
     "data": {
      "text/plain": [
       "'                  GrRaS SoLuTiOn                  '"
      ]
     },
     "execution_count": 24,
     "metadata": {},
     "output_type": "execute_result"
    }
   ],
   "source": [
    "s.center(50)"
   ]
  },
  {
   "cell_type": "code",
   "execution_count": 25,
   "id": "8d150d47",
   "metadata": {},
   "outputs": [
    {
     "data": {
      "text/plain": [
       "'GrRaS SoLuTiOn                                    '"
      ]
     },
     "execution_count": 25,
     "metadata": {},
     "output_type": "execute_result"
    }
   ],
   "source": [
    "s.ljust(50)"
   ]
  },
  {
   "cell_type": "code",
   "execution_count": 26,
   "id": "011a2bbf",
   "metadata": {},
   "outputs": [
    {
     "data": {
      "text/plain": [
       "'                                    GrRaS SoLuTiOn'"
      ]
     },
     "execution_count": 26,
     "metadata": {},
     "output_type": "execute_result"
    }
   ],
   "source": [
    "s.rjust(50)"
   ]
  },
  {
   "cell_type": "code",
   "execution_count": 34,
   "id": "c912b487",
   "metadata": {},
   "outputs": [
    {
     "data": {
      "text/plain": [
       "'GrRaS SoLuTiOn                                    '"
      ]
     },
     "execution_count": 34,
     "metadata": {},
     "output_type": "execute_result"
    }
   ],
   "source": [
    "s.ljust(50)"
   ]
  },
  {
   "cell_type": "code",
   "execution_count": 45,
   "id": "ecdaf054",
   "metadata": {},
   "outputs": [
    {
     "ename": "ValueError",
     "evalue": "substring not found",
     "output_type": "error",
     "traceback": [
      "\u001b[1;31m---------------------------------------------------------------------------\u001b[0m",
      "\u001b[1;31mValueError\u001b[0m                                Traceback (most recent call last)",
      "Cell \u001b[1;32mIn[45], line 2\u001b[0m\n\u001b[0;32m      1\u001b[0m s\u001b[38;5;241m=\u001b[39m\u001b[38;5;124m'\u001b[39m\u001b[38;5;124mGrras Solution Student\u001b[39m\u001b[38;5;124m'\u001b[39m\n\u001b[1;32m----> 2\u001b[0m s\u001b[38;5;241m.\u001b[39mindex(\u001b[38;5;124m'\u001b[39m\u001b[38;5;124mPython\u001b[39m\u001b[38;5;124m'\u001b[39m)\n",
      "\u001b[1;31mValueError\u001b[0m: substring not found"
     ]
    }
   ],
   "source": [
    "s='Grras Solution Student'\n",
    "s.index('Python')"
   ]
  },
  {
   "cell_type": "code",
   "execution_count": 44,
   "id": "579f65fd",
   "metadata": {},
   "outputs": [
    {
     "data": {
      "text/plain": [
       "-1"
      ]
     },
     "execution_count": 44,
     "metadata": {},
     "output_type": "execute_result"
    }
   ],
   "source": [
    "s.find('Python')"
   ]
  },
  {
   "cell_type": "code",
   "execution_count": 50,
   "id": "b2f53d6c",
   "metadata": {},
   "outputs": [
    {
     "name": "stdout",
     "output_type": "stream",
     "text": [
      "\n",
      "\n",
      "hello Sachin\n",
      "\n",
      "welcome to Grras\n",
      "\n",
      "phone no :  7878012779\n",
      "\n",
      "\n"
     ]
    }
   ],
   "source": [
    "name='Sachin'\n",
    "company='Grras'\n",
    "phone=7878012779\n",
    "var=f'''\n",
    "\n",
    "hello {name}\n",
    "\n",
    "welcome to {company}\n",
    "\n",
    "phone no :  {phone}\n",
    "\n",
    "'''\n",
    "print(var)"
   ]
  },
  {
   "cell_type": "code",
   "execution_count": 51,
   "id": "7be123a0",
   "metadata": {},
   "outputs": [
    {
     "name": "stdout",
     "output_type": "stream",
     "text": [
      "\n",
      "Welcome Sachin\n",
      "company Grras\n",
      "phone no 7878012779\n",
      "\n",
      "\n"
     ]
    }
   ],
   "source": [
    "print('''\n",
    "Welcome {}\n",
    "company {}\n",
    "phone no {}\n",
    "\n",
    "'''.format(name,company,phone))"
   ]
  },
  {
   "cell_type": "code",
   "execution_count": 52,
   "id": "99aca19b",
   "metadata": {},
   "outputs": [
    {
     "name": "stdout",
     "output_type": "stream",
     "text": [
      "ENTER NAME:sachin\n",
      "FROM:jaipur\n",
      "TO:kota\n",
      "ENTER DISTANCE200\n",
      "                                            TRAIN TICKET                                            \n",
      "\n",
      "Name: sachin                                  Price: 2400                               Train: 5456 \n",
      "From: jaipur                                 Distance: 200                            Platform: 4\n",
      "To: kota                                                                               Carrige No: 8\n",
      "Date: 29 April 2024                         Departure: 9.30          Arive: 3.00         Seat : A/18   \n",
      " \n",
      "economy class\n",
      " \n",
      "\n"
     ]
    }
   ],
   "source": [
    "a=\"TRAIN TICKET\"\n",
    "aa=input(\"ENTER NAME:\")\n",
    "bb=input(\"FROM:\")\n",
    "cc=input(\"TO:\")\n",
    "ee=int(input(\"ENTER DISTANCE\"))\n",
    "print(a.center(100))\n",
    "mm=f'''\n",
    "Name: {aa}                                  Price: {ee*12}                               Train: 5456 \n",
    "From: {bb}                                 Distance: {ee}                            Platform: 4\n",
    "To: {cc}                                                                               Carrige No: 8\n",
    "Date: 29 April 2024                         Departure: 9.30          Arive: 3.00         Seat : A/18   \n",
    " \n",
    "economy class\n",
    " \n",
    "'''\n",
    "print(mm)"
   ]
  },
  {
   "cell_type": "code",
   "execution_count": 71,
   "id": "5883e40c",
   "metadata": {},
   "outputs": [
    {
     "name": "stdout",
     "output_type": "stream",
     "text": [
      "\n",
      "Name of passenger : SACHIN\t\t\t Price : 2400\t\t\t Train : 567\n",
      "\n",
      "\t\t\t\t\t\tFrom : Jaipur\n",
      "\n",
      "\t\t\t\t\t\tTo : Kota\n",
      "\n",
      "Date: 12 May \t\t\t\t\t\t\t\t\t Seat : A6\n",
      "\n"
     ]
    }
   ],
   "source": [
    "name='Sachin'.title()\n",
    "station='Jaipur'.title()\n",
    "train=567\n",
    "dest='Kota'.title()\n",
    "distance=200\n",
    "Price=distance*12\n",
    "Date='12 May'\n",
    "Departure= 14\n",
    "Arrival= 18\n",
    "Seat='A6'\n",
    "print(f'''\n",
    "Name of passenger : {name}\\t\\t\\t Price : {Price}\\t\\t\\t Train : {train}\\n\n",
    "\\t\\t\\t\\t\\t\\tFrom : {station}\\n\n",
    "\\t\\t\\t\\t\\t\\tTo : {dest}\\n\n",
    "Date: {Date} \\t\\t\\t\\t\\t\\t\\t\\t\\t Seat : {Seat}\n",
    "'''\n",
    ")"
   ]
  },
  {
   "cell_type": "code",
   "execution_count": 80,
   "id": "d52431fc",
   "metadata": {},
   "outputs": [
    {
     "data": {
      "text/plain": [
       "'                      grras                       '"
      ]
     },
     "execution_count": 80,
     "metadata": {},
     "output_type": "execute_result"
    }
   ],
   "source": [
    "\n",
    "'Grras'.swapcase().upper().lower().center(50)"
   ]
  },
  {
   "cell_type": "code",
   "execution_count": null,
   "id": "24cbfba0",
   "metadata": {},
   "outputs": [],
   "source": []
  },
  {
   "cell_type": "code",
   "execution_count": 4,
   "id": "a224c2e8",
   "metadata": {},
   "outputs": [
    {
     "data": {
      "text/plain": [
       "'grras solution'"
      ]
     },
     "execution_count": 4,
     "metadata": {},
     "output_type": "execute_result"
    }
   ],
   "source": [
    "a='Grras Solution'\n",
    "a.casefold()"
   ]
  },
  {
   "cell_type": "code",
   "execution_count": 5,
   "id": "3d61d1af",
   "metadata": {},
   "outputs": [
    {
     "data": {
      "text/plain": [
       "'grras solution'"
      ]
     },
     "execution_count": 5,
     "metadata": {},
     "output_type": "execute_result"
    }
   ],
   "source": [
    "a.lower()"
   ]
  },
  {
   "cell_type": "code",
   "execution_count": 6,
   "id": "47f2010f",
   "metadata": {},
   "outputs": [
    {
     "data": {
      "text/plain": [
       "'Sachin Sharma'"
      ]
     },
     "execution_count": 6,
     "metadata": {},
     "output_type": "execute_result"
    }
   ],
   "source": [
    "a='   Sachin Sharma  '\n",
    "a.strip()"
   ]
  },
  {
   "cell_type": "code",
   "execution_count": 7,
   "id": "f43ee768",
   "metadata": {},
   "outputs": [
    {
     "data": {
      "text/plain": [
       "'Sachin Sharma  '"
      ]
     },
     "execution_count": 7,
     "metadata": {},
     "output_type": "execute_result"
    }
   ],
   "source": [
    "a.lstrip()"
   ]
  },
  {
   "cell_type": "code",
   "execution_count": 8,
   "id": "0a664226",
   "metadata": {},
   "outputs": [
    {
     "data": {
      "text/plain": [
       "'   Sachin Sharma'"
      ]
     },
     "execution_count": 8,
     "metadata": {},
     "output_type": "execute_result"
    }
   ],
   "source": [
    "a.rstrip()"
   ]
  },
  {
   "cell_type": "code",
   "execution_count": 11,
   "id": "0b09e6af",
   "metadata": {},
   "outputs": [
    {
     "data": {
      "text/plain": [
       "3"
      ]
     },
     "execution_count": 11,
     "metadata": {},
     "output_type": "execute_result"
    }
   ],
   "source": [
    "a.count('a')"
   ]
  },
  {
   "cell_type": "code",
   "execution_count": 14,
   "id": "a66e5281",
   "metadata": {},
   "outputs": [
    {
     "data": {
      "text/plain": [
       "6"
      ]
     },
     "execution_count": 14,
     "metadata": {},
     "output_type": "execute_result"
    }
   ],
   "source": [
    "len('Sachin')"
   ]
  },
  {
   "cell_type": "code",
   "execution_count": 16,
   "id": "a8fbb18e",
   "metadata": {},
   "outputs": [],
   "source": [
    "a='''Generating random paragraphs can be an excellent way for writers to \n",
    "get their creative flow going at the beginning of the day. The writer has\n",
    "no idea what topic the random paragraph will be about when it appears. This \n",
    "forces the writer to use creativity to complete one of three common writing \n",
    "challenges. The writer can use the paragraph as the first one of a short story \n",
    "and build upon it. A second option is to use the random paragraph somewhere in a\n",
    "short story they create. The third option is to have the random paragraph be the\n",
    "ending paragraph in a short story. No matter which of these challenges is undertaken, \n",
    "the writer is forced to use creativity to incorporate \n",
    "the paragraph into their writing.\n",
    "'''\n",
    "#output->'creativity to complete one rettam oN etaroprocni ot'"
   ]
  },
  {
   "cell_type": "code",
   "execution_count": 31,
   "id": "f882fa88",
   "metadata": {},
   "outputs": [
    {
     "data": {
      "text/plain": [
       "'creativity to complete one'"
      ]
     },
     "execution_count": 31,
     "metadata": {},
     "output_type": "execute_result"
    }
   ],
   "source": [
    "a[a.find('creativity to'):a.find('complete one')+len('complete one'):1]"
   ]
  },
  {
   "cell_type": "code",
   "execution_count": 37,
   "id": "4a36a17b",
   "metadata": {},
   "outputs": [
    {
     "data": {
      "text/plain": [
       "'rettam oN'"
      ]
     },
     "execution_count": 37,
     "metadata": {},
     "output_type": "execute_result"
    }
   ],
   "source": [
    "a[a.find('No matter')+len('No matter')-1:a.find('No matter')-1:-1]"
   ]
  },
  {
   "cell_type": "code",
   "execution_count": 27,
   "id": "f25c3aca",
   "metadata": {},
   "outputs": [
    {
     "data": {
      "text/plain": [
       "'Generating random paragraphs can be an excellent way for writers to \\nget their creative flow going at the beginning of the day. The writer has\\nno idea what topic the random paragraph will be about when it appears. This \\nforces the writer to use creativity to complete one of three common writing \\nchallenges. The writer can use the paragraph as the first one of a short story \\nand build upon it. A second option is to use the random paragraph somewhere in a\\nshort story they create. The third option is to have the random paragraph be the\\nending paragraph in a short story. No matter which of these challenges is undertaken, \\nthe writer is forced to use creativity to incorporate \\nthe paragraph into their writing.\\n'"
      ]
     },
     "execution_count": 27,
     "metadata": {},
     "output_type": "execute_result"
    }
   ],
   "source": [
    "a"
   ]
  },
  {
   "cell_type": "code",
   "execution_count": 39,
   "id": "83de87f3",
   "metadata": {},
   "outputs": [
    {
     "data": {
      "text/plain": [
       "' etaroprocni ot'"
      ]
     },
     "execution_count": 39,
     "metadata": {},
     "output_type": "execute_result"
    }
   ],
   "source": [
    "a[a.find('to incorporate')+len('to incorporate'):a.find('to incorporate')-1:-1]"
   ]
  },
  {
   "cell_type": "code",
   "execution_count": 40,
   "id": "74a9254b",
   "metadata": {},
   "outputs": [
    {
     "data": {
      "text/plain": [
       "'creativity to complete one rettam oN  etaroprocni ot'"
      ]
     },
     "execution_count": 40,
     "metadata": {},
     "output_type": "execute_result"
    }
   ],
   "source": [
    "a[a.find('creativity to'):a.find('complete one')+len('complete one'):1]+' '+a[a.find('No matter')+len('No matter')-1:a.find('No matter')-1:-1]+' '+a[a.find('to incorporate')+len('to incorporate'):a.find('to incorporate')-1:-1]"
   ]
  },
  {
   "cell_type": "code",
   "execution_count": 41,
   "id": "7351315d",
   "metadata": {},
   "outputs": [],
   "source": [
    "#Split and Join "
   ]
  },
  {
   "cell_type": "code",
   "execution_count": null,
   "id": "dee3fd64",
   "metadata": {},
   "outputs": [],
   "source": []
  },
  {
   "cell_type": "code",
   "execution_count": 49,
   "id": "10c35c05",
   "metadata": {
    "scrolled": true
   },
   "outputs": [],
   "source": [
    "s='Sachin@Grras@7878012779'\n",
    "a=s.split('@')\n"
   ]
  },
  {
   "cell_type": "code",
   "execution_count": 48,
   "id": "8b71c922",
   "metadata": {},
   "outputs": [
    {
     "data": {
      "text/plain": [
       "'Sachin@Grras@7878012779'"
      ]
     },
     "execution_count": 48,
     "metadata": {},
     "output_type": "execute_result"
    }
   ],
   "source": [
    "'@'.join(['Sachin', 'Grras', '7878012779'])"
   ]
  },
  {
   "cell_type": "code",
   "execution_count": 50,
   "id": "2f4de6e3",
   "metadata": {},
   "outputs": [
    {
     "data": {
      "text/plain": [
       "'Sachin@Grras@7878012779'"
      ]
     },
     "execution_count": 50,
     "metadata": {},
     "output_type": "execute_result"
    }
   ],
   "source": [
    "'@'.join(a)"
   ]
  },
  {
   "cell_type": "code",
   "execution_count": 2,
   "id": "dc215910",
   "metadata": {},
   "outputs": [
    {
     "data": {
      "text/plain": [
       "'Grras Solution Jaipur'"
      ]
     },
     "execution_count": 2,
     "metadata": {},
     "output_type": "execute_result"
    }
   ],
   "source": [
    "'Grras Solution {}'.format('Jaipur')"
   ]
  },
  {
   "cell_type": "code",
   "execution_count": 3,
   "id": "54ae544f",
   "metadata": {},
   "outputs": [],
   "source": [
    "a='''\n",
    "Good Morning {}\n",
    "\n",
    "\n",
    "Welcome to grras Solution. you are enrolled in {} course.\n",
    "\n",
    "With Regards\n",
    "Grras\n",
    "\n",
    "'''"
   ]
  },
  {
   "cell_type": "code",
   "execution_count": 5,
   "id": "71d8c5e3",
   "metadata": {},
   "outputs": [
    {
     "name": "stdout",
     "output_type": "stream",
     "text": [
      "\n",
      "Good Morning vansh\n",
      "\n",
      "\n",
      "Welcome to grras Solution. you are enrolled in Python course.\n",
      "\n",
      "With Regards\n",
      "Grras\n",
      "\n",
      "\n"
     ]
    }
   ],
   "source": [
    "print(a.format('vansh','Python'))"
   ]
  },
  {
   "cell_type": "code",
   "execution_count": 6,
   "id": "794bce7f",
   "metadata": {},
   "outputs": [
    {
     "name": "stdout",
     "output_type": "stream",
     "text": [
      "\n",
      "Good Morning Sachin\n",
      "\n",
      "\n",
      "Welcome to grras Solution. you are enrolled in Data Science course.\n",
      "\n",
      "With Regards\n",
      "Grras\n",
      "\n",
      "\n"
     ]
    }
   ],
   "source": [
    "print(a.format('Sachin','Data Science'))"
   ]
  },
  {
   "cell_type": "code",
   "execution_count": 7,
   "id": "beb7eb79",
   "metadata": {},
   "outputs": [
    {
     "data": {
      "text/plain": [
       "False"
      ]
     },
     "execution_count": 7,
     "metadata": {},
     "output_type": "execute_result"
    }
   ],
   "source": [
    "a='Grras Solution'\n",
    "a.islower()"
   ]
  },
  {
   "cell_type": "code",
   "execution_count": 8,
   "id": "c2ddedfa",
   "metadata": {},
   "outputs": [
    {
     "data": {
      "text/plain": [
       "True"
      ]
     },
     "execution_count": 8,
     "metadata": {},
     "output_type": "execute_result"
    }
   ],
   "source": [
    "a='grras'\n",
    "a.islower()"
   ]
  },
  {
   "cell_type": "code",
   "execution_count": 9,
   "id": "8e6cdce9",
   "metadata": {},
   "outputs": [
    {
     "data": {
      "text/plain": [
       "False"
      ]
     },
     "execution_count": 9,
     "metadata": {},
     "output_type": "execute_result"
    }
   ],
   "source": [
    "'Grras'.isupper()"
   ]
  },
  {
   "cell_type": "code",
   "execution_count": 10,
   "id": "207cfb41",
   "metadata": {},
   "outputs": [
    {
     "data": {
      "text/plain": [
       "True"
      ]
     },
     "execution_count": 10,
     "metadata": {},
     "output_type": "execute_result"
    }
   ],
   "source": [
    "'GRRAS'.isupper()"
   ]
  },
  {
   "cell_type": "code",
   "execution_count": 11,
   "id": "aa41689f",
   "metadata": {},
   "outputs": [
    {
     "data": {
      "text/plain": [
       "False"
      ]
     },
     "execution_count": 11,
     "metadata": {},
     "output_type": "execute_result"
    }
   ],
   "source": [
    "'Grras solution'.istitle()"
   ]
  },
  {
   "cell_type": "code",
   "execution_count": 12,
   "id": "432d7b90",
   "metadata": {},
   "outputs": [
    {
     "data": {
      "text/plain": [
       "True"
      ]
     },
     "execution_count": 12,
     "metadata": {},
     "output_type": "execute_result"
    }
   ],
   "source": [
    "'Grras Solution'.istitle()"
   ]
  },
  {
   "cell_type": "code",
   "execution_count": 13,
   "id": "2223651b",
   "metadata": {},
   "outputs": [
    {
     "data": {
      "text/plain": [
       "False"
      ]
     },
     "execution_count": 13,
     "metadata": {},
     "output_type": "execute_result"
    }
   ],
   "source": [
    "'Grras Solution'.isspace()"
   ]
  },
  {
   "cell_type": "code",
   "execution_count": 14,
   "id": "04fe7a4f",
   "metadata": {},
   "outputs": [
    {
     "data": {
      "text/plain": [
       "True"
      ]
     },
     "execution_count": 14,
     "metadata": {},
     "output_type": "execute_result"
    }
   ],
   "source": [
    "' '.isspace()"
   ]
  },
  {
   "cell_type": "code",
   "execution_count": 15,
   "id": "be0e33a3",
   "metadata": {},
   "outputs": [
    {
     "data": {
      "text/plain": [
       "True"
      ]
     },
     "execution_count": 15,
     "metadata": {},
     "output_type": "execute_result"
    }
   ],
   "source": [
    "'Sachin123'.isalnum()"
   ]
  },
  {
   "cell_type": "code",
   "execution_count": 16,
   "id": "5dd60607",
   "metadata": {},
   "outputs": [
    {
     "data": {
      "text/plain": [
       "False"
      ]
     },
     "execution_count": 16,
     "metadata": {},
     "output_type": "execute_result"
    }
   ],
   "source": [
    "'Sachin123@'.isalnum()"
   ]
  },
  {
   "cell_type": "code",
   "execution_count": 17,
   "id": "88690906",
   "metadata": {},
   "outputs": [
    {
     "data": {
      "text/plain": [
       "False"
      ]
     },
     "execution_count": 17,
     "metadata": {},
     "output_type": "execute_result"
    }
   ],
   "source": [
    "'Sachin 123'.isalnum()"
   ]
  },
  {
   "cell_type": "code",
   "execution_count": 18,
   "id": "911afa00",
   "metadata": {},
   "outputs": [
    {
     "data": {
      "text/plain": [
       "True"
      ]
     },
     "execution_count": 18,
     "metadata": {},
     "output_type": "execute_result"
    }
   ],
   "source": [
    "'Sachin'.isalnum()"
   ]
  },
  {
   "cell_type": "code",
   "execution_count": 19,
   "id": "fe5fcc27",
   "metadata": {},
   "outputs": [
    {
     "data": {
      "text/plain": [
       "True"
      ]
     },
     "execution_count": 19,
     "metadata": {},
     "output_type": "execute_result"
    }
   ],
   "source": [
    "'Sachin'.isalpha()"
   ]
  },
  {
   "cell_type": "code",
   "execution_count": 22,
   "id": "d5a01456",
   "metadata": {},
   "outputs": [
    {
     "data": {
      "text/plain": [
       "False"
      ]
     },
     "execution_count": 22,
     "metadata": {},
     "output_type": "execute_result"
    }
   ],
   "source": [
    "'Sachin'.isalpha()"
   ]
  },
  {
   "cell_type": "code",
   "execution_count": 23,
   "id": "051f3214",
   "metadata": {},
   "outputs": [
    {
     "data": {
      "text/plain": [
       "True"
      ]
     },
     "execution_count": 23,
     "metadata": {},
     "output_type": "execute_result"
    }
   ],
   "source": [
    "'123'.isalnum()"
   ]
  },
  {
   "cell_type": "code",
   "execution_count": 24,
   "id": "3373d1f3",
   "metadata": {},
   "outputs": [
    {
     "data": {
      "text/plain": [
       "True"
      ]
     },
     "execution_count": 24,
     "metadata": {},
     "output_type": "execute_result"
    }
   ],
   "source": [
    "'S123'.isalnum()"
   ]
  },
  {
   "cell_type": "code",
   "execution_count": 25,
   "id": "2b056844",
   "metadata": {},
   "outputs": [
    {
     "data": {
      "text/plain": [
       "False"
      ]
     },
     "execution_count": 25,
     "metadata": {},
     "output_type": "execute_result"
    }
   ],
   "source": [
    "'sa 12'.isalnum()"
   ]
  },
  {
   "cell_type": "code",
   "execution_count": 27,
   "id": "4d003f3a",
   "metadata": {},
   "outputs": [
    {
     "data": {
      "text/plain": [
       "True"
      ]
     },
     "execution_count": 27,
     "metadata": {},
     "output_type": "execute_result"
    }
   ],
   "source": [
    "\" \".isspace()"
   ]
  },
  {
   "cell_type": "code",
   "execution_count": 29,
   "id": "59e33b28",
   "metadata": {},
   "outputs": [
    {
     "data": {
      "text/plain": [
       "True"
      ]
     },
     "execution_count": 29,
     "metadata": {},
     "output_type": "execute_result"
    }
   ],
   "source": [
    "\" \".isspace()"
   ]
  },
  {
   "cell_type": "code",
   "execution_count": 32,
   "id": "6a487fd2",
   "metadata": {},
   "outputs": [
    {
     "data": {
      "text/plain": [
       "False"
      ]
     },
     "execution_count": 32,
     "metadata": {},
     "output_type": "execute_result"
    }
   ],
   "source": [
    "a='5'\n",
    "a.isidentifier()"
   ]
  },
  {
   "cell_type": "code",
   "execution_count": 33,
   "id": "2ecb9f2e",
   "metadata": {},
   "outputs": [
    {
     "data": {
      "text/plain": [
       "True"
      ]
     },
     "execution_count": 33,
     "metadata": {},
     "output_type": "execute_result"
    }
   ],
   "source": [
    "a='12'\n",
    "a.isdecimal()"
   ]
  },
  {
   "cell_type": "code",
   "execution_count": 34,
   "id": "2e8fe695",
   "metadata": {},
   "outputs": [
    {
     "data": {
      "text/plain": [
       "True"
      ]
     },
     "execution_count": 34,
     "metadata": {},
     "output_type": "execute_result"
    }
   ],
   "source": [
    "a.isdigit()"
   ]
  },
  {
   "cell_type": "code",
   "execution_count": 35,
   "id": "a71407fd",
   "metadata": {},
   "outputs": [
    {
     "data": {
      "text/plain": [
       "True"
      ]
     },
     "execution_count": 35,
     "metadata": {},
     "output_type": "execute_result"
    }
   ],
   "source": [
    "a.isnumeric()"
   ]
  },
  {
   "cell_type": "code",
   "execution_count": 36,
   "id": "fb58c7ac",
   "metadata": {},
   "outputs": [
    {
     "data": {
      "text/plain": [
       "False"
      ]
     },
     "execution_count": 36,
     "metadata": {},
     "output_type": "execute_result"
    }
   ],
   "source": [
    "'⁵⁄₄'.isdigit()"
   ]
  },
  {
   "cell_type": "code",
   "execution_count": 37,
   "id": "71ff4bcb",
   "metadata": {},
   "outputs": [
    {
     "data": {
      "text/plain": [
       "False"
      ]
     },
     "execution_count": 37,
     "metadata": {},
     "output_type": "execute_result"
    }
   ],
   "source": [
    "'⁵⁄₄'.isdecimal()"
   ]
  },
  {
   "cell_type": "code",
   "execution_count": 39,
   "id": "2be231ea",
   "metadata": {},
   "outputs": [
    {
     "data": {
      "text/plain": [
       "False"
      ]
     },
     "execution_count": 39,
     "metadata": {},
     "output_type": "execute_result"
    }
   ],
   "source": [
    "''.isnumeric()"
   ]
  },
  {
   "cell_type": "code",
   "execution_count": 40,
   "id": "88be05e0",
   "metadata": {},
   "outputs": [
    {
     "data": {
      "text/plain": [
       "True"
      ]
     },
     "execution_count": 40,
     "metadata": {},
     "output_type": "execute_result"
    }
   ],
   "source": [
    "'½'.isnumeric()"
   ]
  },
  {
   "cell_type": "code",
   "execution_count": 41,
   "id": "4127c0de",
   "metadata": {},
   "outputs": [
    {
     "data": {
      "text/plain": [
       "False"
      ]
     },
     "execution_count": 41,
     "metadata": {},
     "output_type": "execute_result"
    }
   ],
   "source": [
    "'½'.isdecimal()"
   ]
  },
  {
   "cell_type": "code",
   "execution_count": 42,
   "id": "a1613704",
   "metadata": {},
   "outputs": [
    {
     "data": {
      "text/plain": [
       "False"
      ]
     },
     "execution_count": 42,
     "metadata": {},
     "output_type": "execute_result"
    }
   ],
   "source": [
    "'²3455'.isdecimal()"
   ]
  },
  {
   "cell_type": "code",
   "execution_count": 43,
   "id": "3e5be5b0",
   "metadata": {},
   "outputs": [
    {
     "data": {
      "text/plain": [
       "True"
      ]
     },
     "execution_count": 43,
     "metadata": {},
     "output_type": "execute_result"
    }
   ],
   "source": [
    "'²3455'.isnumeric()"
   ]
  },
  {
   "cell_type": "code",
   "execution_count": 44,
   "id": "2e914cd9",
   "metadata": {},
   "outputs": [
    {
     "data": {
      "text/plain": [
       "False"
      ]
     },
     "execution_count": 44,
     "metadata": {},
     "output_type": "execute_result"
    }
   ],
   "source": [
    "'5²'.isdecimal()"
   ]
  },
  {
   "cell_type": "code",
   "execution_count": 45,
   "id": "aba8fd1d",
   "metadata": {},
   "outputs": [
    {
     "data": {
      "text/plain": [
       "False"
      ]
     },
     "execution_count": 45,
     "metadata": {},
     "output_type": "execute_result"
    }
   ],
   "source": [
    "'U+0A69'.isdecimal()"
   ]
  },
  {
   "cell_type": "code",
   "execution_count": 46,
   "id": "6cb758b9",
   "metadata": {},
   "outputs": [
    {
     "data": {
      "text/plain": [
       "False"
      ]
     },
     "execution_count": 46,
     "metadata": {},
     "output_type": "execute_result"
    }
   ],
   "source": [
    "'U+0660'.isdecimal()"
   ]
  },
  {
   "cell_type": "code",
   "execution_count": null,
   "id": "39184b38",
   "metadata": {},
   "outputs": [],
   "source": []
  },
  {
   "cell_type": "code",
   "execution_count": 48,
   "id": "b5f0f565",
   "metadata": {},
   "outputs": [
    {
     "data": {
      "text/plain": [
       "'Grras Solution Jaipur'"
      ]
     },
     "execution_count": 48,
     "metadata": {},
     "output_type": "execute_result"
    }
   ],
   "source": [
    "a='Grras Solution India'\n",
    "a.replace('India','Jaipur')"
   ]
  },
  {
   "cell_type": "code",
   "execution_count": 49,
   "id": "c73c1652",
   "metadata": {},
   "outputs": [
    {
     "data": {
      "text/plain": [
       "'Grras S5luti5n India'"
      ]
     },
     "execution_count": 49,
     "metadata": {},
     "output_type": "execute_result"
    }
   ],
   "source": [
    "a.replace('o','5')"
   ]
  },
  {
   "cell_type": "code",
   "execution_count": 50,
   "id": "c7ccc5b8",
   "metadata": {},
   "outputs": [
    {
     "data": {
      "text/plain": [
       "65"
      ]
     },
     "execution_count": 50,
     "metadata": {},
     "output_type": "execute_result"
    }
   ],
   "source": [
    "ord('A')"
   ]
  },
  {
   "cell_type": "code",
   "execution_count": 51,
   "id": "2fd3a2ba",
   "metadata": {},
   "outputs": [
    {
     "data": {
      "text/plain": [
       "36"
      ]
     },
     "execution_count": 51,
     "metadata": {},
     "output_type": "execute_result"
    }
   ],
   "source": [
    "ord('$')"
   ]
  },
  {
   "cell_type": "code",
   "execution_count": 52,
   "id": "80b350e5",
   "metadata": {},
   "outputs": [
    {
     "data": {
      "text/plain": [
       "'A'"
      ]
     },
     "execution_count": 52,
     "metadata": {},
     "output_type": "execute_result"
    }
   ],
   "source": [
    "chr(65)"
   ]
  },
  {
   "cell_type": "code",
   "execution_count": 53,
   "id": "729be2f6",
   "metadata": {},
   "outputs": [
    {
     "data": {
      "text/plain": [
       "True"
      ]
     },
     "execution_count": 53,
     "metadata": {},
     "output_type": "execute_result"
    }
   ],
   "source": [
    "a='Grras Solution'\n",
    "a.isascii()"
   ]
  },
  {
   "cell_type": "code",
   "execution_count": 54,
   "id": "4c8decde",
   "metadata": {},
   "outputs": [
    {
     "data": {
      "text/plain": [
       "False"
      ]
     },
     "execution_count": 54,
     "metadata": {},
     "output_type": "execute_result"
    }
   ],
   "source": [
    "a='こんにちは'\n",
    "a.isascii()"
   ]
  },
  {
   "cell_type": "code",
   "execution_count": null,
   "id": "e12daf1b",
   "metadata": {},
   "outputs": [],
   "source": []
  }
 ],
 "metadata": {
  "kernelspec": {
   "display_name": "Python 3 (ipykernel)",
   "language": "python",
   "name": "python3"
  },
  "language_info": {
   "codemirror_mode": {
    "name": "ipython",
    "version": 3
   },
   "file_extension": ".py",
   "mimetype": "text/x-python",
   "name": "python",
   "nbconvert_exporter": "python",
   "pygments_lexer": "ipython3",
   "version": "3.11.5"
  }
 },
 "nbformat": 4,
 "nbformat_minor": 5
}
