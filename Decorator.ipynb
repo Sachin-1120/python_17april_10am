{
 "cells": [
  {
   "cell_type": "code",
   "execution_count": 3,
   "id": "35e868bc",
   "metadata": {},
   "outputs": [
    {
     "name": "stdout",
     "output_type": "stream",
     "text": [
      "Enter number3\n"
     ]
    }
   ],
   "source": [
    "a=int(input('Enter number'))\n"
   ]
  },
  {
   "cell_type": "code",
   "execution_count": 4,
   "id": "9b32594a",
   "metadata": {},
   "outputs": [
    {
     "data": {
      "text/plain": [
       "int"
      ]
     },
     "execution_count": 4,
     "metadata": {},
     "output_type": "execute_result"
    }
   ],
   "source": [
    "type(a)"
   ]
  },
  {
   "cell_type": "markdown",
   "id": "98e6a323",
   "metadata": {},
   "source": [
    "#### 1 2 3 4 5 6 7 8 9"
   ]
  },
  {
   "cell_type": "code",
   "execution_count": 8,
   "id": "85b1433c",
   "metadata": {},
   "outputs": [
    {
     "name": "stdout",
     "output_type": "stream",
     "text": [
      "Enter number1 2 3 4 5\n"
     ]
    },
    {
     "data": {
      "text/plain": [
       "['1', '2', '3', '4', '5']"
      ]
     },
     "execution_count": 8,
     "metadata": {},
     "output_type": "execute_result"
    }
   ],
   "source": [
    "input('Enter number').split()"
   ]
  },
  {
   "cell_type": "code",
   "execution_count": 6,
   "id": "c69677a9",
   "metadata": {},
   "outputs": [
    {
     "name": "stdout",
     "output_type": "stream",
     "text": [
      "Enter number1 2 3 4 5 6 7\n"
     ]
    },
    {
     "data": {
      "text/plain": [
       "[1, 2, 3, 4, 5, 6, 7]"
      ]
     },
     "execution_count": 6,
     "metadata": {},
     "output_type": "execute_result"
    }
   ],
   "source": [
    "list(map(int,input('Enter number').split()))"
   ]
  },
  {
   "cell_type": "code",
   "execution_count": null,
   "id": "d614fce9",
   "metadata": {},
   "outputs": [],
   "source": []
  },
  {
   "cell_type": "code",
   "execution_count": null,
   "id": "15ead0ad",
   "metadata": {},
   "outputs": [],
   "source": []
  },
  {
   "cell_type": "markdown",
   "id": "9f438a75",
   "metadata": {},
   "source": [
    "## Closures "
   ]
  },
  {
   "cell_type": "code",
   "execution_count": 32,
   "id": "abb7e4af",
   "metadata": {},
   "outputs": [],
   "source": [
    "def alpha(name):\n",
    "    print('Inside Outer Function')\n",
    "    def inner():\n",
    "        print('Inside Inner Function ',name)\n",
    "        return 'hi'\n",
    "    \n",
    "        \n",
    "    return inner"
   ]
  },
  {
   "cell_type": "code",
   "execution_count": 34,
   "id": "5e02a754",
   "metadata": {},
   "outputs": [
    {
     "name": "stdout",
     "output_type": "stream",
     "text": [
      "Enter namesachin\n",
      "Inside Outer Function\n"
     ]
    }
   ],
   "source": [
    "a=alpha(input('Enter name'))"
   ]
  },
  {
   "cell_type": "code",
   "execution_count": 35,
   "id": "82e2aefc",
   "metadata": {},
   "outputs": [
    {
     "name": "stdout",
     "output_type": "stream",
     "text": [
      "Inside Inner Function  sachin\n"
     ]
    },
    {
     "data": {
      "text/plain": [
       "'hi'"
      ]
     },
     "execution_count": 35,
     "metadata": {},
     "output_type": "execute_result"
    }
   ],
   "source": [
    "a()"
   ]
  },
  {
   "cell_type": "code",
   "execution_count": null,
   "id": "171721d0",
   "metadata": {},
   "outputs": [],
   "source": []
  },
  {
   "cell_type": "code",
   "execution_count": null,
   "id": "fbb00beb",
   "metadata": {},
   "outputs": [],
   "source": []
  },
  {
   "cell_type": "code",
   "execution_count": null,
   "id": "332b136f",
   "metadata": {},
   "outputs": [],
   "source": []
  },
  {
   "cell_type": "markdown",
   "id": "bf5b4d4b",
   "metadata": {},
   "source": [
    "## Decorator"
   ]
  },
  {
   "cell_type": "code",
   "execution_count": 36,
   "id": "269cec1e",
   "metadata": {},
   "outputs": [
    {
     "data": {
      "text/plain": [
       "4.0"
      ]
     },
     "execution_count": 36,
     "metadata": {},
     "output_type": "execute_result"
    }
   ],
   "source": [
    "def div(a,b):\n",
    "    return a/b\n",
    "div(8,2)"
   ]
  },
  {
   "cell_type": "code",
   "execution_count": 37,
   "id": "52da5cac",
   "metadata": {},
   "outputs": [
    {
     "data": {
      "text/plain": [
       "0.25"
      ]
     },
     "execution_count": 37,
     "metadata": {},
     "output_type": "execute_result"
    }
   ],
   "source": [
    "div(2,8)"
   ]
  },
  {
   "cell_type": "code",
   "execution_count": 38,
   "id": "f5b496db",
   "metadata": {},
   "outputs": [
    {
     "data": {
      "text/plain": [
       "4.0"
      ]
     },
     "execution_count": 38,
     "metadata": {},
     "output_type": "execute_result"
    }
   ],
   "source": [
    "def div(a,b):\n",
    "    if a<b:\n",
    "        a,b=b,a\n",
    "    return a/b\n",
    "div(2,8)"
   ]
  },
  {
   "cell_type": "code",
   "execution_count": 39,
   "id": "e5d074af",
   "metadata": {},
   "outputs": [
    {
     "data": {
      "text/plain": [
       "4.0"
      ]
     },
     "execution_count": 39,
     "metadata": {},
     "output_type": "execute_result"
    }
   ],
   "source": [
    "div(8,2)"
   ]
  },
  {
   "cell_type": "code",
   "execution_count": 7,
   "id": "ede075fa",
   "metadata": {},
   "outputs": [],
   "source": [
    "def div(a,b):\n",
    "    return a/b\n",
    "def smart_div(func):\n",
    "    def inner(a,b):\n",
    "        if a<b:\n",
    "            a,b=b,a\n",
    "        print(func(a,b))\n",
    "    return inner\n",
    "div=smart_div(div)"
   ]
  },
  {
   "cell_type": "code",
   "execution_count": 5,
   "id": "f31c58b6",
   "metadata": {},
   "outputs": [
    {
     "name": "stdout",
     "output_type": "stream",
     "text": [
      "4.0\n"
     ]
    }
   ],
   "source": [
    "div(2,8)"
   ]
  },
  {
   "cell_type": "code",
   "execution_count": 1,
   "id": "68206e0f",
   "metadata": {},
   "outputs": [
    {
     "name": "stdout",
     "output_type": "stream",
     "text": [
      "******************************\n",
      "sachin\n",
      "******************************\n"
     ]
    }
   ],
   "source": [
    "def smart_print(func=print):\n",
    "    def inner(*a):\n",
    "        print('*'*30)\n",
    "        func(*a)\n",
    "        print('*'*30)\n",
    "    return inner\n",
    "a=smart_print()\n",
    "a('sachin')"
   ]
  },
  {
   "cell_type": "code",
   "execution_count": 8,
   "id": "9cc214d7",
   "metadata": {},
   "outputs": [],
   "source": [
    "def percentage_calculator(s1,s2,s3,s4,s5):\n",
    "    return (s1+s2+s3+s4+s5)/5\n"
   ]
  },
  {
   "cell_type": "code",
   "execution_count": 9,
   "id": "465de3d8",
   "metadata": {},
   "outputs": [],
   "source": [
    "def bonus_adder(func):\n",
    "    def inner(s1,s2,s3,s4,s5):\n",
    "        if s3<=90:\n",
    "            s3+=10\n",
    "        else:\n",
    "            s3=100\n",
    "        print(func(s1,s2,s3,s4,s5))\n",
    "    return inner\n"
   ]
  },
  {
   "cell_type": "code",
   "execution_count": 10,
   "id": "08326187",
   "metadata": {},
   "outputs": [],
   "source": [
    "percentage_calculator=bonus_adder(percentage_calculator)"
   ]
  },
  {
   "cell_type": "code",
   "execution_count": 12,
   "id": "b44867d3",
   "metadata": {},
   "outputs": [
    {
     "name": "stdout",
     "output_type": "stream",
     "text": [
      "90.0\n"
     ]
    }
   ],
   "source": [
    "percentage_calculator(90,90,80,90,90)"
   ]
  },
  {
   "cell_type": "code",
   "execution_count": 26,
   "id": "6c7f50ea",
   "metadata": {},
   "outputs": [],
   "source": [
    "count=0\n",
    "def smart_div(func):\n",
    "    def inner(a,b):\n",
    "        global count\n",
    "        count+=1\n",
    "        if a<b:\n",
    "            a,b=b,a\n",
    "        print(func(a,b))\n",
    "        print('count-->',count)\n",
    "    return inner"
   ]
  },
  {
   "cell_type": "code",
   "execution_count": 27,
   "id": "aa2d6347",
   "metadata": {},
   "outputs": [],
   "source": [
    "@smart_div\n",
    "def div(a,b):\n",
    "    return a/b"
   ]
  },
  {
   "cell_type": "code",
   "execution_count": 31,
   "id": "1a49b588",
   "metadata": {},
   "outputs": [
    {
     "name": "stdout",
     "output_type": "stream",
     "text": [
      "3.0\n",
      "count--> 4\n"
     ]
    }
   ],
   "source": [
    "div(2,6)"
   ]
  },
  {
   "cell_type": "code",
   "execution_count": 1,
   "id": "d7b2f9f4",
   "metadata": {},
   "outputs": [
    {
     "name": "stdout",
     "output_type": "stream",
     "text": [
      "20\n",
      "28.26\n"
     ]
    }
   ],
   "source": [
    "def calculate_area(shape):\n",
    "      if hasattr(shape, \"width\") and hasattr(shape, \"height\"):\n",
    "        return shape.width * shape.height\n",
    "      elif hasattr(shape, \"radius\"):\n",
    "        return 3.14 * shape.radius**2\n",
    "      else:\n",
    "        raise TypeError(\"Unsupported shape type\")\n",
    "\n",
    "class Rectangle:\n",
    "    def __init__(self, width, height):\n",
    "        self.width = width\n",
    "        self.height = height\n",
    "\n",
    "class Circle:\n",
    "    def __init__(self, radius):\n",
    "        self.radius = radius\n",
    "\n",
    "rect = Rectangle(5, 4)\n",
    "circle = Circle(3)\n",
    "\n",
    "print(calculate_area(rect))   # Output: 20\n",
    "print(calculate_area(circle))  # Output: 28.26\n"
   ]
  },
  {
   "cell_type": "code",
   "execution_count": 3,
   "id": "128045cb",
   "metadata": {},
   "outputs": [
    {
     "ename": "TypeError",
     "evalue": "Unsupported shape type",
     "output_type": "error",
     "traceback": [
      "\u001b[1;31m---------------------------------------------------------------------------\u001b[0m",
      "\u001b[1;31mTypeError\u001b[0m                                 Traceback (most recent call last)",
      "Cell \u001b[1;32mIn[3], line 1\u001b[0m\n\u001b[1;32m----> 1\u001b[0m calculate_area(\u001b[38;5;241m12\u001b[39m)\n",
      "Cell \u001b[1;32mIn[1], line 7\u001b[0m, in \u001b[0;36mcalculate_area\u001b[1;34m(shape)\u001b[0m\n\u001b[0;32m      5\u001b[0m   \u001b[38;5;28;01mreturn\u001b[39;00m \u001b[38;5;241m3.14\u001b[39m \u001b[38;5;241m*\u001b[39m shape\u001b[38;5;241m.\u001b[39mradius\u001b[38;5;241m*\u001b[39m\u001b[38;5;241m*\u001b[39m\u001b[38;5;241m2\u001b[39m\n\u001b[0;32m      6\u001b[0m \u001b[38;5;28;01melse\u001b[39;00m:\n\u001b[1;32m----> 7\u001b[0m   \u001b[38;5;28;01mraise\u001b[39;00m \u001b[38;5;167;01mTypeError\u001b[39;00m(\u001b[38;5;124m\"\u001b[39m\u001b[38;5;124mUnsupported shape type\u001b[39m\u001b[38;5;124m\"\u001b[39m)\n",
      "\u001b[1;31mTypeError\u001b[0m: Unsupported shape type"
     ]
    }
   ],
   "source": [
    "calculate_area(12)"
   ]
  },
  {
   "cell_type": "code",
   "execution_count": null,
   "id": "207f3be3",
   "metadata": {},
   "outputs": [],
   "source": []
  }
 ],
 "metadata": {
  "kernelspec": {
   "display_name": "Python 3 (ipykernel)",
   "language": "python",
   "name": "python3"
  },
  "language_info": {
   "codemirror_mode": {
    "name": "ipython",
    "version": 3
   },
   "file_extension": ".py",
   "mimetype": "text/x-python",
   "name": "python",
   "nbconvert_exporter": "python",
   "pygments_lexer": "ipython3",
   "version": "3.11.5"
  }
 },
 "nbformat": 4,
 "nbformat_minor": 5
}
