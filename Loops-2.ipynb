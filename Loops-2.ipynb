{
 "cells": [
  {
   "cell_type": "raw",
   "id": "a2d92164",
   "metadata": {},
   "source": [
    "# Series Printing\n",
    "#fabonicci series\n",
    "\n",
    "\n",
    "first term --> 0\n",
    "Second term --> 1\n",
    "\n",
    "nth term ---> (n-1)th term +(n-2)th term\n",
    "\n",
    "3 rd term -->1\n",
    "4th term ->2\n",
    "3 \n",
    "5\n",
    "8\n",
    "13\n",
    "21\n"
   ]
  },
  {
   "cell_type": "code",
   "execution_count": 5,
   "id": "33281670",
   "metadata": {},
   "outputs": [
    {
     "name": "stdout",
     "output_type": "stream",
     "text": [
      "Enter total no of terms10\n",
      "0\n",
      "1\n",
      "1\n",
      "2\n",
      "3\n",
      "5\n",
      "8\n",
      "13\n",
      "21\n",
      "34\n"
     ]
    }
   ],
   "source": [
    "# 5 terms \n",
    "#n=5\n",
    "n=int(input('Enter total no of terms'))\n",
    "i=0\n",
    "k=1\n",
    "l=1\n",
    "while i<n:\n",
    "    if i<2:\n",
    "        print(i)\n",
    "    else:\n",
    "        print(k)\n",
    "        k,l=k+l,k\n",
    "    i+=1\n",
    "        "
   ]
  },
  {
   "cell_type": "code",
   "execution_count": 17,
   "id": "886689dd",
   "metadata": {},
   "outputs": [
    {
     "name": "stdout",
     "output_type": "stream",
     "text": [
      "Enter total no of terms10\n",
      "0\n",
      "1\n",
      "1\n",
      "2\n",
      "3\n",
      "5\n",
      "8\n",
      "13\n",
      "21\n",
      "34\n"
     ]
    }
   ],
   "source": [
    "# 5 terms \n",
    "#n=5\n",
    "n=int(input('Enter total no of terms'))\n",
    "i=1\n",
    "k=0\n",
    "l=1\n",
    "while i<=n:\n",
    "    print(k)\n",
    "    k,l=k+l,k\n",
    "    i+=1\n",
    "        "
   ]
  },
  {
   "cell_type": "code",
   "execution_count": null,
   "id": "a0e3afa7",
   "metadata": {},
   "outputs": [],
   "source": [
    "z=k\n",
    "k=k+l\n",
    "l=z\n",
    "#\n",
    "k,l=k+l,k"
   ]
  },
  {
   "cell_type": "code",
   "execution_count": 8,
   "id": "f8b5a8f4",
   "metadata": {},
   "outputs": [],
   "source": [
    "a=5\n",
    "b=3"
   ]
  },
  {
   "cell_type": "code",
   "execution_count": 9,
   "id": "7620ef10",
   "metadata": {},
   "outputs": [],
   "source": [
    "a,b=b,a"
   ]
  },
  {
   "cell_type": "code",
   "execution_count": 10,
   "id": "8e1cd5bf",
   "metadata": {},
   "outputs": [
    {
     "data": {
      "text/plain": [
       "3"
      ]
     },
     "execution_count": 10,
     "metadata": {},
     "output_type": "execute_result"
    }
   ],
   "source": [
    "a"
   ]
  },
  {
   "cell_type": "code",
   "execution_count": 11,
   "id": "501db142",
   "metadata": {},
   "outputs": [
    {
     "data": {
      "text/plain": [
       "5"
      ]
     },
     "execution_count": 11,
     "metadata": {},
     "output_type": "execute_result"
    }
   ],
   "source": [
    "b"
   ]
  },
  {
   "cell_type": "code",
   "execution_count": 12,
   "id": "842c2395",
   "metadata": {},
   "outputs": [],
   "source": [
    "a,b,c=11,5,7"
   ]
  },
  {
   "cell_type": "code",
   "execution_count": 13,
   "id": "29eaf32e",
   "metadata": {},
   "outputs": [
    {
     "data": {
      "text/plain": [
       "11"
      ]
     },
     "execution_count": 13,
     "metadata": {},
     "output_type": "execute_result"
    }
   ],
   "source": [
    "a"
   ]
  },
  {
   "cell_type": "code",
   "execution_count": 14,
   "id": "5407de8d",
   "metadata": {},
   "outputs": [
    {
     "data": {
      "text/plain": [
       "5"
      ]
     },
     "execution_count": 14,
     "metadata": {},
     "output_type": "execute_result"
    }
   ],
   "source": [
    "b"
   ]
  },
  {
   "cell_type": "code",
   "execution_count": 15,
   "id": "7b210af5",
   "metadata": {},
   "outputs": [
    {
     "data": {
      "text/plain": [
       "7"
      ]
     },
     "execution_count": 15,
     "metadata": {},
     "output_type": "execute_result"
    }
   ],
   "source": [
    "c"
   ]
  },
  {
   "cell_type": "code",
   "execution_count": 19,
   "id": "34ff7021",
   "metadata": {},
   "outputs": [
    {
     "name": "stdout",
     "output_type": "stream",
     "text": [
      "Enter number10\n",
      "1\n",
      "5\n",
      "4\n",
      "9\n",
      "7\n",
      "13\n",
      "10\n",
      "17\n",
      "13\n",
      "21\n"
     ]
    }
   ],
   "source": [
    "# 1 5 4 9 7 13 10 17 .........\n",
    " # 0 1 2 3 4 5 \n",
    "    \n",
    "n=int(input('Enter number'))\n",
    "i=0\n",
    "j=1\n",
    "k=5\n",
    "while i<n:\n",
    "    if i%2==0:\n",
    "            print(j)\n",
    "            j+=3\n",
    "    else:\n",
    "        print(k)\n",
    "        k+=4\n",
    "    i+=1"
   ]
  },
  {
   "cell_type": "code",
   "execution_count": 23,
   "id": "dc2cb4ca",
   "metadata": {},
   "outputs": [
    {
     "name": "stdout",
     "output_type": "stream",
     "text": [
      "Enter Count5\n",
      "Enter number1\n",
      "Enter number5\n",
      "Enter number3\n",
      "Enter number8\n",
      "Enter number4\n",
      "Average 4.2\n"
     ]
    }
   ],
   "source": [
    "#list of numbers user input\n",
    "#average of the numbers\n",
    "#2/0--inf\n",
    "#0/2--0\n",
    "\n",
    "l=[]\n",
    "n=int(input('Enter Count'))\n",
    "i=0\n",
    "while i<n:\n",
    "    l.append(int(input('Enter number')))\n",
    "    i+=1\n",
    "print('Average',sum(l)/len(l))"
   ]
  },
  {
   "cell_type": "code",
   "execution_count": 22,
   "id": "a56fe501",
   "metadata": {},
   "outputs": [
    {
     "data": {
      "text/plain": [
       "[1, 5, 3, 8, 4]"
      ]
     },
     "execution_count": 22,
     "metadata": {},
     "output_type": "execute_result"
    }
   ],
   "source": [
    "l"
   ]
  },
  {
   "cell_type": "code",
   "execution_count": 26,
   "id": "0466cfe4",
   "metadata": {},
   "outputs": [
    {
     "name": "stdout",
     "output_type": "stream",
     "text": [
      "Hello 0\n",
      "Bye 1\n",
      "Hello 2\n",
      "Bye 3\n",
      "Hello 4\n"
     ]
    }
   ],
   "source": [
    "i=0\n",
    "while i<5:\n",
    "    if i%2==0:\n",
    "        print(f'Hello {i}')\n",
    "    else:\n",
    "        print(f'Bye {i}')\n",
    "    i+=1"
   ]
  },
  {
   "cell_type": "code",
   "execution_count": 28,
   "id": "ee134479",
   "metadata": {},
   "outputs": [
    {
     "name": "stdout",
     "output_type": "stream",
     "text": [
      "sum of the no: 55\n"
     ]
    }
   ],
   "source": [
    "i=1\n",
    "j=0\n",
    "while i<=10:\n",
    "    j=j+i\n",
    "    i+=1\n",
    "print(\"sum of the no:\", j)"
   ]
  },
  {
   "cell_type": "code",
   "execution_count": null,
   "id": "c1e24618",
   "metadata": {},
   "outputs": [],
   "source": []
  }
 ],
 "metadata": {
  "kernelspec": {
   "display_name": "Python 3 (ipykernel)",
   "language": "python",
   "name": "python3"
  },
  "language_info": {
   "codemirror_mode": {
    "name": "ipython",
    "version": 3
   },
   "file_extension": ".py",
   "mimetype": "text/x-python",
   "name": "python",
   "nbconvert_exporter": "python",
   "pygments_lexer": "ipython3",
   "version": "3.11.5"
  }
 },
 "nbformat": 4,
 "nbformat_minor": 5
}
