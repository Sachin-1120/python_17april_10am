{
 "cells": [
  {
   "cell_type": "code",
   "execution_count": 2,
   "id": "472b420f",
   "metadata": {},
   "outputs": [
    {
     "name": "stdout",
     "output_type": "stream",
     "text": [
      "hello\n",
      "hello\n",
      "hello\n",
      "hello\n",
      "hello\n"
     ]
    }
   ],
   "source": [
    "i=0\n",
    "while i<5:\n",
    "    print('hello')\n",
    "    i+=1"
   ]
  },
  {
   "cell_type": "code",
   "execution_count": 3,
   "id": "25134ca7",
   "metadata": {},
   "outputs": [
    {
     "name": "stdout",
     "output_type": "stream",
     "text": [
      "Hello\n",
      "Bye\n",
      "Bye\n",
      "Bye\n",
      "Bye\n",
      "Bye\n",
      "Hello\n",
      "Bye\n",
      "Bye\n",
      "Bye\n",
      "Bye\n",
      "Bye\n",
      "Hello\n",
      "Bye\n",
      "Bye\n",
      "Bye\n",
      "Bye\n",
      "Bye\n",
      "Hello\n",
      "Bye\n",
      "Bye\n",
      "Bye\n",
      "Bye\n",
      "Bye\n",
      "Hello\n",
      "Bye\n",
      "Bye\n",
      "Bye\n",
      "Bye\n",
      "Bye\n"
     ]
    }
   ],
   "source": [
    "i=0\n",
    "while i<5:\n",
    "    print('Hello')\n",
    "    i+=1\n",
    "    j=0\n",
    "    while j<5:\n",
    "        print('Bye')\n",
    "        j+=1"
   ]
  },
  {
   "cell_type": "code",
   "execution_count": 16,
   "id": "b43af2c5",
   "metadata": {},
   "outputs": [
    {
     "name": "stdout",
     "output_type": "stream",
     "text": [
      "*****\n",
      "*****\n",
      "*****\n",
      "*****\n",
      "*****\n"
     ]
    }
   ],
   "source": [
    "row=0\n",
    "while row<5:\n",
    "    col=0\n",
    "    while col<5:\n",
    "        print('*',end='')\n",
    "        col+=1\n",
    "    row+=1\n",
    "    print('')\n",
    "    "
   ]
  },
  {
   "cell_type": "code",
   "execution_count": 15,
   "id": "edc7ab6f",
   "metadata": {},
   "outputs": [
    {
     "name": "stdout",
     "output_type": "stream",
     "text": [
      "hellohiBye\n"
     ]
    }
   ],
   "source": [
    "print('hello',end='hi')\n",
    "print('Bye')\n"
   ]
  },
  {
   "cell_type": "code",
   "execution_count": 23,
   "id": "6920a1b2",
   "metadata": {},
   "outputs": [
    {
     "name": "stdout",
     "output_type": "stream",
     "text": [
      "*    \n",
      "**   \n",
      "***  \n",
      "**** \n",
      "*****\n"
     ]
    }
   ],
   "source": [
    "row=0\n",
    "while row<5:\n",
    "    col=0\n",
    "    while col<5:\n",
    "        if row>=col:\n",
    "            print('*',end='')\n",
    "        else:\n",
    "            print(' ',end='')\n",
    "        col+=1\n",
    "    row+=1\n",
    "    print('')\n",
    "    "
   ]
  },
  {
   "cell_type": "code",
   "execution_count": 21,
   "id": "50a0be95",
   "metadata": {},
   "outputs": [
    {
     "name": "stdout",
     "output_type": "stream",
     "text": [
      "*****\n",
      "*****\n",
      "*****\n",
      "*****\n",
      "*****\n"
     ]
    }
   ],
   "source": [
    "row=0\n",
    "while row<5:\n",
    "    col=0\n",
    "    while col<5:\n",
    "        print('*',end='')\n",
    "        col+=1\n",
    "    row+=1    \n",
    "    print('')"
   ]
  },
  {
   "cell_type": "code",
   "execution_count": 24,
   "id": "172a2da9",
   "metadata": {},
   "outputs": [
    {
     "name": "stdout",
     "output_type": "stream",
     "text": [
      "*****\n",
      " ****\n",
      "  ***\n",
      "   **\n",
      "    *\n"
     ]
    }
   ],
   "source": [
    "row=0\n",
    "while row<5:\n",
    "    col=0\n",
    "    while col<5:\n",
    "        if col>=row:\n",
    "            print('*',end='')\n",
    "        else:\n",
    "            print(' ',end='')\n",
    "        col+=1\n",
    "    row+=1\n",
    "    print('')\n",
    "    "
   ]
  },
  {
   "cell_type": "code",
   "execution_count": 26,
   "id": "5bc1580d",
   "metadata": {},
   "outputs": [
    {
     "name": "stdout",
     "output_type": "stream",
     "text": [
      "*****\n",
      " ****\n",
      "  ***\n",
      "   **\n",
      "    *\n"
     ]
    }
   ],
   "source": [
    "row=0\n",
    "while row<5:\n",
    "    col=0\n",
    "    while col<5:\n",
    "        if col>=row:\n",
    "            print('*',end='')\n",
    "        else:\n",
    "            print(' ',end='')\n",
    "        col+=1\n",
    "    row+=1    \n",
    "    print('')"
   ]
  },
  {
   "cell_type": "code",
   "execution_count": 27,
   "id": "6fe7d893",
   "metadata": {},
   "outputs": [
    {
     "name": "stdout",
     "output_type": "stream",
     "text": [
      "*****\n",
      "**** \n",
      "***  \n",
      "**   \n",
      "*    \n"
     ]
    }
   ],
   "source": [
    "row=0\n",
    "while row<5:\n",
    "    col=0\n",
    "    while col<5:\n",
    "        if 5-row>col:\n",
    "            print('*',end='')\n",
    "        else:\n",
    "            print(' ',end='')\n",
    "        col+=1\n",
    "    row+=1    \n",
    "    print('')"
   ]
  },
  {
   "cell_type": "code",
   "execution_count": 31,
   "id": "935cd0e7",
   "metadata": {},
   "outputs": [
    {
     "name": "stdout",
     "output_type": "stream",
     "text": [
      "    *\n",
      "   **\n",
      "  ***\n",
      " ****\n",
      "*****\n"
     ]
    }
   ],
   "source": [
    "row=0\n",
    "while row<5:\n",
    "    col=0\n",
    "    while col<5:\n",
    "        if 4-row<=col:\n",
    "            print('*',end='')\n",
    "        else:\n",
    "            print(' ',end='')\n",
    "        col+=1\n",
    "    row+=1    \n",
    "    print('')"
   ]
  },
  {
   "cell_type": "code",
   "execution_count": 35,
   "id": "53fa271c",
   "metadata": {},
   "outputs": [
    {
     "name": "stdout",
     "output_type": "stream",
     "text": [
      " *                          * \n",
      " *  *                    *  * \n",
      " *  *  *              *  *  * \n",
      " *  *  *  *        *  *  *  * \n",
      " *  *  *  *  *  *  *  *  *  * \n",
      " *  *  *  *  *  *  *  *  *  * \n",
      " *  *  *  *        *  *  *  * \n",
      " *  *  *              *  *  * \n",
      " *  *                    *  * \n",
      " *                          * \n"
     ]
    }
   ],
   "source": [
    "row=0\n",
    "while row<5:\n",
    "    col=0\n",
    "    while col<5:\n",
    "        if row>=col:\n",
    "            print(' * ',end='')\n",
    "        else:\n",
    "            print('   ',end='')\n",
    "        col+=1\n",
    "    col=0\n",
    "    while col<5:\n",
    "        if 4-row<=col:\n",
    "            print(' * ',end='')\n",
    "        else:\n",
    "            print('   ',end='')\n",
    "        col+=1\n",
    "    row+=1    \n",
    "    print('')\n",
    "    \n",
    "# Part2\n",
    "row=0\n",
    "while row<5:\n",
    "    col=0\n",
    "    while col<5:\n",
    "        if 5-row>col:\n",
    "            print(' * ',end='')\n",
    "        else:\n",
    "            print('   ',end='')\n",
    "        col+=1\n",
    "    col=0\n",
    "    while col<5:\n",
    "        if col>=row:\n",
    "            print(' * ',end='')\n",
    "        else:\n",
    "            print('   ',end='')\n",
    "        col+=1\n",
    "    row+=1    \n",
    "    print('')"
   ]
  },
  {
   "cell_type": "code",
   "execution_count": 37,
   "id": "9307e996",
   "metadata": {},
   "outputs": [
    {
     "name": "stdout",
     "output_type": "stream",
     "text": [
      "Collecting pynput\n",
      "  Obtaining dependency information for pynput from https://files.pythonhosted.org/packages/ef/1d/fdef3fdc9dc8dedc65898c8ad0e8922a914bb89c5308887e45f9aafaec36/pynput-1.7.7-py2.py3-none-any.whl.metadata\n",
      "  Downloading pynput-1.7.7-py2.py3-none-any.whl.metadata (31 kB)\n",
      "Requirement already satisfied: six in c:\\users\\user\\anaconda3\\lib\\site-packages (from pynput) (1.16.0)\n",
      "Downloading pynput-1.7.7-py2.py3-none-any.whl (90 kB)\n",
      "   ---------------------------------------- 0.0/90.2 kB ? eta -:--:--\n",
      "   ------------------------------------ --- 81.9/90.2 kB 4.8 MB/s eta 0:00:01\n",
      "   ---------------------------------------- 90.2/90.2 kB 1.3 MB/s eta 0:00:00\n",
      "Installing collected packages: pynput\n",
      "Successfully installed pynput-1.7.7\n",
      "Pressed: 'h'\n"
     ]
    },
    {
     "name": "stderr",
     "output_type": "stream",
     "text": [
      "Unhandled exception in listener callback\n",
      "Traceback (most recent call last):\n",
      "  File \"C:\\Users\\user\\anaconda3\\Lib\\site-packages\\pynput\\_util\\__init__.py\", line 229, in inner\n",
      "    return f(self, *args, **kwargs)\n",
      "           ^^^^^^^^^^^^^^^^^^^^^^^^\n",
      "  File \"C:\\Users\\user\\anaconda3\\Lib\\site-packages\\pynput\\keyboard\\_win32.py\", line 319, in _process\n",
      "    self.on_release(key)\n",
      "  File \"C:\\Users\\user\\anaconda3\\Lib\\site-packages\\pynput\\_util\\__init__.py\", line 145, in inner\n",
      "    if f(*args) is False:\n",
      "       ^^^^^^^^\n",
      "  File \"C:\\Users\\user\\AppData\\Local\\Temp\\ipykernel_11000\\2215073793.py\", line 13, in on_release\n",
      "    if key == Keyboard.esc:\n",
      "              ^^^^^^^^\n",
      "NameError: name 'Keyboard' is not defined\n"
     ]
    },
    {
     "ename": "NameError",
     "evalue": "name 'Keyboard' is not defined",
     "output_type": "error",
     "traceback": [
      "\u001b[1;31m---------------------------------------------------------------------------\u001b[0m",
      "\u001b[1;31mNameError\u001b[0m                                 Traceback (most recent call last)",
      "Cell \u001b[1;32mIn[37], line 18\u001b[0m\n\u001b[0;32m     16\u001b[0m \u001b[38;5;66;03m# Start listening for events\u001b[39;00m\n\u001b[0;32m     17\u001b[0m \u001b[38;5;28;01mwith\u001b[39;00m Listener(on_press\u001b[38;5;241m=\u001b[39mon_press, on_release\u001b[38;5;241m=\u001b[39mon_release) \u001b[38;5;28;01mas\u001b[39;00m listener:\n\u001b[1;32m---> 18\u001b[0m   listener\u001b[38;5;241m.\u001b[39mjoin()\n",
      "File \u001b[1;32m~\\anaconda3\\Lib\\site-packages\\pynput\\_util\\__init__.py:281\u001b[0m, in \u001b[0;36mAbstractListener.join\u001b[1;34m(self, timeout, *args)\u001b[0m\n\u001b[0;32m    278\u001b[0m \u001b[38;5;28;01mtry\u001b[39;00m:\n\u001b[0;32m    279\u001b[0m     exc_type, exc_value, exc_traceback \u001b[38;5;241m=\u001b[39m \u001b[38;5;28mself\u001b[39m\u001b[38;5;241m.\u001b[39m_queue\u001b[38;5;241m.\u001b[39mget(\n\u001b[0;32m    280\u001b[0m         timeout\u001b[38;5;241m=\u001b[39mtimeout)\n\u001b[1;32m--> 281\u001b[0m     six\u001b[38;5;241m.\u001b[39mreraise(exc_type, exc_value, exc_traceback)\n\u001b[0;32m    282\u001b[0m \u001b[38;5;28;01mexcept\u001b[39;00m queue\u001b[38;5;241m.\u001b[39mEmpty:\n\u001b[0;32m    283\u001b[0m     \u001b[38;5;28;01mpass\u001b[39;00m\n",
      "File \u001b[1;32m~\\anaconda3\\Lib\\site-packages\\six.py:718\u001b[0m, in \u001b[0;36mreraise\u001b[1;34m(tp, value, tb)\u001b[0m\n\u001b[0;32m    716\u001b[0m         value \u001b[38;5;241m=\u001b[39m tp()\n\u001b[0;32m    717\u001b[0m     \u001b[38;5;28;01mif\u001b[39;00m value\u001b[38;5;241m.\u001b[39m__traceback__ \u001b[38;5;129;01mis\u001b[39;00m \u001b[38;5;129;01mnot\u001b[39;00m tb:\n\u001b[1;32m--> 718\u001b[0m         \u001b[38;5;28;01mraise\u001b[39;00m value\u001b[38;5;241m.\u001b[39mwith_traceback(tb)\n\u001b[0;32m    719\u001b[0m     \u001b[38;5;28;01mraise\u001b[39;00m value\n\u001b[0;32m    720\u001b[0m \u001b[38;5;28;01mfinally\u001b[39;00m:\n",
      "File \u001b[1;32m~\\anaconda3\\Lib\\site-packages\\pynput\\_util\\__init__.py:229\u001b[0m, in \u001b[0;36mAbstractListener._emitter.<locals>.inner\u001b[1;34m(self, *args, **kwargs)\u001b[0m\n\u001b[0;32m    225\u001b[0m \u001b[38;5;129m@functools\u001b[39m\u001b[38;5;241m.\u001b[39mwraps(f)\n\u001b[0;32m    226\u001b[0m \u001b[38;5;28;01mdef\u001b[39;00m \u001b[38;5;21minner\u001b[39m(\u001b[38;5;28mself\u001b[39m, \u001b[38;5;241m*\u001b[39margs, \u001b[38;5;241m*\u001b[39m\u001b[38;5;241m*\u001b[39mkwargs):\n\u001b[0;32m    227\u001b[0m     \u001b[38;5;66;03m# pylint: disable=W0702; we want to catch all exception\u001b[39;00m\n\u001b[0;32m    228\u001b[0m     \u001b[38;5;28;01mtry\u001b[39;00m:\n\u001b[1;32m--> 229\u001b[0m         \u001b[38;5;28;01mreturn\u001b[39;00m f(\u001b[38;5;28mself\u001b[39m, \u001b[38;5;241m*\u001b[39margs, \u001b[38;5;241m*\u001b[39m\u001b[38;5;241m*\u001b[39mkwargs)\n\u001b[0;32m    230\u001b[0m     \u001b[38;5;28;01mexcept\u001b[39;00m \u001b[38;5;167;01mException\u001b[39;00m \u001b[38;5;28;01mas\u001b[39;00m e:\n\u001b[0;32m    231\u001b[0m         \u001b[38;5;28;01mif\u001b[39;00m \u001b[38;5;129;01mnot\u001b[39;00m \u001b[38;5;28misinstance\u001b[39m(e, \u001b[38;5;28mself\u001b[39m\u001b[38;5;241m.\u001b[39m_HANDLED_EXCEPTIONS):\n",
      "File \u001b[1;32m~\\anaconda3\\Lib\\site-packages\\pynput\\keyboard\\_win32.py:319\u001b[0m, in \u001b[0;36mListener._process\u001b[1;34m(self, wparam, lparam)\u001b[0m\n\u001b[0;32m    316\u001b[0m     \u001b[38;5;28mself\u001b[39m\u001b[38;5;241m.\u001b[39mon_press(key)\n\u001b[0;32m    318\u001b[0m \u001b[38;5;28;01melif\u001b[39;00m msg \u001b[38;5;129;01min\u001b[39;00m \u001b[38;5;28mself\u001b[39m\u001b[38;5;241m.\u001b[39m_RELEASE_MESSAGES:\n\u001b[1;32m--> 319\u001b[0m     \u001b[38;5;28mself\u001b[39m\u001b[38;5;241m.\u001b[39mon_release(key)\n",
      "File \u001b[1;32m~\\anaconda3\\Lib\\site-packages\\pynput\\_util\\__init__.py:145\u001b[0m, in \u001b[0;36mAbstractListener.__init__.<locals>.wrapper.<locals>.inner\u001b[1;34m(*args)\u001b[0m\n\u001b[0;32m    144\u001b[0m \u001b[38;5;28;01mdef\u001b[39;00m \u001b[38;5;21minner\u001b[39m(\u001b[38;5;241m*\u001b[39margs):\n\u001b[1;32m--> 145\u001b[0m     \u001b[38;5;28;01mif\u001b[39;00m f(\u001b[38;5;241m*\u001b[39margs) \u001b[38;5;129;01mis\u001b[39;00m \u001b[38;5;28;01mFalse\u001b[39;00m:\n\u001b[0;32m    146\u001b[0m         \u001b[38;5;28;01mraise\u001b[39;00m \u001b[38;5;28mself\u001b[39m\u001b[38;5;241m.\u001b[39mStopException()\n",
      "Cell \u001b[1;32mIn[37], line 13\u001b[0m, in \u001b[0;36mon_release\u001b[1;34m(key)\u001b[0m\n\u001b[0;32m     10\u001b[0m \u001b[38;5;28;01mdef\u001b[39;00m \u001b[38;5;21mon_release\u001b[39m(key):\n\u001b[0;32m     11\u001b[0m   \u001b[38;5;66;03m# Print the released key (optional)\u001b[39;00m\n\u001b[0;32m     12\u001b[0m   \u001b[38;5;66;03m# print(f\"Released: {key}\")\u001b[39;00m\n\u001b[1;32m---> 13\u001b[0m   \u001b[38;5;28;01mif\u001b[39;00m key \u001b[38;5;241m==\u001b[39m Keyboard\u001b[38;5;241m.\u001b[39mesc:\n\u001b[0;32m     14\u001b[0m     \u001b[38;5;28;01mreturn\u001b[39;00m \u001b[38;5;28;01mFalse\u001b[39;00m\n",
      "\u001b[1;31mNameError\u001b[0m: name 'Keyboard' is not defined"
     ]
    }
   ],
   "source": [
    "!pip install pynput\n",
    "from pynput.keyboard import Listener\n",
    "\n",
    "# Function to handle key presses\n",
    "def on_press(key):\n",
    "  # Print the pressed key (replace with responsible actions if needed)\n",
    "  print(f\"Pressed: {key}\")\n",
    "\n",
    "# Function to handle key releases (optional)\n",
    "def on_release(key):\n",
    "  # Print the released key (optional)\n",
    "  # print(f\"Released: {key}\")\n",
    "  if key == pynput.Keyboard.esc:\n",
    "    return False  # Exit on pressing Escape key\n",
    "\n",
    "# Start listening for events\n",
    "with Listener(on_press=on_press, on_release=on_release) as listener:\n",
    "  listener.join()"
   ]
  },
  {
   "cell_type": "code",
   "execution_count": 40,
   "id": "10dc50f7",
   "metadata": {},
   "outputs": [
    {
     "name": "stdout",
     "output_type": "stream",
     "text": [
      "Collecting keyboard\n",
      "  Obtaining dependency information for keyboard from https://files.pythonhosted.org/packages/55/88/287159903c5b3fc6d47b651c7ab65a54dcf9c9916de546188a7f62870d6d/keyboard-0.13.5-py3-none-any.whl.metadata\n",
      "  Downloading keyboard-0.13.5-py3-none-any.whl.metadata (4.0 kB)\n",
      "Downloading keyboard-0.13.5-py3-none-any.whl (58 kB)\n",
      "   ---------------------------------------- 0.0/58.1 kB ? eta -:--:--\n",
      "   ----------------------------------- ---- 51.2/58.1 kB ? eta -:--:--\n",
      "   ---------------------------------------- 58.1/58.1 kB 613.6 kB/s eta 0:00:00\n",
      "Installing collected packages: keyboard\n",
      "Successfully installed keyboard-0.13.5\n"
     ]
    }
   ],
   "source": [
    "!pip install keyboard"
   ]
  },
  {
   "cell_type": "code",
   "execution_count": 42,
   "id": "f50d50a0",
   "metadata": {},
   "outputs": [
    {
     "ename": "ModuleNotFoundError",
     "evalue": "No module named 'Keyboard'",
     "output_type": "error",
     "traceback": [
      "\u001b[1;31m---------------------------------------------------------------------------\u001b[0m",
      "\u001b[1;31mModuleNotFoundError\u001b[0m                       Traceback (most recent call last)",
      "Cell \u001b[1;32mIn[42], line 1\u001b[0m\n\u001b[1;32m----> 1\u001b[0m \u001b[38;5;28;01mimport\u001b[39;00m \u001b[38;5;21;01mKeyboard\u001b[39;00m\n\u001b[0;32m      2\u001b[0m \u001b[38;5;28;01mfrom\u001b[39;00m \u001b[38;5;21;01mpynput\u001b[39;00m\u001b[38;5;21;01m.\u001b[39;00m\u001b[38;5;21;01mkeyboard\u001b[39;00m \u001b[38;5;28;01mimport\u001b[39;00m Listener\n\u001b[0;32m      3\u001b[0m \u001b[38;5;28;01mdef\u001b[39;00m \u001b[38;5;21mon_press\u001b[39m(key):\n\u001b[0;32m      4\u001b[0m   \u001b[38;5;66;03m# Print the pressed key (replace with responsible actions if needed)\u001b[39;00m\n",
      "\u001b[1;31mModuleNotFoundError\u001b[0m: No module named 'Keyboard'"
     ]
    }
   ],
   "source": [
    "import keyboard\n",
    "from pynput.keyboard import Listener\n",
    "def on_press(key):\n",
    "  # Print the pressed key (replace with responsible actions if needed)\n",
    "  print(f\"Pressed: {key}\")\n",
    "\n",
    "# Function to handle key releases (optional)\n",
    "def on_release(key):\n",
    "  # Print the released key (optional)\n",
    "  # print(f\"Released: {key}\")\n",
    "  if key == keyKeyboard.esc:\n",
    "    return False  # Exit on pressing Escape key\n",
    "\n",
    "# Start listening for events\n",
    "with Listener(on_press=on_press, on_release=on_release) as listener:\n",
    "  listener.join()"
   ]
  },
  {
   "cell_type": "code",
   "execution_count": 1,
   "id": "f0b1c1f6",
   "metadata": {},
   "outputs": [
    {
     "name": "stdout",
     "output_type": "stream",
     "text": [
      "    *\n",
      "   **\n",
      "  ***\n",
      " ****\n",
      "*****\n"
     ]
    }
   ],
   "source": [
    "row=1\n",
    "while row<=5:\n",
    "    col=1\n",
    "    while col<=5:\n",
    "        if row+col>=6:\n",
    "            print('*',end='')\n",
    "        else:\n",
    "            print(' ',end='')\n",
    "        col+=1\n",
    "    row+=1\n",
    "    print('')"
   ]
  },
  {
   "cell_type": "code",
   "execution_count": 4,
   "id": "5fb32dc8",
   "metadata": {},
   "outputs": [
    {
     "name": "stdout",
     "output_type": "stream",
     "text": [
      "*    \n",
      "**   \n",
      "***  \n",
      "**** \n",
      "*****\n",
      "*****\n",
      "**** \n",
      "***  \n",
      "**   \n",
      "*    \n"
     ]
    }
   ],
   "source": [
    "row=1\n",
    "while row<=5:\n",
    "    col=1\n",
    "    while col<=5:\n",
    "        if row>=col:\n",
    "            print('*',end='')\n",
    "        else:\n",
    "            print(' ',end='')\n",
    "        col+=1\n",
    "    row+=1\n",
    "    print('')\n",
    "row=1\n",
    "while row<=5:\n",
    "    col=1\n",
    "    while col<=5:\n",
    "        if 6-col>=row:\n",
    "            print('*',end='')\n",
    "        else:\n",
    "            print(' ',end='')\n",
    "        col+=1\n",
    "    row+=1\n",
    "    print('')"
   ]
  },
  {
   "cell_type": "code",
   "execution_count": 3,
   "id": "d6ff5fde",
   "metadata": {},
   "outputs": [
    {
     "name": "stdout",
     "output_type": "stream",
     "text": [
      "*****\n",
      "**** \n",
      "***  \n",
      "**   \n",
      "*    \n"
     ]
    }
   ],
   "source": [
    "row=1\n",
    "while row<=5:\n",
    "    col=1\n",
    "    while col<=5:\n",
    "        if 6-col>=row:\n",
    "            print('*',end='')\n",
    "        else:\n",
    "            print(' ',end='')\n",
    "        col+=1\n",
    "    row+=1\n",
    "    print('')"
   ]
  },
  {
   "cell_type": "code",
   "execution_count": 4,
   "id": "b7772254",
   "metadata": {},
   "outputs": [
    {
     "name": "stdout",
     "output_type": "stream",
     "text": [
      " *  *  *  *  *   \n",
      " *  *  *  *  *   \n",
      " *  *  *  *  *   \n",
      " *  *  *  *  *   \n",
      " *  *  *  *  *   \n"
     ]
    }
   ],
   "source": [
    "row=1\n",
    "while row<=5:\n",
    "    col=1\n",
    "    while col<=5:\n",
    "        print(' * ',end='')\n",
    "        col+=1\n",
    "    row+=1\n",
    "    print('  ')\n",
    "    "
   ]
  },
  {
   "cell_type": "code",
   "execution_count": 3,
   "id": "0162b96e",
   "metadata": {},
   "outputs": [
    {
     "name": "stdout",
     "output_type": "stream",
     "text": [
      " A  A  A  A  A   \n",
      " A  A  A  A  A   \n",
      " A  A  A  A  A   \n",
      " A  A  A  A  A   \n",
      " A  A  A  A  A   \n"
     ]
    }
   ],
   "source": [
    "row=1\n",
    "while row<=5:\n",
    "    col=1\n",
    "    while col<=5:\n",
    "        print(' A ',end='')\n",
    "        col+=1\n",
    "    row+=1\n",
    "    print('  ')"
   ]
  },
  {
   "cell_type": "code",
   "execution_count": 7,
   "id": "a54a9205",
   "metadata": {},
   "outputs": [
    {
     "name": "stdout",
     "output_type": "stream",
     "text": [
      " *  *  *  *  *  A  A  A  A  A \n",
      " *  *  *  *  *  A  A  A  A  A \n",
      " *  *  *  *  *  A  A  A  A  A \n",
      " *  *  *  *  *  A  A  A  A  A \n",
      " *  *  *  *  *  A  A  A  A  A \n"
     ]
    }
   ],
   "source": [
    "row=1\n",
    "while row<=5:\n",
    "    col=1\n",
    "    while col<=5:\n",
    "        print(' * ',end='')\n",
    "        col+=1\n",
    "    col=1\n",
    "    while col<=5:\n",
    "        print(' A ',end='')\n",
    "        col+=1\n",
    "    row+=1\n",
    "    print('')"
   ]
  },
  {
   "cell_type": "code",
   "execution_count": 8,
   "id": "bc29c820",
   "metadata": {},
   "outputs": [
    {
     "name": "stdout",
     "output_type": "stream",
     "text": [
      " *  *  *   \n",
      " *  *  *   \n",
      " *  *  *   \n",
      " *  *  *   \n",
      " *  *  *   \n",
      " *  *  *   \n",
      " *  *  *   \n",
      " *  *  *   \n",
      " *  *  *   \n",
      " *  *  *   \n"
     ]
    }
   ],
   "source": [
    "row=1\n",
    "while row<=10:\n",
    "    col=1\n",
    "    while col<=3:\n",
    "        print(' * ',end='')\n",
    "        col+=1\n",
    "    row+=1\n",
    "    print('  ')"
   ]
  },
  {
   "cell_type": "code",
   "execution_count": 11,
   "id": "8c958566",
   "metadata": {
    "scrolled": false
   },
   "outputs": [
    {
     "name": "stdout",
     "output_type": "stream",
     "text": [
      "           \n",
      "           \n",
      "           \n",
      "           \n",
      " *  *  *   \n",
      " *  *  *   \n",
      " *  *  *   \n",
      "           \n",
      "           \n",
      "           \n"
     ]
    }
   ],
   "source": [
    "row=1\n",
    "while row<=10:\n",
    "    col=1\n",
    "    while col<=3:\n",
    "        if row in [5,6,7]:\n",
    "            print(' * ',end='')\n",
    "        else:\n",
    "            print('   ',end='' )\n",
    "        col+=1\n",
    "    row+=1\n",
    "    print('  ')"
   ]
  },
  {
   "cell_type": "code",
   "execution_count": null,
   "id": "2887b374",
   "metadata": {},
   "outputs": [],
   "source": [
    "if row ==5 or row ==6 or row ==7\n",
    "\n",
    "if row in [5,6,7]"
   ]
  },
  {
   "cell_type": "code",
   "execution_count": 13,
   "id": "7394da95",
   "metadata": {},
   "outputs": [
    {
     "name": "stdout",
     "output_type": "stream",
     "text": [
      " *  *  *           *  *  *   \n",
      " *  *  *           *  *  *   \n",
      " *  *  *           *  *  *   \n",
      " *  *  *           *  *  *   \n",
      " *  *  *  *  *  *  *  *  *   \n",
      " *  *  *  *  *  *  *  *  *   \n",
      " *  *  *  *  *  *  *  *  *   \n",
      " *  *  *           *  *  *   \n",
      " *  *  *           *  *  *   \n",
      " *  *  *           *  *  *   \n"
     ]
    }
   ],
   "source": [
    "row=1\n",
    "while row<=10:\n",
    "   #part1\n",
    "    col=1\n",
    "    while col<=3:\n",
    "        print(' * ',end='')\n",
    "        col+=1        \n",
    "    #part2\n",
    "    col=1\n",
    "    while col<=3:\n",
    "        if row in [5,6,7]:\n",
    "            print(' * ',end='')\n",
    "        else:\n",
    "            print('   ',end='' )\n",
    "        col+=1\n",
    "    #part3\n",
    "    col=1\n",
    "    while col<=3:\n",
    "        print(' * ',end='')\n",
    "        col+=1\n",
    "    row+=1\n",
    "    print('  ')"
   ]
  },
  {
   "cell_type": "code",
   "execution_count": 5,
   "id": "60b1a928",
   "metadata": {},
   "outputs": [
    {
     "name": "stdout",
     "output_type": "stream",
     "text": [
      " *  *  *  *  *  *  *  *  *  * \n",
      "\n",
      " *  *  *  *        *  *  *  * \n",
      "\n",
      " *  *  *              *  *  * \n",
      "\n",
      " *  *                    *  * \n",
      "\n",
      " *                          * \n",
      "\n",
      " *                          * \n",
      "\n",
      " *  *                    *  * \n",
      "\n",
      " *  *  *              *  *  * \n",
      "\n",
      " *  *  *  *        *  *  *  * \n",
      "\n",
      " *  *  *  *  *  *  *  *  *  * \n",
      "\n"
     ]
    }
   ],
   "source": [
    "row = 0\n",
    "while row < 5:\n",
    "    col=0\n",
    "    while col<5:\n",
    "        if 5-row>col:\n",
    "            print(' * ',end='')\n",
    "        else:\n",
    "            print('   ',end='')\n",
    "        col+=1\n",
    "    col=0\n",
    "    while col < 5:\n",
    "        if col >= row:\n",
    "            print(' * ', end='')\n",
    "        else:\n",
    "            print('   ', end='')\n",
    "        col+=1    \n",
    "    print(\"\\n\")\n",
    "    row+=1\n",
    "row=0\n",
    "while row<5:\n",
    "    col=0\n",
    "    while col < 5:             #   or we can also use ==>   'while row >= col:'    or   'while col <= row'\n",
    "        if col <= row:\n",
    "            print(\" * \", end=\"\")    \n",
    "        else:\n",
    "            print('   ', end='')\n",
    "        col+=1\n",
    "    col=0\n",
    "    while col<5:\n",
    "        if 4-row<=col:\n",
    "            print(' * ',end='')\n",
    "        else:\n",
    "            print('   ',end='')\n",
    "        col+=1\n",
    "    print(\"\\n\")\n",
    "    row+=1"
   ]
  },
  {
   "cell_type": "code",
   "execution_count": 1,
   "id": "59614aec",
   "metadata": {},
   "outputs": [
    {
     "name": "stdout",
     "output_type": "stream",
     "text": [
      "*****\n",
      "**** \n",
      "***  \n",
      "**   \n",
      "*    \n"
     ]
    }
   ],
   "source": []
  },
  {
   "cell_type": "code",
   "execution_count": 2,
   "id": "bdfb64d2",
   "metadata": {},
   "outputs": [
    {
     "name": "stdout",
     "output_type": "stream",
     "text": [
      "*        *\n",
      "**      **\n",
      "***    ***\n",
      "****  ****\n",
      "**********\n"
     ]
    }
   ],
   "source": [
    "row=0\n",
    "while row<5:\n",
    "    col=0\n",
    "    while col < 5:             #   or we can also use ==>   'while row >= col:'    or   'while col <= row'\n",
    "        if col <= row:\n",
    "            print(\"*\", end=\"\")    \n",
    "        else:\n",
    "            print(' ', end='')\n",
    "        col+=1\n",
    "    col=0\n",
    "    while col<5:\n",
    "        if 4-row<=col:\n",
    "            print('*',end='')\n",
    "        else:\n",
    "            print(' ',end='')\n",
    "        col+=1\n",
    "    print(\"\")\n",
    "    row+=1"
   ]
  },
  {
   "cell_type": "code",
   "execution_count": null,
   "id": "2dbbbe4e",
   "metadata": {},
   "outputs": [],
   "source": []
  }
 ],
 "metadata": {
  "kernelspec": {
   "display_name": "Python 3 (ipykernel)",
   "language": "python",
   "name": "python3"
  },
  "language_info": {
   "codemirror_mode": {
    "name": "ipython",
    "version": 3
   },
   "file_extension": ".py",
   "mimetype": "text/x-python",
   "name": "python",
   "nbconvert_exporter": "python",
   "pygments_lexer": "ipython3",
   "version": "3.11.5"
  }
 },
 "nbformat": 4,
 "nbformat_minor": 5
}
