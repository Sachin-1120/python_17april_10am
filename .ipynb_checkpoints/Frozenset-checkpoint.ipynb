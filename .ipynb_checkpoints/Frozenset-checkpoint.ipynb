{
 "cells": [
  {
   "cell_type": "code",
   "execution_count": 3,
   "id": "3a3ffb0a",
   "metadata": {},
   "outputs": [
    {
     "name": "stdout",
     "output_type": "stream",
     "text": [
      "Enter Stringhello\n"
     ]
    }
   ],
   "source": [
    "n=input('Enter String')\n",
    "a=set(n)\n",
    "a.discard(' ')\n",
    "d=dict.fromkeys(a,10)"
   ]
  },
  {
   "cell_type": "code",
   "execution_count": 4,
   "id": "cc75eab5",
   "metadata": {},
   "outputs": [
    {
     "data": {
      "text/plain": [
       "{'l': 10, 'e': 10, 'h': 10, 'o': 10}"
      ]
     },
     "execution_count": 4,
     "metadata": {},
     "output_type": "execute_result"
    }
   ],
   "source": [
    "d"
   ]
  },
  {
   "cell_type": "code",
   "execution_count": null,
   "id": "8a607cde",
   "metadata": {},
   "outputs": [],
   "source": [
    "\n",
    "ss=\n",
    "ss=['aaaa','Ittu','Ab']\n",
    "ss.sort()\n",
    "nn=[0,2,4,5,2,2.5,0.7]\n",
    "nn.sort()\n"
   ]
  },
  {
   "cell_type": "code",
   "execution_count": 8,
   "id": "ebe14ae8",
   "metadata": {},
   "outputs": [],
   "source": [
    "a=[10,5,4,1,2,]\n",
    "b=a.sort()"
   ]
  },
  {
   "cell_type": "code",
   "execution_count": 7,
   "id": "d352569c",
   "metadata": {},
   "outputs": [
    {
     "data": {
      "text/plain": [
       "[1, 2, 4, 5, 10]"
      ]
     },
     "execution_count": 7,
     "metadata": {},
     "output_type": "execute_result"
    }
   ],
   "source": [
    "a"
   ]
  },
  {
   "cell_type": "code",
   "execution_count": 9,
   "id": "7d692ea1",
   "metadata": {},
   "outputs": [
    {
     "name": "stdout",
     "output_type": "stream",
     "text": [
      "None\n"
     ]
    }
   ],
   "source": [
    "print(b)"
   ]
  },
  {
   "cell_type": "code",
   "execution_count": 10,
   "id": "e7352372",
   "metadata": {},
   "outputs": [
    {
     "name": "stdout",
     "output_type": "stream",
     "text": [
      "None\n"
     ]
    }
   ],
   "source": [
    "b=['aaaa','Ittu','Ab'].sort()\n",
    "print(b)"
   ]
  },
  {
   "cell_type": "code",
   "execution_count": 12,
   "id": "c993eb86",
   "metadata": {},
   "outputs": [],
   "source": [
    "s='sachin'.upper()"
   ]
  },
  {
   "cell_type": "code",
   "execution_count": 13,
   "id": "8da2b481",
   "metadata": {},
   "outputs": [
    {
     "data": {
      "text/plain": [
       "'SACHIN'"
      ]
     },
     "execution_count": 13,
     "metadata": {},
     "output_type": "execute_result"
    }
   ],
   "source": [
    "s"
   ]
  },
  {
   "cell_type": "code",
   "execution_count": 14,
   "id": "5cb8d7b4",
   "metadata": {},
   "outputs": [
    {
     "data": {
      "text/plain": [
       "'SACHIN'"
      ]
     },
     "execution_count": 14,
     "metadata": {},
     "output_type": "execute_result"
    }
   ],
   "source": [
    "s='sachin'\n",
    "s.upper()"
   ]
  },
  {
   "cell_type": "code",
   "execution_count": 15,
   "id": "78a46add",
   "metadata": {},
   "outputs": [
    {
     "data": {
      "text/plain": [
       "'sachin'"
      ]
     },
     "execution_count": 15,
     "metadata": {},
     "output_type": "execute_result"
    }
   ],
   "source": [
    "s"
   ]
  },
  {
   "cell_type": "code",
   "execution_count": 16,
   "id": "cfad377a",
   "metadata": {},
   "outputs": [],
   "source": [
    "a=frozenset({1,2,3,54,5,2,1})"
   ]
  },
  {
   "cell_type": "code",
   "execution_count": 17,
   "id": "1ad4040e",
   "metadata": {},
   "outputs": [
    {
     "data": {
      "text/plain": [
       "frozenset({1, 2, 3, 5, 54})"
      ]
     },
     "execution_count": 17,
     "metadata": {},
     "output_type": "execute_result"
    }
   ],
   "source": [
    "a"
   ]
  },
  {
   "cell_type": "code",
   "execution_count": 18,
   "id": "5380f307",
   "metadata": {},
   "outputs": [],
   "source": [
    "a=frozenset()"
   ]
  },
  {
   "cell_type": "code",
   "execution_count": 19,
   "id": "96021741",
   "metadata": {},
   "outputs": [
    {
     "data": {
      "text/plain": [
       "frozenset()"
      ]
     },
     "execution_count": 19,
     "metadata": {},
     "output_type": "execute_result"
    }
   ],
   "source": [
    "a"
   ]
  },
  {
   "cell_type": "code",
   "execution_count": 22,
   "id": "1daeb50d",
   "metadata": {},
   "outputs": [],
   "source": [
    "a=frozenset([1,2,3,4,5,6])"
   ]
  },
  {
   "cell_type": "code",
   "execution_count": 23,
   "id": "aec6a664",
   "metadata": {},
   "outputs": [
    {
     "data": {
      "text/plain": [
       "frozenset({1, 2, 3, 4, 5, 6})"
      ]
     },
     "execution_count": 23,
     "metadata": {},
     "output_type": "execute_result"
    }
   ],
   "source": [
    "a"
   ]
  },
  {
   "cell_type": "code",
   "execution_count": 24,
   "id": "182859f6",
   "metadata": {},
   "outputs": [
    {
     "name": "stdout",
     "output_type": "stream",
     "text": [
      "['__and__', '__class__', '__class_getitem__', '__contains__', '__delattr__', '__dir__', '__doc__', '__eq__', '__format__', '__ge__', '__getattribute__', '__getstate__', '__gt__', '__hash__', '__init__', '__init_subclass__', '__iter__', '__le__', '__len__', '__lt__', '__ne__', '__new__', '__or__', '__rand__', '__reduce__', '__reduce_ex__', '__repr__', '__ror__', '__rsub__', '__rxor__', '__setattr__', '__sizeof__', '__str__', '__sub__', '__subclasshook__', '__xor__', 'copy', 'difference', 'intersection', 'isdisjoint', 'issubset', 'issuperset', 'symmetric_difference', 'union']\n"
     ]
    }
   ],
   "source": [
    "print(dir(a))"
   ]
  },
  {
   "cell_type": "code",
   "execution_count": 25,
   "id": "008f58d3",
   "metadata": {},
   "outputs": [
    {
     "data": {
      "text/plain": [
       "frozenset({1, 2, 3})"
      ]
     },
     "execution_count": 25,
     "metadata": {},
     "output_type": "execute_result"
    }
   ],
   "source": [
    "a=frozenset({1,2,3,4,5,6})\n",
    "b=frozenset({1,2,3,7,8,9})\n",
    "a.intersection(b)"
   ]
  },
  {
   "cell_type": "code",
   "execution_count": 26,
   "id": "5458e248",
   "metadata": {},
   "outputs": [
    {
     "data": {
      "text/plain": [
       "frozenset({1, 2, 3, 4, 5, 6, 7, 8, 9})"
      ]
     },
     "execution_count": 26,
     "metadata": {},
     "output_type": "execute_result"
    }
   ],
   "source": [
    "a.union(b)"
   ]
  },
  {
   "cell_type": "code",
   "execution_count": 27,
   "id": "8e1a6f7b",
   "metadata": {},
   "outputs": [
    {
     "data": {
      "text/plain": [
       "frozenset({4, 5, 6})"
      ]
     },
     "execution_count": 27,
     "metadata": {},
     "output_type": "execute_result"
    }
   ],
   "source": [
    "a.difference(b)"
   ]
  },
  {
   "cell_type": "code",
   "execution_count": 28,
   "id": "7ad0e1ab",
   "metadata": {},
   "outputs": [
    {
     "data": {
      "text/plain": [
       "frozenset({4, 5, 6, 7, 8, 9})"
      ]
     },
     "execution_count": 28,
     "metadata": {},
     "output_type": "execute_result"
    }
   ],
   "source": [
    "a.symmetric_difference(b)"
   ]
  },
  {
   "cell_type": "code",
   "execution_count": 29,
   "id": "7bf2280b",
   "metadata": {},
   "outputs": [
    {
     "data": {
      "text/plain": [
       "True"
      ]
     },
     "execution_count": 29,
     "metadata": {},
     "output_type": "execute_result"
    }
   ],
   "source": [
    "a={1,2,3,4,5}\n",
    "b={7,8,9,10}\n",
    "a.isdisjoint(b)"
   ]
  },
  {
   "cell_type": "code",
   "execution_count": 30,
   "id": "2a7a7883",
   "metadata": {},
   "outputs": [
    {
     "data": {
      "text/plain": [
       "False"
      ]
     },
     "execution_count": 30,
     "metadata": {},
     "output_type": "execute_result"
    }
   ],
   "source": [
    "a={1,2,3,4}\n",
    "b={1,5,6}\n",
    "a.isdisjoint(b)"
   ]
  },
  {
   "cell_type": "code",
   "execution_count": 31,
   "id": "a2bf79aa",
   "metadata": {},
   "outputs": [],
   "source": [
    "a=frozenset([1,2,33])"
   ]
  },
  {
   "cell_type": "code",
   "execution_count": 32,
   "id": "dc3764d1",
   "metadata": {},
   "outputs": [
    {
     "data": {
      "text/plain": [
       "frozenset({1, 2, 33})"
      ]
     },
     "execution_count": 32,
     "metadata": {},
     "output_type": "execute_result"
    }
   ],
   "source": [
    "a"
   ]
  },
  {
   "cell_type": "code",
   "execution_count": null,
   "id": "7657b7cf",
   "metadata": {},
   "outputs": [],
   "source": []
  }
 ],
 "metadata": {
  "kernelspec": {
   "display_name": "Python 3 (ipykernel)",
   "language": "python",
   "name": "python3"
  },
  "language_info": {
   "codemirror_mode": {
    "name": "ipython",
    "version": 3
   },
   "file_extension": ".py",
   "mimetype": "text/x-python",
   "name": "python",
   "nbconvert_exporter": "python",
   "pygments_lexer": "ipython3",
   "version": "3.11.5"
  }
 },
 "nbformat": 4,
 "nbformat_minor": 5
}
