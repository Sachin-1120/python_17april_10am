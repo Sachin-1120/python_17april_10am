{
 "cells": [
  {
   "cell_type": "code",
   "execution_count": 9,
   "id": "ceb7467f",
   "metadata": {},
   "outputs": [],
   "source": [
    "class  A:\n",
    "    def __init__(self,name):\n",
    "        self.name=name\n",
    "    #descructor in python\n",
    "    def __del__(self):\n",
    "        print('Deleting object of A')\n",
    "        del self\n",
    "ob=A('sachin')"
   ]
  },
  {
   "cell_type": "code",
   "execution_count": 10,
   "id": "99e0ddac",
   "metadata": {},
   "outputs": [
    {
     "data": {
      "text/plain": [
       "'sachin'"
      ]
     },
     "execution_count": 10,
     "metadata": {},
     "output_type": "execute_result"
    }
   ],
   "source": [
    "ob.name"
   ]
  },
  {
   "cell_type": "code",
   "execution_count": 6,
   "id": "a4b78372",
   "metadata": {},
   "outputs": [
    {
     "name": "stdout",
     "output_type": "stream",
     "text": [
      "Deleting object of A\n"
     ]
    }
   ],
   "source": [
    "del ob"
   ]
  },
  {
   "cell_type": "code",
   "execution_count": 7,
   "id": "8b179a80",
   "metadata": {},
   "outputs": [
    {
     "ename": "NameError",
     "evalue": "name 'ob' is not defined",
     "output_type": "error",
     "traceback": [
      "\u001b[1;31m---------------------------------------------------------------------------\u001b[0m",
      "\u001b[1;31mNameError\u001b[0m                                 Traceback (most recent call last)",
      "Cell \u001b[1;32mIn[7], line 1\u001b[0m\n\u001b[1;32m----> 1\u001b[0m ob\n",
      "\u001b[1;31mNameError\u001b[0m: name 'ob' is not defined"
     ]
    }
   ],
   "source": [
    "ob"
   ]
  },
  {
   "cell_type": "code",
   "execution_count": null,
   "id": "9ab4ad90",
   "metadata": {},
   "outputs": [],
   "source": []
  },
  {
   "cell_type": "code",
   "execution_count": 1,
   "id": "3c204af3",
   "metadata": {},
   "outputs": [
    {
     "data": {
      "text/plain": [
       "5"
      ]
     },
     "execution_count": 1,
     "metadata": {},
     "output_type": "execute_result"
    }
   ],
   "source": [
    "a=5\n",
    "a"
   ]
  },
  {
   "cell_type": "code",
   "execution_count": 2,
   "id": "2521240d",
   "metadata": {},
   "outputs": [],
   "source": [
    "del a"
   ]
  },
  {
   "cell_type": "code",
   "execution_count": 3,
   "id": "909cd6dc",
   "metadata": {},
   "outputs": [
    {
     "ename": "NameError",
     "evalue": "name 'a' is not defined",
     "output_type": "error",
     "traceback": [
      "\u001b[1;31m---------------------------------------------------------------------------\u001b[0m",
      "\u001b[1;31mNameError\u001b[0m                                 Traceback (most recent call last)",
      "Cell \u001b[1;32mIn[3], line 1\u001b[0m\n\u001b[1;32m----> 1\u001b[0m a\n",
      "\u001b[1;31mNameError\u001b[0m: name 'a' is not defined"
     ]
    }
   ],
   "source": [
    "a"
   ]
  },
  {
   "cell_type": "code",
   "execution_count": 14,
   "id": "3ac85d60",
   "metadata": {},
   "outputs": [],
   "source": [
    "# Inheriance\n",
    "'''\n",
    "    1.Single Level Inheritance\n",
    "    2.Multi level Inheritance \n",
    "    3.Multiple Inheritance\n",
    "    4.heirarichal Inheroitance\n",
    "    5.Hybrid Inheritance\n",
    "    \n",
    "    \n",
    "    '''\n",
    "class A:\n",
    "    def print_alpha(self):\n",
    "        print('In A Class')\n",
    "class B(A):\n",
    "    def print_beta(self):\n",
    "        print('In B Class')\n",
    "ob=B()\n",
    "# single level inheritance"
   ]
  },
  {
   "cell_type": "code",
   "execution_count": 15,
   "id": "2368631e",
   "metadata": {},
   "outputs": [
    {
     "name": "stdout",
     "output_type": "stream",
     "text": [
      "In B Class\n"
     ]
    }
   ],
   "source": [
    "ob.print_beta()"
   ]
  },
  {
   "cell_type": "code",
   "execution_count": 16,
   "id": "15ab50c0",
   "metadata": {},
   "outputs": [
    {
     "name": "stdout",
     "output_type": "stream",
     "text": [
      "In A Class\n"
     ]
    }
   ],
   "source": [
    "ob.print_alpha()"
   ]
  },
  {
   "cell_type": "code",
   "execution_count": 18,
   "id": "385fb8a4",
   "metadata": {},
   "outputs": [
    {
     "name": "stdout",
     "output_type": "stream",
     "text": [
      "['__class__', '__delattr__', '__dict__', '__dir__', '__doc__', '__eq__', '__format__', '__ge__', '__getattribute__', '__getstate__', '__gt__', '__hash__', '__init__', '__init_subclass__', '__le__', '__lt__', '__module__', '__ne__', '__new__', '__reduce__', '__reduce_ex__', '__repr__', '__setattr__', '__sizeof__', '__str__', '__subclasshook__', '__weakref__']\n"
     ]
    }
   ],
   "source": [
    "class A(object):\n",
    "    pass\n",
    "print(dir(A))"
   ]
  },
  {
   "cell_type": "code",
   "execution_count": 20,
   "id": "1edaa052",
   "metadata": {},
   "outputs": [],
   "source": [
    "#mro --> method resolution order\n"
   ]
  },
  {
   "cell_type": "code",
   "execution_count": 22,
   "id": "ee5e186d",
   "metadata": {},
   "outputs": [
    {
     "data": {
      "text/plain": [
       "(__main__.B, __main__.A, object)"
      ]
     },
     "execution_count": 22,
     "metadata": {},
     "output_type": "execute_result"
    }
   ],
   "source": [
    "class A:\n",
    "    def print_alpha(self):\n",
    "        print('In A Class')\n",
    "class B(A):\n",
    "    def print_beta(self):\n",
    "        print('In B Class')\n",
    "B.__mro__"
   ]
  },
  {
   "cell_type": "code",
   "execution_count": 23,
   "id": "dbdb68ac",
   "metadata": {},
   "outputs": [],
   "source": [
    "# multi level Inheritance\n",
    "class A:\n",
    "    def print_alpha(self):\n",
    "        print('In A Class')\n",
    "class B(A):\n",
    "    def print_beta(self):\n",
    "        print('In B Class')\n",
    "class C(B):\n",
    "    def print_gamma(self):\n",
    "        print('In C Class')\n",
    "ob=C()"
   ]
  },
  {
   "cell_type": "code",
   "execution_count": 24,
   "id": "da66f9e9",
   "metadata": {},
   "outputs": [
    {
     "name": "stdout",
     "output_type": "stream",
     "text": [
      "['__class__', '__delattr__', '__dict__', '__dir__', '__doc__', '__eq__', '__format__', '__ge__', '__getattribute__', '__getstate__', '__gt__', '__hash__', '__init__', '__init_subclass__', '__le__', '__lt__', '__module__', '__ne__', '__new__', '__reduce__', '__reduce_ex__', '__repr__', '__setattr__', '__sizeof__', '__str__', '__subclasshook__', '__weakref__', 'print_alpha', 'print_beta', 'print_gamma']\n"
     ]
    }
   ],
   "source": [
    "print(dir(C))"
   ]
  },
  {
   "cell_type": "code",
   "execution_count": 25,
   "id": "01b7bbee",
   "metadata": {},
   "outputs": [
    {
     "name": "stdout",
     "output_type": "stream",
     "text": [
      "['__class__', '__delattr__', '__dict__', '__dir__', '__doc__', '__eq__', '__format__', '__ge__', '__getattribute__', '__getstate__', '__gt__', '__hash__', '__init__', '__init_subclass__', '__le__', '__lt__', '__module__', '__ne__', '__new__', '__reduce__', '__reduce_ex__', '__repr__', '__setattr__', '__sizeof__', '__str__', '__subclasshook__', '__weakref__', 'print_alpha', 'print_beta']\n"
     ]
    }
   ],
   "source": [
    "print(dir(B))"
   ]
  },
  {
   "cell_type": "code",
   "execution_count": 26,
   "id": "06aff95e",
   "metadata": {},
   "outputs": [
    {
     "name": "stdout",
     "output_type": "stream",
     "text": [
      "['__class__', '__delattr__', '__dict__', '__dir__', '__doc__', '__eq__', '__format__', '__ge__', '__getattribute__', '__getstate__', '__gt__', '__hash__', '__init__', '__init_subclass__', '__le__', '__lt__', '__module__', '__ne__', '__new__', '__reduce__', '__reduce_ex__', '__repr__', '__setattr__', '__sizeof__', '__str__', '__subclasshook__', '__weakref__', 'print_alpha']\n"
     ]
    }
   ],
   "source": [
    "print(dir(A))"
   ]
  },
  {
   "cell_type": "code",
   "execution_count": null,
   "id": "2f1922cd",
   "metadata": {},
   "outputs": [],
   "source": []
  },
  {
   "cell_type": "code",
   "execution_count": 28,
   "id": "d5d0d200",
   "metadata": {
    "scrolled": false
   },
   "outputs": [
    {
     "name": "stdout",
     "output_type": "stream",
     "text": [
      "In A Class\n",
      "In B Class\n",
      "In C Class\n"
     ]
    }
   ],
   "source": [
    "ob.print_alpha()\n",
    "ob.print_beta()\n",
    "ob.print_gamma()"
   ]
  },
  {
   "cell_type": "code",
   "execution_count": null,
   "id": "257b2f4a",
   "metadata": {},
   "outputs": [],
   "source": []
  }
 ],
 "metadata": {
  "kernelspec": {
   "display_name": "Python 3 (ipykernel)",
   "language": "python",
   "name": "python3"
  },
  "language_info": {
   "codemirror_mode": {
    "name": "ipython",
    "version": 3
   },
   "file_extension": ".py",
   "mimetype": "text/x-python",
   "name": "python",
   "nbconvert_exporter": "python",
   "pygments_lexer": "ipython3",
   "version": "3.11.5"
  }
 },
 "nbformat": 4,
 "nbformat_minor": 5
}
