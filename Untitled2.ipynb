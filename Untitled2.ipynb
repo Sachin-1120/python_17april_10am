{
 "cells": [
  {
   "cell_type": "code",
   "execution_count": 2,
   "id": "f58c4d8a",
   "metadata": {},
   "outputs": [],
   "source": [
    "class A:\n",
    "    def __init__(self,a):\n",
    "        self.a=a\n",
    "    def __add__(self,obj):\n",
    "        return self.a*obj.a\n",
    "ob1=A(5)\n",
    "ob2=A(10)"
   ]
  },
  {
   "cell_type": "code",
   "execution_count": 3,
   "id": "df788f63",
   "metadata": {},
   "outputs": [
    {
     "data": {
      "text/plain": [
       "50"
      ]
     },
     "execution_count": 3,
     "metadata": {},
     "output_type": "execute_result"
    }
   ],
   "source": [
    "ob1+ob2"
   ]
  },
  {
   "cell_type": "code",
   "execution_count": 4,
   "id": "4d4f3f18",
   "metadata": {},
   "outputs": [
    {
     "data": {
      "text/plain": [
       "50"
      ]
     },
     "execution_count": 4,
     "metadata": {},
     "output_type": "execute_result"
    }
   ],
   "source": [
    "ob1.__add__(ob2)"
   ]
  },
  {
   "cell_type": "code",
   "execution_count": 5,
   "id": "e886c806",
   "metadata": {},
   "outputs": [
    {
     "name": "stdout",
     "output_type": "stream",
     "text": [
      "['__add__', '__class__', '__delattr__', '__dict__', '__dir__', '__doc__', '__eq__', '__format__', '__ge__', '__getattribute__', '__getstate__', '__gt__', '__hash__', '__init__', '__init_subclass__', '__le__', '__lt__', '__module__', '__ne__', '__new__', '__reduce__', '__reduce_ex__', '__repr__', '__setattr__', '__sizeof__', '__str__', '__subclasshook__', '__weakref__']\n"
     ]
    }
   ],
   "source": [
    "print(dir(A))\n",
    ">--gt\n",
    ">=--ge\n",
    "<=le\n",
    "<--lt\n",
    "-sub\n",
    "*mul\n",
    "/--div\n",
    "!=--ne"
   ]
  },
  {
   "cell_type": "code",
   "execution_count": 1,
   "id": "9dee9bee",
   "metadata": {},
   "outputs": [
    {
     "data": {
      "text/plain": [
       "11"
      ]
     },
     "execution_count": 1,
     "metadata": {},
     "output_type": "execute_result"
    }
   ],
   "source": [
    "a=5\n",
    "b=6\n",
    "a+b"
   ]
  },
  {
   "cell_type": "code",
   "execution_count": null,
   "id": "064198d4",
   "metadata": {},
   "outputs": [],
   "source": [
    "a.__add__(b)"
   ]
  },
  {
   "cell_type": "code",
   "execution_count": 10,
   "id": "2cc6d71b",
   "metadata": {},
   "outputs": [],
   "source": [
    "class A:\n",
    "    def __init__(self,a):\n",
    "        self.a=a\n",
    "    def __add__(self,obj):\n",
    "        return self.a*obj.a\n",
    "    def __ge__(self,obj):\n",
    "        if self.a+obj.a==10:\n",
    "            return True\n",
    "        else:\n",
    "            return False\n",
    "ob1=A(0)\n",
    "ob2=A(10)"
   ]
  },
  {
   "cell_type": "code",
   "execution_count": 12,
   "id": "785dc24c",
   "metadata": {},
   "outputs": [
    {
     "data": {
      "text/plain": [
       "True"
      ]
     },
     "execution_count": 12,
     "metadata": {},
     "output_type": "execute_result"
    }
   ],
   "source": [
    "ob1>=ob2"
   ]
  },
  {
   "cell_type": "raw",
   "id": "1a935b7e",
   "metadata": {},
   "source": [
    ">--gt\n",
    ">=--ge\n",
    "<=le\n",
    "<--lt\n",
    "-sub\n",
    "*mul\n",
    "/--div\n",
    "!=--ne"
   ]
  },
  {
   "cell_type": "code",
   "execution_count": 13,
   "id": "d54dd293",
   "metadata": {},
   "outputs": [
    {
     "data": {
      "text/plain": [
       "10"
      ]
     },
     "execution_count": 13,
     "metadata": {},
     "output_type": "execute_result"
    }
   ],
   "source": [
    "class A:\n",
    "    def __init__(self,a):\n",
    "        self.a=a\n",
    "    def __add__(self,obj):\n",
    "        return self.a*obj.a\n",
    "    def __ge__(self,obj):\n",
    "        if self.a+obj.a==10:\n",
    "            return True\n",
    "        else:\n",
    "            return False\n",
    "    def __mul__(self,obj):\n",
    "        return self.a+obj.a\n",
    "ob1=A(0)\n",
    "ob2=A(10)\n",
    "ob1*ob2"
   ]
  },
  {
   "cell_type": "code",
   "execution_count": null,
   "id": "8517f503",
   "metadata": {},
   "outputs": [],
   "source": []
  }
 ],
 "metadata": {
  "kernelspec": {
   "display_name": "Python 3 (ipykernel)",
   "language": "python",
   "name": "python3"
  },
  "language_info": {
   "codemirror_mode": {
    "name": "ipython",
    "version": 3
   },
   "file_extension": ".py",
   "mimetype": "text/x-python",
   "name": "python",
   "nbconvert_exporter": "python",
   "pygments_lexer": "ipython3",
   "version": "3.11.5"
  }
 },
 "nbformat": 4,
 "nbformat_minor": 5
}
