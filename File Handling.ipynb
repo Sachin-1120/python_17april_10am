{
 "cells": [
  {
   "cell_type": "code",
   "execution_count": 1,
   "id": "4befc1d9",
   "metadata": {},
   "outputs": [],
   "source": [
    "import os"
   ]
  },
  {
   "cell_type": "code",
   "execution_count": 2,
   "id": "10e3ba1f",
   "metadata": {},
   "outputs": [
    {
     "name": "stdout",
     "output_type": "stream",
     "text": [
      "['DirEntry', 'EX_OK', 'F_OK', 'GenericAlias', 'Mapping', 'MutableMapping', 'O_APPEND', 'O_BINARY', 'O_CREAT', 'O_EXCL', 'O_NOINHERIT', 'O_RANDOM', 'O_RDONLY', 'O_RDWR', 'O_SEQUENTIAL', 'O_SHORT_LIVED', 'O_TEMPORARY', 'O_TEXT', 'O_TRUNC', 'O_WRONLY', 'P_DETACH', 'P_NOWAIT', 'P_NOWAITO', 'P_OVERLAY', 'P_WAIT', 'PathLike', 'R_OK', 'SEEK_CUR', 'SEEK_END', 'SEEK_SET', 'TMP_MAX', 'W_OK', 'X_OK', '_AddedDllDirectory', '_Environ', '__all__', '__builtins__', '__doc__', '__file__', '__loader__', '__name__', '__package__', '__spec__', '_check_methods', '_execvpe', '_exists', '_exit', '_fspath', '_get_exports_list', '_walk', '_wrap_close', 'abc', 'abort', 'access', 'add_dll_directory', 'altsep', 'chdir', 'chmod', 'close', 'closerange', 'cpu_count', 'curdir', 'defpath', 'device_encoding', 'devnull', 'dup', 'dup2', 'environ', 'error', 'execl', 'execle', 'execlp', 'execlpe', 'execv', 'execve', 'execvp', 'execvpe', 'extsep', 'fdopen', 'fsdecode', 'fsencode', 'fspath', 'fstat', 'fsync', 'ftruncate', 'get_exec_path', 'get_handle_inheritable', 'get_inheritable', 'get_terminal_size', 'getcwd', 'getcwdb', 'getenv', 'getlogin', 'getpid', 'getppid', 'isatty', 'kill', 'linesep', 'link', 'listdir', 'lseek', 'lstat', 'makedirs', 'mkdir', 'name', 'open', 'pardir', 'path', 'pathsep', 'pipe', 'popen', 'putenv', 'read', 'readlink', 'remove', 'removedirs', 'rename', 'renames', 'replace', 'rmdir', 'scandir', 'sep', 'set_handle_inheritable', 'set_inheritable', 'spawnl', 'spawnle', 'spawnv', 'spawnve', 'st', 'startfile', 'stat', 'stat_result', 'statvfs_result', 'strerror', 'supports_bytes_environ', 'supports_dir_fd', 'supports_effective_ids', 'supports_fd', 'supports_follow_symlinks', 'symlink', 'sys', 'system', 'terminal_size', 'times', 'times_result', 'truncate', 'umask', 'uname_result', 'unlink', 'unsetenv', 'urandom', 'utime', 'waitpid', 'waitstatus_to_exitcode', 'walk', 'write']\n"
     ]
    }
   ],
   "source": [
    "print(dir(os))"
   ]
  },
  {
   "cell_type": "code",
   "execution_count": 3,
   "id": "c1a7264a",
   "metadata": {},
   "outputs": [
    {
     "data": {
      "text/plain": [
       "'C:\\\\Python\\\\Python 10AM'"
      ]
     },
     "execution_count": 3,
     "metadata": {},
     "output_type": "execute_result"
    }
   ],
   "source": [
    "pwd"
   ]
  },
  {
   "cell_type": "code",
   "execution_count": 4,
   "id": "9884ddc4",
   "metadata": {},
   "outputs": [
    {
     "data": {
      "text/plain": [
       "'C:\\\\Python\\\\Python 10AM'"
      ]
     },
     "execution_count": 4,
     "metadata": {},
     "output_type": "execute_result"
    }
   ],
   "source": [
    "os.getcwd()"
   ]
  },
  {
   "cell_type": "code",
   "execution_count": 5,
   "id": "12107730",
   "metadata": {},
   "outputs": [
    {
     "name": "stdout",
     "output_type": "stream",
     "text": [
      " Volume in drive C is Windows-SSD\n",
      " Volume Serial Number is F618-0E23\n",
      "\n",
      " Directory of C:\\Python\\Python 10AM\n",
      "\n",
      "21-06-2024  10:33    <DIR>          .\n",
      "20-06-2024  18:12    <DIR>          ..\n",
      "23-04-2024  10:07            10,460 .a.txt.un~\n",
      "23-04-2024  10:10               523 .b.txt.un~\n",
      "23-04-2024  10:07               523 .c.txt.un~\n",
      "23-04-2024  10:25             3,186 .hello.py.un~\n",
      "21-06-2024  10:32    <DIR>          .ipynb_checkpoints\n",
      "23-04-2024  10:07                66 a.txt\n",
      "20-04-2024  12:08                49 a.txt~\n",
      "23-04-2024  10:10                19 b.txt\n",
      "23-04-2024  10:07                19 b.txt~\n",
      "06-06-2024  12:04        13,629,995 Bank Application .ipynb\n",
      "23-04-2024  10:07                25 c.txt\n",
      "03-06-2024  23:58    <DIR>          classcode\n",
      "19-06-2024  11:39             8,950 Decorator.ipynb\n",
      "11-05-2024  11:29            20,224 Dictionary Final.ipynb\n",
      "10-05-2024  11:28            15,793 Dictionary-2.ipynb\n",
      "15-06-2024  14:32            19,899 Doubt Session.ipynb\n",
      "21-06-2024  10:33             3,221 File Handling.ipynb\n",
      "26-04-2024  11:29            26,120 firstcode.ipynb\n",
      "29-05-2024  12:06             8,912 For Loop.ipynb\n",
      "14-05-2024  11:24            10,239 Frozenset.ipynb\n",
      "10-06-2024  11:50            17,475 Function_1.ipynb\n",
      "23-04-2024  10:25                62 hello.py\n",
      "23-04-2024  10:12                62 hello.py~\n",
      "23-05-2024  11:22             6,609 If-Else-1,2.ipynb\n",
      "20-06-2024  11:26            10,701 Iterator and generator.ipynb\n",
      "11-06-2024  11:50             9,477 Lambda .ipynb\n",
      "04-06-2024  12:11             9,000 List Comprehension.ipynb\n",
      "03-05-2024  12:19            12,949 List.ipynb\n",
      "07-05-2024  09:27            16,942 List-2.ipynb\n",
      "28-05-2024  10:53         7,794,085 Loops.ipynb\n",
      "29-05-2024  11:46             7,129 Loops-2.ipynb\n",
      "18-06-2024  11:49            14,896 map.ipynb\n",
      "22-05-2024  11:07            12,639 Operator-Final.ipynb\n",
      "16-05-2024  09:56            38,995 Operators-1,2.ipynb\n",
      "31-05-2024  14:49            28,877 Pattern Printing.ipynb\n",
      "30-05-2024  14:21            17,146 projects_core.ipynb\n",
      "13-06-2024  12:03            57,716 Recursion .ipynb\n",
      "01-05-2024  11:34            42,750 String.ipynb\n",
      "09-05-2024  11:33            11,446 Tuple and Dictionary.ipynb\n",
      "16-05-2024  09:08               589 Untitled.ipynb\n",
      "12-06-2024  11:23             2,731 Untitled1.ipynb\n",
      "              39 File(s)     21,870,499 bytes\n",
      "               4 Dir(s)  387,416,928,256 bytes free\n"
     ]
    }
   ],
   "source": [
    "ls"
   ]
  },
  {
   "cell_type": "code",
   "execution_count": 6,
   "id": "a55ada45",
   "metadata": {},
   "outputs": [
    {
     "data": {
      "text/plain": [
       "['.a.txt.un~',\n",
       " '.b.txt.un~',\n",
       " '.c.txt.un~',\n",
       " '.hello.py.un~',\n",
       " '.ipynb_checkpoints',\n",
       " 'a.txt',\n",
       " 'a.txt~',\n",
       " 'b.txt',\n",
       " 'b.txt~',\n",
       " 'Bank Application .ipynb',\n",
       " 'c.txt',\n",
       " 'classcode',\n",
       " 'Decorator.ipynb',\n",
       " 'Dictionary Final.ipynb',\n",
       " 'Dictionary-2.ipynb',\n",
       " 'Doubt Session.ipynb',\n",
       " 'File Handling.ipynb',\n",
       " 'firstcode.ipynb',\n",
       " 'For Loop.ipynb',\n",
       " 'Frozenset.ipynb',\n",
       " 'Function_1.ipynb',\n",
       " 'hello.py',\n",
       " 'hello.py~',\n",
       " 'If-Else-1,2.ipynb',\n",
       " 'Iterator and generator.ipynb',\n",
       " 'Lambda .ipynb',\n",
       " 'List Comprehension.ipynb',\n",
       " 'List-2.ipynb',\n",
       " 'List.ipynb',\n",
       " 'Loops-2.ipynb',\n",
       " 'Loops.ipynb',\n",
       " 'map.ipynb',\n",
       " 'Operator-Final.ipynb',\n",
       " 'Operators-1,2.ipynb',\n",
       " 'Pattern Printing.ipynb',\n",
       " 'projects_core.ipynb',\n",
       " 'Recursion .ipynb',\n",
       " 'String.ipynb',\n",
       " 'Tuple and Dictionary.ipynb',\n",
       " 'Untitled.ipynb',\n",
       " 'Untitled1.ipynb']"
      ]
     },
     "execution_count": 6,
     "metadata": {},
     "output_type": "execute_result"
    }
   ],
   "source": [
    "os.listdir()"
   ]
  },
  {
   "cell_type": "code",
   "execution_count": 7,
   "id": "6ef053c9",
   "metadata": {},
   "outputs": [],
   "source": [
    "mkdir demo_filehandling"
   ]
  },
  {
   "cell_type": "code",
   "execution_count": 8,
   "id": "ccaea71a",
   "metadata": {},
   "outputs": [],
   "source": [
    "rmdir demo_filehandling"
   ]
  },
  {
   "cell_type": "code",
   "execution_count": 9,
   "id": "e7f57dd2",
   "metadata": {},
   "outputs": [],
   "source": [
    "os.mkdir('C:/Python/Python 10AM/hello')"
   ]
  },
  {
   "cell_type": "code",
   "execution_count": 10,
   "id": "534de5eb",
   "metadata": {},
   "outputs": [],
   "source": [
    "os.rmdir('C:/Python/Python 10AM/hello')"
   ]
  },
  {
   "cell_type": "code",
   "execution_count": 11,
   "id": "450b6168",
   "metadata": {},
   "outputs": [
    {
     "data": {
      "text/plain": [
       "'C:\\\\Python\\\\Python 10AM'"
      ]
     },
     "execution_count": 11,
     "metadata": {},
     "output_type": "execute_result"
    }
   ],
   "source": [
    "pwd"
   ]
  },
  {
   "cell_type": "code",
   "execution_count": 16,
   "id": "dc100a1d",
   "metadata": {},
   "outputs": [],
   "source": [
    "os.chdir('C:\\\\Python\\\\Python_4_30PM')"
   ]
  },
  {
   "cell_type": "code",
   "execution_count": 17,
   "id": "910aa3f4",
   "metadata": {},
   "outputs": [
    {
     "data": {
      "text/plain": [
       "'C:\\\\Python\\\\Python_4_30PM'"
      ]
     },
     "execution_count": 17,
     "metadata": {},
     "output_type": "execute_result"
    }
   ],
   "source": [
    "pwd"
   ]
  },
  {
   "cell_type": "code",
   "execution_count": 24,
   "id": "8ac0ee30",
   "metadata": {},
   "outputs": [],
   "source": [
    "os.chdir('C:/Python/Python 10AM/')"
   ]
  },
  {
   "cell_type": "code",
   "execution_count": 23,
   "id": "4a48812b",
   "metadata": {},
   "outputs": [
    {
     "data": {
      "text/plain": [
       "'C:\\\\Python\\\\Python 10AM'"
      ]
     },
     "execution_count": 23,
     "metadata": {},
     "output_type": "execute_result"
    }
   ],
   "source": [
    "pwd"
   ]
  },
  {
   "cell_type": "code",
   "execution_count": 20,
   "id": "f0309621",
   "metadata": {},
   "outputs": [],
   "source": [
    "os.chdir('../Python_4_30PM/')"
   ]
  },
  {
   "cell_type": "code",
   "execution_count": 21,
   "id": "1fa7f599",
   "metadata": {},
   "outputs": [
    {
     "data": {
      "text/plain": [
       "'C:\\\\Python\\\\Python_4_30PM'"
      ]
     },
     "execution_count": 21,
     "metadata": {},
     "output_type": "execute_result"
    }
   ],
   "source": [
    "pwd"
   ]
  },
  {
   "cell_type": "code",
   "execution_count": 27,
   "id": "915ccdd7",
   "metadata": {},
   "outputs": [
    {
     "data": {
      "text/plain": [
       "True"
      ]
     },
     "execution_count": 27,
     "metadata": {},
     "output_type": "execute_result"
    }
   ],
   "source": [
    "os.path.exists('C:/Python/Python 10AM/')"
   ]
  },
  {
   "cell_type": "code",
   "execution_count": 28,
   "id": "0c4ff5ca",
   "metadata": {},
   "outputs": [
    {
     "data": {
      "text/plain": [
       "True"
      ]
     },
     "execution_count": 28,
     "metadata": {},
     "output_type": "execute_result"
    }
   ],
   "source": [
    "os.path.exists('C:/Python/Python 10AM/')"
   ]
  },
  {
   "cell_type": "code",
   "execution_count": 29,
   "id": "5bea045a",
   "metadata": {},
   "outputs": [
    {
     "data": {
      "text/plain": [
       "True"
      ]
     },
     "execution_count": 29,
     "metadata": {},
     "output_type": "execute_result"
    }
   ],
   "source": [
    "os.path.exists('C:/Python/Python 10AM/a.txt')"
   ]
  },
  {
   "cell_type": "code",
   "execution_count": 30,
   "id": "d7bb5530",
   "metadata": {},
   "outputs": [
    {
     "data": {
      "text/plain": [
       "False"
      ]
     },
     "execution_count": 30,
     "metadata": {},
     "output_type": "execute_result"
    }
   ],
   "source": [
    "os.path.isdir('C:/Python/Python 10AM/a.txt')"
   ]
  },
  {
   "cell_type": "code",
   "execution_count": 35,
   "id": "45bb7c2a",
   "metadata": {},
   "outputs": [
    {
     "data": {
      "text/plain": [
       "True"
      ]
     },
     "execution_count": 35,
     "metadata": {},
     "output_type": "execute_result"
    }
   ],
   "source": [
    "os.path.isdir('C:/Python/Python 10AM/')"
   ]
  },
  {
   "cell_type": "code",
   "execution_count": 32,
   "id": "0b4b845a",
   "metadata": {},
   "outputs": [
    {
     "data": {
      "text/plain": [
       "True"
      ]
     },
     "execution_count": 32,
     "metadata": {},
     "output_type": "execute_result"
    }
   ],
   "source": [
    "os.path.isfile('C:/Python/Python 10AM/a.txt')"
   ]
  },
  {
   "cell_type": "code",
   "execution_count": 33,
   "id": "d70bb1cb",
   "metadata": {},
   "outputs": [
    {
     "data": {
      "text/plain": [
       "False"
      ]
     },
     "execution_count": 33,
     "metadata": {},
     "output_type": "execute_result"
    }
   ],
   "source": [
    "os.path.isfile('C:/Python/Python 10AM/')"
   ]
  },
  {
   "cell_type": "code",
   "execution_count": null,
   "id": "c5d2a184",
   "metadata": {},
   "outputs": [],
   "source": [
    "#cd ..\n",
    "#os.chdir('..')\n"
   ]
  },
  {
   "cell_type": "code",
   "execution_count": 40,
   "id": "1e9e08ca",
   "metadata": {},
   "outputs": [
    {
     "name": "stdout",
     "output_type": "stream",
     "text": [
      "Enter path of the locationC:\\Users\\hello\\OneDrive\\ドキュメント\n",
      "Folders Present at Location C:\\Users\\hello\\OneDrive\\ドキュメント \n",
      "Custom Office Templates\n",
      "OneNote Notebooks\n",
      "Python Scripts\n",
      "Files Present at Location C:\\Users\\hello\\OneDrive\\ドキュメント \n",
      "desktop.ini\n",
      "Mock_internship.xlsx\n"
     ]
    }
   ],
   "source": [
    "\n",
    "path=input('Enter path of the location')\n",
    "file=[]\n",
    "folder=[]\n",
    "if os.path.exists(path):\n",
    "    d=os.listdir(path)\n",
    "    for i in d:\n",
    "        if os.path.isdir(f'{path}/{i}'):\n",
    "            folder.append(i)\n",
    "        elif os.path.isfile(f'{path}/{i}'):\n",
    "            file.append(i)\n",
    "    print(f'Folders Present at Location {path} ')\n",
    "    for i in folder:\n",
    "        print(i)\n",
    "    print(f'Files Present at Location {path} ')\n",
    "    for i in file:\n",
    "        print(i)\n",
    "    \n",
    "else:\n",
    "    print('Address Not found')"
   ]
  },
  {
   "cell_type": "code",
   "execution_count": 41,
   "id": "04ef95ac",
   "metadata": {},
   "outputs": [
    {
     "data": {
      "text/plain": [
       "'C:\\\\Python\\\\Python 10AM'"
      ]
     },
     "execution_count": 41,
     "metadata": {},
     "output_type": "execute_result"
    }
   ],
   "source": [
    "os.path.abspath('./')"
   ]
  },
  {
   "cell_type": "code",
   "execution_count": 44,
   "id": "07da0ca7",
   "metadata": {},
   "outputs": [
    {
     "data": {
      "text/plain": [
       "'C:/Python/Python 10AM\\\\notes\\\\a'"
      ]
     },
     "execution_count": 44,
     "metadata": {},
     "output_type": "execute_result"
    }
   ],
   "source": [
    "os.path.join('C:/Python/Python 10AM','notes','a')"
   ]
  },
  {
   "cell_type": "code",
   "execution_count": 45,
   "id": "9a2a1fca",
   "metadata": {},
   "outputs": [],
   "source": [
    "import time"
   ]
  },
  {
   "cell_type": "code",
   "execution_count": 46,
   "id": "73f94094",
   "metadata": {},
   "outputs": [
    {
     "name": "stdout",
     "output_type": "stream",
     "text": [
      "['_STRUCT_TM_ITEMS', '__doc__', '__loader__', '__name__', '__package__', '__spec__', 'altzone', 'asctime', 'ctime', 'daylight', 'get_clock_info', 'gmtime', 'localtime', 'mktime', 'monotonic', 'monotonic_ns', 'perf_counter', 'perf_counter_ns', 'process_time', 'process_time_ns', 'sleep', 'strftime', 'strptime', 'struct_time', 'thread_time', 'thread_time_ns', 'time', 'time_ns', 'timezone', 'tzname']\n"
     ]
    }
   ],
   "source": [
    "print(dir(time))"
   ]
  },
  {
   "cell_type": "code",
   "execution_count": 50,
   "id": "6f961e4c",
   "metadata": {},
   "outputs": [
    {
     "data": {
      "text/plain": [
       "1718948853.3588939"
      ]
     },
     "execution_count": 50,
     "metadata": {},
     "output_type": "execute_result"
    }
   ],
   "source": [
    "time.time()"
   ]
  },
  {
   "cell_type": "code",
   "execution_count": null,
   "id": "45340351",
   "metadata": {},
   "outputs": [],
   "source": []
  },
  {
   "cell_type": "code",
   "execution_count": 52,
   "id": "e659b304",
   "metadata": {},
   "outputs": [
    {
     "name": "stdout",
     "output_type": "stream",
     "text": [
      "Enter path of the locationC:/Python\n",
      "Folders Present at Location C:/Python \n",
      ".ipynb_checkpoints\n",
      "Python 10AM\n",
      "Python_4_30PM\n",
      "Python_6pm\n",
      "sachin\n",
      "Files Present at Location C:/Python \n",
      "password.py\n",
      "Untitled.ipynb\n",
      "__init__.py\n",
      "Total time taken  14.14041781425476 sec\n"
     ]
    }
   ],
   "source": [
    "start=time.time()\n",
    "path=input('Enter path of the location')\n",
    "file=[]\n",
    "folder=[]\n",
    "if os.path.exists(path):\n",
    "    d=os.listdir(path)\n",
    "    for i in d:\n",
    "        if os.path.isdir(f'{path}/{i}'):\n",
    "            folder.append(i)\n",
    "        elif os.path.isfile(f'{path}/{i}'):\n",
    "            file.append(i)\n",
    "    print(f'Folders Present at Location {path} ')\n",
    "    for i in folder:\n",
    "        print(i)\n",
    "    print(f'Files Present at Location {path} ')\n",
    "    for i in file:\n",
    "        print(i)\n",
    "    \n",
    "else:\n",
    "    print('Address Not found')\n",
    "end=time.time()\n",
    "print('Total time taken ',end-start,'sec')"
   ]
  },
  {
   "cell_type": "code",
   "execution_count": 53,
   "id": "e0fe2896",
   "metadata": {},
   "outputs": [
    {
     "data": {
      "text/plain": [
       "1718948996.9174714"
      ]
     },
     "execution_count": 53,
     "metadata": {},
     "output_type": "execute_result"
    }
   ],
   "source": [
    "time.time()"
   ]
  },
  {
   "cell_type": "code",
   "execution_count": 54,
   "id": "e54e2ccd",
   "metadata": {},
   "outputs": [
    {
     "data": {
      "text/plain": [
       "'Fri Jun 21 11:20:34 2024'"
      ]
     },
     "execution_count": 54,
     "metadata": {},
     "output_type": "execute_result"
    }
   ],
   "source": [
    "time.ctime()"
   ]
  },
  {
   "cell_type": "code",
   "execution_count": 58,
   "id": "b0bdaedd",
   "metadata": {},
   "outputs": [
    {
     "name": "stdout",
     "output_type": "stream",
     "text": [
      "Help on built-in module time:\n",
      "\n",
      "NAME\n",
      "    time - This module provides various functions to manipulate time values.\n",
      "\n",
      "DESCRIPTION\n",
      "    There are two standard representations of time.  One is the number\n",
      "    of seconds since the Epoch, in UTC (a.k.a. GMT).  It may be an integer\n",
      "    or a floating point number (to represent fractions of seconds).\n",
      "    The Epoch is system-defined; on Unix, it is generally January 1st, 1970.\n",
      "    The actual value can be retrieved by calling gmtime(0).\n",
      "    \n",
      "    The other representation is a tuple of 9 integers giving local time.\n",
      "    The tuple items are:\n",
      "      year (including century, e.g. 1998)\n",
      "      month (1-12)\n",
      "      day (1-31)\n",
      "      hours (0-23)\n",
      "      minutes (0-59)\n",
      "      seconds (0-59)\n",
      "      weekday (0-6, Monday is 0)\n",
      "      Julian day (day in the year, 1-366)\n",
      "      DST (Daylight Savings Time) flag (-1, 0 or 1)\n",
      "    If the DST flag is 0, the time is given in the regular time zone;\n",
      "    if it is 1, the time is given in the DST time zone;\n",
      "    if it is -1, mktime() should guess based on the date and time.\n",
      "\n",
      "CLASSES\n",
      "    builtins.tuple(builtins.object)\n",
      "        struct_time\n",
      "    \n",
      "    class struct_time(builtins.tuple)\n",
      "     |  struct_time(iterable=(), /)\n",
      "     |  \n",
      "     |  The time value as returned by gmtime(), localtime(), and strptime(), and\n",
      "     |  accepted by asctime(), mktime() and strftime().  May be considered as a\n",
      "     |  sequence of 9 integers.\n",
      "     |  \n",
      "     |  Note that several fields' values are not the same as those defined by\n",
      "     |  the C language standard for struct tm.  For example, the value of the\n",
      "     |  field tm_year is the actual year, not year - 1900.  See individual\n",
      "     |  fields' descriptions for details.\n",
      "     |  \n",
      "     |  Method resolution order:\n",
      "     |      struct_time\n",
      "     |      builtins.tuple\n",
      "     |      builtins.object\n",
      "     |  \n",
      "     |  Methods defined here:\n",
      "     |  \n",
      "     |  __reduce__(...)\n",
      "     |      Helper for pickle.\n",
      "     |  \n",
      "     |  __repr__(self, /)\n",
      "     |      Return repr(self).\n",
      "     |  \n",
      "     |  ----------------------------------------------------------------------\n",
      "     |  Static methods defined here:\n",
      "     |  \n",
      "     |  __new__(*args, **kwargs) from builtins.type\n",
      "     |      Create and return a new object.  See help(type) for accurate signature.\n",
      "     |  \n",
      "     |  ----------------------------------------------------------------------\n",
      "     |  Data descriptors defined here:\n",
      "     |  \n",
      "     |  tm_gmtoff\n",
      "     |      offset from UTC in seconds\n",
      "     |  \n",
      "     |  tm_hour\n",
      "     |      hours, range [0, 23]\n",
      "     |  \n",
      "     |  tm_isdst\n",
      "     |      1 if summer time is in effect, 0 if not, and -1 if unknown\n",
      "     |  \n",
      "     |  tm_mday\n",
      "     |      day of month, range [1, 31]\n",
      "     |  \n",
      "     |  tm_min\n",
      "     |      minutes, range [0, 59]\n",
      "     |  \n",
      "     |  tm_mon\n",
      "     |      month of year, range [1, 12]\n",
      "     |  \n",
      "     |  tm_sec\n",
      "     |      seconds, range [0, 61])\n",
      "     |  \n",
      "     |  tm_wday\n",
      "     |      day of week, range [0, 6], Monday is 0\n",
      "     |  \n",
      "     |  tm_yday\n",
      "     |      day of year, range [1, 366]\n",
      "     |  \n",
      "     |  tm_year\n",
      "     |      year, for example, 1993\n",
      "     |  \n",
      "     |  tm_zone\n",
      "     |      abbreviation of timezone name\n",
      "     |  \n",
      "     |  ----------------------------------------------------------------------\n",
      "     |  Data and other attributes defined here:\n",
      "     |  \n",
      "     |  __match_args__ = ('tm_year', 'tm_mon', 'tm_mday', 'tm_hour', 'tm_min',...\n",
      "     |  \n",
      "     |  n_fields = 11\n",
      "     |  \n",
      "     |  n_sequence_fields = 9\n",
      "     |  \n",
      "     |  n_unnamed_fields = 0\n",
      "     |  \n",
      "     |  ----------------------------------------------------------------------\n",
      "     |  Methods inherited from builtins.tuple:\n",
      "     |  \n",
      "     |  __add__(self, value, /)\n",
      "     |      Return self+value.\n",
      "     |  \n",
      "     |  __contains__(self, key, /)\n",
      "     |      Return key in self.\n",
      "     |  \n",
      "     |  __eq__(self, value, /)\n",
      "     |      Return self==value.\n",
      "     |  \n",
      "     |  __ge__(self, value, /)\n",
      "     |      Return self>=value.\n",
      "     |  \n",
      "     |  __getattribute__(self, name, /)\n",
      "     |      Return getattr(self, name).\n",
      "     |  \n",
      "     |  __getitem__(self, key, /)\n",
      "     |      Return self[key].\n",
      "     |  \n",
      "     |  __getnewargs__(self, /)\n",
      "     |  \n",
      "     |  __gt__(self, value, /)\n",
      "     |      Return self>value.\n",
      "     |  \n",
      "     |  __hash__(self, /)\n",
      "     |      Return hash(self).\n",
      "     |  \n",
      "     |  __iter__(self, /)\n",
      "     |      Implement iter(self).\n",
      "     |  \n",
      "     |  __le__(self, value, /)\n",
      "     |      Return self<=value.\n",
      "     |  \n",
      "     |  __len__(self, /)\n",
      "     |      Return len(self).\n",
      "     |  \n",
      "     |  __lt__(self, value, /)\n",
      "     |      Return self<value.\n",
      "     |  \n",
      "     |  __mul__(self, value, /)\n",
      "     |      Return self*value.\n",
      "     |  \n",
      "     |  __ne__(self, value, /)\n",
      "     |      Return self!=value.\n",
      "     |  \n",
      "     |  __rmul__(self, value, /)\n",
      "     |      Return value*self.\n",
      "     |  \n",
      "     |  count(self, value, /)\n",
      "     |      Return number of occurrences of value.\n",
      "     |  \n",
      "     |  index(self, value, start=0, stop=9223372036854775807, /)\n",
      "     |      Return first index of value.\n",
      "     |      \n",
      "     |      Raises ValueError if the value is not present.\n",
      "     |  \n",
      "     |  ----------------------------------------------------------------------\n",
      "     |  Class methods inherited from builtins.tuple:\n",
      "     |  \n",
      "     |  __class_getitem__(...) from builtins.type\n",
      "     |      See PEP 585\n",
      "\n",
      "FUNCTIONS\n",
      "    asctime(...)\n",
      "        asctime([tuple]) -> string\n",
      "        \n",
      "        Convert a time tuple to a string, e.g. 'Sat Jun 06 16:26:11 1998'.\n",
      "        When the time tuple is not present, current time as returned by localtime()\n",
      "        is used.\n",
      "    \n",
      "    ctime(...)\n",
      "        ctime(seconds) -> string\n",
      "        \n",
      "        Convert a time in seconds since the Epoch to a string in local time.\n",
      "        This is equivalent to asctime(localtime(seconds)). When the time tuple is\n",
      "        not present, current time as returned by localtime() is used.\n",
      "    \n",
      "    get_clock_info(...)\n",
      "        get_clock_info(name: str) -> dict\n",
      "        \n",
      "        Get information of the specified clock.\n",
      "    \n",
      "    gmtime(...)\n",
      "        gmtime([seconds]) -> (tm_year, tm_mon, tm_mday, tm_hour, tm_min,\n",
      "                               tm_sec, tm_wday, tm_yday, tm_isdst)\n",
      "        \n",
      "        Convert seconds since the Epoch to a time tuple expressing UTC (a.k.a.\n",
      "        GMT).  When 'seconds' is not passed in, convert the current time instead.\n",
      "        \n",
      "        If the platform supports the tm_gmtoff and tm_zone, they are available as\n",
      "        attributes only.\n",
      "    \n",
      "    localtime(...)\n",
      "        localtime([seconds]) -> (tm_year,tm_mon,tm_mday,tm_hour,tm_min,\n",
      "                                  tm_sec,tm_wday,tm_yday,tm_isdst)\n",
      "        \n",
      "        Convert seconds since the Epoch to a time tuple expressing local time.\n",
      "        When 'seconds' is not passed in, convert the current time instead.\n",
      "    \n",
      "    mktime(...)\n",
      "        mktime(tuple) -> floating point number\n",
      "        \n",
      "        Convert a time tuple in local time to seconds since the Epoch.\n",
      "        Note that mktime(gmtime(0)) will not generally return zero for most\n",
      "        time zones; instead the returned value will either be equal to that\n",
      "        of the timezone or altzone attributes on the time module.\n",
      "    \n",
      "    monotonic(...)\n",
      "        monotonic() -> float\n",
      "        \n",
      "        Monotonic clock, cannot go backward.\n",
      "    \n",
      "    monotonic_ns(...)\n",
      "        monotonic_ns() -> int\n",
      "        \n",
      "        Monotonic clock, cannot go backward, as nanoseconds.\n",
      "    \n",
      "    perf_counter(...)\n",
      "        perf_counter() -> float\n",
      "        \n",
      "        Performance counter for benchmarking.\n",
      "    \n",
      "    perf_counter_ns(...)\n",
      "        perf_counter_ns() -> int\n",
      "        \n",
      "        Performance counter for benchmarking as nanoseconds.\n",
      "    \n",
      "    process_time(...)\n",
      "        process_time() -> float\n",
      "        \n",
      "        Process time for profiling: sum of the kernel and user-space CPU time.\n",
      "    \n",
      "    process_time_ns(...)\n",
      "        process_time() -> int\n",
      "        \n",
      "        Process time for profiling as nanoseconds:\n",
      "        sum of the kernel and user-space CPU time.\n",
      "    \n",
      "    sleep(...)\n",
      "        sleep(seconds)\n",
      "        \n",
      "        Delay execution for a given number of seconds.  The argument may be\n",
      "        a floating point number for subsecond precision.\n",
      "    \n",
      "    strftime(...)\n",
      "        strftime(format[, tuple]) -> string\n",
      "        \n",
      "        Convert a time tuple to a string according to a format specification.\n",
      "        See the library reference manual for formatting codes. When the time tuple\n",
      "        is not present, current time as returned by localtime() is used.\n",
      "        \n",
      "        Commonly used format codes:\n",
      "        \n",
      "        %Y  Year with century as a decimal number.\n",
      "        %m  Month as a decimal number [01,12].\n",
      "        %d  Day of the month as a decimal number [01,31].\n",
      "        %H  Hour (24-hour clock) as a decimal number [00,23].\n",
      "        %M  Minute as a decimal number [00,59].\n",
      "        %S  Second as a decimal number [00,61].\n",
      "        %z  Time zone offset from UTC.\n",
      "        %a  Locale's abbreviated weekday name.\n",
      "        %A  Locale's full weekday name.\n",
      "        %b  Locale's abbreviated month name.\n",
      "        %B  Locale's full month name.\n",
      "        %c  Locale's appropriate date and time representation.\n",
      "        %I  Hour (12-hour clock) as a decimal number [01,12].\n",
      "        %p  Locale's equivalent of either AM or PM.\n",
      "        \n",
      "        Other codes may be available on your platform.  See documentation for\n",
      "        the C library strftime function.\n",
      "    \n",
      "    strptime(...)\n",
      "        strptime(string, format) -> struct_time\n",
      "        \n",
      "        Parse a string to a time tuple according to a format specification.\n",
      "        See the library reference manual for formatting codes (same as\n",
      "        strftime()).\n",
      "        \n",
      "        Commonly used format codes:\n",
      "        \n",
      "        %Y  Year with century as a decimal number.\n",
      "        %m  Month as a decimal number [01,12].\n",
      "        %d  Day of the month as a decimal number [01,31].\n",
      "        %H  Hour (24-hour clock) as a decimal number [00,23].\n",
      "        %M  Minute as a decimal number [00,59].\n",
      "        %S  Second as a decimal number [00,61].\n",
      "        %z  Time zone offset from UTC.\n",
      "        %a  Locale's abbreviated weekday name.\n",
      "        %A  Locale's full weekday name.\n",
      "        %b  Locale's abbreviated month name.\n",
      "        %B  Locale's full month name.\n",
      "        %c  Locale's appropriate date and time representation.\n",
      "        %I  Hour (12-hour clock) as a decimal number [01,12].\n",
      "        %p  Locale's equivalent of either AM or PM.\n",
      "        \n",
      "        Other codes may be available on your platform.  See documentation for\n",
      "        the C library strftime function.\n",
      "    \n",
      "    thread_time(...)\n",
      "        thread_time() -> float\n",
      "        \n",
      "        Thread time for profiling: sum of the kernel and user-space CPU time.\n",
      "    \n",
      "    thread_time_ns(...)\n",
      "        thread_time() -> int\n",
      "        \n",
      "        Thread time for profiling as nanoseconds:\n",
      "        sum of the kernel and user-space CPU time.\n",
      "    \n",
      "    time(...)\n",
      "        time() -> floating point number\n",
      "        \n",
      "        Return the current time in seconds since the Epoch.\n",
      "        Fractions of a second may be present if the system clock provides them.\n",
      "    \n",
      "    time_ns(...)\n",
      "        time_ns() -> int\n",
      "        \n",
      "        Return the current time in nanoseconds since the Epoch.\n",
      "\n",
      "DATA\n",
      "    altzone = -23400\n",
      "    daylight = 0\n",
      "    timezone = -19800\n",
      "    tzname = ('India Standard Time', 'India Daylight Time')\n",
      "\n",
      "FILE\n",
      "    (built-in)\n",
      "\n",
      "\n"
     ]
    }
   ],
   "source": [
    "help(time)"
   ]
  },
  {
   "cell_type": "code",
   "execution_count": 66,
   "id": "dd85f5b2",
   "metadata": {},
   "outputs": [],
   "source": [
    "import datetime"
   ]
  },
  {
   "cell_type": "code",
   "execution_count": 67,
   "id": "c57ca23a",
   "metadata": {},
   "outputs": [
    {
     "name": "stdout",
     "output_type": "stream",
     "text": [
      "['MAXYEAR', 'MINYEAR', 'UTC', '__all__', '__builtins__', '__cached__', '__doc__', '__file__', '__loader__', '__name__', '__package__', '__spec__', 'date', 'datetime', 'datetime_CAPI', 'sys', 'time', 'timedelta', 'timezone', 'tzinfo']\n"
     ]
    }
   ],
   "source": [
    "print(dir(datetime))"
   ]
  },
  {
   "cell_type": "code",
   "execution_count": null,
   "id": "880c2956",
   "metadata": {},
   "outputs": [],
   "source": []
  },
  {
   "cell_type": "code",
   "execution_count": 75,
   "id": "51574294",
   "metadata": {},
   "outputs": [
    {
     "ename": "TypeError",
     "evalue": "'str' object cannot be interpreted as an integer",
     "output_type": "error",
     "traceback": [
      "\u001b[1;31m---------------------------------------------------------------------------\u001b[0m",
      "\u001b[1;31mTypeError\u001b[0m                                 Traceback (most recent call last)",
      "Cell \u001b[1;32mIn[75], line 1\u001b[0m\n\u001b[1;32m----> 1\u001b[0m datetime\u001b[38;5;241m.\u001b[39mdatetime(\u001b[38;5;124m'\u001b[39m\u001b[38;5;124m20241210\u001b[39m\u001b[38;5;124m'\u001b[39m)\n",
      "\u001b[1;31mTypeError\u001b[0m: 'str' object cannot be interpreted as an integer"
     ]
    }
   ],
   "source": [
    "datetime.datetime()"
   ]
  },
  {
   "cell_type": "code",
   "execution_count": null,
   "id": "d9ae9acc",
   "metadata": {},
   "outputs": [],
   "source": []
  },
  {
   "cell_type": "code",
   "execution_count": null,
   "id": "02e3c2e1",
   "metadata": {},
   "outputs": [],
   "source": []
  },
  {
   "cell_type": "code",
   "execution_count": 3,
   "id": "4c3d87a8",
   "metadata": {},
   "outputs": [],
   "source": [
    "def compare(a,b):\n",
    "    if a==b:\n",
    "        return True\n",
    "    else:\n",
    "        return False\n",
    "\n"
   ]
  },
  {
   "cell_type": "code",
   "execution_count": null,
   "id": "7a0f396e",
   "metadata": {},
   "outputs": [],
   "source": [
    "'sachin' 'Sachin'"
   ]
  },
  {
   "cell_type": "code",
   "execution_count": null,
   "id": "47469e62",
   "metadata": {},
   "outputs": [],
   "source": [
    "#SSACHIN@GRRASSOLUTION.IN\n"
   ]
  },
  {
   "cell_type": "code",
   "execution_count": 8,
   "id": "3fa2e5b4",
   "metadata": {},
   "outputs": [],
   "source": [
    "def smart_compare(func):\n",
    "    def inner(a,b):\n",
    "        a=a.casefold()\n",
    "        b=b.casefold()\n",
    "        return func(a,b)\n",
    "    return inner\n",
    "    \n",
    "def compare(a,b):\n",
    "    if a==b:\n",
    "        return True\n",
    "    else:\n",
    "        return False\n",
    "\n",
    "compare=smart_compare(compare)"
   ]
  },
  {
   "cell_type": "code",
   "execution_count": 9,
   "id": "a2397024",
   "metadata": {},
   "outputs": [
    {
     "data": {
      "text/plain": [
       "True"
      ]
     },
     "execution_count": 9,
     "metadata": {},
     "output_type": "execute_result"
    }
   ],
   "source": [
    "compare('SaCHIN','sachin')"
   ]
  },
  {
   "cell_type": "code",
   "execution_count": 10,
   "id": "51cf426f",
   "metadata": {},
   "outputs": [],
   "source": [
    "fp=open('python.txt','w')\n"
   ]
  },
  {
   "cell_type": "code",
   "execution_count": 11,
   "id": "ea2405dc",
   "metadata": {},
   "outputs": [
    {
     "data": {
      "text/plain": [
       "74"
      ]
     },
     "execution_count": 11,
     "metadata": {},
     "output_type": "execute_result"
    }
   ],
   "source": [
    "fp.write('''\n",
    "Hello Everyone \n",
    "Welcome To grras Solution \n",
    "We are learning File Handling\n",
    "''')\n"
   ]
  },
  {
   "cell_type": "code",
   "execution_count": 12,
   "id": "4b880a3b",
   "metadata": {},
   "outputs": [],
   "source": [
    "fp.close()"
   ]
  },
  {
   "cell_type": "code",
   "execution_count": 17,
   "id": "8e0a3821",
   "metadata": {},
   "outputs": [
    {
     "name": "stdout",
     "output_type": "stream",
     "text": [
      "\n",
      "Hello Everyone \n",
      "Welcome To grras Solution \n",
      "We are learning File Handling\n",
      "\n"
     ]
    }
   ],
   "source": [
    "fp=open('python.txt')\n",
    "a=fp.read()\n",
    "print(a)\n",
    "fp.close()"
   ]
  },
  {
   "cell_type": "code",
   "execution_count": 18,
   "id": "ce59818e",
   "metadata": {},
   "outputs": [
    {
     "name": "stdout",
     "output_type": "stream",
     "text": [
      "File handling in C is the process in which we create, open, read, write, and close operations on a file. C language provides different functions such as fopen(), fwrite(), fread(), fseek(), fprintf(), etc. to perform input, output, and many different C file operations in our program.\n",
      "\n",
      "Why do we need File Handling in C?\n",
      "So far the operations using the C program are done on a prompt/terminal which is not stored anywhere. The output is deleted when the program is closed. But in the software industry, most programs are written to store the information fetched from the program. The use of file handling is exactly what the situation calls for.\n",
      "\n",
      "In order to understand why file handling is important, let us look at a few features of using files:\n"
     ]
    }
   ],
   "source": [
    "file=open('alpha.txt')\n",
    "a=file.read()\n",
    "print(a)"
   ]
  },
  {
   "cell_type": "code",
   "execution_count": 19,
   "id": "a4e823e0",
   "metadata": {},
   "outputs": [],
   "source": [
    "file.close()"
   ]
  },
  {
   "cell_type": "code",
   "execution_count": 21,
   "id": "e98cd732",
   "metadata": {},
   "outputs": [
    {
     "name": "stdout",
     "output_type": "stream",
     "text": [
      "File handling in C is the process in which we create, open, read, write, and close operations on a file. C language provides different functions such as fopen(), fwrite(), fread(), fseek(), fprintf(), etc. to perform input, output, and many different C file operations in our program.\n",
      "\n",
      "Why do we need File Handling in C?\n",
      "So far the operations using the C program are done on a prompt/terminal which is not stored anywhere. The output is deleted when the program is closed. But in the software industry, most programs are written to store the information fetched from the program. The use of file handling is exactly what the situation calls for.\n",
      "\n",
      "In order to understand why file handling is important, let us look at a few features of using files:\n"
     ]
    }
   ],
   "source": [
    "file=open('alpha.txt')\n",
    "a=file.read()\n",
    "print(a)"
   ]
  },
  {
   "cell_type": "code",
   "execution_count": 24,
   "id": "897a1eee",
   "metadata": {},
   "outputs": [
    {
     "name": "stdout",
     "output_type": "stream",
     "text": [
      "\n"
     ]
    }
   ],
   "source": [
    "a=file.read()\n",
    "print(a)"
   ]
  },
  {
   "cell_type": "code",
   "execution_count": 29,
   "id": "6b306e89",
   "metadata": {},
   "outputs": [
    {
     "data": {
      "text/plain": [
       "752"
      ]
     },
     "execution_count": 29,
     "metadata": {},
     "output_type": "execute_result"
    }
   ],
   "source": [
    "file.tell()"
   ]
  },
  {
   "cell_type": "code",
   "execution_count": 30,
   "id": "03fdd52f",
   "metadata": {},
   "outputs": [
    {
     "data": {
      "text/plain": [
       "0"
      ]
     },
     "execution_count": 30,
     "metadata": {},
     "output_type": "execute_result"
    }
   ],
   "source": [
    "file.seek(0)"
   ]
  },
  {
   "cell_type": "code",
   "execution_count": 31,
   "id": "d628263e",
   "metadata": {},
   "outputs": [
    {
     "name": "stdout",
     "output_type": "stream",
     "text": [
      "File handling in C is the process in which we create, open, read, write, and close operations on a file. C language provides different functions such as fopen(), fwrite(), fread(), fseek(), fprintf(), etc. to perform input, output, and many different C file operations in our program.\n",
      "\n",
      "Why do we need File Handling in C?\n",
      "So far the operations using the C program are done on a prompt/terminal which is not stored anywhere. The output is deleted when the program is closed. But in the software industry, most programs are written to store the information fetched from the program. The use of file handling is exactly what the situation calls for.\n",
      "\n",
      "In order to understand why file handling is important, let us look at a few features of using files:\n"
     ]
    }
   ],
   "source": [
    "\n",
    "a=file.read()\n",
    "print(a)"
   ]
  },
  {
   "cell_type": "code",
   "execution_count": 32,
   "id": "09199beb",
   "metadata": {},
   "outputs": [],
   "source": [
    "file.close()"
   ]
  },
  {
   "cell_type": "code",
   "execution_count": 33,
   "id": "ad0ff980",
   "metadata": {},
   "outputs": [
    {
     "name": "stdout",
     "output_type": "stream",
     "text": [
      "File handling in C is the process in which we create, open, read, write, and close operations on a file. C language provides different functions such as fopen(), fwrite(), fread(), fseek(), fprintf(), etc. to perform input, output, and many different C file operations in our program.\n",
      "\n",
      "Why do we need File Handling in C?\n",
      "So far the operations using the C program are done on a prompt/terminal which is not stored anywhere. The output is deleted when the program is closed. But in the software industry, most programs are written to store the information fetched from the program. The use of file handling is exactly what the situation calls for.\n",
      "\n",
      "In order to understand why file handling is important, let us look at a few features of using files:\n"
     ]
    }
   ],
   "source": [
    "!type alpha.txt"
   ]
  },
  {
   "cell_type": "code",
   "execution_count": 37,
   "id": "31bc9571",
   "metadata": {},
   "outputs": [],
   "source": [
    "file=open('alpha.txt','w')\n",
    "file.write('this file is edited\\n')\n",
    "file.close()"
   ]
  },
  {
   "cell_type": "code",
   "execution_count": 38,
   "id": "da4c1c17",
   "metadata": {},
   "outputs": [
    {
     "name": "stdout",
     "output_type": "stream",
     "text": [
      "this file is edited\n",
      "\n"
     ]
    }
   ],
   "source": [
    "file=open('alpha.txt')\n",
    "print(file.read())\n",
    "file.close()"
   ]
  },
  {
   "cell_type": "code",
   "execution_count": 39,
   "id": "d78febe5",
   "metadata": {},
   "outputs": [],
   "source": [
    "file=open('alpha.txt','a')\n",
    "file.write('''File handling in C is the process in which we create, open, read, write, and close operations on a file. C language provides different functions such as fopen(), fwrite(), fread(), fseek(), fprintf(), etc. to perform input, output, and many different C file operations in our program.\n",
    "\n",
    "Why do we need File Handling in C?\n",
    "So far the operations using the C program are done on a prompt/terminal which is not stored anywhere. The output is deleted when the program is closed. But in the software industry, most programs are written to store the information fetched from the program. The use of file handling is exactly what the situation calls for.\n",
    "\n",
    "In order to understand why file handling is important, let us look at a few features of using files:''')\n",
    "file.close()"
   ]
  },
  {
   "cell_type": "code",
   "execution_count": 41,
   "id": "aaa6fc08",
   "metadata": {},
   "outputs": [
    {
     "name": "stdout",
     "output_type": "stream",
     "text": [
      "\n",
      "name,maths,physics,chemistry,percantage\n",
      "Sachin,50,56,67\n",
      "ravi,65,56,45\n",
      "deepratan,76,87,67\n",
      "\n",
      "\n"
     ]
    }
   ],
   "source": [
    "file = open('marx`ks.csv','w')\n",
    "file.write('''\n",
    "name,maths,physics,chemistry,percantage\n",
    "Sachin,50,56,67\n",
    "ravi,65,56,45\n",
    "deepratan,76,87,67\n",
    "\n",
    "''')\n",
    "file.close()\n",
    "file = open('marks.csv','r')\n",
    "a=file.read()\n",
    "print(a)\n",
    "file.close()"
   ]
  },
  {
   "cell_type": "code",
   "execution_count": 45,
   "id": "b64b1d45",
   "metadata": {},
   "outputs": [
    {
     "name": "stdout",
     "output_type": "stream",
     "text": [
      "\n",
      "name,maths,physics,chemistry,percantage\n",
      "Sachin,50,56,67\n",
      "ravi,65,56,45\n",
      "deepratan,76,87,67\n",
      "\n",
      "\n"
     ]
    }
   ],
   "source": [
    "file = open('marks.csv','r')\n",
    "a=file.read()\n",
    "print(a)\n",
    "l=a.strip().split('\\n')\n"
   ]
  },
  {
   "cell_type": "code",
   "execution_count": 46,
   "id": "3f84b273",
   "metadata": {},
   "outputs": [
    {
     "data": {
      "text/plain": [
       "['name,maths,physics,chemistry,percantage',\n",
       " 'Sachin,50,56,67',\n",
       " 'ravi,65,56,45',\n",
       " 'deepratan,76,87,67']"
      ]
     },
     "execution_count": 46,
     "metadata": {},
     "output_type": "execute_result"
    }
   ],
   "source": [
    "l"
   ]
  },
  {
   "cell_type": "code",
   "execution_count": 48,
   "id": "3d0f8960",
   "metadata": {},
   "outputs": [
    {
     "name": "stdout",
     "output_type": "stream",
     "text": [
      "{'Sachin': ['50', '56', '67'], 'ravi': ['65', '56', '45'], 'deepratan': ['76', '87', '67']}\n"
     ]
    }
   ],
   "source": [
    "d={}\n",
    "for i in range(1,len(l)):\n",
    "    z=l[i].split(',')\n",
    "    d[z[0]]=z[1:]\n",
    "print(d)"
   ]
  },
  {
   "cell_type": "code",
   "execution_count": 49,
   "id": "2a41a679",
   "metadata": {},
   "outputs": [
    {
     "data": {
      "text/plain": [
       "['50', '56', '67']"
      ]
     },
     "execution_count": 49,
     "metadata": {},
     "output_type": "execute_result"
    }
   ],
   "source": [
    "d['Sachin']"
   ]
  },
  {
   "cell_type": "code",
   "execution_count": 57,
   "id": "8039dec5",
   "metadata": {},
   "outputs": [],
   "source": [
    "file = open('marks.csv','r')\n",
    "a=file.read()\n",
    "print(a)\n",
    "l=a.strip().split('\\n')\n",
    "d={}\n",
    "for i in range(1,len(l)):\n",
    "    z=l[i].split(',')\n",
    "    d[z[0]]=z[1:]\n",
    "print(d)\n",
    "def percentage(marks):\n",
    "    total=int(marks[0])+int(marks[1])+int(marks[2])\n",
    "    total/=3\n",
    "    return total\n",
    "file.close()\n",
    "file=open('marks.csv','w')\n",
    "file.write(f'{l[0]}\\n')\n",
    "for i in d.keys():\n",
    "    file.write(','.join([i,d[i][0],d[i][1],d[i][2],str(percentage(d[i])),'\\n']))\n",
    "file.close()"
   ]
  },
  {
   "cell_type": "code",
   "execution_count": 53,
   "id": "cba1a8c4",
   "metadata": {},
   "outputs": [
    {
     "ename": "TypeError",
     "evalue": "sequence item 4: expected str instance, float found",
     "output_type": "error",
     "traceback": [
      "\u001b[1;31m---------------------------------------------------------------------------\u001b[0m",
      "\u001b[1;31mTypeError\u001b[0m                                 Traceback (most recent call last)",
      "Cell \u001b[1;32mIn[53], line 1\u001b[0m\n\u001b[1;32m----> 1\u001b[0m \u001b[38;5;124m'\u001b[39m\u001b[38;5;124m,\u001b[39m\u001b[38;5;124m'\u001b[39m\u001b[38;5;241m.\u001b[39mjoin([i,d[i][\u001b[38;5;241m0\u001b[39m],d[i][\u001b[38;5;241m1\u001b[39m],d[i][\u001b[38;5;241m2\u001b[39m],percentage(d[i])])\n",
      "\u001b[1;31mTypeError\u001b[0m: sequence item 4: expected str instance, float found"
     ]
    }
   ],
   "source": [
    "','.join([i,d[i][0],d[i][1],d[i][2],percentage(d[i])])"
   ]
  },
  {
   "cell_type": "code",
   "execution_count": 54,
   "id": "ec6b0078",
   "metadata": {},
   "outputs": [
    {
     "data": {
      "text/plain": [
       "['Sachin', '50', '56', '67', 57.666666666666664]"
      ]
     },
     "execution_count": 54,
     "metadata": {},
     "output_type": "execute_result"
    }
   ],
   "source": [
    "[i,d[i][0],d[i][1],d[i][2],percentage(d[i])]"
   ]
  },
  {
   "cell_type": "code",
   "execution_count": null,
   "id": "69eb1b0c",
   "metadata": {},
   "outputs": [],
   "source": []
  },
  {
   "cell_type": "code",
   "execution_count": null,
   "id": "48536bc6",
   "metadata": {},
   "outputs": [],
   "source": []
  },
  {
   "cell_type": "code",
   "execution_count": null,
   "id": "cf53457d",
   "metadata": {},
   "outputs": [],
   "source": []
  },
  {
   "cell_type": "code",
   "execution_count": null,
   "id": "55a8f80c",
   "metadata": {},
   "outputs": [],
   "source": []
  },
  {
   "cell_type": "code",
   "execution_count": 59,
   "id": "6d90d07e",
   "metadata": {},
   "outputs": [
    {
     "name": "stdout",
     "output_type": "stream",
     "text": [
      "name,maths,physics,chemistry,percantage\n",
      "Sachin,50,56,67,57.666666666666664,\n",
      "ravi,65,56,45,55.333333333333336,\n",
      "deepratan,76,87,67,76.66666666666667,\n",
      "\n",
      "{'Sachin': ['50', '56', '67', '57.666666666666664', ''], 'ravi': ['65', '56', '45', '55.333333333333336', ''], 'deepratan': ['76', '87', '67', '76.66666666666667', '']}\n"
     ]
    }
   ],
   "source": [
    "file = open('marks.csv','r')\n",
    "a=file.read()\n",
    "print(a)\n",
    "l=a.strip().split('\\n')\n",
    "d={}\n",
    "for i in range(1,len(l)):\n",
    "    z=l[i].split(',')\n",
    "    d[z[0]]=z[1:]\n",
    "print(d)\n",
    "def percentage(marks):\n",
    "    total=int(marks[0])+int(marks[1])+int(marks[2])\n",
    "    total/=3\n",
    "    return total\n",
    "file.close()\n",
    "file=open('marks.csv','w')\n",
    "file.write(f'{l[0]}\\n')\n",
    "for i in d.keys():\n",
    "    file.write(','.join([i,d[i][0],d[i][1],d[i][2],str(percentage(d[i])),'\\n']))\n",
    "file.close()"
   ]
  },
  {
   "cell_type": "code",
   "execution_count": null,
   "id": "39404a6b",
   "metadata": {},
   "outputs": [],
   "source": []
  },
  {
   "cell_type": "code",
   "execution_count": 1,
   "id": "0f481721",
   "metadata": {},
   "outputs": [],
   "source": [
    "file =open('a.txt')"
   ]
  },
  {
   "cell_type": "code",
   "execution_count": 2,
   "id": "82ec8d39",
   "metadata": {},
   "outputs": [
    {
     "data": {
      "text/plain": [
       "'in this course \\nPython Tr\\n\\nSachin Sharm\\ni am in the a.txt\\n \\n'"
      ]
     },
     "execution_count": 2,
     "metadata": {},
     "output_type": "execute_result"
    }
   ],
   "source": [
    "file.read()"
   ]
  },
  {
   "cell_type": "code",
   "execution_count": 3,
   "id": "33b32120",
   "metadata": {},
   "outputs": [
    {
     "data": {
      "text/plain": [
       "True"
      ]
     },
     "execution_count": 3,
     "metadata": {},
     "output_type": "execute_result"
    }
   ],
   "source": [
    "file.readable()"
   ]
  },
  {
   "cell_type": "code",
   "execution_count": 4,
   "id": "a10b31b3",
   "metadata": {},
   "outputs": [
    {
     "data": {
      "text/plain": [
       "False"
      ]
     },
     "execution_count": 4,
     "metadata": {},
     "output_type": "execute_result"
    }
   ],
   "source": [
    "file.writable()"
   ]
  },
  {
   "cell_type": "code",
   "execution_count": 5,
   "id": "b3f655b2",
   "metadata": {},
   "outputs": [],
   "source": [
    "file.close()"
   ]
  },
  {
   "cell_type": "code",
   "execution_count": 6,
   "id": "c06e33d0",
   "metadata": {},
   "outputs": [],
   "source": [
    "file=open('a.txt')\n"
   ]
  },
  {
   "cell_type": "code",
   "execution_count": 24,
   "id": "0f2ee7d4",
   "metadata": {},
   "outputs": [
    {
     "data": {
      "text/plain": [
       "'\\n'"
      ]
     },
     "execution_count": 24,
     "metadata": {},
     "output_type": "execute_result"
    }
   ],
   "source": [
    "file.readline()"
   ]
  },
  {
   "cell_type": "code",
   "execution_count": 30,
   "id": "0c6d22bc",
   "metadata": {},
   "outputs": [
    {
     "name": "stdout",
     "output_type": "stream",
     "text": [
      "66\n"
     ]
    },
    {
     "data": {
      "text/plain": [
       "45"
      ]
     },
     "execution_count": 30,
     "metadata": {},
     "output_type": "execute_result"
    }
   ],
   "source": [
    "print(file.tell())\n",
    "file.seek(45)\n"
   ]
  },
  {
   "cell_type": "code",
   "execution_count": 29,
   "id": "1c2959f4",
   "metadata": {},
   "outputs": [
    {
     "data": {
      "text/plain": [
       "[' am in the a.txt\\n', ' \\n']"
      ]
     },
     "execution_count": 29,
     "metadata": {},
     "output_type": "execute_result"
    }
   ],
   "source": [
    "file.readlines()"
   ]
  },
  {
   "cell_type": "code",
   "execution_count": 31,
   "id": "b82ea06e",
   "metadata": {},
   "outputs": [],
   "source": [
    "file.close()"
   ]
  },
  {
   "cell_type": "code",
   "execution_count": 32,
   "id": "320bf2be",
   "metadata": {},
   "outputs": [],
   "source": [
    "file=open('a.txt','w')"
   ]
  },
  {
   "cell_type": "code",
   "execution_count": 33,
   "id": "8317f807",
   "metadata": {},
   "outputs": [
    {
     "ename": "TypeError",
     "evalue": "write() argument must be str, not int",
     "output_type": "error",
     "traceback": [
      "\u001b[1;31m---------------------------------------------------------------------------\u001b[0m",
      "\u001b[1;31mTypeError\u001b[0m                                 Traceback (most recent call last)",
      "Cell \u001b[1;32mIn[33], line 1\u001b[0m\n\u001b[1;32m----> 1\u001b[0m file\u001b[38;5;241m.\u001b[39mwrite(\u001b[38;5;241m10\u001b[39m)\n",
      "\u001b[1;31mTypeError\u001b[0m: write() argument must be str, not int"
     ]
    }
   ],
   "source": [
    "file.write(10)"
   ]
  },
  {
   "cell_type": "code",
   "execution_count": 34,
   "id": "a8152954",
   "metadata": {},
   "outputs": [],
   "source": [
    "import json"
   ]
  },
  {
   "cell_type": "code",
   "execution_count": 36,
   "id": "dda52b8e",
   "metadata": {},
   "outputs": [],
   "source": [
    "marks={\n",
    "    's101':{'name':'sachin','marks':[40,45,56]},\n",
    "    's102':{'name':'ravi','marks':[40,45,56]},\n",
    "    's103':{'name':'deepratan','marks':[40,45,56]},\n",
    "    's104':{'name':'gaurav','marks':[40,45,56]},\n",
    "    's105':{'name':'vansh','marks':[40,45,56]},\n",
    "    's106':{'name':'chitrakshi','marks':[40,45,56]},}\n",
    "file=open('marks.txt','w')\n"
   ]
  },
  {
   "cell_type": "code",
   "execution_count": 37,
   "id": "69fd93e9",
   "metadata": {},
   "outputs": [],
   "source": [
    "json.dump(marks,file)"
   ]
  },
  {
   "cell_type": "code",
   "execution_count": 39,
   "id": "68dc150a",
   "metadata": {},
   "outputs": [],
   "source": [
    "file.close()"
   ]
  },
  {
   "cell_type": "code",
   "execution_count": 40,
   "id": "d25d56c1",
   "metadata": {},
   "outputs": [],
   "source": [
    "file=open('marks.txt','r')\n",
    "marks=json.load(file)"
   ]
  },
  {
   "cell_type": "code",
   "execution_count": 41,
   "id": "9b12d501",
   "metadata": {},
   "outputs": [
    {
     "data": {
      "text/plain": [
       "{'s101': {'name': 'sachin', 'marks': [40, 45, 56]},\n",
       " 's102': {'name': 'ravi', 'marks': [40, 45, 56]},\n",
       " 's103': {'name': 'deepratan', 'marks': [40, 45, 56]},\n",
       " 's104': {'name': 'gaurav', 'marks': [40, 45, 56]},\n",
       " 's105': {'name': 'vansh', 'marks': [40, 45, 56]},\n",
       " 's106': {'name': 'chitrakshi', 'marks': [40, 45, 56]}}"
      ]
     },
     "execution_count": 41,
     "metadata": {},
     "output_type": "execute_result"
    }
   ],
   "source": [
    "marks"
   ]
  },
  {
   "cell_type": "code",
   "execution_count": 42,
   "id": "b6b39cc3",
   "metadata": {},
   "outputs": [
    {
     "data": {
      "text/plain": [
       "dict"
      ]
     },
     "execution_count": 42,
     "metadata": {},
     "output_type": "execute_result"
    }
   ],
   "source": [
    "type(marks)"
   ]
  },
  {
   "cell_type": "code",
   "execution_count": 43,
   "id": "d3e5b661",
   "metadata": {},
   "outputs": [],
   "source": [
    "file.close()"
   ]
  },
  {
   "cell_type": "code",
   "execution_count": 44,
   "id": "d1bdca2d",
   "metadata": {},
   "outputs": [],
   "source": [
    "file=open('marks.txt')"
   ]
  },
  {
   "cell_type": "code",
   "execution_count": 45,
   "id": "72c46ebf",
   "metadata": {},
   "outputs": [],
   "source": [
    "a=file.read()"
   ]
  },
  {
   "cell_type": "code",
   "execution_count": 47,
   "id": "a28b4d66",
   "metadata": {},
   "outputs": [
    {
     "data": {
      "text/plain": [
       "str"
      ]
     },
     "execution_count": 47,
     "metadata": {},
     "output_type": "execute_result"
    }
   ],
   "source": [
    "type(a)"
   ]
  },
  {
   "cell_type": "code",
   "execution_count": 50,
   "id": "7ff302ee",
   "metadata": {},
   "outputs": [],
   "source": [
    "a=json.loads(a)"
   ]
  },
  {
   "cell_type": "code",
   "execution_count": 51,
   "id": "85071e02",
   "metadata": {},
   "outputs": [
    {
     "data": {
      "text/plain": [
       "'{\"s101\": {\"name\": \"sachin\", \"marks\": [40, 45, 56]}, \"s102\": {\"name\": \"ravi\", \"marks\": [40, 45, 56]}, \"s103\": {\"name\": \"deepratan\", \"marks\": [40, 45, 56]}, \"s104\": {\"name\": \"gaurav\", \"marks\": [40, 45, 56]}, \"s105\": {\"name\": \"vansh\", \"marks\": [40, 45, 56]}, \"s106\": {\"name\": \"chitrakshi\", \"marks\": [40, 45, 56]}}'"
      ]
     },
     "execution_count": 51,
     "metadata": {},
     "output_type": "execute_result"
    }
   ],
   "source": [
    "json.dumps(a)"
   ]
  },
  {
   "cell_type": "code",
   "execution_count": 52,
   "id": "238e5da2",
   "metadata": {},
   "outputs": [],
   "source": [
    "import pickle"
   ]
  },
  {
   "cell_type": "code",
   "execution_count": 53,
   "id": "685706c4",
   "metadata": {},
   "outputs": [],
   "source": [
    "d=['sachin','gaurav','deepratan']\n",
    "file=open('data.pickle','wb')\n"
   ]
  },
  {
   "cell_type": "code",
   "execution_count": 54,
   "id": "61270b0f",
   "metadata": {},
   "outputs": [],
   "source": [
    "pickle.dump(d,file)"
   ]
  },
  {
   "cell_type": "code",
   "execution_count": 55,
   "id": "3dd8680c",
   "metadata": {},
   "outputs": [],
   "source": [
    "file.close()"
   ]
  },
  {
   "cell_type": "code",
   "execution_count": 57,
   "id": "20ae1713",
   "metadata": {},
   "outputs": [
    {
     "name": "stdout",
     "output_type": "stream",
     "text": [
      "['sachin', 'gaurav', 'deepratan']\n"
     ]
    }
   ],
   "source": [
    "file=open('data.pickle','rb')\n",
    "print(pickle.load(file))"
   ]
  },
  {
   "cell_type": "code",
   "execution_count": 60,
   "id": "e722e183",
   "metadata": {},
   "outputs": [
    {
     "name": "stdout",
     "output_type": "stream",
     "text": [
      "\n",
      "False\n",
      "hello\n"
     ]
    },
    {
     "data": {
      "text/plain": [
       "True"
      ]
     },
     "execution_count": 60,
     "metadata": {},
     "output_type": "execute_result"
    }
   ],
   "source": [
    "# context manager\n",
    "with open('a.txt','r') as file:\n",
    "    print(file.read())\n",
    "    print(file.closed)\n",
    "print('hello')\n",
    "file.closed"
   ]
  },
  {
   "cell_type": "code",
   "execution_count": 12,
   "id": "33403740",
   "metadata": {},
   "outputs": [
    {
     "name": "stdout",
     "output_type": "stream",
     "text": [
      "name,s1,s2,s3,s4,s5,s6\n",
      "A,56,65,76,45,88,45\n",
      "B,65,45,56,67,87,67\n",
      "C,77,45,44,56,66,56\n",
      "D,65,45,56,67,87,67\n",
      "\n",
      "{'A': ['56', '65', '76', '45', '88', '45'], 'B': ['65', '45', '56', '67', '87', '67'], 'C': ['77', '45', '44', '56', '66', '56'], 'D': ['65', '45', '56', '67', '87', '67']}\n"
     ]
    }
   ],
   "source": [
    "file = open('marks.csv','r')\n",
    "a=file.read()\n",
    "print(a)\n",
    "l=a.strip().split('\\n')\n",
    "d={}\n",
    "for i in range(1,len(l)):\n",
    "    z=l[i].split(',')\n",
    "    d[z[0]]=z[1:]\n",
    "print(d)\n",
    "def percentage(marks):\n",
    "    total=0\n",
    "    for i in marks:\n",
    "        total+=int(i)\n",
    "    total/=len(marks)\n",
    "    return total\n",
    "file.close()\n",
    "file=open('marks.csv','w')\n",
    "z=l[0].split(',')\n",
    "z.append('Percentage')\n",
    "z=','.join(z)\n",
    "file.write(f'{z}\\n')\n",
    "\n",
    "for i in d.keys():\n",
    "    l=[i]\n",
    "    for j in d[i]:\n",
    "        l.append(j)\n",
    "    l.append(str(percentage(d[i])))\n",
    "    l.append('\\n')\n",
    "    file.write(','.join(l))\n",
    "file.close()"
   ]
  },
  {
   "cell_type": "code",
   "execution_count": null,
   "id": "eb890cd9",
   "metadata": {},
   "outputs": [],
   "source": []
  },
  {
   "cell_type": "markdown",
   "id": "12ef3086",
   "metadata": {},
   "source": [
    "## Library Management System"
   ]
  },
  {
   "cell_type": "code",
   "execution_count": null,
   "id": "bf803031",
   "metadata": {},
   "outputs": [
    {
     "name": "stdout",
     "output_type": "stream",
     "text": [
      "\n",
      "\n",
      "            Welcome to Vasul Library🦒🦒🦒\n",
      "\n",
      "            Press 1 For Admin Login \n",
      "            Press 2 For Student Login\n",
      "            Press 3 For Exit\n",
      "\n",
      "    2\n",
      "\n",
      "            Press 1 for student Login\n",
      "            press 2 for Exit\n",
      "        1\n",
      "Enter Student_ids101\n",
      "Login Successfully\n",
      "\n",
      "                    \n",
      "                    Press 1 for Book Issue\n",
      "                    Press 2 for Check Fine\n",
      "                    Press 3 for Submit Fine\n",
      "                    press 4 for Exit\n",
      "                    2\n",
      "24\n"
     ]
    }
   ],
   "source": [
    "import datetime\n",
    "book={\n",
    "    'B101':{ 'title':'The Python','Author':'XYZ','Copies':10,'year':2007},\n",
    "    'B102':{ 'title':'Data the Lake','Author':'XYZ','Copies':10,'year':2007},\n",
    "    'B103':{ 'title':'The Beginning Story','Author':'XYZ','Copies':10,'year':2007},\n",
    "    'B104':{ 'title':'The ','Author':'XYZ','Copies':10,'year':2007},\n",
    "    'B105':{ 'title':'Data science','Author':'XYZ','Copies':10,'year':2007},\n",
    "    'B106':{ 'title':'Data Analyst','Author':'XYZ','Copies':10,'year':2007},\n",
    "    'B107':{ 'title':'Devops','Author':'XYZ','Copies':10,'year':2007},\n",
    "    'B108':{ 'title':'linux Basics','Author':'XYZ','Copies':10,'year':2007},\n",
    "    'B109':{ 'title':'ss1','Author':'XYZ','Copies':10,'year':2007},\n",
    "    'B110':{ 'title':'ss2','Author':'XYZ','Copies':10,'year':2007},\n",
    "    'B111':{ 'title':'ss3','Author':'XYZ','Copies':10,'year':2007},\n",
    "    'B112':{ 'title':'ss4','Author':'XYZ','Copies':10,'year':2007},\n",
    "    'B113':{ 'title':'ss5','Author':'XYZ','Copies':10,'year':2007},\n",
    "    'B114':{ 'title':'ss6','Author':'XYZ','Copies':10,'year':2007},    \n",
    "}\n",
    "student={\n",
    "    's101':{'name':'sachin','contact':7878012779,'Issued_book':{'name':'the Python','Book_id':'B101' ,'Date_of_issue':'2024-06-02'},\n",
    "            'Fine':0\n",
    "}\n",
    "}\n",
    "def fine(st_id):\n",
    "    if student[st_id].get('Issued_book')!=None:\n",
    "        issued_date=student[st_id]['Issued_book']['Date_of_issue'].split('-')\n",
    "        issued_date=datetime.date(int(issued_date[0]),int(issued_date[1]),int(issued_date[2]))\n",
    "        submission_date=datetime.date.today()\n",
    "        di=(submission_date-issued_date).days\n",
    "        print(di)\n",
    "def student_i():\n",
    "    while True:\n",
    "        n=int(input('''\n",
    "            Press 1 for student Login\n",
    "            press 2 for Exit\n",
    "        '''))\n",
    "        if n==1:\n",
    "            st_id=input('Enter Student_id').lower()\n",
    "            if st_id in student.keys():\n",
    "                print('Login Successfully')\n",
    "                k=int(input('''\n",
    "                    \n",
    "                    Press 1 for Book Issue\n",
    "                    Press 2 for Check Fine\n",
    "                    Press 3 for Submit Fine\n",
    "                    press 4 for Exit\n",
    "                    '''))\n",
    "                if k==1:\n",
    "                    pass\n",
    "                elif k==2:\n",
    "                    fine(st_id)\n",
    "                elif k==3:\n",
    "                    pass\n",
    "                elif k==4:\n",
    "                    return 0\n",
    "                \n",
    "\n",
    "\n",
    "\n",
    "def admin():\n",
    "    login_id='Admin123'\n",
    "    login_password='Admin@123'\n",
    "    while True:\n",
    "        n=int(input('''\n",
    "            Press 1 for Admin Login\n",
    "            press 2 for Exit\n",
    "        '''))\n",
    "        if n==1:\n",
    "            i=input('Enter username').title()\n",
    "            j=input('Enter password')\n",
    "            if i==login_id:\n",
    "                if j==login_password:\n",
    "                    print('Login Successfully')\n",
    "                    k=int(input('''\n",
    "                    \n",
    "                    Press 1 for Book Info\n",
    "                    Press 2 for student info\n",
    "                    Press 3 for Book Issue Chart\n",
    "                    press 4 for Exit\n",
    "                    '''))\n",
    "                    if k==1:\n",
    "                        book_id=input('Enter Book Id').upper()\n",
    "                        var=f'''\n",
    "                        Book id:{book_id}\n",
    "                        Title : {book[book_id].get('title')}\n",
    "                        Author:{book[book_id].get('Author')}\n",
    "                        Year:{book[book_id].get('year')}\n",
    "                        Total Copies Present: {book[book_id].get('Copies')}\n",
    "                        \n",
    "                        \n",
    "                        \n",
    "                        '''\n",
    "                        print(var)\n",
    "                    elif k==2:\n",
    "                        pass\n",
    "                    elif k==3:\n",
    "                        pass\n",
    "                    elif k==4:\n",
    "                        return 0\n",
    "                    \n",
    "                    \n",
    "                else:\n",
    "                    print('Invalid Password')\n",
    "            else:\n",
    "                print('No such username Found')\n",
    "                \n",
    "        elif n==2:\n",
    "            return 0\n",
    "        else:\n",
    "            print('Invalid Input')\n",
    "            \n",
    "\n",
    "\n",
    "\n",
    "\n",
    "\n",
    "while True:\n",
    "    n=int(input('''\n",
    "\n",
    "            Welcome to Vasul Library🦒🦒🦒\n",
    "\n",
    "            Press 1 For Admin Login \n",
    "            Press 2 For Student Login\n",
    "            Press 3 For Exit\n",
    "\n",
    "    '''))\n",
    "\n",
    "    if n==1:\n",
    "        pass\n",
    "        admin()\n",
    "    elif n==2:\n",
    "        student_i()\n",
    "    elif n==3:\n",
    "        print('Kindly Visit Again 🙏🙏')\n",
    "        break\n",
    "    else:\n",
    "        print('Invalid Input')"
   ]
  },
  {
   "cell_type": "code",
   "execution_count": 30,
   "id": "79ac4c18",
   "metadata": {},
   "outputs": [
    {
     "data": {
      "text/plain": [
       "datetime.date(2024, 6, 26)"
      ]
     },
     "execution_count": 30,
     "metadata": {},
     "output_type": "execute_result"
    }
   ],
   "source": []
  },
  {
   "cell_type": "code",
   "execution_count": 32,
   "id": "79fd11af",
   "metadata": {},
   "outputs": [
    {
     "ename": "TypeError",
     "evalue": "'str' object cannot be interpreted as an integer",
     "output_type": "error",
     "traceback": [
      "\u001b[1;31m---------------------------------------------------------------------------\u001b[0m",
      "\u001b[1;31mTypeError\u001b[0m                                 Traceback (most recent call last)",
      "Cell \u001b[1;32mIn[32], line 7\u001b[0m\n\u001b[0;32m      5\u001b[0m         di\u001b[38;5;241m=\u001b[39m(submission_date\u001b[38;5;241m-\u001b[39mdatetime\u001b[38;5;241m.\u001b[39mdate(student[st_id][\u001b[38;5;124m'\u001b[39m\u001b[38;5;124mIssued_book\u001b[39m\u001b[38;5;124m'\u001b[39m][\u001b[38;5;124m'\u001b[39m\u001b[38;5;124mDate_of_issue\u001b[39m\u001b[38;5;124m'\u001b[39m]))\u001b[38;5;241m.\u001b[39mdays\n\u001b[0;32m      6\u001b[0m         \u001b[38;5;28mprint\u001b[39m(di)\n\u001b[1;32m----> 7\u001b[0m fine(\u001b[38;5;124m'\u001b[39m\u001b[38;5;124ms101\u001b[39m\u001b[38;5;124m'\u001b[39m)\n",
      "Cell \u001b[1;32mIn[32], line 5\u001b[0m, in \u001b[0;36mfine\u001b[1;34m(st_id)\u001b[0m\n\u001b[0;32m      2\u001b[0m \u001b[38;5;28;01mif\u001b[39;00m student[st_id]\u001b[38;5;241m.\u001b[39mget(\u001b[38;5;124m'\u001b[39m\u001b[38;5;124mIssued_book\u001b[39m\u001b[38;5;124m'\u001b[39m)\u001b[38;5;241m!=\u001b[39m\u001b[38;5;28;01mNone\u001b[39;00m:\n\u001b[0;32m      4\u001b[0m     submission_date\u001b[38;5;241m=\u001b[39mdatetime\u001b[38;5;241m.\u001b[39mdate\u001b[38;5;241m.\u001b[39mtoday()\n\u001b[1;32m----> 5\u001b[0m     di\u001b[38;5;241m=\u001b[39m(submission_date\u001b[38;5;241m-\u001b[39mdatetime\u001b[38;5;241m.\u001b[39mdate(student[st_id][\u001b[38;5;124m'\u001b[39m\u001b[38;5;124mIssued_book\u001b[39m\u001b[38;5;124m'\u001b[39m][\u001b[38;5;124m'\u001b[39m\u001b[38;5;124mDate_of_issue\u001b[39m\u001b[38;5;124m'\u001b[39m]))\u001b[38;5;241m.\u001b[39mdays\n\u001b[0;32m      6\u001b[0m     \u001b[38;5;28mprint\u001b[39m(di)\n",
      "\u001b[1;31mTypeError\u001b[0m: 'str' object cannot be interpreted as an integer"
     ]
    }
   ],
   "source": [
    "\n",
    "def fine(st_id):\n",
    "    if student[st_id].get('Issued_book')!=None:\n",
    "        \n",
    "        submission_date=datetime.date.today()\n",
    "        di=(submission_date-datetime.date(student[st_id]['Issued_book']['Date_of_issue'])).days\n",
    "        print(di)\n",
    "fine('s101')"
   ]
  },
  {
   "cell_type": "code",
   "execution_count": null,
   "id": "fe7dcef8",
   "metadata": {},
   "outputs": [],
   "source": []
  }
 ],
 "metadata": {
  "kernelspec": {
   "display_name": "Python 3 (ipykernel)",
   "language": "python",
   "name": "python3"
  },
  "language_info": {
   "codemirror_mode": {
    "name": "ipython",
    "version": 3
   },
   "file_extension": ".py",
   "mimetype": "text/x-python",
   "name": "python",
   "nbconvert_exporter": "python",
   "pygments_lexer": "ipython3",
   "version": "3.11.5"
  }
 },
 "nbformat": 4,
 "nbformat_minor": 5
}
