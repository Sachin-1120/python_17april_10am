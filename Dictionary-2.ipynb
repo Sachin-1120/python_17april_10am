{
 "cells": [
  {
   "cell_type": "code",
   "execution_count": 1,
   "id": "683558cd",
   "metadata": {},
   "outputs": [
    {
     "name": "stdout",
     "output_type": "stream",
     "text": [
      "['__class__', '__class_getitem__', '__contains__', '__delattr__', '__delitem__', '__dir__', '__doc__', '__eq__', '__format__', '__ge__', '__getattribute__', '__getitem__', '__getstate__', '__gt__', '__hash__', '__init__', '__init_subclass__', '__ior__', '__iter__', '__le__', '__len__', '__lt__', '__ne__', '__new__', '__or__', '__reduce__', '__reduce_ex__', '__repr__', '__reversed__', '__ror__', '__setattr__', '__setitem__', '__sizeof__', '__str__', '__subclasshook__', 'clear', 'copy', 'fromkeys', 'get', 'items', 'keys', 'pop', 'popitem', 'setdefault', 'update', 'values']\n"
     ]
    }
   ],
   "source": [
    "print(dir((dict)))"
   ]
  },
  {
   "cell_type": "code",
   "execution_count": 2,
   "id": "15da35d2",
   "metadata": {},
   "outputs": [],
   "source": [
    "d={1:'a',2:'b',3:'c',4:'d'}\n"
   ]
  },
  {
   "cell_type": "code",
   "execution_count": 3,
   "id": "5379e9a7",
   "metadata": {},
   "outputs": [
    {
     "data": {
      "text/plain": [
       "{1: 'a', 2: 'b', 3: 'c', 4: 'd'}"
      ]
     },
     "execution_count": 3,
     "metadata": {},
     "output_type": "execute_result"
    }
   ],
   "source": [
    "d"
   ]
  },
  {
   "cell_type": "code",
   "execution_count": 4,
   "id": "db4f2ae0",
   "metadata": {},
   "outputs": [],
   "source": [
    "d.clear()"
   ]
  },
  {
   "cell_type": "code",
   "execution_count": 5,
   "id": "ff917843",
   "metadata": {},
   "outputs": [
    {
     "data": {
      "text/plain": [
       "{}"
      ]
     },
     "execution_count": 5,
     "metadata": {},
     "output_type": "execute_result"
    }
   ],
   "source": [
    "d"
   ]
  },
  {
   "cell_type": "code",
   "execution_count": 6,
   "id": "3e703c6e",
   "metadata": {},
   "outputs": [],
   "source": [
    "d={1:'a',2:'b',3:'c',4:'d'}\n"
   ]
  },
  {
   "cell_type": "code",
   "execution_count": 7,
   "id": "13852328",
   "metadata": {},
   "outputs": [
    {
     "data": {
      "text/plain": [
       "{1: 'a', 2: 'b', 3: 'c', 4: 'd'}"
      ]
     },
     "execution_count": 7,
     "metadata": {},
     "output_type": "execute_result"
    }
   ],
   "source": [
    "d"
   ]
  },
  {
   "cell_type": "code",
   "execution_count": 8,
   "id": "72ef0af5",
   "metadata": {},
   "outputs": [],
   "source": [
    "b=d.copy()"
   ]
  },
  {
   "cell_type": "code",
   "execution_count": 9,
   "id": "17772160",
   "metadata": {},
   "outputs": [
    {
     "data": {
      "text/plain": [
       "{1: 'a', 2: 'b', 3: 'c', 4: 'd'}"
      ]
     },
     "execution_count": 9,
     "metadata": {},
     "output_type": "execute_result"
    }
   ],
   "source": [
    "b"
   ]
  },
  {
   "cell_type": "code",
   "execution_count": 10,
   "id": "6479ea17",
   "metadata": {},
   "outputs": [],
   "source": [
    "d[1]='z'"
   ]
  },
  {
   "cell_type": "code",
   "execution_count": 11,
   "id": "17857475",
   "metadata": {},
   "outputs": [
    {
     "data": {
      "text/plain": [
       "{1: 'z', 2: 'b', 3: 'c', 4: 'd'}"
      ]
     },
     "execution_count": 11,
     "metadata": {},
     "output_type": "execute_result"
    }
   ],
   "source": [
    "d"
   ]
  },
  {
   "cell_type": "code",
   "execution_count": 13,
   "id": "15a7e749",
   "metadata": {},
   "outputs": [],
   "source": [
    "b=d"
   ]
  },
  {
   "cell_type": "code",
   "execution_count": 14,
   "id": "4cb47819",
   "metadata": {},
   "outputs": [
    {
     "data": {
      "text/plain": [
       "{1: 'z', 2: 'b', 3: 'c', 4: 'd'}"
      ]
     },
     "execution_count": 14,
     "metadata": {},
     "output_type": "execute_result"
    }
   ],
   "source": [
    "b"
   ]
  },
  {
   "cell_type": "code",
   "execution_count": 15,
   "id": "d6e254ed",
   "metadata": {},
   "outputs": [],
   "source": [
    "d[1]='a'"
   ]
  },
  {
   "cell_type": "code",
   "execution_count": 16,
   "id": "4a8de63c",
   "metadata": {},
   "outputs": [
    {
     "data": {
      "text/plain": [
       "{1: 'a', 2: 'b', 3: 'c', 4: 'd'}"
      ]
     },
     "execution_count": 16,
     "metadata": {},
     "output_type": "execute_result"
    }
   ],
   "source": [
    "d"
   ]
  },
  {
   "cell_type": "code",
   "execution_count": 17,
   "id": "7c62ba8b",
   "metadata": {},
   "outputs": [
    {
     "data": {
      "text/plain": [
       "{1: 'a', 2: 'b', 3: 'c', 4: 'd'}"
      ]
     },
     "execution_count": 17,
     "metadata": {},
     "output_type": "execute_result"
    }
   ],
   "source": [
    "b"
   ]
  },
  {
   "cell_type": "code",
   "execution_count": 18,
   "id": "86c5d3bb",
   "metadata": {},
   "outputs": [
    {
     "data": {
      "text/plain": [
       "'a'"
      ]
     },
     "execution_count": 18,
     "metadata": {},
     "output_type": "execute_result"
    }
   ],
   "source": [
    "d[1]"
   ]
  },
  {
   "cell_type": "code",
   "execution_count": 19,
   "id": "0dcca6bf",
   "metadata": {},
   "outputs": [
    {
     "data": {
      "text/plain": [
       "'c'"
      ]
     },
     "execution_count": 19,
     "metadata": {},
     "output_type": "execute_result"
    }
   ],
   "source": [
    "d[3]"
   ]
  },
  {
   "cell_type": "code",
   "execution_count": 20,
   "id": "90514d5b",
   "metadata": {
    "scrolled": false
   },
   "outputs": [
    {
     "ename": "KeyError",
     "evalue": "5",
     "output_type": "error",
     "traceback": [
      "\u001b[1;31m---------------------------------------------------------------------------\u001b[0m",
      "\u001b[1;31mKeyError\u001b[0m                                  Traceback (most recent call last)",
      "Cell \u001b[1;32mIn[20], line 1\u001b[0m\n\u001b[1;32m----> 1\u001b[0m d[\u001b[38;5;241m5\u001b[39m]\n",
      "\u001b[1;31mKeyError\u001b[0m: 5"
     ]
    }
   ],
   "source": [
    "d[5]"
   ]
  },
  {
   "cell_type": "code",
   "execution_count": 27,
   "id": "a3c23912",
   "metadata": {},
   "outputs": [
    {
     "name": "stdout",
     "output_type": "stream",
     "text": [
      "None\n"
     ]
    }
   ],
   "source": [
    "print(d.get(5))"
   ]
  },
  {
   "cell_type": "code",
   "execution_count": 22,
   "id": "d2423072",
   "metadata": {},
   "outputs": [
    {
     "data": {
      "text/plain": [
       "'d'"
      ]
     },
     "execution_count": 22,
     "metadata": {},
     "output_type": "execute_result"
    }
   ],
   "source": [
    "d.get(4)"
   ]
  },
  {
   "cell_type": "code",
   "execution_count": 23,
   "id": "f6c2ef3d",
   "metadata": {},
   "outputs": [
    {
     "data": {
      "text/plain": [
       "{1: 'a', 2: 'b', 3: 'c', 4: 'd'}"
      ]
     },
     "execution_count": 23,
     "metadata": {},
     "output_type": "execute_result"
    }
   ],
   "source": [
    "d"
   ]
  },
  {
   "cell_type": "code",
   "execution_count": 24,
   "id": "3c11586c",
   "metadata": {},
   "outputs": [
    {
     "data": {
      "text/plain": [
       "dict_keys([1, 2, 3, 4])"
      ]
     },
     "execution_count": 24,
     "metadata": {},
     "output_type": "execute_result"
    }
   ],
   "source": [
    "d.keys()"
   ]
  },
  {
   "cell_type": "code",
   "execution_count": 25,
   "id": "069d0043",
   "metadata": {},
   "outputs": [
    {
     "data": {
      "text/plain": [
       "dict_values(['a', 'b', 'c', 'd'])"
      ]
     },
     "execution_count": 25,
     "metadata": {},
     "output_type": "execute_result"
    }
   ],
   "source": [
    "d.values()"
   ]
  },
  {
   "cell_type": "code",
   "execution_count": 26,
   "id": "cadb5f30",
   "metadata": {},
   "outputs": [
    {
     "data": {
      "text/plain": [
       "dict_items([(1, 'a'), (2, 'b'), (3, 'c'), (4, 'd')])"
      ]
     },
     "execution_count": 26,
     "metadata": {},
     "output_type": "execute_result"
    }
   ],
   "source": [
    "d.items()"
   ]
  },
  {
   "cell_type": "code",
   "execution_count": 36,
   "id": "6bc4611c",
   "metadata": {},
   "outputs": [
    {
     "name": "stdout",
     "output_type": "stream",
     "text": [
      "Enter Your NameSAChin\n",
      "Name--> Sachin\n",
      "Total Marks--> 43\n"
     ]
    }
   ],
   "source": [
    "l=[('Sachin','Ravi','Simran'),([10,15,18],[15,20,25],[30,35,50])]\n",
    "name=input('Enter Your Name')\n",
    "k=l[0].index(name.title())\n",
    "print('Name-->',name.title())\n",
    "print('Total Marks-->',sum(l[1][k]))"
   ]
  },
  {
   "cell_type": "code",
   "execution_count": 34,
   "id": "ed73d80e",
   "metadata": {},
   "outputs": [
    {
     "ename": "SyntaxError",
     "evalue": "invalid syntax (1497259158.py, line 2)",
     "output_type": "error",
     "traceback": [
      "\u001b[1;36m  Cell \u001b[1;32mIn[34], line 2\u001b[1;36m\u001b[0m\n\u001b[1;33m    total Marks\u001b[0m\n\u001b[1;37m          ^\u001b[0m\n\u001b[1;31mSyntaxError\u001b[0m\u001b[1;31m:\u001b[0m invalid syntax\n"
     ]
    }
   ],
   "source": [
    "name\n",
    "total Marks"
   ]
  },
  {
   "cell_type": "code",
   "execution_count": 37,
   "id": "22acebeb",
   "metadata": {},
   "outputs": [
    {
     "data": {
      "text/plain": [
       "6"
      ]
     },
     "execution_count": 37,
     "metadata": {},
     "output_type": "execute_result"
    }
   ],
   "source": [
    "len('Sachin')"
   ]
  },
  {
   "cell_type": "code",
   "execution_count": 38,
   "id": "38b7b799",
   "metadata": {},
   "outputs": [
    {
     "data": {
      "text/plain": [
       "4"
      ]
     },
     "execution_count": 38,
     "metadata": {},
     "output_type": "execute_result"
    }
   ],
   "source": [
    "len([1,2,3,4])"
   ]
  },
  {
   "cell_type": "code",
   "execution_count": 39,
   "id": "5b8b3d40",
   "metadata": {},
   "outputs": [
    {
     "data": {
      "text/plain": [
       "10"
      ]
     },
     "execution_count": 39,
     "metadata": {},
     "output_type": "execute_result"
    }
   ],
   "source": [
    "sum([1,2,3,4])"
   ]
  },
  {
   "cell_type": "code",
   "execution_count": 40,
   "id": "f297fd40",
   "metadata": {},
   "outputs": [
    {
     "data": {
      "text/plain": [
       "10"
      ]
     },
     "execution_count": 40,
     "metadata": {},
     "output_type": "execute_result"
    }
   ],
   "source": [
    "sum((1,2,3,4))"
   ]
  },
  {
   "cell_type": "code",
   "execution_count": 41,
   "id": "a6ab9b3d",
   "metadata": {},
   "outputs": [
    {
     "data": {
      "text/plain": [
       "5"
      ]
     },
     "execution_count": 41,
     "metadata": {},
     "output_type": "execute_result"
    }
   ],
   "source": [
    "max([1,2,3,4,5])"
   ]
  },
  {
   "cell_type": "code",
   "execution_count": 42,
   "id": "2f663e41",
   "metadata": {},
   "outputs": [
    {
     "data": {
      "text/plain": [
       "1"
      ]
     },
     "execution_count": 42,
     "metadata": {},
     "output_type": "execute_result"
    }
   ],
   "source": [
    "min([8,7,6,5,3,1,6])"
   ]
  },
  {
   "cell_type": "code",
   "execution_count": 47,
   "id": "9030518d",
   "metadata": {},
   "outputs": [
    {
     "name": "stdout",
     "output_type": "stream",
     "text": [
      "Enter name  simran\n",
      "Name--> Simran\n",
      "TotalMarks--> 100\n"
     ]
    }
   ],
   "source": [
    "d={'Sachin':[10,20,30],\n",
    "  'Ravi':[15,20,30],\n",
    "   'Simran':[50,40,10]\n",
    "\n",
    "  }\n",
    "name=input('Enter name')\n",
    "print('Name-->',name.title().strip())\n",
    "print('TotalMarks-->',sum(d[name.title().strip()]))\n"
   ]
  },
  {
   "cell_type": "code",
   "execution_count": 48,
   "id": "078af647",
   "metadata": {},
   "outputs": [
    {
     "data": {
      "text/plain": [
       "-1"
      ]
     },
     "execution_count": 48,
     "metadata": {},
     "output_type": "execute_result"
    }
   ],
   "source": [
    "'  SacHin'.swapcase().strip().find('S')"
   ]
  },
  {
   "cell_type": "code",
   "execution_count": 49,
   "id": "0bc935b0",
   "metadata": {},
   "outputs": [
    {
     "data": {
      "text/plain": [
       "'  sAChIN'"
      ]
     },
     "execution_count": 49,
     "metadata": {},
     "output_type": "execute_result"
    }
   ],
   "source": [
    "'  SacHin'.swapcase()"
   ]
  },
  {
   "cell_type": "code",
   "execution_count": 50,
   "id": "5b844a6b",
   "metadata": {},
   "outputs": [
    {
     "data": {
      "text/plain": [
       "'sAChIN'"
      ]
     },
     "execution_count": 50,
     "metadata": {},
     "output_type": "execute_result"
    }
   ],
   "source": [
    "'  sAChIN'.strip()"
   ]
  },
  {
   "cell_type": "code",
   "execution_count": null,
   "id": "97e8719c",
   "metadata": {},
   "outputs": [],
   "source": []
  },
  {
   "cell_type": "code",
   "execution_count": null,
   "id": "aeff0437",
   "metadata": {},
   "outputs": [],
   "source": []
  },
  {
   "cell_type": "code",
   "execution_count": 65,
   "id": "98c4383e",
   "metadata": {},
   "outputs": [],
   "source": [
    "#fromKeys\n",
    "#batch \n",
    "l=['Chitrakshi','Vansh','Abhishek','rustam','Kaushal']\n",
    "d={}\n",
    "d=d.fromkeys(l,0)"
   ]
  },
  {
   "cell_type": "code",
   "execution_count": 66,
   "id": "98bf4bb0",
   "metadata": {},
   "outputs": [
    {
     "data": {
      "text/plain": [
       "{'Chitrakshi': 0, 'Vansh': 0, 'Abhishek': 0, 'rustam': 0, 'Kaushal': 0}"
      ]
     },
     "execution_count": 66,
     "metadata": {},
     "output_type": "execute_result"
    }
   ],
   "source": [
    "d"
   ]
  },
  {
   "cell_type": "code",
   "execution_count": 67,
   "id": "4fd4091c",
   "metadata": {},
   "outputs": [],
   "source": [
    "d={'sachin':100,'Ravi':100}\n",
    "d.update({'sachin':70,'Aman':50})"
   ]
  },
  {
   "cell_type": "code",
   "execution_count": 68,
   "id": "01ba7abc",
   "metadata": {},
   "outputs": [
    {
     "data": {
      "text/plain": [
       "{'sachin': 70, 'Ravi': 100, 'Aman': 50}"
      ]
     },
     "execution_count": 68,
     "metadata": {},
     "output_type": "execute_result"
    }
   ],
   "source": [
    "d"
   ]
  },
  {
   "cell_type": "code",
   "execution_count": 69,
   "id": "6d755d84",
   "metadata": {},
   "outputs": [],
   "source": [
    "d={'sachin':100,'Ravi':100}\n",
    "d.update(d.fromkeys(l,0))"
   ]
  },
  {
   "cell_type": "code",
   "execution_count": 70,
   "id": "fe8d896a",
   "metadata": {},
   "outputs": [
    {
     "data": {
      "text/plain": [
       "{'sachin': 100,\n",
       " 'Ravi': 100,\n",
       " 'Chitrakshi': 0,\n",
       " 'Vansh': 0,\n",
       " 'Abhishek': 0,\n",
       " 'rustam': 0,\n",
       " 'Kaushal': 0}"
      ]
     },
     "execution_count": 70,
     "metadata": {},
     "output_type": "execute_result"
    }
   ],
   "source": [
    "d"
   ]
  },
  {
   "cell_type": "code",
   "execution_count": 72,
   "id": "051855fc",
   "metadata": {},
   "outputs": [
    {
     "data": {
      "text/plain": [
       "{'Chitrakshi': 'a',\n",
       " 'Vansh': 'a',\n",
       " 'Abhishek': 'a',\n",
       " 'rustam': 'a',\n",
       " 'Kaushal': 'a'}"
      ]
     },
     "execution_count": 72,
     "metadata": {},
     "output_type": "execute_result"
    }
   ],
   "source": [
    "dict.fromkeys(l,'a')"
   ]
  },
  {
   "cell_type": "code",
   "execution_count": null,
   "id": "5cc3ee02",
   "metadata": {},
   "outputs": [],
   "source": []
  }
 ],
 "metadata": {
  "kernelspec": {
   "display_name": "Python 3 (ipykernel)",
   "language": "python",
   "name": "python3"
  },
  "language_info": {
   "codemirror_mode": {
    "name": "ipython",
    "version": 3
   },
   "file_extension": ".py",
   "mimetype": "text/x-python",
   "name": "python",
   "nbconvert_exporter": "python",
   "pygments_lexer": "ipython3",
   "version": "3.11.5"
  }
 },
 "nbformat": 4,
 "nbformat_minor": 5
}
