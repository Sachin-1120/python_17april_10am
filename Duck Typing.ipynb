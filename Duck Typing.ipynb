{
 "cells": [
  {
   "cell_type": "code",
   "execution_count": 3,
   "id": "1da7532b",
   "metadata": {},
   "outputs": [],
   "source": [
    "class A:\n",
    "    def add(self,a,b):\n",
    "        return a+b\n",
    "    def add(self,a=0,b=0,c=0):\n",
    "        return a+b+c\n",
    "ob=A()"
   ]
  },
  {
   "cell_type": "code",
   "execution_count": 4,
   "id": "b631b210",
   "metadata": {},
   "outputs": [
    {
     "data": {
      "text/plain": [
       "5"
      ]
     },
     "execution_count": 4,
     "metadata": {},
     "output_type": "execute_result"
    }
   ],
   "source": [
    "ob.add(2,3)"
   ]
  },
  {
   "cell_type": "code",
   "execution_count": 5,
   "id": "a4c8c436",
   "metadata": {},
   "outputs": [
    {
     "data": {
      "text/plain": [
       "10"
      ]
     },
     "execution_count": 5,
     "metadata": {},
     "output_type": "execute_result"
    }
   ],
   "source": [
    "def add(a,b):\n",
    "    return a+b\n",
    "def add(a,b):\n",
    "    return a*b\n",
    "add(5,2)"
   ]
  },
  {
   "cell_type": "code",
   "execution_count": 6,
   "id": "99c26cc9",
   "metadata": {},
   "outputs": [],
   "source": [
    "# Duck Typing"
   ]
  },
  {
   "cell_type": "code",
   "execution_count": 12,
   "id": "5d89636e",
   "metadata": {},
   "outputs": [],
   "source": [
    "class Code:\n",
    "    def code(self,ide):\n",
    "        print('Code is written')\n",
    "        ide.execute()\n",
    "class Vscode:\n",
    "    def execute(self):\n",
    "        self.syntax_check()\n",
    "        print('Code is Execution')\n",
    "    def syntax_check(self):\n",
    "        print('Checking Syntax')\n",
    "class Jupyter:\n",
    "    def execute(self):\n",
    "        self.syntax_check()\n",
    "        self.help_fumction()\n",
    "        print('Code is Execution')\n",
    "    def syntax_check(self):\n",
    "        print('Checking Syntax')\n",
    "    def help_fumction(self):\n",
    "        print('Providing help')\n",
    "\n"
   ]
  },
  {
   "cell_type": "code",
   "execution_count": 13,
   "id": "298d26d6",
   "metadata": {},
   "outputs": [],
   "source": [
    "b1=Vscode()\n",
    "b2=Jupyter()"
   ]
  },
  {
   "cell_type": "code",
   "execution_count": 14,
   "id": "eb2f99b8",
   "metadata": {},
   "outputs": [],
   "source": [
    "ob=Code()"
   ]
  },
  {
   "cell_type": "code",
   "execution_count": 15,
   "id": "6374d60e",
   "metadata": {},
   "outputs": [
    {
     "name": "stdout",
     "output_type": "stream",
     "text": [
      "Code is written\n",
      "Checking Syntax\n",
      "Code is Execution\n"
     ]
    }
   ],
   "source": [
    "ob.code(b1)"
   ]
  },
  {
   "cell_type": "code",
   "execution_count": 16,
   "id": "9fc42517",
   "metadata": {},
   "outputs": [
    {
     "name": "stdout",
     "output_type": "stream",
     "text": [
      "Code is written\n",
      "Checking Syntax\n",
      "Providing help\n",
      "Code is Execution\n"
     ]
    }
   ],
   "source": [
    "ob.code(b2)"
   ]
  },
  {
   "cell_type": "code",
   "execution_count": 18,
   "id": "2bf8ecf0",
   "metadata": {},
   "outputs": [
    {
     "name": "stdout",
     "output_type": "stream",
     "text": [
      "In B Class\n"
     ]
    }
   ],
   "source": [
    "class A:\n",
    "    def print_alpha(self):\n",
    "        print('In A class')\n",
    "class B(A):\n",
    "    def print_alpha(self):\n",
    "        print('In B Class')\n",
    "ob=B()\n",
    "ob.print_alpha()"
   ]
  },
  {
   "cell_type": "code",
   "execution_count": 20,
   "id": "19e0b28b",
   "metadata": {},
   "outputs": [],
   "source": [
    "from abc import ABC,abstractmethod"
   ]
  },
  {
   "cell_type": "code",
   "execution_count": 24,
   "id": "b8e37688",
   "metadata": {},
   "outputs": [],
   "source": [
    "class Phone(ABC):\n",
    "    @abstractmethod\n",
    "    def call(self):\n",
    "        print('Calling')\n",
    "    @abstractmethod\n",
    "    def msg(self):\n",
    "        print('Messaging')\n",
    "class samsung(Phone):\n",
    "    def call(self):\n",
    "        print('Samsung Calling')\n",
    "    def msg(self):\n",
    "        print('Samsung messaging')\n",
    "ob=samsung()"
   ]
  },
  {
   "cell_type": "code",
   "execution_count": null,
   "id": "8035b584",
   "metadata": {},
   "outputs": [],
   "source": []
  },
  {
   "cell_type": "code",
   "execution_count": null,
   "id": "c57b87b7",
   "metadata": {},
   "outputs": [],
   "source": []
  }
 ],
 "metadata": {
  "kernelspec": {
   "display_name": "Python 3 (ipykernel)",
   "language": "python",
   "name": "python3"
  },
  "language_info": {
   "codemirror_mode": {
    "name": "ipython",
    "version": 3
   },
   "file_extension": ".py",
   "mimetype": "text/x-python",
   "name": "python",
   "nbconvert_exporter": "python",
   "pygments_lexer": "ipython3",
   "version": "3.11.5"
  }
 },
 "nbformat": 4,
 "nbformat_minor": 5
}
