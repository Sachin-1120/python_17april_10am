{
 "cells": [
  {
   "cell_type": "code",
   "execution_count": null,
   "id": "6dcf1206",
   "metadata": {},
   "outputs": [],
   "source": [
    "if cond:\n",
    "  \n",
    "    \n",
    "else:\n",
    "    \n",
    " "
   ]
  },
  {
   "cell_type": "code",
   "execution_count": 2,
   "id": "702f49b0",
   "metadata": {},
   "outputs": [
    {
     "name": "stdout",
     "output_type": "stream",
     "text": [
      "Fizz\n"
     ]
    }
   ],
   "source": [
    "a,b=15,10\n",
    "if a>b:\n",
    "    print('Fizz')\n",
    "else:\n",
    "    print('Buzz')"
   ]
  },
  {
   "cell_type": "code",
   "execution_count": 6,
   "id": "8c274409",
   "metadata": {},
   "outputs": [],
   "source": [
    "a,b=5,10\n",
    "if a>b:\n",
    "    print('Fizz')\n",
    "    "
   ]
  },
  {
   "cell_type": "code",
   "execution_count": 9,
   "id": "5f381448",
   "metadata": {},
   "outputs": [
    {
     "name": "stdout",
     "output_type": "stream",
     "text": [
      "Enter Number10\n",
      "Even\n"
     ]
    }
   ],
   "source": [
    "n=int(input('Enter Number'))\n",
    "if n%2==0:\n",
    "    print('Even')\n",
    "else:\n",
    "    print('Odd')"
   ]
  },
  {
   "cell_type": "code",
   "execution_count": 12,
   "id": "1bd7521a",
   "metadata": {},
   "outputs": [
    {
     "name": "stdout",
     "output_type": "stream",
     "text": [
      "Enter Percentage85\n"
     ]
    }
   ],
   "source": [
    "per=int(input('Enter Percentage'))\n",
    "if per>90:\n",
    "    print('Bike aa jayegi')\n",
    "else:\n",
    "    pass\n"
   ]
  },
  {
   "cell_type": "code",
   "execution_count": 13,
   "id": "f4116e94",
   "metadata": {},
   "outputs": [
    {
     "name": "stdout",
     "output_type": "stream",
     "text": [
      "Hello\n",
      "Bye\n"
     ]
    }
   ],
   "source": [
    "print('Hello')\n",
    "pass\n",
    "print('Bye')"
   ]
  },
  {
   "cell_type": "code",
   "execution_count": 2,
   "id": "e36973a1",
   "metadata": {},
   "outputs": [
    {
     "name": "stdout",
     "output_type": "stream",
     "text": [
      "Enter Stringmadam\n",
      "Palindrome\n"
     ]
    }
   ],
   "source": [
    "n=input('Enter String')\n",
    "if n==n[::-1]:\n",
    "    print('Palindrome')\n",
    "else:\n",
    "    print('Not Palindrome')"
   ]
  },
  {
   "cell_type": "code",
   "execution_count": 5,
   "id": "51e777cd",
   "metadata": {},
   "outputs": [
    {
     "name": "stdout",
     "output_type": "stream",
     "text": [
      "Enter age10\n",
      "Not Eligible\n"
     ]
    }
   ],
   "source": [
    "# age -- input  \n",
    "# age > 18   voting\n",
    "# age -->not Eligible\n",
    "age=int(input('Enter age'))\n",
    "if age >=18:\n",
    "    print('Eligible for Voting')\n",
    "else:\n",
    "    print('Not Eligible')"
   ]
  },
  {
   "cell_type": "code",
   "execution_count": null,
   "id": "ccee4803",
   "metadata": {},
   "outputs": [],
   "source": [
    "if cond :\n",
    "    if cond2:\n",
    "        pass\n",
    "    else:\n",
    "        pass\n",
    "else:\n",
    "    if cond3:\n",
    "         pass\n",
    "    else:\n",
    "        pass"
   ]
  },
  {
   "cell_type": "code",
   "execution_count": 7,
   "id": "695a6546",
   "metadata": {},
   "outputs": [
    {
     "name": "stdout",
     "output_type": "stream",
     "text": [
      "100 is Greatest\n"
     ]
    }
   ],
   "source": [
    "a,b,c=100,15,2\n",
    "if a>b :\n",
    "    if a>c:\n",
    "        print(f'{a} is Greatest')\n",
    "    else:\n",
    "        print(f'{c} is greates')\n",
    "else:\n",
    "    if b>c:\n",
    "        print(f'{b} is greatest')\n",
    "    else:\n",
    "        print(f'{c} is  greatest')"
   ]
  },
  {
   "cell_type": "code",
   "execution_count": 8,
   "id": "492ba1df",
   "metadata": {},
   "outputs": [
    {
     "data": {
      "text/plain": [
       "100"
      ]
     },
     "execution_count": 8,
     "metadata": {},
     "output_type": "execute_result"
    }
   ],
   "source": [
    "max([a,b,c])"
   ]
  },
  {
   "cell_type": "code",
   "execution_count": 9,
   "id": "3964edee",
   "metadata": {},
   "outputs": [
    {
     "name": "stdout",
     "output_type": "stream",
     "text": [
      "100 is greatest\n"
     ]
    }
   ],
   "source": [
    "if a>b and a>c:\n",
    "    print(f'{a} is greatest')\n",
    "else:\n",
    "    if b>a and b>c:\n",
    "        print(f'{b} is greatest')\n",
    "    else:\n",
    "        print(f'{c} is greatest')"
   ]
  },
  {
   "cell_type": "code",
   "execution_count": 13,
   "id": "af4e617c",
   "metadata": {},
   "outputs": [
    {
     "name": "stdout",
     "output_type": "stream",
     "text": [
      "Enter Percentage69\n",
      "Fail\n"
     ]
    }
   ],
   "source": [
    "per=int(input('Enter Percentage'))\n",
    "if per >=90:\n",
    "    print('A')\n",
    "else:\n",
    "    if per >=80:\n",
    "        print('B')\n",
    "    else :\n",
    "        if per>=70:\n",
    "            print('C')\n",
    "        else:\n",
    "            print('Fail')"
   ]
  },
  {
   "cell_type": "code",
   "execution_count": 17,
   "id": "c8914929",
   "metadata": {},
   "outputs": [
    {
     "name": "stdout",
     "output_type": "stream",
     "text": [
      "Enter Percentage65\n",
      "Fail\n"
     ]
    }
   ],
   "source": [
    "per=int(input('Enter Percentage'))\n",
    "if per>90:\n",
    "    print('A')\n",
    "elif per>80:\n",
    "    print('B')\n",
    "elif per>70:\n",
    "    print('C')\n",
    "else:\n",
    "    print('Fail')\n"
   ]
  },
  {
   "cell_type": "code",
   "execution_count": 20,
   "id": "e47ec48b",
   "metadata": {},
   "outputs": [
    {
     "name": "stdout",
     "output_type": "stream",
     "text": [
      "Enter Number15\n",
      "Fizz\n"
     ]
    }
   ],
   "source": [
    "n=int(input('Enter Number'))\n",
    "if n%5==0 and n%3==0:\n",
    "    print('Fizz')\n",
    "elif n%3==0:\n",
    "    print('Buzz')\n",
    "elif n%5==0:\n",
    "    print('Fizzbuzz')\n",
    "    "
   ]
  },
  {
   "cell_type": "code",
   "execution_count": null,
   "id": "ca9c6036",
   "metadata": {},
   "outputs": [],
   "source": []
  }
 ],
 "metadata": {
  "kernelspec": {
   "display_name": "Python 3 (ipykernel)",
   "language": "python",
   "name": "python3"
  },
  "language_info": {
   "codemirror_mode": {
    "name": "ipython",
    "version": 3
   },
   "file_extension": ".py",
   "mimetype": "text/x-python",
   "name": "python",
   "nbconvert_exporter": "python",
   "pygments_lexer": "ipython3",
   "version": "3.11.5"
  }
 },
 "nbformat": 4,
 "nbformat_minor": 5
}
