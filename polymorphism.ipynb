{
 "cells": [
  {
   "cell_type": "code",
   "execution_count": 53,
   "id": "d3ca3bee",
   "metadata": {},
   "outputs": [],
   "source": [
    "student={\n",
    "    'S101':{'name':'Sachin','class':'VII','phone':7878012779,'fee':{ 'Total fee':20000,'Submitted':10000},\n",
    "            'marks':{'Maths':50,'Science':60,'History':20},'Physical_Training':{}}\n",
    "}\n",
    "class management:\n",
    "    \n",
    "    def show_detail(self,sid):\n",
    "        sid=sid.upper()\n",
    "        s=f'''\n",
    "            Name : {student[sid]['name']}\n",
    "            class : {student[sid]['class']}\n",
    "            phone : {student[sid]['phone']}\n",
    "        '''\n",
    "        print(s)\n",
    "    def print_fee_detail(self,sid):\n",
    "        sid=sid.upper()\n",
    "        s=f'''\n",
    "        \n",
    "        Name : {student[sid]['name']}\n",
    "        class : {student[sid]['class']}\n",
    "        Total Fees : {student[sid]['fee']['Total fee']}\n",
    "        Submitted  : {student[sid]['fee']['Submitted']}\n",
    "         '''\n",
    "        print(s)\n",
    "class Tutor(management):\n",
    "    def show_marks_academics(self,sid):\n",
    "        sid=sid.upper()\n",
    "        print(f'Name : {student[sid][\"name\"]}')\n",
    "        print('_'*32)\n",
    "        print('|','Subject','\\t|\\t','Marks','\\t|')\n",
    "        print('_'*32)\n",
    "        for i in student[sid]['marks'].keys():\n",
    "            print('|',i,'\\t|\\t',student[sid]['marks'][i],'\\t|')\n",
    "            print('_'*32)\n",
    "        print('|','Percentage','\\t|\\t',f\"{sum(student[sid]['marks'].values())/len(student[sid]['marks'].values()):.2f}\",'\\t|')\n",
    "        print('_'*32)\n",
    "        \n",
    "    def set_marks_academics(self,sid):\n",
    "        n=int(input('Enter Total No of Subjects'))\n",
    "        for i in range(n):\n",
    "            student[sid]['marks'].update({input('Enter Name Of Subject'):int(input('Enter Marks Scored'))})\n",
    "class Physical(management):\n",
    "    def show_marks_Physical(self,sid):\n",
    "        sid=sid.upper()\n",
    "        print(f'Name : {student[sid][\"name\"]}')\n",
    "        print('_'*32)\n",
    "        print('|','Subject','\\t|\\t','Marks','\\t|')\n",
    "        print('_'*32)\n",
    "        for i in student[sid]['Physical_Training'].keys():\n",
    "            print('|',i,'\\t|\\t',student[sid]['Physical_Training'][i],'\\t|')\n",
    "            print('_'*32)\n",
    "        print('|','Percentage','\\t|\\t',f\"{sum(student[sid]['Physical_Training'].values())/len(student[sid]['Physical_Training'].values()):.2f}\",'\\t|')\n",
    "        print('_'*32)\n",
    "        \n",
    "    def set_marks_physical(self,sid):\n",
    "        n=int(input('Enter Total No of Subjects'))\n",
    "        for i in range(n):\n",
    "            student[sid]['Physical_Training'].update({input('Enter Name Of Subject'):int(input('Enter Marks Scored'))})\n",
    "        \n",
    "class Principle(Tutor,Physical):\n",
    "    pass"
   ]
  },
  {
   "cell_type": "code",
   "execution_count": null,
   "id": "87f07598",
   "metadata": {},
   "outputs": [],
   "source": [
    "login={\n",
    "    'management':{'username':'ABC'\n",
    "                  'password':'ABC'}\n",
    "    ,'Tutor':{'username':'ABC'\n",
    "                  'password':'ABC'}\n",
    "    ,'Physical':{'username':'ABC'\n",
    "                  'password':'ABC'}\n",
    "    ,'Principal':{'username':'ABC'\n",
    "                  'password':'ABC'}\n",
    "    \n",
    "    \n",
    "}\n",
    "n=int(input('''\n",
    "\n",
    "            Press 1 for Management Login\n",
    "            Press 2 for Tutor Login\n",
    "            Press 3 for Physical Trainer Login \n",
    "            Press 4 for Pricipal Login\n",
    "'''))\n",
    "if n==1:\n",
    "    pass    \n",
    "elif n==2:\n",
    "    pass\n",
    "elif n==3:\n",
    "    pass\n",
    "elif n==4:\n",
    "    username=input('Enter username')\n",
    "    password=input('Enter Password')\n",
    "    if username==login['management']['username'] and password==login['management']['password']:\n",
    "        print('Login Successfully')\n",
    "        \n",
    "    else:\n",
    "        print('Invalid Crediantial')\n",
    "else:\n",
    "    print('Invalid Input')"
   ]
  },
  {
   "cell_type": "code",
   "execution_count": null,
   "id": "1028c130",
   "metadata": {},
   "outputs": [],
   "source": []
  },
  {
   "cell_type": "code",
   "execution_count": 48,
   "id": "a2a3cb55",
   "metadata": {},
   "outputs": [
    {
     "name": "stdout",
     "output_type": "stream",
     "text": [
      "Enter Student id s101\n",
      "Name : Sachin\n",
      "________________________________\n",
      "| Subject \t|\t Marks \t|\n",
      "________________________________\n",
      "| Maths \t|\t 50 \t|\n",
      "________________________________\n",
      "| Science \t|\t 60 \t|\n",
      "________________________________\n",
      "| History \t|\t 20 \t|\n",
      "________________________________\n",
      "| physics \t|\t 23 \t|\n",
      "________________________________\n",
      "| Geograpohy \t|\t 67 \t|\n",
      "________________________________\n",
      "| Percentage \t|\t 44.00 \t|\n",
      "________________________________\n"
     ]
    }
   ],
   "source": [
    "ob.show_marks(input('Enter Student id '))"
   ]
  },
  {
   "cell_type": "code",
   "execution_count": 47,
   "id": "9c9a3e85",
   "metadata": {},
   "outputs": [
    {
     "name": "stdout",
     "output_type": "stream",
     "text": [
      "Enter Total No of Subjects2\n",
      "Enter Name Of Subjectphysics\n",
      "Enter Marks Scored23\n",
      "Enter Name Of SubjectGeograpohy\n",
      "Enter Marks Scored67\n"
     ]
    }
   ],
   "source": [
    "ob.set_marks('S101')"
   ]
  },
  {
   "cell_type": "code",
   "execution_count": 11,
   "id": "c500f2f7",
   "metadata": {},
   "outputs": [
    {
     "name": "stdout",
     "output_type": "stream",
     "text": [
      "Enter Student id s101\n",
      "\n",
      "            Name : Sachin\n",
      "            class : VII\n",
      "            phone : 7878012779\n",
      "        \n"
     ]
    }
   ],
   "source": [
    "ob.show_detail(input('Enter Student id '))"
   ]
  },
  {
   "cell_type": "code",
   "execution_count": 12,
   "id": "bbda76fe",
   "metadata": {},
   "outputs": [
    {
     "name": "stdout",
     "output_type": "stream",
     "text": [
      "Enter Student id s101\n",
      "\n",
      "        \n",
      "        Name : Sachin\n",
      "        class : VII\n",
      "        Total Fees : 20000\n",
      "        Submitted  : 10000\n",
      "         \n"
     ]
    }
   ],
   "source": [
    "ob.print_fee_detail(input('Enter Student id '))"
   ]
  },
  {
   "cell_type": "code",
   "execution_count": 56,
   "id": "edbda07f",
   "metadata": {},
   "outputs": [],
   "source": [
    "ob=Principle()"
   ]
  },
  {
   "cell_type": "code",
   "execution_count": 59,
   "id": "79d62a70",
   "metadata": {},
   "outputs": [
    {
     "name": "stdout",
     "output_type": "stream",
     "text": [
      "Name : Sachin\n",
      "________________________________\n",
      "| Subject \t|\t Marks \t|\n",
      "________________________________\n",
      "| Maths \t|\t 50 \t|\n",
      "________________________________\n",
      "| Science \t|\t 60 \t|\n",
      "________________________________\n",
      "| History \t|\t 20 \t|\n",
      "________________________________\n",
      "| Percentage \t|\t 43.33 \t|\n",
      "________________________________\n"
     ]
    }
   ],
   "source": [
    "ob.show_marks_academics('s101')"
   ]
  },
  {
   "cell_type": "code",
   "execution_count": 60,
   "id": "5cc60f1a",
   "metadata": {},
   "outputs": [],
   "source": [
    "a='Sachin'"
   ]
  },
  {
   "cell_type": "code",
   "execution_count": 61,
   "id": "b8089847",
   "metadata": {},
   "outputs": [
    {
     "data": {
      "text/plain": [
       "'Sachin'"
      ]
     },
     "execution_count": 61,
     "metadata": {},
     "output_type": "execute_result"
    }
   ],
   "source": [
    "a"
   ]
  },
  {
   "cell_type": "code",
   "execution_count": 64,
   "id": "d24ecaf6",
   "metadata": {},
   "outputs": [
    {
     "name": "stdout",
     "output_type": "stream",
     "text": [
      "Sachin\n"
     ]
    }
   ],
   "source": [
    "print(a)"
   ]
  },
  {
   "cell_type": "code",
   "execution_count": 62,
   "id": "c013f022",
   "metadata": {},
   "outputs": [],
   "source": [
    "class A:\n",
    "    pass\n",
    "ob=A()"
   ]
  },
  {
   "cell_type": "code",
   "execution_count": 63,
   "id": "94e88a30",
   "metadata": {},
   "outputs": [
    {
     "data": {
      "text/plain": [
       "<__main__.A at 0x1f857543910>"
      ]
     },
     "execution_count": 63,
     "metadata": {},
     "output_type": "execute_result"
    }
   ],
   "source": [
    "ob"
   ]
  },
  {
   "cell_type": "code",
   "execution_count": 68,
   "id": "31d9715f",
   "metadata": {},
   "outputs": [],
   "source": [
    "class A:\n",
    "    #def __init__()\n",
    "    def __str__(self):\n",
    "        return 'Object of A'\n",
    "ob=A()\n"
   ]
  },
  {
   "cell_type": "code",
   "execution_count": 69,
   "id": "0fbc9e77",
   "metadata": {},
   "outputs": [
    {
     "name": "stdout",
     "output_type": "stream",
     "text": [
      "Object of A\n"
     ]
    }
   ],
   "source": [
    "print(ob)"
   ]
  },
  {
   "cell_type": "code",
   "execution_count": 70,
   "id": "c9b37ca8",
   "metadata": {},
   "outputs": [
    {
     "data": {
      "text/plain": [
       "<__main__.A at 0x1f857db2290>"
      ]
     },
     "execution_count": 70,
     "metadata": {},
     "output_type": "execute_result"
    }
   ],
   "source": [
    "ob"
   ]
  },
  {
   "cell_type": "code",
   "execution_count": 77,
   "id": "1ed9e3c8",
   "metadata": {},
   "outputs": [],
   "source": [
    "class A:\n",
    "    def __init__(self,name):\n",
    "        self.name=name\n",
    "    def __repr__(self):\n",
    "        return self.name\n",
    "ob=A('Sachin')\n"
   ]
  },
  {
   "cell_type": "code",
   "execution_count": 78,
   "id": "4717d29e",
   "metadata": {},
   "outputs": [
    {
     "data": {
      "text/plain": [
       "Sachin"
      ]
     },
     "execution_count": 78,
     "metadata": {},
     "output_type": "execute_result"
    }
   ],
   "source": [
    "ob"
   ]
  },
  {
   "cell_type": "code",
   "execution_count": 79,
   "id": "1503905d",
   "metadata": {},
   "outputs": [
    {
     "name": "stdout",
     "output_type": "stream",
     "text": [
      "Sachin\n"
     ]
    }
   ],
   "source": [
    "print(ob)"
   ]
  },
  {
   "cell_type": "code",
   "execution_count": 80,
   "id": "07a6e7c5",
   "metadata": {},
   "outputs": [],
   "source": [
    "a='Sachin'"
   ]
  },
  {
   "cell_type": "code",
   "execution_count": 81,
   "id": "44381d78",
   "metadata": {},
   "outputs": [
    {
     "data": {
      "text/plain": [
       "'Sachin'"
      ]
     },
     "execution_count": 81,
     "metadata": {},
     "output_type": "execute_result"
    }
   ],
   "source": [
    "a"
   ]
  },
  {
   "cell_type": "code",
   "execution_count": 83,
   "id": "5c95226e",
   "metadata": {},
   "outputs": [
    {
     "name": "stdout",
     "output_type": "stream",
     "text": [
      "Sachin\n"
     ]
    }
   ],
   "source": [
    "print(a)"
   ]
  },
  {
   "cell_type": "code",
   "execution_count": 89,
   "id": "7996acad",
   "metadata": {},
   "outputs": [],
   "source": [
    "class A:\n",
    "    def __init__(self,name):\n",
    "        self.name=name\n",
    "    def __repr__(self):\n",
    "        return f\"'{self.name}'\"\n",
    "    def __str__(self):\n",
    "        return self.name\n",
    "ob=A('Sachin')\n"
   ]
  },
  {
   "cell_type": "code",
   "execution_count": 90,
   "id": "ffec8abe",
   "metadata": {},
   "outputs": [
    {
     "data": {
      "text/plain": [
       "'Sachin'"
      ]
     },
     "execution_count": 90,
     "metadata": {},
     "output_type": "execute_result"
    }
   ],
   "source": [
    "ob"
   ]
  },
  {
   "cell_type": "code",
   "execution_count": 91,
   "id": "2e31ef7f",
   "metadata": {},
   "outputs": [
    {
     "name": "stdout",
     "output_type": "stream",
     "text": [
      "Sachin\n"
     ]
    }
   ],
   "source": [
    "print(ob)"
   ]
  },
  {
   "cell_type": "code",
   "execution_count": 92,
   "id": "ad9ec02c",
   "metadata": {},
   "outputs": [
    {
     "name": "stdout",
     "output_type": "stream",
     "text": [
      "140728123233352\n",
      "140728123233352\n"
     ]
    }
   ],
   "source": [
    "a=10\n",
    "b=10\n",
    "print(id(a))\n",
    "print(id(b))\n"
   ]
  },
  {
   "cell_type": "code",
   "execution_count": 95,
   "id": "f16a5497",
   "metadata": {},
   "outputs": [],
   "source": [
    "a=[1,2,3,4]\n",
    "b=a"
   ]
  },
  {
   "cell_type": "code",
   "execution_count": 97,
   "id": "845b219e",
   "metadata": {},
   "outputs": [
    {
     "data": {
      "text/plain": [
       "4"
      ]
     },
     "execution_count": 97,
     "metadata": {},
     "output_type": "execute_result"
    }
   ],
   "source": [
    "b.pop()"
   ]
  },
  {
   "cell_type": "code",
   "execution_count": 98,
   "id": "b149409a",
   "metadata": {},
   "outputs": [
    {
     "data": {
      "text/plain": [
       "[1, 2, 3]"
      ]
     },
     "execution_count": 98,
     "metadata": {},
     "output_type": "execute_result"
    }
   ],
   "source": [
    "b"
   ]
  },
  {
   "cell_type": "code",
   "execution_count": 99,
   "id": "5b1be483",
   "metadata": {},
   "outputs": [
    {
     "data": {
      "text/plain": [
       "[1, 2, 3]"
      ]
     },
     "execution_count": 99,
     "metadata": {},
     "output_type": "execute_result"
    }
   ],
   "source": [
    "a"
   ]
  },
  {
   "cell_type": "code",
   "execution_count": 100,
   "id": "19918f71",
   "metadata": {},
   "outputs": [
    {
     "data": {
      "text/plain": [
       "2166137513984"
      ]
     },
     "execution_count": 100,
     "metadata": {},
     "output_type": "execute_result"
    }
   ],
   "source": [
    "id(a)"
   ]
  },
  {
   "cell_type": "code",
   "execution_count": 101,
   "id": "50ae17f7",
   "metadata": {},
   "outputs": [
    {
     "data": {
      "text/plain": [
       "2166137513984"
      ]
     },
     "execution_count": 101,
     "metadata": {},
     "output_type": "execute_result"
    }
   ],
   "source": [
    "id(b)"
   ]
  },
  {
   "cell_type": "code",
   "execution_count": 102,
   "id": "95f018c2",
   "metadata": {},
   "outputs": [],
   "source": [
    "a=[1,2,3,4]\n",
    "b=a.copy()"
   ]
  },
  {
   "cell_type": "code",
   "execution_count": 103,
   "id": "82cd30f4",
   "metadata": {},
   "outputs": [
    {
     "name": "stdout",
     "output_type": "stream",
     "text": [
      "2166135462464\n"
     ]
    }
   ],
   "source": [
    "print(id(a))"
   ]
  },
  {
   "cell_type": "code",
   "execution_count": 104,
   "id": "d766ef8a",
   "metadata": {},
   "outputs": [
    {
     "data": {
      "text/plain": [
       "2166135398144"
      ]
     },
     "execution_count": 104,
     "metadata": {},
     "output_type": "execute_result"
    }
   ],
   "source": [
    "id(b)"
   ]
  },
  {
   "cell_type": "code",
   "execution_count": null,
   "id": "b9b6d17f",
   "metadata": {},
   "outputs": [],
   "source": []
  }
 ],
 "metadata": {
  "kernelspec": {
   "display_name": "Python 3 (ipykernel)",
   "language": "python",
   "name": "python3"
  },
  "language_info": {
   "codemirror_mode": {
    "name": "ipython",
    "version": 3
   },
   "file_extension": ".py",
   "mimetype": "text/x-python",
   "name": "python",
   "nbconvert_exporter": "python",
   "pygments_lexer": "ipython3",
   "version": "3.11.5"
  }
 },
 "nbformat": 4,
 "nbformat_minor": 5
}
