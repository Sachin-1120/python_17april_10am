{
 "cells": [
  {
   "cell_type": "markdown",
   "id": "531018f5",
   "metadata": {},
   "source": [
    "list mutable\n",
    "tuple \n",
    "--Immutable,\n",
    "--()\n"
   ]
  },
  {
   "cell_type": "code",
   "execution_count": 1,
   "id": "a95c9d02",
   "metadata": {},
   "outputs": [],
   "source": [
    "t=(1,2,3,4)"
   ]
  },
  {
   "cell_type": "code",
   "execution_count": 2,
   "id": "083afa9a",
   "metadata": {},
   "outputs": [
    {
     "data": {
      "text/plain": [
       "tuple"
      ]
     },
     "execution_count": 2,
     "metadata": {},
     "output_type": "execute_result"
    }
   ],
   "source": [
    "type(t)"
   ]
  },
  {
   "cell_type": "code",
   "execution_count": 3,
   "id": "941cbe8a",
   "metadata": {},
   "outputs": [
    {
     "data": {
      "text/plain": [
       "tuple"
      ]
     },
     "execution_count": 3,
     "metadata": {},
     "output_type": "execute_result"
    }
   ],
   "source": [
    "t=()\n",
    "type(t)"
   ]
  },
  {
   "cell_type": "code",
   "execution_count": 8,
   "id": "64961fb3",
   "metadata": {},
   "outputs": [
    {
     "data": {
      "text/plain": [
       "tuple"
      ]
     },
     "execution_count": 8,
     "metadata": {},
     "output_type": "execute_result"
    }
   ],
   "source": [
    "t=(2,)\n",
    "type(t)"
   ]
  },
  {
   "cell_type": "code",
   "execution_count": 12,
   "id": "617791fa",
   "metadata": {},
   "outputs": [],
   "source": [
    "t=tuple([1,12,3,4,5,])"
   ]
  },
  {
   "cell_type": "code",
   "execution_count": 13,
   "id": "ce1c0740",
   "metadata": {},
   "outputs": [
    {
     "data": {
      "text/plain": [
       "[1, 12, 3, 4, 5]"
      ]
     },
     "execution_count": 13,
     "metadata": {},
     "output_type": "execute_result"
    }
   ],
   "source": [
    "list(t)"
   ]
  },
  {
   "cell_type": "code",
   "execution_count": 14,
   "id": "555b9439",
   "metadata": {},
   "outputs": [
    {
     "name": "stdout",
     "output_type": "stream",
     "text": [
      "['__add__', '__class__', '__class_getitem__', '__contains__', '__delattr__', '__dir__', '__doc__', '__eq__', '__format__', '__ge__', '__getattribute__', '__getitem__', '__getnewargs__', '__getstate__', '__gt__', '__hash__', '__init__', '__init_subclass__', '__iter__', '__le__', '__len__', '__lt__', '__mul__', '__ne__', '__new__', '__reduce__', '__reduce_ex__', '__repr__', '__rmul__', '__setattr__', '__sizeof__', '__str__', '__subclasshook__', 'count', 'index']\n"
     ]
    }
   ],
   "source": [
    "print(dir(tuple))"
   ]
  },
  {
   "cell_type": "code",
   "execution_count": null,
   "id": "de00c8ff",
   "metadata": {},
   "outputs": [],
   "source": [
    "function ,tuple-->()\n",
    "data access ,list->[]\n",
    "set dictionary --> {}"
   ]
  },
  {
   "cell_type": "code",
   "execution_count": null,
   "id": "cfc7e31d",
   "metadata": {},
   "outputs": [],
   "source": [
    "t=('Sachin','Ravi','Simran','Deepratan')\n",
    "#Alphatebically roll no\n",
    "Wap insert \n",
    "remove student\n",
    "\n",
    "name \n",
    "roll no "
   ]
  },
  {
   "cell_type": "code",
   "execution_count": 18,
   "id": "7ab58350",
   "metadata": {},
   "outputs": [],
   "source": [
    "t=('Sachin','Ravi','Simran','Deepratan')\n",
    "a=list(t)\n",
    "a.sort()"
   ]
  },
  {
   "cell_type": "code",
   "execution_count": 19,
   "id": "70510b3b",
   "metadata": {},
   "outputs": [
    {
     "data": {
      "text/plain": [
       "['Deepratan', 'Ravi', 'Sachin', 'Simran']"
      ]
     },
     "execution_count": 19,
     "metadata": {},
     "output_type": "execute_result"
    }
   ],
   "source": [
    "a"
   ]
  },
  {
   "cell_type": "code",
   "execution_count": 20,
   "id": "c13c1391",
   "metadata": {},
   "outputs": [
    {
     "name": "stdout",
     "output_type": "stream",
     "text": [
      "Enter name of student to addGourav\n",
      "Enter name of student to removeSimran\n",
      "Enter nameRavi\n",
      "Roll no of stuent 2\n"
     ]
    }
   ],
   "source": [
    "t=('Sachin','Ravi','Simran','Deepratan')\n",
    "a=list(t)\n",
    "a.sort()\n",
    "a.append(input('Enter name of student to add'))\n",
    "a.remove(input('Enter name of student to remove'))\n",
    "name=input('Enter name')\n",
    "print('Roll no of stuent',a.index(name)+1)"
   ]
  },
  {
   "cell_type": "code",
   "execution_count": 21,
   "id": "eb64f28a",
   "metadata": {},
   "outputs": [
    {
     "data": {
      "text/plain": [
       "['Deepratan', 'Ravi', 'Sachin', 'Gourav']"
      ]
     },
     "execution_count": 21,
     "metadata": {},
     "output_type": "execute_result"
    }
   ],
   "source": [
    "a"
   ]
  },
  {
   "cell_type": "code",
   "execution_count": null,
   "id": "f57a0f03",
   "metadata": {},
   "outputs": [],
   "source": []
  },
  {
   "cell_type": "code",
   "execution_count": null,
   "id": "5f489778",
   "metadata": {},
   "outputs": [],
   "source": []
  },
  {
   "cell_type": "markdown",
   "id": "30722715",
   "metadata": {},
   "source": [
    "# Dictionary\n",
    "\n",
    "Key : value pairs\n",
    "    \n",
    "key -->unique\n",
    "\n",
    "key->basic data type\n",
    "\n",
    "dictioary python 3.6 Unordered\n",
    "                3.7 onwards  Ordered\n",
    "    \n",
    "# dict()-->for creating dictionary\n",
    "    "
   ]
  },
  {
   "cell_type": "code",
   "execution_count": 22,
   "id": "623b521f",
   "metadata": {},
   "outputs": [
    {
     "data": {
      "text/plain": [
       "dict"
      ]
     },
     "execution_count": 22,
     "metadata": {},
     "output_type": "execute_result"
    }
   ],
   "source": [
    "d={}\n",
    "type(d)"
   ]
  },
  {
   "cell_type": "code",
   "execution_count": 27,
   "id": "eccd1ede",
   "metadata": {},
   "outputs": [],
   "source": [
    "d={1:'a','b':10,'c':True,5:[1,2,3,4,5]}"
   ]
  },
  {
   "cell_type": "code",
   "execution_count": 28,
   "id": "3c7a345e",
   "metadata": {},
   "outputs": [
    {
     "data": {
      "text/plain": [
       "{1: 'a', 'b': 10, 'c': True, 5: [1, 2, 3, 4, 5]}"
      ]
     },
     "execution_count": 28,
     "metadata": {},
     "output_type": "execute_result"
    }
   ],
   "source": [
    "d"
   ]
  },
  {
   "cell_type": "code",
   "execution_count": 29,
   "id": "aefd6d9e",
   "metadata": {},
   "outputs": [
    {
     "data": {
      "text/plain": [
       "'a'"
      ]
     },
     "execution_count": 29,
     "metadata": {},
     "output_type": "execute_result"
    }
   ],
   "source": [
    "d[1]"
   ]
  },
  {
   "cell_type": "code",
   "execution_count": 37,
   "id": "c2ca3dfd",
   "metadata": {},
   "outputs": [
    {
     "data": {
      "text/plain": [
       "{1: 'a', 'b': 10, 'c': True, 5: [1, 2, 3, 4]}"
      ]
     },
     "execution_count": 37,
     "metadata": {},
     "output_type": "execute_result"
    }
   ],
   "source": [
    "d"
   ]
  },
  {
   "cell_type": "code",
   "execution_count": 38,
   "id": "17d2bf4d",
   "metadata": {},
   "outputs": [],
   "source": [
    "d={\n",
    "    'country':{\n",
    "        \n",
    "            'India':'130CR',\n",
    "            'Pakisthan':'15CR',\n",
    "            'Sri Lanka':'20CR'\n",
    "    \n",
    "                }\n",
    "}"
   ]
  },
  {
   "cell_type": "code",
   "execution_count": null,
   "id": "bf0ab453",
   "metadata": {},
   "outputs": [],
   "source": [
    "\n"
   ]
  },
  {
   "cell_type": "code",
   "execution_count": 39,
   "id": "3aa97dc1",
   "metadata": {},
   "outputs": [
    {
     "data": {
      "text/plain": [
       "{'country': {'India': '130CR', 'Pakisthan': '15CR', 'Sri Lanka': '20CR'}}"
      ]
     },
     "execution_count": 39,
     "metadata": {},
     "output_type": "execute_result"
    }
   ],
   "source": [
    "d"
   ]
  },
  {
   "cell_type": "code",
   "execution_count": 41,
   "id": "3abc7515",
   "metadata": {},
   "outputs": [
    {
     "data": {
      "text/plain": [
       "'15CR'"
      ]
     },
     "execution_count": 41,
     "metadata": {},
     "output_type": "execute_result"
    }
   ],
   "source": [
    "d['country']['Pakisthan']"
   ]
  },
  {
   "cell_type": "code",
   "execution_count": 42,
   "id": "7b6a7ad3",
   "metadata": {},
   "outputs": [],
   "source": [
    "                          \n",
    "d={\n",
    "  \"coord\": {\n",
    "    \"lon\": 10.99,\n",
    "    \"lat\": 44.34\n",
    "  },\n",
    "  \"weather\": [\n",
    "    {\n",
    "      \"id\": 501,\n",
    "      \"main\": \"Rain\",\n",
    "      \"description\": \"moderate rain\",\n",
    "      \"icon\": \"10d\"\n",
    "    }\n",
    "  ],\n",
    "  \"base\": \"stations\",\n",
    "  \"main\": {\n",
    "    \"temp\": 298.48,\n",
    "    \"feels_like\": 298.74,\n",
    "    \"temp_min\": 297.56,\n",
    "    \"temp_max\": 300.05,\n",
    "    \"pressure\": 1015,\n",
    "    \"humidity\": 64,\n",
    "    \"sea_level\": 1015,\n",
    "    \"grnd_level\": 933\n",
    "  },\n",
    "  \"visibility\": 10000,\n",
    "  \"wind\": {\n",
    "    \"speed\": 0.62,\n",
    "    \"deg\": 349,\n",
    "    \"gust\": 1.18\n",
    "  },\n",
    "  \"rain\": {\n",
    "    \"1h\": 3.16\n",
    "  },\n",
    "  \"clouds\": {\n",
    "    \"all\": 100\n",
    "  },\n",
    "  \"dt\": 1661870592,\n",
    "  \"sys\": {\n",
    "    \"type\": 2,\n",
    "    \"id\": 2075663,\n",
    "    \"country\": \"IT\",\n",
    "    \"sunrise\": 1661834187,\n",
    "    \"sunset\": 1661882248\n",
    "  },\n",
    "  \"timezone\": 7200,\n",
    "  \"id\": 3163858,\n",
    "  \"name\": \"Zocca\",\n",
    "  \"cod\": 200\n",
    "}                      "
   ]
  },
  {
   "cell_type": "markdown",
   "id": "358e7b69",
   "metadata": {},
   "source": [
    "Country\n",
    "\n",
    "\n",
    "temp_max\n",
    "\n",
    "\n",
    "temp_min\n",
    "\n",
    "\n",
    "description\n"
   ]
  },
  {
   "cell_type": "code",
   "execution_count": 47,
   "id": "5a584c0b",
   "metadata": {},
   "outputs": [
    {
     "data": {
      "text/plain": [
       "'IT'"
      ]
     },
     "execution_count": 47,
     "metadata": {},
     "output_type": "execute_result"
    }
   ],
   "source": [
    "d['sys']['country']"
   ]
  },
  {
   "cell_type": "code",
   "execution_count": 49,
   "id": "fb457b56",
   "metadata": {},
   "outputs": [
    {
     "data": {
      "text/plain": [
       "300.05"
      ]
     },
     "execution_count": 49,
     "metadata": {},
     "output_type": "execute_result"
    }
   ],
   "source": [
    "d['main']['temp_max']"
   ]
  },
  {
   "cell_type": "code",
   "execution_count": 52,
   "id": "82932f53",
   "metadata": {},
   "outputs": [
    {
     "data": {
      "text/plain": [
       "'moderate rain'"
      ]
     },
     "execution_count": 52,
     "metadata": {},
     "output_type": "execute_result"
    }
   ],
   "source": [
    "d['weather'][0]['description']"
   ]
  },
  {
   "cell_type": "code",
   "execution_count": null,
   "id": "9bdefe7b",
   "metadata": {},
   "outputs": [],
   "source": []
  }
 ],
 "metadata": {
  "kernelspec": {
   "display_name": "Python 3 (ipykernel)",
   "language": "python",
   "name": "python3"
  },
  "language_info": {
   "codemirror_mode": {
    "name": "ipython",
    "version": 3
   },
   "file_extension": ".py",
   "mimetype": "text/x-python",
   "name": "python",
   "nbconvert_exporter": "python",
   "pygments_lexer": "ipython3",
   "version": "3.11.5"
  }
 },
 "nbformat": 4,
 "nbformat_minor": 5
}
